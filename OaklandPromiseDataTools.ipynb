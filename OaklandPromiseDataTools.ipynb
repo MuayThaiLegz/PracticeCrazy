{
  "nbformat": 4,
  "nbformat_minor": 0,
  "metadata": {
    "colab": {
      "provenance": [],
      "mount_file_id": "16l_IMtjveKVYuf8JAoRqo5e4t1Z6BW4L",
      "authorship_tag": "ABX9TyO7jFEYYKzP85W8x1tFWk/j",
      "include_colab_link": true
    },
    "kernelspec": {
      "name": "python3",
      "display_name": "Python 3"
    },
    "language_info": {
      "name": "python"
    }
  },
  "cells": [
    {
      "cell_type": "markdown",
      "metadata": {
        "id": "view-in-github",
        "colab_type": "text"
      },
      "source": [
        "<a href=\"https://colab.research.google.com/github/MuayThaiLegz/PracticeCrazy/blob/main/OaklandPromiseDataTools.ipynb\" target=\"_parent\"><img src=\"https://colab.research.google.com/assets/colab-badge.svg\" alt=\"Open In Colab\"/></a>"
      ]
    },
    {
      "cell_type": "code",
      "source": [
        "# !pip install sweetviz pygwalker"
      ],
      "metadata": {
        "id": "mO9CCrX0hOeP"
      },
      "execution_count": 1,
      "outputs": []
    },
    {
      "cell_type": "code",
      "source": [],
      "metadata": {
        "id": "Y1MWey3CtxS4"
      },
      "execution_count": 1,
      "outputs": []
    },
    {
      "cell_type": "code",
      "execution_count": 2,
      "metadata": {
        "id": "y_kLNPCv2Niu"
      },
      "outputs": [],
      "source": [
        "import pandas as pd\n",
        "import numpy as np\n",
        "import matplotlib.pyplot as plt\n",
        "import seaborn as sns\n",
        "import os\n",
        "import requests\n",
        "from bs4 import BeautifulSoup\n",
        "import pandas as pd\n",
        "from io import StringIO\n",
        "\n",
        "\n",
        "import sweetviz as sv\n",
        "\n",
        "def create_report(df):\n",
        "  return sv.analyze(df)\n",
        "\n",
        "from google.colab import data_table\n",
        "data_table.enable_dataframe_formatter()"
      ]
    },
    {
      "cell_type": "markdown",
      "source": [
        "# California Department of Education (CDE) DataQuest:\n",
        "\n",
        "For now I am storing the data into csv files but we could just as easy store the processed data into any database."
      ],
      "metadata": {
        "id": "wcrwrmElkV9s"
      }
    },
    {
      "cell_type": "code",
      "source": [
        "import requests\n",
        "import pandas as pd\n",
        "from bs4 import BeautifulSoup\n",
        "from io import StringIO\n",
        "\n",
        "def download_and_process_data(url, output_file):\n",
        "    try:\n",
        "        session = requests.Session()\n",
        "        session.max_redirects = 10  # Set a higher redirect limit or adjust as necessary\n",
        "        print(f\"Accessing {url}\")\n",
        "        response = session.get(url, allow_redirects=False)\n",
        "\n",
        "        if response.status_code in [301, 302]:\n",
        "            redirect_url = response.headers['Location']\n",
        "            print(f\"Redirected to: {redirect_url}\")\n",
        "            response = session.get(redirect_url)\n",
        "\n",
        "        response.raise_for_status()  # Check for request errors\n",
        "        print(f\"Successfully accessed {url}\")\n",
        "    except requests.exceptions.TooManyRedirects as e:\n",
        "        print(f\"Too many redirects: {e}\")\n",
        "        return\n",
        "    except requests.exceptions.RequestException as e:\n",
        "        print(f\"An error occurred: {e}\")\n",
        "        return\n",
        "\n",
        "    soup = BeautifulSoup(response.content, \"html.parser\")\n",
        "    table = soup.find(\"table\")\n",
        "\n",
        "    if not table:\n",
        "        print(f\"No table found on the page: {url}\")\n",
        "        return\n",
        "\n",
        "    rows = table.find_all(\"tr\")\n",
        "    all_data = []\n",
        "\n",
        "    for row in rows[1:]:\n",
        "        columns = row.find_all(\"td\")\n",
        "        if len(columns) < 2:  # Ensure there are enough columns\n",
        "            continue\n",
        "\n",
        "        year = columns[0].text.strip()\n",
        "        file_link = columns[1].find(\"a\")\n",
        "\n",
        "        if file_link is None:\n",
        "            print(f\"No link found in row: {row}\")\n",
        "            continue\n",
        "\n",
        "        file_url = file_link[\"href\"]\n",
        "\n",
        "        if not file_url.startswith(\"http\"):\n",
        "            file_url = requests.compat.urljoin(url, file_url)\n",
        "\n",
        "        print(f\"Attempting to download: {file_url}\")\n",
        "\n",
        "        try:\n",
        "            file_response = session.get(file_url)\n",
        "            file_response.raise_for_status()  # Check for request errors\n",
        "        except requests.exceptions.TooManyRedirects as e:\n",
        "            print(f\"Too many redirects for {file_url}: {e}\")\n",
        "            continue\n",
        "        except requests.exceptions.RequestException as e:\n",
        "            print(f\"An error occurred while downloading {file_url}: {e}\")\n",
        "            continue\n",
        "\n",
        "        file_content = file_response.content\n",
        "\n",
        "        try:\n",
        "            df = pd.read_csv(StringIO(file_content.decode('utf-8')), delimiter='\\t')\n",
        "        except UnicodeDecodeError:\n",
        "            df = pd.read_csv(StringIO(file_content.decode('ISO-8859-1')), delimiter='\\t')\n",
        "        except pd.errors.ParserError as e:\n",
        "            print(f\"Failed to parse the file {file_url}: {e}\")\n",
        "            continue\n",
        "\n",
        "        df['Year'] = year\n",
        "        all_data.append(df)\n",
        "\n",
        "    if all_data:\n",
        "        merged_df = pd.concat(all_data, ignore_index=True)\n",
        "        merged_df.to_csv(output_file, index=False)\n",
        "        print(f\"Data saved to {output_file}\")\n",
        "    else:\n",
        "        print(\"No data was downloaded.\")\n",
        "\n",
        "datasets = [\n",
        "    (\"https://www.cde.ca.gov/ds/ad/filesgrads.asp\", \"graduates_by_race_gender_2011_2017.csv\"),\n",
        "    (\"https://www.cde.ca.gov/ds/ad/filesgrad.asp\", \"graduates_by_ethnicity_2011_2017.csv\"),\n",
        "    (\"https://www.cde.ca.gov/ds/ad/filesdropouts.asp\", \"dropouts_by_race_gender_2011_2017.csv\"),\n",
        "    (\"https://www.cde.ca.gov/ds/ad/fileshse.asp\", \"homeless_student_enrollment_data.csv\"),\n",
        "    (\"https://www.cde.ca.gov/ds/ad/filesenrcum.asp\", \"cumulative_enrollment_2016_2023.csv\"),\n",
        "    (\"https://www.cde.ca.gov/ds/ad/fileshistenr8122.asp\", \"enrollment_byschool_historic.csv\")\n",
        "]\n",
        "\n",
        "for url, output_file in datasets:\n",
        "    download_and_process_data(url, output_file)\n"
      ],
      "metadata": {
        "colab": {
          "base_uri": "https://localhost:8080/"
        },
        "id": "JBsRxobNk6hE",
        "outputId": "097652fc-ba83-4360-e4a7-4bde3b9e50e9"
      },
      "execution_count": null,
      "outputs": [
        {
          "output_type": "stream",
          "name": "stdout",
          "text": [
            "Accessing https://www.cde.ca.gov/ds/ad/filesgrads.asp\n",
            "Successfully accessed https://www.cde.ca.gov/ds/ad/filesgrads.asp\n",
            "Attempting to download: https://dq.cde.ca.gov/dataquest/dlfile/dlfile.aspx?cLevel=All&cYear=2016-17&cCat=Graduates&cPage=filesgrads\n",
            "Attempting to download: https://dq.cde.ca.gov/dataquest/dlfile/dlfile.aspx?cLevel=All&cYear=2015-16&cCat=Graduates&cPage=filesgrads\n",
            "Attempting to download: https://dq.cde.ca.gov/dataquest/dlfile/dlfile.aspx?cLevel=All&cYear=2014-15&cCat=Graduates&cPage=filesgrads\n",
            "Attempting to download: https://dq.cde.ca.gov/dataquest/dlfile/dlfile.aspx?cLevel=All&cYear=2013-14&cCat=Graduates&cPage=filesgrads\n",
            "Attempting to download: https://dq.cde.ca.gov/dataquest/dlfile/dlfile.aspx?cLevel=All&cYear=2012-13&cCat=Graduates&cPage=filesgrads\n",
            "Attempting to download: https://dq.cde.ca.gov/dataquest/dlfile/dlfile.aspx?cLevel=All&cYear=2011-12&cCat=Graduates&cPage=filesgrads\n",
            "Attempting to download: https://dq.cde.ca.gov/dataquest/dlfile/dlfile.aspx?cLevel=All&cYear=2010-11&cCat=Graduates&cPage=filesgrads\n",
            "Data saved to graduates_by_race_gender_2011_2017.csv\n",
            "Accessing https://www.cde.ca.gov/ds/ad/filesgrad.asp\n",
            "Successfully accessed https://www.cde.ca.gov/ds/ad/filesgrad.asp\n",
            "Attempting to download: http://dq.cde.ca.gov/dataquest/dlfile/dlfile.aspx?cLevel=School&cYear=2016-17&cCat=GradEth&cPage=filesgrad.asp\n",
            "Attempting to download: http://dq.cde.ca.gov/dataquest/dlfile/dlfile.aspx?cLevel=School&cYear=2015-16&cCat=GradEth&cPage=filesgrad.asp\n",
            "Attempting to download: http://dq.cde.ca.gov/dataquest/dlfile/dlfile.aspx?cLevel=School&cYear=2014-15&cCat=GradEth&cPage=filesgrad.asp\n",
            "Attempting to download: http://dq.cde.ca.gov/dataquest/dlfile/dlfile.aspx?cLevel=School&cYear=2013-14&cCat=GradEth&cPage=filesgrad.asp\n",
            "Attempting to download: http://dq.cde.ca.gov/dataquest/dlfile/dlfile.aspx?cLevel=School&cYear=2012-13&cCat=GradEth&cPage=filesgrad.asp\n",
            "Attempting to download: http://dq.cde.ca.gov/dataquest/dlfile/dlfile.aspx?cLevel=School&cYear=2011-12&cCat=GradEth&cPage=filesgrad.asp\n",
            "Attempting to download: http://dq.cde.ca.gov/dataquest/dlfile/dlfile.aspx?cLevel=School&cYear=2010-11&cCat=GradEth&cPage=filesgrad.asp\n",
            "Data saved to graduates_by_ethnicity_2011_2017.csv\n",
            "Accessing https://www.cde.ca.gov/ds/ad/filesdropouts.asp\n",
            "Successfully accessed https://www.cde.ca.gov/ds/ad/filesdropouts.asp\n",
            "Attempting to download: http://dq.cde.ca.gov/dataquest/dlfile/dlfile.aspx?cLevel=School&cYear=2016-17&cCat=Dropouts&cPage=filesdropouts\n",
            "Attempting to download: http://dq.cde.ca.gov/dataquest/dlfile/dlfile.aspx?cLevel=School&cYear=2015-16&cCat=Dropouts&cPage=filesdropouts\n",
            "Attempting to download: http://dq.cde.ca.gov/dataquest/dlfile/dlfile.aspx?cLevel=School&cYear=2014-15&cCat=Dropouts&cPage=filesdropouts\n",
            "Attempting to download: http://dq.cde.ca.gov/dataquest/dlfile/dlfile.aspx?cLevel=School&cYear=2013-14&cCat=Dropouts&cPage=filesdropouts\n",
            "Attempting to download: http://dq.cde.ca.gov/dataquest/dlfile/dlfile.aspx?cLevel=School&cYear=2012-13&cCat=Dropouts&cPage=filesdropouts\n",
            "Attempting to download: http://dq.cde.ca.gov/dataquest/dlfile/dlfile.aspx?cLevel=School&cYear=2011-12&cCat=Dropouts&cPage=filesdropouts\n",
            "Attempting to download: http://dq.cde.ca.gov/dataquest/dlfile/dlfile.aspx?cLevel=School&cYear=2010-11&cCat=Dropouts&cPage=filesdropouts\n",
            "Data saved to dropouts_by_race_gender_2011_2017.csv\n",
            "Accessing https://www.cde.ca.gov/ds/ad/fileshse.asp\n",
            "Successfully accessed https://www.cde.ca.gov/ds/ad/fileshse.asp\n",
            "Attempting to download: https://www3.cde.ca.gov/demo-downloads/homeless/hse2223.txt\n",
            "Attempting to download: https://www3.cde.ca.gov/demo-downloads/homeless/hse2122.txt\n",
            "Attempting to download: https://www3.cde.ca.gov/demo-downloads/homeless/hse2021.txt\n",
            "Attempting to download: https://www3.cde.ca.gov/demo-downloads/homeless/hse1920.txt\n",
            "Data saved to homeless_student_enrollment_data.csv\n",
            "Accessing https://www.cde.ca.gov/ds/ad/filesenrcum.asp\n",
            "Successfully accessed https://www.cde.ca.gov/ds/ad/filesenrcum.asp\n",
            "Attempting to download: https://www3.cde.ca.gov/demo-downloads/ce/cenroll2223.txt\n",
            "Attempting to download: https://www3.cde.ca.gov/demo-downloads/ce/cenroll2122.txt\n",
            "Attempting to download: https://www3.cde.ca.gov/demo-downloads/ce/cenroll2021.txt\n",
            "Attempting to download: https://www3.cde.ca.gov/demo-downloads/ce/cenroll1920.txt\n",
            "Attempting to download: https://www3.cde.ca.gov/demo-downloads/ce/cenroll1819.txt\n",
            "Attempting to download: https://www3.cde.ca.gov/demo-downloads/ce/cenroll1718.txt\n",
            "Attempting to download: https://www3.cde.ca.gov/demo-downloads/ce/cenroll1617.txt\n",
            "Data saved to cumulative_enrollment_2016_2023.csv\n",
            "Accessing https://www.cde.ca.gov/ds/ad/fileshistenr8122.asp\n",
            "Successfully accessed https://www.cde.ca.gov/ds/ad/fileshistenr8122.asp\n",
            "Attempting to download: https://www3.cde.ca.gov/demo-downloads/enrsch/enr202022-v2.txt\n",
            "Attempting to download: https://www3.cde.ca.gov/demo-downloads/enrsch/enr201719-v2.txt\n",
            "Attempting to download: https://www3.cde.ca.gov/demo-downloads/enrsch/enr201416-v2.txt\n"
          ]
        }
      ]
    },
    {
      "cell_type": "code",
      "source": [
        "\n",
        "\n",
        "files = {\n",
        "    \"graduates_by_race_gender\": \"graduates_by_race_gender_2011_2017.csv\",\n",
        "    \"graduates_by_ethnicity\": \"graduates_by_ethnicity_2011_2017.csv\",\n",
        "    \"dropouts_by_race_gender\": \"dropouts_by_race_gender_2011_2017.csv\",\n",
        "    \"homeless_student_enrollment_data\": \"homeless_student_enrollment_data.csv\",\n",
        "    \"cumulative_enrollment_2016_2023\": \"cumulative_enrollment_2016_2023.csv\",\n",
        "    \"enrollment_byschool_historic\": \"enrollment_byschool_historic.csv\"\n",
        "}\n",
        "\n",
        "dataframes = {name: pd.read_csv(filepath) for name, filepath in files.items()}\n",
        "\n",
        "graduates_by_race_gender_df = dataframes[\"graduates_by_race_gender\"]\n",
        "graduates_by_ethnicity_df = dataframes[\"graduates_by_ethnicity\"]\n",
        "dropouts_by_race_gender_df = dataframes[\"dropouts_by_race_gender\"]\n",
        "homeless_student_enrollment_df = dataframes[\"homeless_student_enrollment_data\"]\n",
        "cumulative_enrollment_df = dataframes[\"cumulative_enrollment_2016_2023\"]\n",
        "enrollment_byschool_historic_df = dataframes[\"enrollment_byschool_historic\"]\n",
        "\n"
      ],
      "metadata": {
        "id": "kro3IDOsq6br"
      },
      "execution_count": null,
      "outputs": []
    },
    {
      "cell_type": "code",
      "source": [
        "\n",
        "Alameda_cumulative_enrollment =  cumulative_enrollment_df[cumulative_enrollment_df['CountyName'] == 'Alameda']\n",
        "homeless_student_Alameda = homeless_student_enrollment_df[homeless_student_enrollment_df['County Name'] == 'Alameda']\n",
        "\n",
        "cols_to_convert = [\n",
        "    'Temporarily Doubled Up', 'Temporary Shelters', 'Hotels/Motels',\n",
        "    'Temporarily Unsheltered', 'Missing/Unknown', 'Temporarily Doubled Up (percent)',\n",
        "    'Temporary Shelters (percent)', 'Hotels/Motels (percent)',\n",
        "    'Temporarily Unsheltered (percent)', 'Missing/Unknown (percent)'\n",
        "]\n",
        "\n",
        "for col in cols_to_convert:\n",
        "    homeless_student_enrollment_df[col] = pd.to_numeric(homeless_student_enrollment_df[col], errors='coerce')\n",
        "\n"
      ],
      "metadata": {
        "id": "4zDEeW64ynHz"
      },
      "execution_count": null,
      "outputs": []
    },
    {
      "cell_type": "code",
      "source": [
        "selectACADEMIC_YEAR = list(enrollment_byschool_historic_df['ACADEMIC_YEAR'].unique())[:8]\n",
        "select_enrollment_history = enrollment_byschool_historic_df[enrollment_byschool_historic_df['ACADEMIC_YEAR'].isin(selectACADEMIC_YEAR)].drop(columns=['DISTRICT_NAME','SCHOOL_NAME','Year'])\n",
        "ALAMEDA_select_enrollment_history = select_enrollment_history[select_enrollment_history['COUNTY'] == 'ALAMEDA']\n",
        "ALAMEDA_select_enrollment_history['ADULT'].fillna(ALAMEDA_select_enrollment_history['ADULT'].mean(), inplace=True)\n",
        "\n",
        "updated_columns = [\n",
        "    'Academic_Year', 'CDS_Code', 'County_Name', 'District_Name', 'School_Name',\n",
        "    'Enrollment_Type', 'Race_Ethnicity', 'Gender',\n",
        "    'Grade_K', 'Grade_1', 'Grade_2', 'Grade_3', 'Grade_4',\n",
        "    'Grade_5', 'Grade_6', 'Grade_7', 'Grade_8', 'Ungraded_Elementary',\n",
        "    'Grade_9', 'Grade_10', 'Grade_11', 'Grade_12', 'Ungraded_Secondary',\n",
        "    'Total_Enrollment', 'Adult_Enrollment'\n",
        "]\n",
        "\n",
        "ALAMEDA_select_enrollment_history.columns = updated_columns"
      ],
      "metadata": {
        "id": "-0OqSkg7tdwX"
      },
      "execution_count": null,
      "outputs": []
    },
    {
      "cell_type": "code",
      "source": [
        "# Convert specific columns related to homeless student enrollment and housing situations to numeric types for accurate analysis, handling any conversion errors by coercing them into NaN.\n",
        "\n",
        "\n",
        "\n",
        "# print(\"Post numeric convertion:\")\n",
        "# homeless_student_enrollment_df.describe().apply(lambda s: s.apply(lambda x: format(x, 'f')))\n"
      ],
      "metadata": {
        "id": "gf9CFKyriHBH"
      },
      "execution_count": null,
      "outputs": []
    },
    {
      "cell_type": "markdown",
      "source": [
        "#Enrollment by School"
      ],
      "metadata": {
        "id": "DhHTCWZNyzFe"
      }
    },
    {
      "cell_type": "code",
      "source": [
        "print(\"\\nEnrollment by School:\")\n",
        "\n",
        "ALAMEDA_select_enrollment_history.head()"
      ],
      "metadata": {
        "id": "5WrDqfxLy0-4"
      },
      "execution_count": null,
      "outputs": []
    },
    {
      "cell_type": "code",
      "source": [
        "ALAMEDA_select_enrollment_history_report = create_report(ALAMEDA_select_enrollment_history)\n",
        "ALAMEDA_select_enrollment_history_report.show_notebook()"
      ],
      "metadata": {
        "id": "bmbaMLAeyyyE"
      },
      "execution_count": null,
      "outputs": []
    },
    {
      "cell_type": "markdown",
      "source": [
        "# Graduates by Race and Gender"
      ],
      "metadata": {
        "id": "j6zhLKtGFUon"
      }
    },
    {
      "cell_type": "code",
      "source": [
        "print(\"\\nGraduates by Race and Gender:\")\n",
        "graduates_by_race_gender_df.head()"
      ],
      "metadata": {
        "id": "eBfxf39RFVCR"
      },
      "execution_count": null,
      "outputs": []
    },
    {
      "cell_type": "code",
      "source": [],
      "metadata": {
        "id": "bw6o9SN_3EoN"
      },
      "execution_count": null,
      "outputs": []
    },
    {
      "cell_type": "code",
      "source": [
        "# display(graduates_by_race_gender_df.info(),\n",
        "#         graduates_by_race_gender_df.describe())"
      ],
      "metadata": {
        "id": "NZpIb2szFXV2"
      },
      "execution_count": null,
      "outputs": []
    },
    {
      "cell_type": "code",
      "source": [
        "graduates_by_race_gender_report = create_report(graduates_by_race_gender_df)\n",
        "graduates_by_race_gender_report.show_notebook()"
      ],
      "metadata": {
        "id": "kwCMzfsWGYfa"
      },
      "execution_count": null,
      "outputs": []
    },
    {
      "cell_type": "markdown",
      "source": [
        "# Dropouts by Race & Gender"
      ],
      "metadata": {
        "id": "J9HJoriIFWbv"
      }
    },
    {
      "cell_type": "code",
      "source": [
        "print(\"\\nDropouts by Race & Gender:\")\n",
        "dropouts_by_race_gender_df.head()"
      ],
      "metadata": {
        "id": "cvQCWishFbPJ"
      },
      "execution_count": null,
      "outputs": []
    },
    {
      "cell_type": "code",
      "source": [
        "# display(dropouts_by_race_gender_df.info(),\n",
        "#         dropouts_by_race_gender_df.describe())"
      ],
      "metadata": {
        "id": "w8gNUySJFde2"
      },
      "execution_count": null,
      "outputs": []
    },
    {
      "cell_type": "code",
      "source": [
        "dropouts_by_race_gender_report = create_report(dropouts_by_race_gender_df)\n",
        "dropouts_by_race_gender_report.show_notebook()"
      ],
      "metadata": {
        "id": "HrdfGH4cGzsY"
      },
      "execution_count": null,
      "outputs": []
    },
    {
      "cell_type": "markdown",
      "source": [
        "# Graduates by Ethnicity\n"
      ],
      "metadata": {
        "id": "zKR-NjYlFl5N"
      }
    },
    {
      "cell_type": "code",
      "source": [
        "print(\"\\nGraduates by Ethnicity:\")\n",
        "graduates_by_ethnicity_df.head()"
      ],
      "metadata": {
        "id": "rk3O1gzbFhdB"
      },
      "execution_count": null,
      "outputs": []
    },
    {
      "cell_type": "code",
      "source": [
        "# display(graduates_by_ethnicity_df.info(),\n",
        "#       graduates_by_ethnicity_df.describe())"
      ],
      "metadata": {
        "id": "ADMznMOqFnch"
      },
      "execution_count": null,
      "outputs": []
    },
    {
      "cell_type": "code",
      "source": [
        "graduates_by_ethnicity_report = create_report(graduates_by_ethnicity_df)\n",
        "graduates_by_ethnicity_report.show_notebook()"
      ],
      "metadata": {
        "id": "A71abTQFHBsI"
      },
      "execution_count": null,
      "outputs": []
    },
    {
      "cell_type": "markdown",
      "source": [
        "# Homeless Student Enrollment\n"
      ],
      "metadata": {
        "id": "njoUjSv7Ftcr"
      }
    },
    {
      "cell_type": "code",
      "source": [],
      "metadata": {
        "id": "dIjhTmoJ3b40"
      },
      "execution_count": null,
      "outputs": []
    },
    {
      "cell_type": "code",
      "source": [
        "print(\"\\nHomeless Student Enrollment:\")\n",
        "homeless_student_enrollment_df.head()"
      ],
      "metadata": {
        "id": "8_QQ9LYkFozD"
      },
      "execution_count": null,
      "outputs": []
    },
    {
      "cell_type": "code",
      "source": [
        "# display(homeless_student_enrollment_df.info(),\n",
        "#       homeless_student_enrollment_df.describe())"
      ],
      "metadata": {
        "id": "bf_4Gn0uF85h"
      },
      "execution_count": null,
      "outputs": []
    },
    {
      "cell_type": "code",
      "source": [
        "homeless_student_enrollment_report = create_report(homeless_student_Alameda)\n",
        "homeless_student_enrollment_report.show_notebook()"
      ],
      "metadata": {
        "id": "UsLnnS97F_wJ"
      },
      "execution_count": null,
      "outputs": []
    },
    {
      "cell_type": "markdown",
      "source": [
        "# Data Visualization"
      ],
      "metadata": {
        "id": "KLjBFsULfOws"
      }
    },
    {
      "cell_type": "code",
      "source": [
        "# you can visualize any of the dataframe created above !\n",
        "\n",
        "# homeless_student_enrollment_df, graduates_by_ethnicity_df, dropouts_by_race_gender_df,ALAMEDA_select_enrollment_history, graduates_by_race_gender_df\n",
        "\n",
        "# Or filter / query specific data to visualize\n",
        "\n",
        "# AlamedaSD = graduates_by_ethnicity_df[graduates_by_ethnicity_df['COUNTY'] == 'Alameda']"
      ],
      "metadata": {
        "id": "pQLtUu8QH6_p"
      },
      "execution_count": null,
      "outputs": []
    },
    {
      "cell_type": "code",
      "source": [],
      "metadata": {
        "id": "fo4YfEYy0mp2"
      },
      "execution_count": null,
      "outputs": []
    },
    {
      "cell_type": "code",
      "source": [
        "import pygwalker as pyg\n",
        "\n",
        "pyg.walk(ALAMEDA_select_enrollment_history)"
      ],
      "metadata": {
        "id": "KbPDYhZgHX8g"
      },
      "execution_count": null,
      "outputs": []
    },
    {
      "cell_type": "code",
      "source": [],
      "metadata": {
        "id": "78N5jJ2x0EYz"
      },
      "execution_count": null,
      "outputs": []
    }
  ]
}