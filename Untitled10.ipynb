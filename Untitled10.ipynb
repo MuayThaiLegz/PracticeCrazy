{
  "nbformat": 4,
  "nbformat_minor": 0,
  "metadata": {
    "colab": {
      "provenance": [],
      "machine_shape": "hm",
      "authorship_tag": "ABX9TyOPVK2t2NEnkd8us0tIfb9p",
      "include_colab_link": true
    },
    "kernelspec": {
      "name": "python3",
      "display_name": "Python 3"
    },
    "language_info": {
      "name": "python"
    }
  },
  "cells": [
    {
      "cell_type": "markdown",
      "metadata": {
        "id": "view-in-github",
        "colab_type": "text"
      },
      "source": [
        "<a href=\"https://colab.research.google.com/github/MuayThaiLegz/PracticeCrazy/blob/main/Untitled10.ipynb\" target=\"_parent\"><img src=\"https://colab.research.google.com/assets/colab-badge.svg\" alt=\"Open In Colab\"/></a>"
      ]
    },
    {
      "cell_type": "code",
      "source": [
        "# !pip install pytorch_lightning\n",
        "# !pip install pmdarima\n",
        "# !pip install statsmodels --upgrade\n",
        "\n",
        "# !pip install gluonts\n",
        "# !pip install pyOD\n",
        "# !pip install prophet\n",
        "# !pip install sktime"
      ],
      "metadata": {
        "id": "1EBB9R2APcpn"
      },
      "execution_count": null,
      "outputs": []
    },
    {
      "cell_type": "code",
      "source": [],
      "metadata": {
        "id": "RxXVZ65mxugw"
      },
      "execution_count": null,
      "outputs": []
    },
    {
      "cell_type": "code",
      "execution_count": null,
      "metadata": {
        "id": "aJEptl1tg_Xy",
        "colab": {
          "base_uri": "https://localhost:8080/"
        },
        "outputId": "1d2c872e-6a03-48a3-e41d-6a92df56dff1"
      },
      "outputs": [
        {
          "output_type": "stream",
          "name": "stderr",
          "text": [
            "/usr/local/lib/python3.10/dist-packages/gluonts/json.py:101: UserWarning: Using `json`-module for json-handling. Consider installing one of `orjson`, `ujson` to speed up serialization and deserialization.\n",
            "  warnings.warn(\n"
          ]
        }
      ],
      "source": [
        "from sklearn.datasets import fetch_openml\n",
        "import numpy as np\n",
        "import matplotlib.pyplot as plt\n",
        "%matplotlib inline\n",
        "import seaborn as sns\n",
        "import pandas as pd\n",
        "from gluonts.torch import DeepAREstimator\n",
        "from gluonts.dataset.pandas import PandasDataset\n",
        "from gluonts.dataset.split import split\n",
        "from sktime.forecasting.arima import ARIMA\n",
        "from sktime.forecasting.model_selection import temporal_train_test_split\n",
        "\n",
        "from prophet import Prophet\n",
        "from sktime.forecasting.theta import ThetaForecaster\n"
      ]
    },
    {
      "cell_type": "code",
      "source": [
        "indata = pd.read_csv(\"AnomaliesComp.csv\", parse_dates=True)\n",
        "# data.set_index('payload.publishedAt', inplace=True)\n",
        "indata['payload.publishedAt'] = pd.to_datetime(indata['payload.publishedAt'])\n",
        "\n",
        "# indata.set_index('payload.publishedAt', inplace=True)\n",
        "data = indata.iloc[:, :6]\n",
        "data['Final_Anomaly'] = indata['Final_Anomaly']\n",
        "data.set_index('payload.publishedAt', inplace=True)\n",
        "# df = data[['TempC_SHT']]\n",
        "data"
      ],
      "metadata": {
        "id": "DNR9oIOQ1_i1",
        "colab": {
          "base_uri": "https://localhost:8080/",
          "height": 455
        },
        "outputId": "81a4adc8-2497-4902-bd17-90a1896ae8be"
      },
      "execution_count": null,
      "outputs": [
        {
          "output_type": "execute_result",
          "data": {
            "text/plain": [
              "                            payload.fCnt      BatV   Hum_SHT  TempC_DS  \\\n",
              "payload.publishedAt                                                      \n",
              "2018-01-27 10:11:14.976806     -0.309941  0.380379  0.224960  0.226466   \n",
              "2018-01-28 10:11:14.976806      0.452522  0.235042  0.245178  0.238655   \n",
              "2018-01-29 10:11:14.976806     -0.795145  0.014242  0.265396  0.246157   \n",
              "2018-01-30 10:11:14.976806      1.561559  0.321685  0.293702  0.288352   \n",
              "2018-01-31 10:11:14.976806      1.145670  0.268582  0.315942  0.306168   \n",
              "...                                  ...       ...       ...       ...   \n",
              "2022-12-27 10:11:15.016848      1.422929 -0.649555 -0.531201 -0.538676   \n",
              "2022-12-28 10:11:15.016848     -1.141719 -0.467884 -0.504917 -0.505858   \n",
              "2022-12-29 10:11:15.016848      0.244577 -0.736199 -0.484699 -0.502107   \n",
              "2022-12-30 10:11:15.016848      0.521837 -0.694274 -0.462459 -0.477728   \n",
              "2022-12-31 10:11:15.016848      0.313892 -0.416178 -0.434153 -0.436470   \n",
              "\n",
              "                            TempC_SHT  Final_Anomaly  \n",
              "payload.publishedAt                                   \n",
              "2018-01-27 10:11:14.976806   0.225576              1  \n",
              "2018-01-28 10:11:14.976806   0.237753              1  \n",
              "2018-01-29 10:11:14.976806   0.245247              0  \n",
              "2018-01-30 10:11:14.976806   0.287399              0  \n",
              "2018-01-31 10:11:14.976806   0.305196              0  \n",
              "...                               ...            ...  \n",
              "2022-12-27 10:11:15.016848  -0.538780              0  \n",
              "2022-12-28 10:11:15.016848  -0.505995              0  \n",
              "2022-12-29 10:11:15.016848  -0.502249              0  \n",
              "2022-12-30 10:11:15.016848  -0.477894              0  \n",
              "2022-12-31 10:11:15.016848  -0.436679              0  \n",
              "\n",
              "[1800 rows x 6 columns]"
            ],
            "text/html": [
              "\n",
              "  <div id=\"df-472b46b2-96ad-4fff-bf8a-0b92593795e5\" class=\"colab-df-container\">\n",
              "    <div>\n",
              "<style scoped>\n",
              "    .dataframe tbody tr th:only-of-type {\n",
              "        vertical-align: middle;\n",
              "    }\n",
              "\n",
              "    .dataframe tbody tr th {\n",
              "        vertical-align: top;\n",
              "    }\n",
              "\n",
              "    .dataframe thead th {\n",
              "        text-align: right;\n",
              "    }\n",
              "</style>\n",
              "<table border=\"1\" class=\"dataframe\">\n",
              "  <thead>\n",
              "    <tr style=\"text-align: right;\">\n",
              "      <th></th>\n",
              "      <th>payload.fCnt</th>\n",
              "      <th>BatV</th>\n",
              "      <th>Hum_SHT</th>\n",
              "      <th>TempC_DS</th>\n",
              "      <th>TempC_SHT</th>\n",
              "      <th>Final_Anomaly</th>\n",
              "    </tr>\n",
              "    <tr>\n",
              "      <th>payload.publishedAt</th>\n",
              "      <th></th>\n",
              "      <th></th>\n",
              "      <th></th>\n",
              "      <th></th>\n",
              "      <th></th>\n",
              "      <th></th>\n",
              "    </tr>\n",
              "  </thead>\n",
              "  <tbody>\n",
              "    <tr>\n",
              "      <th>2018-01-27 10:11:14.976806</th>\n",
              "      <td>-0.309941</td>\n",
              "      <td>0.380379</td>\n",
              "      <td>0.224960</td>\n",
              "      <td>0.226466</td>\n",
              "      <td>0.225576</td>\n",
              "      <td>1</td>\n",
              "    </tr>\n",
              "    <tr>\n",
              "      <th>2018-01-28 10:11:14.976806</th>\n",
              "      <td>0.452522</td>\n",
              "      <td>0.235042</td>\n",
              "      <td>0.245178</td>\n",
              "      <td>0.238655</td>\n",
              "      <td>0.237753</td>\n",
              "      <td>1</td>\n",
              "    </tr>\n",
              "    <tr>\n",
              "      <th>2018-01-29 10:11:14.976806</th>\n",
              "      <td>-0.795145</td>\n",
              "      <td>0.014242</td>\n",
              "      <td>0.265396</td>\n",
              "      <td>0.246157</td>\n",
              "      <td>0.245247</td>\n",
              "      <td>0</td>\n",
              "    </tr>\n",
              "    <tr>\n",
              "      <th>2018-01-30 10:11:14.976806</th>\n",
              "      <td>1.561559</td>\n",
              "      <td>0.321685</td>\n",
              "      <td>0.293702</td>\n",
              "      <td>0.288352</td>\n",
              "      <td>0.287399</td>\n",
              "      <td>0</td>\n",
              "    </tr>\n",
              "    <tr>\n",
              "      <th>2018-01-31 10:11:14.976806</th>\n",
              "      <td>1.145670</td>\n",
              "      <td>0.268582</td>\n",
              "      <td>0.315942</td>\n",
              "      <td>0.306168</td>\n",
              "      <td>0.305196</td>\n",
              "      <td>0</td>\n",
              "    </tr>\n",
              "    <tr>\n",
              "      <th>...</th>\n",
              "      <td>...</td>\n",
              "      <td>...</td>\n",
              "      <td>...</td>\n",
              "      <td>...</td>\n",
              "      <td>...</td>\n",
              "      <td>...</td>\n",
              "    </tr>\n",
              "    <tr>\n",
              "      <th>2022-12-27 10:11:15.016848</th>\n",
              "      <td>1.422929</td>\n",
              "      <td>-0.649555</td>\n",
              "      <td>-0.531201</td>\n",
              "      <td>-0.538676</td>\n",
              "      <td>-0.538780</td>\n",
              "      <td>0</td>\n",
              "    </tr>\n",
              "    <tr>\n",
              "      <th>2022-12-28 10:11:15.016848</th>\n",
              "      <td>-1.141719</td>\n",
              "      <td>-0.467884</td>\n",
              "      <td>-0.504917</td>\n",
              "      <td>-0.505858</td>\n",
              "      <td>-0.505995</td>\n",
              "      <td>0</td>\n",
              "    </tr>\n",
              "    <tr>\n",
              "      <th>2022-12-29 10:11:15.016848</th>\n",
              "      <td>0.244577</td>\n",
              "      <td>-0.736199</td>\n",
              "      <td>-0.484699</td>\n",
              "      <td>-0.502107</td>\n",
              "      <td>-0.502249</td>\n",
              "      <td>0</td>\n",
              "    </tr>\n",
              "    <tr>\n",
              "      <th>2022-12-30 10:11:15.016848</th>\n",
              "      <td>0.521837</td>\n",
              "      <td>-0.694274</td>\n",
              "      <td>-0.462459</td>\n",
              "      <td>-0.477728</td>\n",
              "      <td>-0.477894</td>\n",
              "      <td>0</td>\n",
              "    </tr>\n",
              "    <tr>\n",
              "      <th>2022-12-31 10:11:15.016848</th>\n",
              "      <td>0.313892</td>\n",
              "      <td>-0.416178</td>\n",
              "      <td>-0.434153</td>\n",
              "      <td>-0.436470</td>\n",
              "      <td>-0.436679</td>\n",
              "      <td>0</td>\n",
              "    </tr>\n",
              "  </tbody>\n",
              "</table>\n",
              "<p>1800 rows × 6 columns</p>\n",
              "</div>\n",
              "    <div class=\"colab-df-buttons\">\n",
              "\n",
              "  <div class=\"colab-df-container\">\n",
              "    <button class=\"colab-df-convert\" onclick=\"convertToInteractive('df-472b46b2-96ad-4fff-bf8a-0b92593795e5')\"\n",
              "            title=\"Convert this dataframe to an interactive table.\"\n",
              "            style=\"display:none;\">\n",
              "\n",
              "  <svg xmlns=\"http://www.w3.org/2000/svg\" height=\"24px\" viewBox=\"0 -960 960 960\">\n",
              "    <path d=\"M120-120v-720h720v720H120Zm60-500h600v-160H180v160Zm220 220h160v-160H400v160Zm0 220h160v-160H400v160ZM180-400h160v-160H180v160Zm440 0h160v-160H620v160ZM180-180h160v-160H180v160Zm440 0h160v-160H620v160Z\"/>\n",
              "  </svg>\n",
              "    </button>\n",
              "\n",
              "  <style>\n",
              "    .colab-df-container {\n",
              "      display:flex;\n",
              "      gap: 12px;\n",
              "    }\n",
              "\n",
              "    .colab-df-convert {\n",
              "      background-color: #E8F0FE;\n",
              "      border: none;\n",
              "      border-radius: 50%;\n",
              "      cursor: pointer;\n",
              "      display: none;\n",
              "      fill: #1967D2;\n",
              "      height: 32px;\n",
              "      padding: 0 0 0 0;\n",
              "      width: 32px;\n",
              "    }\n",
              "\n",
              "    .colab-df-convert:hover {\n",
              "      background-color: #E2EBFA;\n",
              "      box-shadow: 0px 1px 2px rgba(60, 64, 67, 0.3), 0px 1px 3px 1px rgba(60, 64, 67, 0.15);\n",
              "      fill: #174EA6;\n",
              "    }\n",
              "\n",
              "    .colab-df-buttons div {\n",
              "      margin-bottom: 4px;\n",
              "    }\n",
              "\n",
              "    [theme=dark] .colab-df-convert {\n",
              "      background-color: #3B4455;\n",
              "      fill: #D2E3FC;\n",
              "    }\n",
              "\n",
              "    [theme=dark] .colab-df-convert:hover {\n",
              "      background-color: #434B5C;\n",
              "      box-shadow: 0px 1px 3px 1px rgba(0, 0, 0, 0.15);\n",
              "      filter: drop-shadow(0px 1px 2px rgba(0, 0, 0, 0.3));\n",
              "      fill: #FFFFFF;\n",
              "    }\n",
              "  </style>\n",
              "\n",
              "    <script>\n",
              "      const buttonEl =\n",
              "        document.querySelector('#df-472b46b2-96ad-4fff-bf8a-0b92593795e5 button.colab-df-convert');\n",
              "      buttonEl.style.display =\n",
              "        google.colab.kernel.accessAllowed ? 'block' : 'none';\n",
              "\n",
              "      async function convertToInteractive(key) {\n",
              "        const element = document.querySelector('#df-472b46b2-96ad-4fff-bf8a-0b92593795e5');\n",
              "        const dataTable =\n",
              "          await google.colab.kernel.invokeFunction('convertToInteractive',\n",
              "                                                    [key], {});\n",
              "        if (!dataTable) return;\n",
              "\n",
              "        const docLinkHtml = 'Like what you see? Visit the ' +\n",
              "          '<a target=\"_blank\" href=https://colab.research.google.com/notebooks/data_table.ipynb>data table notebook</a>'\n",
              "          + ' to learn more about interactive tables.';\n",
              "        element.innerHTML = '';\n",
              "        dataTable['output_type'] = 'display_data';\n",
              "        await google.colab.output.renderOutput(dataTable, element);\n",
              "        const docLink = document.createElement('div');\n",
              "        docLink.innerHTML = docLinkHtml;\n",
              "        element.appendChild(docLink);\n",
              "      }\n",
              "    </script>\n",
              "  </div>\n",
              "\n",
              "\n",
              "<div id=\"df-769b9af0-81c9-495b-9319-b34705700b12\">\n",
              "  <button class=\"colab-df-quickchart\" onclick=\"quickchart('df-769b9af0-81c9-495b-9319-b34705700b12')\"\n",
              "            title=\"Suggest charts.\"\n",
              "            style=\"display:none;\">\n",
              "\n",
              "<svg xmlns=\"http://www.w3.org/2000/svg\" height=\"24px\"viewBox=\"0 0 24 24\"\n",
              "     width=\"24px\">\n",
              "    <g>\n",
              "        <path d=\"M19 3H5c-1.1 0-2 .9-2 2v14c0 1.1.9 2 2 2h14c1.1 0 2-.9 2-2V5c0-1.1-.9-2-2-2zM9 17H7v-7h2v7zm4 0h-2V7h2v10zm4 0h-2v-4h2v4z\"/>\n",
              "    </g>\n",
              "</svg>\n",
              "  </button>\n",
              "\n",
              "<style>\n",
              "  .colab-df-quickchart {\n",
              "      --bg-color: #E8F0FE;\n",
              "      --fill-color: #1967D2;\n",
              "      --hover-bg-color: #E2EBFA;\n",
              "      --hover-fill-color: #174EA6;\n",
              "      --disabled-fill-color: #AAA;\n",
              "      --disabled-bg-color: #DDD;\n",
              "  }\n",
              "\n",
              "  [theme=dark] .colab-df-quickchart {\n",
              "      --bg-color: #3B4455;\n",
              "      --fill-color: #D2E3FC;\n",
              "      --hover-bg-color: #434B5C;\n",
              "      --hover-fill-color: #FFFFFF;\n",
              "      --disabled-bg-color: #3B4455;\n",
              "      --disabled-fill-color: #666;\n",
              "  }\n",
              "\n",
              "  .colab-df-quickchart {\n",
              "    background-color: var(--bg-color);\n",
              "    border: none;\n",
              "    border-radius: 50%;\n",
              "    cursor: pointer;\n",
              "    display: none;\n",
              "    fill: var(--fill-color);\n",
              "    height: 32px;\n",
              "    padding: 0;\n",
              "    width: 32px;\n",
              "  }\n",
              "\n",
              "  .colab-df-quickchart:hover {\n",
              "    background-color: var(--hover-bg-color);\n",
              "    box-shadow: 0 1px 2px rgba(60, 64, 67, 0.3), 0 1px 3px 1px rgba(60, 64, 67, 0.15);\n",
              "    fill: var(--button-hover-fill-color);\n",
              "  }\n",
              "\n",
              "  .colab-df-quickchart-complete:disabled,\n",
              "  .colab-df-quickchart-complete:disabled:hover {\n",
              "    background-color: var(--disabled-bg-color);\n",
              "    fill: var(--disabled-fill-color);\n",
              "    box-shadow: none;\n",
              "  }\n",
              "\n",
              "  .colab-df-spinner {\n",
              "    border: 2px solid var(--fill-color);\n",
              "    border-color: transparent;\n",
              "    border-bottom-color: var(--fill-color);\n",
              "    animation:\n",
              "      spin 1s steps(1) infinite;\n",
              "  }\n",
              "\n",
              "  @keyframes spin {\n",
              "    0% {\n",
              "      border-color: transparent;\n",
              "      border-bottom-color: var(--fill-color);\n",
              "      border-left-color: var(--fill-color);\n",
              "    }\n",
              "    20% {\n",
              "      border-color: transparent;\n",
              "      border-left-color: var(--fill-color);\n",
              "      border-top-color: var(--fill-color);\n",
              "    }\n",
              "    30% {\n",
              "      border-color: transparent;\n",
              "      border-left-color: var(--fill-color);\n",
              "      border-top-color: var(--fill-color);\n",
              "      border-right-color: var(--fill-color);\n",
              "    }\n",
              "    40% {\n",
              "      border-color: transparent;\n",
              "      border-right-color: var(--fill-color);\n",
              "      border-top-color: var(--fill-color);\n",
              "    }\n",
              "    60% {\n",
              "      border-color: transparent;\n",
              "      border-right-color: var(--fill-color);\n",
              "    }\n",
              "    80% {\n",
              "      border-color: transparent;\n",
              "      border-right-color: var(--fill-color);\n",
              "      border-bottom-color: var(--fill-color);\n",
              "    }\n",
              "    90% {\n",
              "      border-color: transparent;\n",
              "      border-bottom-color: var(--fill-color);\n",
              "    }\n",
              "  }\n",
              "</style>\n",
              "\n",
              "  <script>\n",
              "    async function quickchart(key) {\n",
              "      const quickchartButtonEl =\n",
              "        document.querySelector('#' + key + ' button');\n",
              "      quickchartButtonEl.disabled = true;  // To prevent multiple clicks.\n",
              "      quickchartButtonEl.classList.add('colab-df-spinner');\n",
              "      try {\n",
              "        const charts = await google.colab.kernel.invokeFunction(\n",
              "            'suggestCharts', [key], {});\n",
              "      } catch (error) {\n",
              "        console.error('Error during call to suggestCharts:', error);\n",
              "      }\n",
              "      quickchartButtonEl.classList.remove('colab-df-spinner');\n",
              "      quickchartButtonEl.classList.add('colab-df-quickchart-complete');\n",
              "    }\n",
              "    (() => {\n",
              "      let quickchartButtonEl =\n",
              "        document.querySelector('#df-769b9af0-81c9-495b-9319-b34705700b12 button');\n",
              "      quickchartButtonEl.style.display =\n",
              "        google.colab.kernel.accessAllowed ? 'block' : 'none';\n",
              "    })();\n",
              "  </script>\n",
              "</div>\n",
              "\n",
              "  <div id=\"id_b973bb61-205c-49a6-8bf0-9187dfcf90cf\">\n",
              "    <style>\n",
              "      .colab-df-generate {\n",
              "        background-color: #E8F0FE;\n",
              "        border: none;\n",
              "        border-radius: 50%;\n",
              "        cursor: pointer;\n",
              "        display: none;\n",
              "        fill: #1967D2;\n",
              "        height: 32px;\n",
              "        padding: 0 0 0 0;\n",
              "        width: 32px;\n",
              "      }\n",
              "\n",
              "      .colab-df-generate:hover {\n",
              "        background-color: #E2EBFA;\n",
              "        box-shadow: 0px 1px 2px rgba(60, 64, 67, 0.3), 0px 1px 3px 1px rgba(60, 64, 67, 0.15);\n",
              "        fill: #174EA6;\n",
              "      }\n",
              "\n",
              "      [theme=dark] .colab-df-generate {\n",
              "        background-color: #3B4455;\n",
              "        fill: #D2E3FC;\n",
              "      }\n",
              "\n",
              "      [theme=dark] .colab-df-generate:hover {\n",
              "        background-color: #434B5C;\n",
              "        box-shadow: 0px 1px 3px 1px rgba(0, 0, 0, 0.15);\n",
              "        filter: drop-shadow(0px 1px 2px rgba(0, 0, 0, 0.3));\n",
              "        fill: #FFFFFF;\n",
              "      }\n",
              "    </style>\n",
              "    <button class=\"colab-df-generate\" onclick=\"generateWithVariable('data')\"\n",
              "            title=\"Generate code using this dataframe.\"\n",
              "            style=\"display:none;\">\n",
              "\n",
              "  <svg xmlns=\"http://www.w3.org/2000/svg\" height=\"24px\"viewBox=\"0 0 24 24\"\n",
              "       width=\"24px\">\n",
              "    <path d=\"M7,19H8.4L18.45,9,17,7.55,7,17.6ZM5,21V16.75L18.45,3.32a2,2,0,0,1,2.83,0l1.4,1.43a1.91,1.91,0,0,1,.58,1.4,1.91,1.91,0,0,1-.58,1.4L9.25,21ZM18.45,9,17,7.55Zm-12,3A5.31,5.31,0,0,0,4.9,8.1,5.31,5.31,0,0,0,1,6.5,5.31,5.31,0,0,0,4.9,4.9,5.31,5.31,0,0,0,6.5,1,5.31,5.31,0,0,0,8.1,4.9,5.31,5.31,0,0,0,12,6.5,5.46,5.46,0,0,0,6.5,12Z\"/>\n",
              "  </svg>\n",
              "    </button>\n",
              "    <script>\n",
              "      (() => {\n",
              "      const buttonEl =\n",
              "        document.querySelector('#id_b973bb61-205c-49a6-8bf0-9187dfcf90cf button.colab-df-generate');\n",
              "      buttonEl.style.display =\n",
              "        google.colab.kernel.accessAllowed ? 'block' : 'none';\n",
              "\n",
              "      buttonEl.onclick = () => {\n",
              "        google.colab.notebook.generateWithVariable('data');\n",
              "      }\n",
              "      })();\n",
              "    </script>\n",
              "  </div>\n",
              "\n",
              "    </div>\n",
              "  </div>\n"
            ]
          },
          "metadata": {},
          "execution_count": 3
        }
      ]
    },
    {
      "cell_type": "code",
      "source": [
        "sns.set(rc={'figure.figsize':(11, 4)})\n"
      ],
      "metadata": {
        "id": "-5J-4SeIC8iM"
      },
      "execution_count": null,
      "outputs": []
    },
    {
      "cell_type": "code",
      "source": [
        "data.loc[data['Final_Anomaly'] == 1.0, 'BatV'].plot(linewidth=0.5, marker='o', linestyle='')\n",
        "data.loc[data['Final_Anomaly'] == 0.0, 'BatV'].plot(linewidth=0.5)"
      ],
      "metadata": {
        "colab": {
          "base_uri": "https://localhost:8080/",
          "height": 395
        },
        "id": "Ed-warEjC8ge",
        "outputId": "b4d33a35-8ec4-4062-d2ec-426a13ce672f"
      },
      "execution_count": null,
      "outputs": [
        {
          "output_type": "execute_result",
          "data": {
            "text/plain": [
              "<Axes: xlabel='payload.publishedAt'>"
            ]
          },
          "metadata": {},
          "execution_count": 20
        },
        {
          "output_type": "display_data",
          "data": {
            "text/plain": [
              "<Figure size 1100x400 with 1 Axes>"
            ],
            "image/png": "[encoded data removed]"
          },
          "metadata": {}
        }
      ]
    },
    {
      "cell_type": "code",
      "source": [
        "data.BatV.hist(bins=50)\n"
      ],
      "metadata": {
        "colab": {
          "base_uri": "https://localhost:8080/",
          "height": 390
        },
        "id": "blFARkelEPO7",
        "outputId": "5aa70766-4912-4616-d704-3af717c2b9a5"
      },
      "execution_count": null,
      "outputs": [
        {
          "output_type": "execute_result",
          "data": {
            "text/plain": [
              "<Axes: >"
            ]
          },
          "metadata": {},
          "execution_count": 23
        },
        {
          "output_type": "display_data",
          "data": {
            "text/plain": [
              "<Figure size 1100x400 with 1 Axes>"
            ],
            "image/png": "[encoded data removed]"
          },
          "metadata": {}
        }
      ]
    },
    {
      "cell_type": "code",
      "source": [],
      "metadata": {
        "colab": {
          "base_uri": "https://localhost:8080/"
        },
        "id": "J6a4utOSC8cE",
        "outputId": "b15625d6-3ca5-46b1-94ac-1b6d55a7fc1e"
      },
      "execution_count": null,
      "outputs": [
        {
          "output_type": "stream",
          "name": "stdout",
          "text": [
            "Collecting pyOD\n",
            "  Downloading pyod-1.1.0.tar.gz (153 kB)\n",
            "\u001b[?25l     \u001b[90m━━━━━━━━━━━━━━━━━━━━━━━━━━━━━━━━━━━━━━━━\u001b[0m \u001b[32m0.0/153.4 kB\u001b[0m \u001b[31m?\u001b[0m eta \u001b[36m-:--:--\u001b[0m\r\u001b[2K     \u001b[91m━━━━━━━━━━━━━━━━━━━━━━━━\u001b[0m\u001b[90m╺\u001b[0m\u001b[90m━━━━━━━━━━━━━━━\u001b[0m \u001b[32m92.2/153.4 kB\u001b[0m \u001b[31m2.5 MB/s\u001b[0m eta \u001b[36m0:00:01\u001b[0m\r\u001b[2K     \u001b[90m━━━━━━━━━━━━━━━━━━━━━━━━━━━━━━━━━━━━━━━\u001b[0m \u001b[32m153.4/153.4 kB\u001b[0m \u001b[31m2.8 MB/s\u001b[0m eta \u001b[36m0:00:00\u001b[0m\n",
            "\u001b[?25h  Preparing metadata (setup.py) ... \u001b[?25l\u001b[?25hdone\n",
            "Requirement already satisfied: joblib in /usr/local/lib/python3.10/dist-packages (from pyOD) (1.3.2)\n",
            "Requirement already satisfied: matplotlib in /usr/local/lib/python3.10/dist-packages (from pyOD) (3.7.1)\n",
            "Requirement already satisfied: numpy>=1.19 in /usr/local/lib/python3.10/dist-packages (from pyOD) (1.23.5)\n",
            "Requirement already satisfied: numba>=0.51 in /usr/local/lib/python3.10/dist-packages (from pyOD) (0.56.4)\n",
            "Requirement already satisfied: scipy>=1.5.1 in /usr/local/lib/python3.10/dist-packages (from pyOD) (1.10.1)\n",
            "Requirement already satisfied: scikit_learn>=0.20.0 in /usr/local/lib/python3.10/dist-packages (from pyOD) (1.2.2)\n",
            "Requirement already satisfied: six in /usr/local/lib/python3.10/dist-packages (from pyOD) (1.16.0)\n",
            "Requirement already satisfied: llvmlite<0.40,>=0.39.0dev0 in /usr/local/lib/python3.10/dist-packages (from numba>=0.51->pyOD) (0.39.1)\n",
            "Requirement already satisfied: setuptools in /usr/local/lib/python3.10/dist-packages (from numba>=0.51->pyOD) (67.7.2)\n",
            "Requirement already satisfied: threadpoolctl>=2.0.0 in /usr/local/lib/python3.10/dist-packages (from scikit_learn>=0.20.0->pyOD) (3.2.0)\n",
            "Requirement already satisfied: contourpy>=1.0.1 in /usr/local/lib/python3.10/dist-packages (from matplotlib->pyOD) (1.1.0)\n",
            "Requirement already satisfied: cycler>=0.10 in /usr/local/lib/python3.10/dist-packages (from matplotlib->pyOD) (0.11.0)\n",
            "Requirement already satisfied: fonttools>=4.22.0 in /usr/local/lib/python3.10/dist-packages (from matplotlib->pyOD) (4.42.1)\n",
            "Requirement already satisfied: kiwisolver>=1.0.1 in /usr/local/lib/python3.10/dist-packages (from matplotlib->pyOD) (1.4.5)\n",
            "Requirement already satisfied: packaging>=20.0 in /usr/local/lib/python3.10/dist-packages (from matplotlib->pyOD) (23.1)\n",
            "Requirement already satisfied: pillow>=6.2.0 in /usr/local/lib/python3.10/dist-packages (from matplotlib->pyOD) (9.4.0)\n",
            "Requirement already satisfied: pyparsing>=2.3.1 in /usr/local/lib/python3.10/dist-packages (from matplotlib->pyOD) (3.1.1)\n",
            "Requirement already satisfied: python-dateutil>=2.7 in /usr/local/lib/python3.10/dist-packages (from matplotlib->pyOD) (2.8.2)\n",
            "Building wheels for collected packages: pyOD\n",
            "  Building wheel for pyOD (setup.py) ... \u001b[?25l\u001b[?25hdone\n",
            "  Created wheel for pyOD: filename=pyod-1.1.0-py3-none-any.whl size=185329 sha256=9027837e3ceb5a55966e06bcd9c7ab5164241b4aa01b1832124ff72df8f966d7\n",
            "  Stored in directory: /root/.cache/pip/wheels/36/8e/e2/e932956b10b843eb6be9eefa70b5c1bee7b561be14c423b136\n",
            "Successfully built pyOD\n",
            "Installing collected packages: pyOD\n",
            "Successfully installed pyOD-1.1.0\n"
          ]
        }
      ]
    },
    {
      "cell_type": "code",
      "source": [
        "import numpy as np\n",
        "from matplotlib import pyplot as plt\n",
        "\n",
        "markers = ['r--', 'b-^']\n",
        "\n",
        "def hist2d(X, by_col, n_bins=10, title=None):\n",
        "  '''plot two histograms against each other.\n",
        "\n",
        "  I am using line plots here. Alternatively,\n",
        "  we could be using hist() with opacity.\n",
        "  '''\n",
        "  bins = np.linspace(X.min(), X.max(), n_bins)\n",
        "\n",
        "  vals = np.unique(by_col)\n",
        "  for marker, val in zip(markers, vals):\n",
        "    n, edges = np.histogram(X[by_col==val], bins=bins)\n",
        "    n = n / np.linalg.norm(n)\n",
        "    bin_centers = 0.5 * (edges[1:] + edges[:-1])\n",
        "    plt.plot(bin_centers, n, marker, alpha=0.8, label=val)\n",
        "\n",
        "  plt.legend(loc='upper right')\n",
        "  if title is not None:\n",
        "    plt.title(title)\n",
        "  plt.show()\n",
        "\n",
        "hist2d(data.Hum_SHT, data.Final_Anomaly, n_bins=50, title='Values by label')"
      ],
      "metadata": {
        "colab": {
          "base_uri": "https://localhost:8080/",
          "height": 395
        },
        "id": "AEuHVTjMC8Sl",
        "outputId": "a374be9a-ae25-48d7-b02f-f5dd920588d8"
      },
      "execution_count": null,
      "outputs": [
        {
          "output_type": "display_data",
          "data": {
            "text/plain": [
              "<Figure size 1100x400 with 1 Axes>"
            ],
            "image/png": "[encoded data removed]"
          },
          "metadata": {}
        }
      ]
    },
    {
      "cell_type": "code",
      "source": [
        "data.Final_Anomaly.hist()"
      ],
      "metadata": {
        "colab": {
          "base_uri": "https://localhost:8080/",
          "height": 395
        },
        "id": "rY0IAzMvE-7F",
        "outputId": "f8915176-3e63-4757-fce4-0f50d73201ad"
      },
      "execution_count": null,
      "outputs": [
        {
          "output_type": "execute_result",
          "data": {
            "text/plain": [
              "<Axes: >"
            ]
          },
          "metadata": {},
          "execution_count": 25
        },
        {
          "output_type": "display_data",
          "data": {
            "text/plain": [
              "<Figure size 1100x400 with 1 Axes>"
            ],
            "image/png": "[encoded data removed]"
          },
          "metadata": {}
        }
      ]
    },
    {
      "cell_type": "code",
      "source": [
        "from sklearn.model_selection import train_test_split\n",
        "X_train, X_test, y_train, y_test = train_test_split(data[['Hum_SHT']], data[['Final_Anomaly']])"
      ],
      "metadata": {
        "id": "KXZUFFaVFK_T"
      },
      "execution_count": null,
      "outputs": []
    },
    {
      "cell_type": "code",
      "source": [
        "# simplest example from the docs: train kNN detector\n",
        "from pyod.models.knn import KNN\n",
        "clf_name = 'KNN'\n",
        "clf = KNN()\n",
        "clf.fit(X_train)\n",
        "\n",
        "# get the prediction labels and outlier scores of the training data\n",
        "y_train_pred = clf.labels_  # binary labels (0: inliers, 1: outliers)\n",
        "y_train_scores = clf.decision_scores_  # raw outlier scores\n",
        "\n",
        "# get the prediction on the test data\n",
        "y_test_pred = clf.predict(X_test)  # outlier labels (0 or 1)\n",
        "y_test_scores = clf.decision_function(X_test)  # outlier scores\n"
      ],
      "metadata": {
        "id": "jc-bxvt6FK9u"
      },
      "execution_count": null,
      "outputs": []
    },
    {
      "cell_type": "code",
      "source": [
        "from pyod.utils.data import evaluate_print\n",
        "# evaluate and print the results\n",
        "print(\"\\nOn Training Data:\")\n",
        "evaluate_print(clf_name, y_train, y_train_scores)\n",
        "print(\"\\nOn Test Data:\")\n",
        "evaluate_print(clf_name, y_test, y_test_scores)\n"
      ],
      "metadata": {
        "colab": {
          "base_uri": "https://localhost:8080/"
        },
        "id": "-BRUa3POFK3e",
        "outputId": "b6c21a8d-8754-4634-def4-8dd9c133b399"
      },
      "execution_count": null,
      "outputs": [
        {
          "output_type": "stream",
          "name": "stdout",
          "text": [
            "\n",
            "On Training Data:\n",
            "KNN ROC:0.3599, precision @ rank n:0.1407\n",
            "\n",
            "On Test Data:\n",
            "KNN ROC:0.2641, precision @ rank n:0.1132\n"
          ]
        }
      ]
    },
    {
      "cell_type": "code",
      "source": [
        "hist2d(X_test.values, y_test_pred, title='Predicted values by label')"
      ],
      "metadata": {
        "colab": {
          "base_uri": "https://localhost:8080/",
          "height": 395
        },
        "id": "Dt2n_RBXFKzj",
        "outputId": "67b27857-1ba0-426b-9d76-2e6def961329"
      },
      "execution_count": null,
      "outputs": [
        {
          "output_type": "display_data",
          "data": {
            "text/plain": [
              "<Figure size 1100x400 with 1 Axes>"
            ],
            "image/png": "[encoded data removed]"
          },
          "metadata": {}
        }
      ]
    },
    {
      "cell_type": "code",
      "source": [
        "from pyod.utils.data import evaluate_print\n",
        "\n",
        "\n",
        "def test_outlier_detector(X_train, y_train,\n",
        "                          X_test, y_test, only_neg=True,\n",
        "                          basemethod=KNN()):\n",
        "  '''Test an outlier detection method on a dataset.\n",
        "  This function trains a model, get performance metrics of\n",
        "  the model, and plots a visualization.\n",
        "\n",
        "  Parameters:\n",
        "  -----------\n",
        "  X_train : training features\n",
        "  y_train : training labels\n",
        "  X_test : test features\n",
        "  y_test : test labels\n",
        "  only_neg : whether to use only normal (i.e. not outliers) for training\n",
        "  basemethod : the model to test\n",
        "  '''\n",
        "\n",
        "  clf = basemethod\n",
        "  if only_neg:\n",
        "    clf.fit(X_train[y_train==0.0], np.zeros(shape=((y_train==0.0).sum(), 1)))\n",
        "  else:\n",
        "    clf.fit(X_train, y_train)  # most algorithms ignore y\n",
        "\n",
        "  y_train_pred = clf.predict(X_train)  # labels_\n",
        "  y_train_scores = clf.decision_scores_\n",
        "\n",
        "  y_test_pred = clf.predict(X_test)\n",
        "  y_test_scores = clf.decision_function(X_test)\n",
        "\n",
        "  print(\"\\nOn Test Data:\")\n",
        "  evaluate_print(type(clf).__name__, y_test, y_test_scores)\n",
        "  hist2d(X_test, y_test_pred, title='Predicted values by label')"
      ],
      "metadata": {
        "id": "aulLUyPBFKwi"
      },
      "execution_count": null,
      "outputs": []
    },
    {
      "cell_type": "code",
      "source": [
        "test_outlier_detector(X_train, y_train, X_test.values, y_test, only_neg=False, basemethod=KNN(n_neighbors=5, metric='hamming', method='mean', contamination=0.1))"
      ],
      "metadata": {
        "colab": {
          "base_uri": "https://localhost:8080/",
          "height": 516
        },
        "id": "p7OV0BQLF6bE",
        "outputId": "52c9dfab-5f73-4b99-d480-cd0448bb541d"
      },
      "execution_count": null,
      "outputs": [
        {
          "output_type": "stream",
          "name": "stderr",
          "text": [
            "/usr/local/lib/python3.10/dist-packages/pyod/models/base.py:430: UserWarning: y should not be presented in unsupervised learning.\n",
            "  warnings.warn(\n"
          ]
        },
        {
          "output_type": "stream",
          "name": "stdout",
          "text": [
            "\n",
            "On Test Data:\n",
            "KNN ROC:0.2918, precision @ rank n:0.0\n"
          ]
        },
        {
          "output_type": "stream",
          "name": "stderr",
          "text": [
            "/usr/local/lib/python3.10/dist-packages/sklearn/metrics/_classification.py:1344: UndefinedMetricWarning: Precision is ill-defined and being set to 0.0 due to no predicted samples. Use `zero_division` parameter to control this behavior.\n",
            "  _warn_prf(average, modifier, msg_start, len(result))\n"
          ]
        },
        {
          "output_type": "display_data",
          "data": {
            "text/plain": [
              "<Figure size 1100x400 with 1 Axes>"
            ],
            "image/png": "[encoded data removed]"
          },
          "metadata": {}
        }
      ]
    },
    {
      "cell_type": "code",
      "source": [
        "from pyod.models.auto_encoder import AutoEncoder\n"
      ],
      "metadata": {
        "id": "3zxlTKQIF6Vc"
      },
      "execution_count": null,
      "outputs": []
    },
    {
      "cell_type": "code",
      "source": [
        "test_outlier_detector(\n",
        "    X_train.values, y_train, X_test.values, y_test,\n",
        "    only_neg=False, basemethod=AutoEncoder(hidden_neurons=[1], epochs=10)\n",
        ")"
      ],
      "metadata": {
        "colab": {
          "base_uri": "https://localhost:8080/",
          "height": 1000
        },
        "id": "tL9TLrVlF6Sy",
        "outputId": "9be9ca9b-4218-4ed8-c026-0d2448be5a9f"
      },
      "execution_count": null,
      "outputs": [
        {
          "output_type": "stream",
          "name": "stdout",
          "text": [
            "Model: \"sequential_1\"\n",
            "_________________________________________________________________\n",
            " Layer (type)                Output Shape              Param #   \n",
            "=================================================================\n",
            " dense_4 (Dense)             (None, 1)                 2         \n",
            "                                                                 \n",
            " dropout_3 (Dropout)         (None, 1)                 0         \n",
            "                                                                 \n",
            " dense_5 (Dense)             (None, 1)                 2         \n",
            "                                                                 \n",
            " dropout_4 (Dropout)         (None, 1)                 0         \n",
            "                                                                 \n",
            " dense_6 (Dense)             (None, 1)                 2         \n",
            "                                                                 \n",
            " dropout_5 (Dropout)         (None, 1)                 0         \n",
            "                                                                 \n",
            " dense_7 (Dense)             (None, 1)                 2         \n",
            "                                                                 \n",
            "=================================================================\n",
            "Total params: 8\n",
            "Trainable params: 8\n",
            "Non-trainable params: 0\n",
            "_________________________________________________________________\n"
          ]
        },
        {
          "output_type": "stream",
          "name": "stderr",
          "text": [
            "/usr/local/lib/python3.10/dist-packages/pyod/models/base.py:430: UserWarning: y should not be presented in unsupervised learning.\n",
            "  warnings.warn(\n"
          ]
        },
        {
          "output_type": "stream",
          "name": "stdout",
          "text": [
            "None\n",
            "Epoch 1/10\n",
            "38/38 [==============================] - 1s 8ms/step - loss: 1.2366 - val_loss: 1.3023\n",
            "Epoch 2/10\n",
            "38/38 [==============================] - 0s 2ms/step - loss: 1.1981 - val_loss: 1.2660\n",
            "Epoch 3/10\n",
            "38/38 [==============================] - 0s 3ms/step - loss: 1.1538 - val_loss: 1.2373\n",
            "Epoch 4/10\n",
            "38/38 [==============================] - 0s 3ms/step - loss: 1.1389 - val_loss: 1.2154\n",
            "Epoch 5/10\n",
            "38/38 [==============================] - 0s 3ms/step - loss: 1.1186 - val_loss: 1.1983\n",
            "Epoch 6/10\n",
            "38/38 [==============================] - 0s 3ms/step - loss: 1.1125 - val_loss: 1.1844\n",
            "Epoch 7/10\n",
            "38/38 [==============================] - 0s 3ms/step - loss: 1.1081 - val_loss: 1.1737\n",
            "Epoch 8/10\n",
            "38/38 [==============================] - 0s 3ms/step - loss: 1.0865 - val_loss: 1.1628\n",
            "Epoch 9/10\n",
            "38/38 [==============================] - 0s 3ms/step - loss: 1.0729 - val_loss: 1.1535\n",
            "Epoch 10/10\n",
            "38/38 [==============================] - 0s 3ms/step - loss: 1.0623 - val_loss: 1.1451\n",
            "43/43 [==============================] - 0s 1ms/step\n",
            "43/43 [==============================] - 0s 1ms/step\n",
            "15/15 [==============================] - 0s 2ms/step\n",
            "15/15 [==============================] - 0s 1ms/step\n",
            "\n",
            "On Test Data:\n",
            "AutoEncoder ROC:0.7461, precision @ rank n:0.5536\n"
          ]
        },
        {
          "output_type": "display_data",
          "data": {
            "text/plain": [
              "<Figure size 1100x400 with 1 Axes>"
            ],
            "image/png": "[encoded data removed]"
          },
          "metadata": {}
        }
      ]
    },
    {
      "cell_type": "code",
      "source": [],
      "metadata": {
        "id": "19YO388nF6N1"
      },
      "execution_count": null,
      "outputs": []
    },
    {
      "cell_type": "code",
      "source": [],
      "metadata": {
        "id": "JWnzbqbjF6Kd"
      },
      "execution_count": null,
      "outputs": []
    },
    {
      "cell_type": "code",
      "source": [],
      "metadata": {
        "id": "_4yw48m5F6HY"
      },
      "execution_count": null,
      "outputs": []
    },
    {
      "cell_type": "code",
      "source": [
        "#let's find a good dimensionality reduction\n",
        "from sklearn.manifold import LocallyLinearEmbedding\n",
        "\n",
        "\n",
        "def opdims(data):\n",
        "  dimensions_range = [i for i in len(data.columns)]\n",
        "  reconstruction_errors = np.zeros((dimensions_range[1]))\n",
        "  for n_components in range(*dimensions_range):\n",
        "    lle = LocallyLinearEmbedding(\n",
        "        n_components=n_components, n_jobs=-1, #eigen_solver='auto', n_neighbors=2\n",
        "        ).fit(data)\n",
        "\n",
        "    reconstruction_errors[n_components] = lle.reconstruction_error_\n",
        "\n",
        "    n_components = np.argmin(reconstruction_errors[dimensions_range[0]:]) + dimensions_range[0]+1\n",
        "\n",
        "  st.write('chosen dimensions: {}'.format(n_components))\n",
        "\n",
        "  lle = LocallyLinearEmbedding(\n",
        "  n_components=n_components, eigen_solver='dense', n_neighbors=n_components).fit(data)\n",
        "  transactions_reduced = lle.transform(data)\n",
        "  return transactions_reduced"
      ],
      "metadata": {
        "id": "eMSOQOmKF6EH"
      },
      "execution_count": null,
      "outputs": []
    },
    {
      "cell_type": "code",
      "source": [],
      "metadata": {
        "id": "kJA326iHFKtP"
      },
      "execution_count": null,
      "outputs": []
    },
    {
      "cell_type": "code",
      "source": [
        "#let's find a good dimensionality reduction\n",
        "from sklearn.manifold import LocallyLinearEmbedding\n",
        "\n",
        "\n",
        "dimensions_range = [2, 5]\n",
        "reconstruction_errors = np.zeros((dimensions_range[1]))\n",
        "for n_components in range(*dimensions_range):\n",
        "  lle = LocallyLinearEmbedding(\n",
        "      n_components=n_components, n_jobs=-1, #eigen_solver='auto', n_neighbors=2\n",
        "  ).fit(data)\n",
        "  reconstruction_errors[n_components] = lle.reconstruction_error_\n",
        "\n",
        "  n_components = np.argmin(reconstruction_errors[dimensions_range[0]:]) + dimensions_range[0]+1\n",
        "print('chosen dimensions: {}'.format(n_components))\n",
        "lle = LocallyLinearEmbedding(\n",
        "    n_components=n_components, eigen_solver='dense', n_neighbors=2\n",
        ").fit(data)\n",
        "transactions_reduced = lle.transform(data)"
      ],
      "metadata": {
        "id": "jiJe6cJnzx-q"
      },
      "execution_count": null,
      "outputs": []
    },
    {
      "cell_type": "code",
      "source": [
        "n_components = np.argmin(reconstruction_errors[dimensions_range[0]:]) + dimensions_range[0]+1\n",
        "print('chosen dimensions: {}'.format(n_components))\n",
        "lle = LocallyLinearEmbedding(\n",
        "    n_components=n_components, eigen_solver='dense', n_neighbors=2\n",
        ").fit(data)\n",
        "transactions_reduced = lle.transform(data)"
      ],
      "metadata": {
        "colab": {
          "base_uri": "https://localhost:8080/"
        },
        "id": "XGnLDRa-6eru",
        "outputId": "6642506b-8f69-42c8-d027-256d6fa651bd"
      },
      "execution_count": null,
      "outputs": [
        {
          "output_type": "stream",
          "name": "stdout",
          "text": [
            "chosen dimensions: 3\n"
          ]
        }
      ]
    },
    {
      "cell_type": "code",
      "source": [
        "print(transactions_reduced.shape)"
      ],
      "metadata": {
        "colab": {
          "base_uri": "https://localhost:8080/"
        },
        "id": "gNFnQ70pAhn5",
        "outputId": "9d93ae57-5f4b-4610-b9b3-94e8dd307dce"
      },
      "execution_count": null,
      "outputs": [
        {
          "output_type": "stream",
          "name": "stdout",
          "text": [
            "(1800, 3)\n"
          ]
        }
      ]
    },
    {
      "cell_type": "code",
      "source": [
        "from sklearn.cluster import AffinityPropagation\n",
        "from sklearn.ensemble import RandomForestClassifier\n",
        "\n",
        "clustering = AffinityPropagation(damping=0.9).fit(transactions_reduced)"
      ],
      "metadata": {
        "id": "xT83vLAozx1u"
      },
      "execution_count": null,
      "outputs": []
    },
    {
      "cell_type": "code",
      "source": [],
      "metadata": {
        "id": "USRNSXrIB-W_"
      },
      "execution_count": null,
      "outputs": []
    },
    {
      "cell_type": "code",
      "source": [
        "y = clustering.predict(lle.transform(data))"
      ],
      "metadata": {
        "id": "GguuyhNg6pDH"
      },
      "execution_count": null,
      "outputs": []
    },
    {
      "cell_type": "code",
      "source": [
        "y"
      ],
      "metadata": {
        "colab": {
          "base_uri": "https://localhost:8080/"
        },
        "id": "QxVk47SnByZG",
        "outputId": "320cae69-e79a-4172-ec3a-e5eae741b1ad"
      },
      "execution_count": null,
      "outputs": [
        {
          "output_type": "execute_result",
          "data": {
            "text/plain": [
              "array([0, 0, 0, ..., 0, 0, 0])"
            ]
          },
          "metadata": {},
          "execution_count": 9
        }
      ]
    },
    {
      "cell_type": "code",
      "source": [
        "myeye = pd.concat([data, pd.DataFrame(data=y, columns=['y'], index=data.index)], axis=1)  #.groupby(by='y').mean()"
      ],
      "metadata": {
        "id": "mm7ijrkMA2UH"
      },
      "execution_count": null,
      "outputs": []
    },
    {
      "cell_type": "code",
      "source": [
        "myeye.groupby(by='y').mean()"
      ],
      "metadata": {
        "colab": {
          "base_uri": "https://localhost:8080/",
          "height": 1000
        },
        "id": "NzKT64IWCdQb",
        "outputId": "7e203951-6b37-4eaa-d18b-414ae69faaa1"
      },
      "execution_count": null,
      "outputs": [
        {
          "output_type": "execute_result",
          "data": {
            "text/plain": [
              "    payload.fCnt      BatV   Hum_SHT  TempC_DS  TempC_SHT  Final_Anomaly\n",
              "y                                                                       \n",
              "0       0.003961 -0.049980 -0.053923 -0.053311  -0.052508       0.146326\n",
              "1      -0.147202  0.014941  0.054687  0.046901   0.046196       0.173913\n",
              "2       0.266466 -0.354432 -0.392600 -0.393806  -0.394058       0.157895\n",
              "3      -0.138965 -0.770017 -0.763710 -0.765093  -0.764965       0.266667\n",
              "5      -0.725830 -0.184664 -0.147055 -0.153292  -0.153792       0.333333\n",
              "6       0.031301 -0.435205 -0.475367 -0.475780  -0.475949       0.153846\n",
              "7      -0.171312 -0.717566 -0.772471 -0.770282  -0.770148       0.000000\n",
              "8       1.111013 -1.345495 -1.218619 -1.224116  -1.223516       0.000000\n",
              "9       0.591151  0.477270  0.392097  0.388683   0.387627       0.000000\n",
              "10      0.325445 -0.925788 -0.939271 -0.938438  -0.938132       0.000000\n",
              "11     -0.517886 -1.191773 -1.119550 -1.122847  -1.122351       0.000000\n",
              "12     -0.050011 -0.620209 -0.603986 -0.607127  -0.607160       0.000000\n",
              "13     -0.708501 -0.547540 -0.174350 -0.289958  -0.181893       0.500000\n",
              "14     -0.275284 -0.662831 -0.520586 -0.530941  -0.531052       0.000000\n",
              "15     -0.194417 -0.092121  0.017386 -0.018892   0.124932       0.111111\n",
              "16     -0.448571  0.221766  0.230014  0.222715   0.221829       0.000000\n",
              "18     -0.818250  0.292804  0.268766  0.262722   0.261795       0.000000\n",
              "19      0.764439 -0.887125 -0.964881 -0.960630  -0.960300       0.500000\n",
              "20     -0.795145  0.771670  0.726371  0.797822   0.492226       0.333333\n",
              "21      1.422929  0.383174  0.008625  0.022990   0.022310       0.000000\n",
              "23     -0.101997 -1.052725 -0.989143 -0.992510  -0.992149       0.500000\n",
              "24     -0.431242 -0.147165 -0.126837 -0.132898  -0.133419       0.250000\n",
              "27      1.700189  0.661270  0.708174  0.695303   0.693932       0.000000\n",
              "30      0.045297 -0.008816  0.009131  0.002948   0.002287       0.125000\n",
              "31      1.561559 -1.106528 -0.955783 -0.964380  -0.964047       0.000000\n",
              "32      0.036633 -1.299578 -1.277252 -1.276760  -1.276106       0.714286\n",
              "33     -1.072404 -1.576077 -1.422823 -1.429467  -1.428656       0.000000\n",
              "34     -1.315006 -0.236603 -0.257244 -0.260187  -0.260577       0.500000\n",
              "35     -0.448571 -0.265251  0.046029  0.439318  -0.000640       0.500000\n",
              "37     -0.795145 -1.056219 -1.010372 -1.014077  -1.013693       0.000000\n",
              "39      0.105948  0.107873  0.265396  0.248970   0.248057       0.000000\n",
              "41      0.417864  0.017037 -0.073259 -0.073590  -0.074172       0.500000"
            ],
            "text/html": [
              "\n",
              "  <div id=\"df-e30e3e57-bf5c-4202-bc77-3235c8ea9649\" class=\"colab-df-container\">\n",
              "    <div>\n",
              "<style scoped>\n",
              "    .dataframe tbody tr th:only-of-type {\n",
              "        vertical-align: middle;\n",
              "    }\n",
              "\n",
              "    .dataframe tbody tr th {\n",
              "        vertical-align: top;\n",
              "    }\n",
              "\n",
              "    .dataframe thead th {\n",
              "        text-align: right;\n",
              "    }\n",
              "</style>\n",
              "<table border=\"1\" class=\"dataframe\">\n",
              "  <thead>\n",
              "    <tr style=\"text-align: right;\">\n",
              "      <th></th>\n",
              "      <th>payload.fCnt</th>\n",
              "      <th>BatV</th>\n",
              "      <th>Hum_SHT</th>\n",
              "      <th>TempC_DS</th>\n",
              "      <th>TempC_SHT</th>\n",
              "      <th>Final_Anomaly</th>\n",
              "    </tr>\n",
              "    <tr>\n",
              "      <th>y</th>\n",
              "      <th></th>\n",
              "      <th></th>\n",
              "      <th></th>\n",
              "      <th></th>\n",
              "      <th></th>\n",
              "      <th></th>\n",
              "    </tr>\n",
              "  </thead>\n",
              "  <tbody>\n",
              "    <tr>\n",
              "      <th>0</th>\n",
              "      <td>0.003961</td>\n",
              "      <td>-0.049980</td>\n",
              "      <td>-0.053923</td>\n",
              "      <td>-0.053311</td>\n",
              "      <td>-0.052508</td>\n",
              "      <td>0.146326</td>\n",
              "    </tr>\n",
              "    <tr>\n",
              "      <th>1</th>\n",
              "      <td>-0.147202</td>\n",
              "      <td>0.014941</td>\n",
              "      <td>0.054687</td>\n",
              "      <td>0.046901</td>\n",
              "      <td>0.046196</td>\n",
              "      <td>0.173913</td>\n",
              "    </tr>\n",
              "    <tr>\n",
              "      <th>2</th>\n",
              "      <td>0.266466</td>\n",
              "      <td>-0.354432</td>\n",
              "      <td>-0.392600</td>\n",
              "      <td>-0.393806</td>\n",
              "      <td>-0.394058</td>\n",
              "      <td>0.157895</td>\n",
              "    </tr>\n",
              "    <tr>\n",
              "      <th>3</th>\n",
              "      <td>-0.138965</td>\n",
              "      <td>-0.770017</td>\n",
              "      <td>-0.763710</td>\n",
              "      <td>-0.765093</td>\n",
              "      <td>-0.764965</td>\n",
              "      <td>0.266667</td>\n",
              "    </tr>\n",
              "    <tr>\n",
              "      <th>5</th>\n",
              "      <td>-0.725830</td>\n",
              "      <td>-0.184664</td>\n",
              "      <td>-0.147055</td>\n",
              "      <td>-0.153292</td>\n",
              "      <td>-0.153792</td>\n",
              "      <td>0.333333</td>\n",
              "    </tr>\n",
              "    <tr>\n",
              "      <th>6</th>\n",
              "      <td>0.031301</td>\n",
              "      <td>-0.435205</td>\n",
              "      <td>-0.475367</td>\n",
              "      <td>-0.475780</td>\n",
              "      <td>-0.475949</td>\n",
              "      <td>0.153846</td>\n",
              "    </tr>\n",
              "    <tr>\n",
              "      <th>7</th>\n",
              "      <td>-0.171312</td>\n",
              "      <td>-0.717566</td>\n",
              "      <td>-0.772471</td>\n",
              "      <td>-0.770282</td>\n",
              "      <td>-0.770148</td>\n",
              "      <td>0.000000</td>\n",
              "    </tr>\n",
              "    <tr>\n",
              "      <th>8</th>\n",
              "      <td>1.111013</td>\n",
              "      <td>-1.345495</td>\n",
              "      <td>-1.218619</td>\n",
              "      <td>-1.224116</td>\n",
              "      <td>-1.223516</td>\n",
              "      <td>0.000000</td>\n",
              "    </tr>\n",
              "    <tr>\n",
              "      <th>9</th>\n",
              "      <td>0.591151</td>\n",
              "      <td>0.477270</td>\n",
              "      <td>0.392097</td>\n",
              "      <td>0.388683</td>\n",
              "      <td>0.387627</td>\n",
              "      <td>0.000000</td>\n",
              "    </tr>\n",
              "    <tr>\n",
              "      <th>10</th>\n",
              "      <td>0.325445</td>\n",
              "      <td>-0.925788</td>\n",
              "      <td>-0.939271</td>\n",
              "      <td>-0.938438</td>\n",
              "      <td>-0.938132</td>\n",
              "      <td>0.000000</td>\n",
              "    </tr>\n",
              "    <tr>\n",
              "      <th>11</th>\n",
              "      <td>-0.517886</td>\n",
              "      <td>-1.191773</td>\n",
              "      <td>-1.119550</td>\n",
              "      <td>-1.122847</td>\n",
              "      <td>-1.122351</td>\n",
              "      <td>0.000000</td>\n",
              "    </tr>\n",
              "    <tr>\n",
              "      <th>12</th>\n",
              "      <td>-0.050011</td>\n",
              "      <td>-0.620209</td>\n",
              "      <td>-0.603986</td>\n",
              "      <td>-0.607127</td>\n",
              "      <td>-0.607160</td>\n",
              "      <td>0.000000</td>\n",
              "    </tr>\n",
              "    <tr>\n",
              "      <th>13</th>\n",
              "      <td>-0.708501</td>\n",
              "      <td>-0.547540</td>\n",
              "      <td>-0.174350</td>\n",
              "      <td>-0.289958</td>\n",
              "      <td>-0.181893</td>\n",
              "      <td>0.500000</td>\n",
              "    </tr>\n",
              "    <tr>\n",
              "      <th>14</th>\n",
              "      <td>-0.275284</td>\n",
              "      <td>-0.662831</td>\n",
              "      <td>-0.520586</td>\n",
              "      <td>-0.530941</td>\n",
              "      <td>-0.531052</td>\n",
              "      <td>0.000000</td>\n",
              "    </tr>\n",
              "    <tr>\n",
              "      <th>15</th>\n",
              "      <td>-0.194417</td>\n",
              "      <td>-0.092121</td>\n",
              "      <td>0.017386</td>\n",
              "      <td>-0.018892</td>\n",
              "      <td>0.124932</td>\n",
              "      <td>0.111111</td>\n",
              "    </tr>\n",
              "    <tr>\n",
              "      <th>16</th>\n",
              "      <td>-0.448571</td>\n",
              "      <td>0.221766</td>\n",
              "      <td>0.230014</td>\n",
              "      <td>0.222715</td>\n",
              "      <td>0.221829</td>\n",
              "      <td>0.000000</td>\n",
              "    </tr>\n",
              "    <tr>\n",
              "      <th>18</th>\n",
              "      <td>-0.818250</td>\n",
              "      <td>0.292804</td>\n",
              "      <td>0.268766</td>\n",
              "      <td>0.262722</td>\n",
              "      <td>0.261795</td>\n",
              "      <td>0.000000</td>\n",
              "    </tr>\n",
              "    <tr>\n",
              "      <th>19</th>\n",
              "      <td>0.764439</td>\n",
              "      <td>-0.887125</td>\n",
              "      <td>-0.964881</td>\n",
              "      <td>-0.960630</td>\n",
              "      <td>-0.960300</td>\n",
              "      <td>0.500000</td>\n",
              "    </tr>\n",
              "    <tr>\n",
              "      <th>20</th>\n",
              "      <td>-0.795145</td>\n",
              "      <td>0.771670</td>\n",
              "      <td>0.726371</td>\n",
              "      <td>0.797822</td>\n",
              "      <td>0.492226</td>\n",
              "      <td>0.333333</td>\n",
              "    </tr>\n",
              "    <tr>\n",
              "      <th>21</th>\n",
              "      <td>1.422929</td>\n",
              "      <td>0.383174</td>\n",
              "      <td>0.008625</td>\n",
              "      <td>0.022990</td>\n",
              "      <td>0.022310</td>\n",
              "      <td>0.000000</td>\n",
              "    </tr>\n",
              "    <tr>\n",
              "      <th>23</th>\n",
              "      <td>-0.101997</td>\n",
              "      <td>-1.052725</td>\n",
              "      <td>-0.989143</td>\n",
              "      <td>-0.992510</td>\n",
              "      <td>-0.992149</td>\n",
              "      <td>0.500000</td>\n",
              "    </tr>\n",
              "    <tr>\n",
              "      <th>24</th>\n",
              "      <td>-0.431242</td>\n",
              "      <td>-0.147165</td>\n",
              "      <td>-0.126837</td>\n",
              "      <td>-0.132898</td>\n",
              "      <td>-0.133419</td>\n",
              "      <td>0.250000</td>\n",
              "    </tr>\n",
              "    <tr>\n",
              "      <th>27</th>\n",
              "      <td>1.700189</td>\n",
              "      <td>0.661270</td>\n",
              "      <td>0.708174</td>\n",
              "      <td>0.695303</td>\n",
              "      <td>0.693932</td>\n",
              "      <td>0.000000</td>\n",
              "    </tr>\n",
              "    <tr>\n",
              "      <th>30</th>\n",
              "      <td>0.045297</td>\n",
              "      <td>-0.008816</td>\n",
              "      <td>0.009131</td>\n",
              "      <td>0.002948</td>\n",
              "      <td>0.002287</td>\n",
              "      <td>0.125000</td>\n",
              "    </tr>\n",
              "    <tr>\n",
              "      <th>31</th>\n",
              "      <td>1.561559</td>\n",
              "      <td>-1.106528</td>\n",
              "      <td>-0.955783</td>\n",
              "      <td>-0.964380</td>\n",
              "      <td>-0.964047</td>\n",
              "      <td>0.000000</td>\n",
              "    </tr>\n",
              "    <tr>\n",
              "      <th>32</th>\n",
              "      <td>0.036633</td>\n",
              "      <td>-1.299578</td>\n",
              "      <td>-1.277252</td>\n",
              "      <td>-1.276760</td>\n",
              "      <td>-1.276106</td>\n",
              "      <td>0.714286</td>\n",
              "    </tr>\n",
              "    <tr>\n",
              "      <th>33</th>\n",
              "      <td>-1.072404</td>\n",
              "      <td>-1.576077</td>\n",
              "      <td>-1.422823</td>\n",
              "      <td>-1.429467</td>\n",
              "      <td>-1.428656</td>\n",
              "      <td>0.000000</td>\n",
              "    </tr>\n",
              "    <tr>\n",
              "      <th>34</th>\n",
              "      <td>-1.315006</td>\n",
              "      <td>-0.236603</td>\n",
              "      <td>-0.257244</td>\n",
              "      <td>-0.260187</td>\n",
              "      <td>-0.260577</td>\n",
              "      <td>0.500000</td>\n",
              "    </tr>\n",
              "    <tr>\n",
              "      <th>35</th>\n",
              "      <td>-0.448571</td>\n",
              "      <td>-0.265251</td>\n",
              "      <td>0.046029</td>\n",
              "      <td>0.439318</td>\n",
              "      <td>-0.000640</td>\n",
              "      <td>0.500000</td>\n",
              "    </tr>\n",
              "    <tr>\n",
              "      <th>37</th>\n",
              "      <td>-0.795145</td>\n",
              "      <td>-1.056219</td>\n",
              "      <td>-1.010372</td>\n",
              "      <td>-1.014077</td>\n",
              "      <td>-1.013693</td>\n",
              "      <td>0.000000</td>\n",
              "    </tr>\n",
              "    <tr>\n",
              "      <th>39</th>\n",
              "      <td>0.105948</td>\n",
              "      <td>0.107873</td>\n",
              "      <td>0.265396</td>\n",
              "      <td>0.248970</td>\n",
              "      <td>0.248057</td>\n",
              "      <td>0.000000</td>\n",
              "    </tr>\n",
              "    <tr>\n",
              "      <th>41</th>\n",
              "      <td>0.417864</td>\n",
              "      <td>0.017037</td>\n",
              "      <td>-0.073259</td>\n",
              "      <td>-0.073590</td>\n",
              "      <td>-0.074172</td>\n",
              "      <td>0.500000</td>\n",
              "    </tr>\n",
              "  </tbody>\n",
              "</table>\n",
              "</div>\n",
              "    <div class=\"colab-df-buttons\">\n",
              "\n",
              "  <div class=\"colab-df-container\">\n",
              "    <button class=\"colab-df-convert\" onclick=\"convertToInteractive('df-e30e3e57-bf5c-4202-bc77-3235c8ea9649')\"\n",
              "            title=\"Convert this dataframe to an interactive table.\"\n",
              "            style=\"display:none;\">\n",
              "\n",
              "  <svg xmlns=\"http://www.w3.org/2000/svg\" height=\"24px\" viewBox=\"0 -960 960 960\">\n",
              "    <path d=\"M120-120v-720h720v720H120Zm60-500h600v-160H180v160Zm220 220h160v-160H400v160Zm0 220h160v-160H400v160ZM180-400h160v-160H180v160Zm440 0h160v-160H620v160ZM180-180h160v-160H180v160Zm440 0h160v-160H620v160Z\"/>\n",
              "  </svg>\n",
              "    </button>\n",
              "\n",
              "  <style>\n",
              "    .colab-df-container {\n",
              "      display:flex;\n",
              "      gap: 12px;\n",
              "    }\n",
              "\n",
              "    .colab-df-convert {\n",
              "      background-color: #E8F0FE;\n",
              "      border: none;\n",
              "      border-radius: 50%;\n",
              "      cursor: pointer;\n",
              "      display: none;\n",
              "      fill: #1967D2;\n",
              "      height: 32px;\n",
              "      padding: 0 0 0 0;\n",
              "      width: 32px;\n",
              "    }\n",
              "\n",
              "    .colab-df-convert:hover {\n",
              "      background-color: #E2EBFA;\n",
              "      box-shadow: 0px 1px 2px rgba(60, 64, 67, 0.3), 0px 1px 3px 1px rgba(60, 64, 67, 0.15);\n",
              "      fill: #174EA6;\n",
              "    }\n",
              "\n",
              "    .colab-df-buttons div {\n",
              "      margin-bottom: 4px;\n",
              "    }\n",
              "\n",
              "    [theme=dark] .colab-df-convert {\n",
              "      background-color: #3B4455;\n",
              "      fill: #D2E3FC;\n",
              "    }\n",
              "\n",
              "    [theme=dark] .colab-df-convert:hover {\n",
              "      background-color: #434B5C;\n",
              "      box-shadow: 0px 1px 3px 1px rgba(0, 0, 0, 0.15);\n",
              "      filter: drop-shadow(0px 1px 2px rgba(0, 0, 0, 0.3));\n",
              "      fill: #FFFFFF;\n",
              "    }\n",
              "  </style>\n",
              "\n",
              "    <script>\n",
              "      const buttonEl =\n",
              "        document.querySelector('#df-e30e3e57-bf5c-4202-bc77-3235c8ea9649 button.colab-df-convert');\n",
              "      buttonEl.style.display =\n",
              "        google.colab.kernel.accessAllowed ? 'block' : 'none';\n",
              "\n",
              "      async function convertToInteractive(key) {\n",
              "        const element = document.querySelector('#df-e30e3e57-bf5c-4202-bc77-3235c8ea9649');\n",
              "        const dataTable =\n",
              "          await google.colab.kernel.invokeFunction('convertToInteractive',\n",
              "                                                    [key], {});\n",
              "        if (!dataTable) return;\n",
              "\n",
              "        const docLinkHtml = 'Like what you see? Visit the ' +\n",
              "          '<a target=\"_blank\" href=https://colab.research.google.com/notebooks/data_table.ipynb>data table notebook</a>'\n",
              "          + ' to learn more about interactive tables.';\n",
              "        element.innerHTML = '';\n",
              "        dataTable['output_type'] = 'display_data';\n",
              "        await google.colab.output.renderOutput(dataTable, element);\n",
              "        const docLink = document.createElement('div');\n",
              "        docLink.innerHTML = docLinkHtml;\n",
              "        element.appendChild(docLink);\n",
              "      }\n",
              "    </script>\n",
              "  </div>\n",
              "\n",
              "\n",
              "<div id=\"df-c323589c-3f90-40a8-ae8c-57a776eed4c1\">\n",
              "  <button class=\"colab-df-quickchart\" onclick=\"quickchart('df-c323589c-3f90-40a8-ae8c-57a776eed4c1')\"\n",
              "            title=\"Suggest charts.\"\n",
              "            style=\"display:none;\">\n",
              "\n",
              "<svg xmlns=\"http://www.w3.org/2000/svg\" height=\"24px\"viewBox=\"0 0 24 24\"\n",
              "     width=\"24px\">\n",
              "    <g>\n",
              "        <path d=\"M19 3H5c-1.1 0-2 .9-2 2v14c0 1.1.9 2 2 2h14c1.1 0 2-.9 2-2V5c0-1.1-.9-2-2-2zM9 17H7v-7h2v7zm4 0h-2V7h2v10zm4 0h-2v-4h2v4z\"/>\n",
              "    </g>\n",
              "</svg>\n",
              "  </button>\n",
              "\n",
              "<style>\n",
              "  .colab-df-quickchart {\n",
              "      --bg-color: #E8F0FE;\n",
              "      --fill-color: #1967D2;\n",
              "      --hover-bg-color: #E2EBFA;\n",
              "      --hover-fill-color: #174EA6;\n",
              "      --disabled-fill-color: #AAA;\n",
              "      --disabled-bg-color: #DDD;\n",
              "  }\n",
              "\n",
              "  [theme=dark] .colab-df-quickchart {\n",
              "      --bg-color: #3B4455;\n",
              "      --fill-color: #D2E3FC;\n",
              "      --hover-bg-color: #434B5C;\n",
              "      --hover-fill-color: #FFFFFF;\n",
              "      --disabled-bg-color: #3B4455;\n",
              "      --disabled-fill-color: #666;\n",
              "  }\n",
              "\n",
              "  .colab-df-quickchart {\n",
              "    background-color: var(--bg-color);\n",
              "    border: none;\n",
              "    border-radius: 50%;\n",
              "    cursor: pointer;\n",
              "    display: none;\n",
              "    fill: var(--fill-color);\n",
              "    height: 32px;\n",
              "    padding: 0;\n",
              "    width: 32px;\n",
              "  }\n",
              "\n",
              "  .colab-df-quickchart:hover {\n",
              "    background-color: var(--hover-bg-color);\n",
              "    box-shadow: 0 1px 2px rgba(60, 64, 67, 0.3), 0 1px 3px 1px rgba(60, 64, 67, 0.15);\n",
              "    fill: var(--button-hover-fill-color);\n",
              "  }\n",
              "\n",
              "  .colab-df-quickchart-complete:disabled,\n",
              "  .colab-df-quickchart-complete:disabled:hover {\n",
              "    background-color: var(--disabled-bg-color);\n",
              "    fill: var(--disabled-fill-color);\n",
              "    box-shadow: none;\n",
              "  }\n",
              "\n",
              "  .colab-df-spinner {\n",
              "    border: 2px solid var(--fill-color);\n",
              "    border-color: transparent;\n",
              "    border-bottom-color: var(--fill-color);\n",
              "    animation:\n",
              "      spin 1s steps(1) infinite;\n",
              "  }\n",
              "\n",
              "  @keyframes spin {\n",
              "    0% {\n",
              "      border-color: transparent;\n",
              "      border-bottom-color: var(--fill-color);\n",
              "      border-left-color: var(--fill-color);\n",
              "    }\n",
              "    20% {\n",
              "      border-color: transparent;\n",
              "      border-left-color: var(--fill-color);\n",
              "      border-top-color: var(--fill-color);\n",
              "    }\n",
              "    30% {\n",
              "      border-color: transparent;\n",
              "      border-left-color: var(--fill-color);\n",
              "      border-top-color: var(--fill-color);\n",
              "      border-right-color: var(--fill-color);\n",
              "    }\n",
              "    40% {\n",
              "      border-color: transparent;\n",
              "      border-right-color: var(--fill-color);\n",
              "      border-top-color: var(--fill-color);\n",
              "    }\n",
              "    60% {\n",
              "      border-color: transparent;\n",
              "      border-right-color: var(--fill-color);\n",
              "    }\n",
              "    80% {\n",
              "      border-color: transparent;\n",
              "      border-right-color: var(--fill-color);\n",
              "      border-bottom-color: var(--fill-color);\n",
              "    }\n",
              "    90% {\n",
              "      border-color: transparent;\n",
              "      border-bottom-color: var(--fill-color);\n",
              "    }\n",
              "  }\n",
              "</style>\n",
              "\n",
              "  <script>\n",
              "    async function quickchart(key) {\n",
              "      const quickchartButtonEl =\n",
              "        document.querySelector('#' + key + ' button');\n",
              "      quickchartButtonEl.disabled = true;  // To prevent multiple clicks.\n",
              "      quickchartButtonEl.classList.add('colab-df-spinner');\n",
              "      try {\n",
              "        const charts = await google.colab.kernel.invokeFunction(\n",
              "            'suggestCharts', [key], {});\n",
              "      } catch (error) {\n",
              "        console.error('Error during call to suggestCharts:', error);\n",
              "      }\n",
              "      quickchartButtonEl.classList.remove('colab-df-spinner');\n",
              "      quickchartButtonEl.classList.add('colab-df-quickchart-complete');\n",
              "    }\n",
              "    (() => {\n",
              "      let quickchartButtonEl =\n",
              "        document.querySelector('#df-c323589c-3f90-40a8-ae8c-57a776eed4c1 button');\n",
              "      quickchartButtonEl.style.display =\n",
              "        google.colab.kernel.accessAllowed ? 'block' : 'none';\n",
              "    })();\n",
              "  </script>\n",
              "</div>\n",
              "\n",
              "    </div>\n",
              "  </div>\n"
            ]
          },
          "metadata": {},
          "execution_count": 14
        }
      ]
    },
    {
      "cell_type": "code",
      "source": [],
      "metadata": {
        "id": "tNml2v71BPRI"
      },
      "execution_count": null,
      "outputs": []
    },
    {
      "cell_type": "code",
      "source": [
        "sdfaasdf"
      ],
      "metadata": {
        "colab": {
          "base_uri": "https://localhost:8080/",
          "height": 176
        },
        "id": "sktqanLrA7wN",
        "outputId": "2a77adb1-d1f6-4edd-bf57-432e41ec180e"
      },
      "execution_count": null,
      "outputs": [
        {
          "output_type": "error",
          "ename": "NameError",
          "evalue": "ignored",
          "traceback": [
            "\u001b[0;31m---------------------------------------------------------------------------\u001b[0m",
            "\u001b[0;31mNameError\u001b[0m                                 Traceback (most recent call last)",
            "\u001b[0;32m<ipython-input-12-d2f5ca3f5bd3>\u001b[0m in \u001b[0;36m<cell line: 1>\u001b[0;34m()\u001b[0m\n\u001b[0;32m----> 1\u001b[0;31m \u001b[0msdfaasdf\u001b[0m\u001b[0;34m\u001b[0m\u001b[0;34m\u001b[0m\u001b[0m\n\u001b[0m",
            "\u001b[0;31mNameError\u001b[0m: name 'sdfaasdf' is not defined"
          ]
        }
      ]
    },
    {
      "cell_type": "code",
      "source": [
        "data[\"y\"] = y"
      ],
      "metadata": {
        "id": "iIGYTr_a7Onu"
      },
      "execution_count": null,
      "outputs": []
    },
    {
      "cell_type": "code",
      "source": [
        "X = data.drop(columns=['Final_Anomaly'])[['BatV']]\n",
        "y = data['Final_Anomaly']\n",
        "\n",
        "\n"
      ],
      "metadata": {
        "id": "7Iy_nP4Z7A1c"
      },
      "execution_count": null,
      "outputs": []
    },
    {
      "cell_type": "code",
      "source": [],
      "metadata": {
        "id": "NKmRqfsR9qO4"
      },
      "execution_count": null,
      "outputs": []
    },
    {
      "cell_type": "code",
      "source": [],
      "metadata": {
        "id": "EuR07rYW9qL6"
      },
      "execution_count": null,
      "outputs": []
    },
    {
      "cell_type": "code",
      "source": [],
      "metadata": {
        "id": "Ec1QUhNH9qIH"
      },
      "execution_count": null,
      "outputs": []
    },
    {
      "cell_type": "code",
      "source": [],
      "metadata": {
        "id": "Dw_DIHCy9qEu"
      },
      "execution_count": null,
      "outputs": []
    },
    {
      "cell_type": "code",
      "source": [],
      "metadata": {
        "id": "jD7NhhA_9qBq"
      },
      "execution_count": null,
      "outputs": []
    },
    {
      "cell_type": "code",
      "source": [
        "import matplotlib.pyplot as plt\n",
        "from sklearn.pipeline import make_pipeline\n",
        "from sklearn.preprocessing import StandardScaler\n",
        "from sklearn.decomposition import FastICA\n",
        "from sklearn.pipeline import make_pipeline\n",
        "from sklearn.svm import SVC\n",
        "from sklearn.base import TransformerMixin\n",
        "\n",
        "class Reduce(TransformerMixin):\n",
        "  def fit(self, X, y=None):\n",
        "    return self\n",
        "  def transform(self, X):\n",
        "    return X[:, :2]\n",
        "\n",
        "\n",
        "def plot_decision_boundary(data, kmeans, title='No title', h=.001, model=None, highlight_centroids=False, ica=Reduce()):\n",
        "    '''Based on https://scikit-learn.org/stable/auto_examples/cluster/plot_kmeans_digits.html\n",
        "\n",
        "    Parameters\n",
        "    ----------\n",
        "    data - the dataset to be visualized with clusters\n",
        "    kmeans - the clustering algorithm\n",
        "    title - the title to displayed with the plot\n",
        "    h - Step size of the mesh. Decrease to increase the quality of the VQ.\n",
        "    model - model to re-learn projections in lower-dimensional space. Don't if None.\n",
        "    highlight_centroids - whether to show the centroids (False)\n",
        "      centroids might have little bearing in a different space.\n",
        "    ica - a dimensionality reduction method with fit and transform. This has to result in\n",
        "      two dimensions, e.g. FastICA(n_components=2)\n",
        "    '''\n",
        "    #ica = ica.fit(data)\n",
        "    reduced_data = ica.fit_transform(data)\n",
        "    if model is not None:\n",
        "      svc = model.fit(reduced_data, kmeans.predict(data))\n",
        "    # Plot the decision boundary. For that, we will assign a color to each\n",
        "    x_min, x_max = reduced_data[:, 0].min() - 1e-15, reduced_data[:, 0].max() + 1e-15\n",
        "    y_min, y_max = reduced_data[:, 1].min() - 1e-15, reduced_data[:, 1].max() + 1e-15\n",
        "    xx, yy = np.meshgrid(np.arange(x_min, x_max, h), np.arange(y_min, y_max, h))\n",
        "\n",
        "    # Obtain labels for each point in mesh. Use last trained model.\n",
        "    if model:\n",
        "      preds = svc.predict(\n",
        "              np.c_[xx.ravel(), yy.ravel()]\n",
        "      )\n",
        "    elif data.shape[1] == 2:\n",
        "      preds = kmeans.predict(\n",
        "              np.c_[xx.ravel(), yy.ravel()]\n",
        "      )\n",
        "    else:\n",
        "      preds = kmeans.predict(\n",
        "          ica.inverse_transform(\n",
        "              np.c_[xx.ravel(), yy.ravel()]\n",
        "          )\n",
        "      )\n",
        "    pred_dict = {predval: i for i, predval in enumerate(np.unique(preds))}\n",
        "    Z = preds.reshape(xx.shape)\n",
        "    plt.figure(1)\n",
        "    plt.clf()\n",
        "    plt.imshow(\n",
        "        Z, interpolation=None,\n",
        "        extent=(xx.min(), xx.max(), yy.min(), yy.max()),\n",
        "        cmap=plt.cm.Paired,\n",
        "        aspect='auto', origin='lower',\n",
        "    )\n",
        "\n",
        "    plt.plot(reduced_data[:, 0], reduced_data[:, 1], 'k.', markersize=2)\n",
        "    plt.colorbar()\n",
        "    if highlight_centroids:\n",
        "    # Plot the centroids as a white X\n",
        "      centroids = ica.transform(kmeans.cluster_centers_)\n",
        "      centroids = np.array(\n",
        "          [centroid for i, centroid in enumerate(centroids) if i in pred_dict]\n",
        "      )\n",
        "      plt.scatter(\n",
        "          centroids[:, 0], centroids[:, 1],\n",
        "          marker='x', s=169, linewidths=3,\n",
        "          color='w', zorder=10\n",
        "      )\n",
        "    plt.title(title)\n",
        "    plt.xlim(x_min, x_max)\n",
        "    plt.ylim(y_min, y_max)\n",
        "    plt.xticks(())\n",
        "    plt.yticks(())\n",
        "    plt.show()\n"
      ],
      "metadata": {
        "id": "YvgRnB7tzxx0"
      },
      "execution_count": null,
      "outputs": []
    },
    {
      "cell_type": "code",
      "source": [
        "y = clustering.predict(lle.transform(data))"
      ],
      "metadata": {
        "id": "jV7UvW_fzxws"
      },
      "execution_count": null,
      "outputs": []
    },
    {
      "cell_type": "code",
      "source": [],
      "metadata": {
        "id": "8E6PDZSGzxvj"
      },
      "execution_count": null,
      "outputs": []
    },
    {
      "cell_type": "code",
      "source": [],
      "metadata": {
        "id": "HCtFbbf6zxnd"
      },
      "execution_count": null,
      "outputs": []
    },
    {
      "cell_type": "code",
      "source": [],
      "metadata": {
        "id": "s53HDFkpzxj2"
      },
      "execution_count": null,
      "outputs": []
    },
    {
      "cell_type": "code",
      "source": [],
      "metadata": {
        "id": "cB2oqIfCzxht"
      },
      "execution_count": null,
      "outputs": []
    },
    {
      "cell_type": "code",
      "source": [],
      "metadata": {
        "id": "fuJQFuOGzxdw"
      },
      "execution_count": null,
      "outputs": []
    },
    {
      "cell_type": "code",
      "source": [],
      "metadata": {
        "id": "d2EVuka_zxad"
      },
      "execution_count": null,
      "outputs": []
    },
    {
      "cell_type": "code",
      "source": [],
      "metadata": {
        "id": "vREfs-2JzxXH"
      },
      "execution_count": null,
      "outputs": []
    },
    {
      "cell_type": "code",
      "source": [
        "# 'payload.fCnt', 'BatV', 'Hum_SHT', 'TempC_DS', 'TempC_SHT'\n",
        "X = df[['payload.publishedAt','TempC_SHT']]\n",
        "y = df[['payload.publishedAt','TempC_SHT']]\n",
        "\n",
        "y.columns = ['ds', 'y']\n"
      ],
      "metadata": {
        "id": "mSSI-nkzsdN5"
      },
      "execution_count": null,
      "outputs": []
    },
    {
      "cell_type": "code",
      "source": [
        "from prophet.plot import plot_plotly, plot_components_plotly\n",
        "\n",
        "Prophet_mod = Prophet()\n",
        "Prophet_mod.fit(y)\n",
        "future = Prophet_mod.make_future_dataframe(periods=25)\n",
        "\n",
        "forecast = Prophet_mod.predict(future)\n",
        "plot_plotly(Prophet_mod, forecast)"
      ],
      "metadata": {
        "id": "1A3XSAeBfgLa"
      },
      "execution_count": null,
      "outputs": []
    },
    {
      "cell_type": "code",
      "source": [],
      "metadata": {
        "id": "jH5GotrOfgEt"
      },
      "execution_count": null,
      "outputs": []
    },
    {
      "cell_type": "code",
      "source": [],
      "metadata": {
        "id": "MbSJ4rnjkAE7"
      },
      "execution_count": null,
      "outputs": []
    },
    {
      "cell_type": "code",
      "source": [],
      "metadata": {
        "id": "b1AdCxVKiglC"
      },
      "execution_count": null,
      "outputs": []
    },
    {
      "cell_type": "code",
      "source": [
        "y['cap'] = 3\n",
        "m = Prophet(growth='logistic')\n",
        "m.fit(y)\n",
        "future = m.make_future_dataframe(periods=365)\n",
        "future['cap'] = 3\n",
        "fcst = m.predict(future)\n",
        "ysktime = y.set_index('ds')\n",
        "datasereis = ysktime.y.resample('W').mean()\n"
      ],
      "metadata": {
        "id": "ZYyrv_fUigiF"
      },
      "execution_count": null,
      "outputs": []
    },
    {
      "cell_type": "code",
      "source": [
        "# y['cap'] = 5\n",
        "# y['floor'] = 1.5\n",
        "# future['cap'] = 5\n",
        "# future['floor'] = 1.5\n",
        "# m = Prophet(growth='logistic')\n",
        "# m.fit(y)\n",
        "# fcst = m.predict(future)\n",
        "# fig = m.plot(fcst)"
      ],
      "metadata": {
        "id": "b0J3xHaRiget"
      },
      "execution_count": null,
      "outputs": []
    },
    {
      "cell_type": "code",
      "source": [
        "from sktime.datasets import load_airline\n",
        "from sktime.utils.plotting import plot_series"
      ],
      "metadata": {
        "id": "MjIBrOmOlMav"
      },
      "execution_count": null,
      "outputs": []
    },
    {
      "cell_type": "code",
      "source": [],
      "metadata": {
        "id": "_aPlSmKelT7o"
      },
      "execution_count": null,
      "outputs": []
    },
    {
      "cell_type": "code",
      "source": [
        "fh = np.arange(1, 37)\n",
        "fh"
      ],
      "metadata": {
        "id": "H2JOKv_jlptx"
      },
      "execution_count": null,
      "outputs": []
    },
    {
      "cell_type": "code",
      "source": [
        "from sktime.forecasting.naive import NaiveForecaster\n",
        "forecaster = NaiveForecaster(strategy=\"last\")\n"
      ],
      "metadata": {
        "id": "BlgErxsqlMUD"
      },
      "execution_count": null,
      "outputs": []
    },
    {
      "cell_type": "code",
      "source": [
        "datasereis"
      ],
      "metadata": {
        "id": "RMkc3IGfprUT"
      },
      "execution_count": null,
      "outputs": []
    },
    {
      "cell_type": "code",
      "source": [
        "forecaster.fit(datasereis)"
      ],
      "metadata": {
        "id": "aNmA31ZDlMRK"
      },
      "execution_count": null,
      "outputs": []
    },
    {
      "cell_type": "code",
      "source": [
        "y_pred = forecaster.predict(fh)"
      ],
      "metadata": {
        "id": "J48T2iDUlMOT"
      },
      "execution_count": null,
      "outputs": []
    },
    {
      "cell_type": "code",
      "source": [
        "y_pred"
      ],
      "metadata": {
        "id": "cic6XmxFo6CZ"
      },
      "execution_count": null,
      "outputs": []
    },
    {
      "cell_type": "code",
      "source": [
        "datasereis"
      ],
      "metadata": {
        "id": "ArEOWfAuo2TI"
      },
      "execution_count": null,
      "outputs": []
    },
    {
      "cell_type": "code",
      "source": [
        "# plotting predictions and past data\n",
        "plot_series(datasereis, y_pred, labels=[\"y\", \"y_pred\"])"
      ],
      "metadata": {
        "id": "TlNTkciBlMK6"
      },
      "execution_count": null,
      "outputs": []
    },
    {
      "cell_type": "code",
      "source": [
        "from sktime.datasets import load_airline\n",
        "from sktime.forecasting.base import ForecastingHorizon\n",
        "from sktime.forecasting.naive import NaiveForecaster"
      ],
      "metadata": {
        "id": "XAKxlTyClMIE"
      },
      "execution_count": null,
      "outputs": []
    },
    {
      "cell_type": "code",
      "source": [
        "datasereis"
      ],
      "metadata": {
        "id": "QTtaVTdDrIt5"
      },
      "execution_count": null,
      "outputs": []
    },
    {
      "cell_type": "code",
      "source": [
        "# step 2: specifying forecasting horizon\n",
        "fh = np.arange(1, 4)\n",
        "X = pd.DataFrame(index=datasereis.index)\n",
        "# step 3: specifying the forecasting algorithm\n",
        "forecaster = NaiveForecaster(strategy=\"last\", sp=3)\n",
        "forecaster.fit(datasereis, X=X, fh=fh)\n",
        "\n",
        "# step 5: querying predictions\n",
        "y_pred = forecaster.predict(X=X)"
      ],
      "metadata": {
        "id": "lXDVROuaqOhH"
      },
      "execution_count": null,
      "outputs": []
    },
    {
      "cell_type": "code",
      "source": [
        "plot_series(datasereis, y_pred, labels=[\"y\", \"y_pred\"])"
      ],
      "metadata": {
        "id": "ES-y1IOHqOeO"
      },
      "execution_count": null,
      "outputs": []
    },
    {
      "cell_type": "code",
      "source": [],
      "metadata": {
        "id": "UjRAmQq-qOae"
      },
      "execution_count": null,
      "outputs": []
    },
    {
      "cell_type": "code",
      "source": [],
      "metadata": {
        "id": "uixqWgkxqOXI"
      },
      "execution_count": null,
      "outputs": []
    },
    {
      "cell_type": "code",
      "source": [
        "# step 2: specifying forecasting horizon\n",
        "forecastinghorizon = [1, 2, 3]\n",
        "forecaster = ARIMA()\n",
        "# step 4: fitting the forecaster\n",
        "forecaster.fit(y)\n",
        "# step 5: querying predictions\n",
        "y_pred = forecaster.predict(fh=forecastinghorizon)\n",
        "\n",
        "# for probabilistic forecasting:\n",
        "#   call a probabilistic forecasting method after or instead of step 5\n",
        "y_pred_int = forecaster.predict_interval(coverage=0.8, X=X)\n",
        "y_pred_int"
      ],
      "metadata": {
        "id": "gXtGhItXVuLC"
      },
      "execution_count": null,
      "outputs": []
    },
    {
      "cell_type": "code",
      "source": [
        "\n",
        "\n",
        "\n"
      ],
      "metadata": {
        "id": "JSVdGF1vVw4j"
      },
      "execution_count": null,
      "outputs": []
    },
    {
      "cell_type": "code",
      "source": [
        "y"
      ],
      "metadata": {
        "id": "dBCaQD86WhCy"
      },
      "execution_count": null,
      "outputs": []
    },
    {
      "cell_type": "code",
      "source": [],
      "metadata": {
        "id": "okF4QjgSSn81"
      },
      "execution_count": null,
      "outputs": []
    },
    {
      "cell_type": "code",
      "source": [
        "# X['week'] = X['payload.publishedAt'].dt.week\n",
        "# X['month'] = X['payload.publishedAt'].dt.month\n",
        "# # X['year'] = X['payload.publishedAt'].dt.year\n",
        "# # X['dayofweek'] = X['payload.publishedAt'].dt.dayofweek\n",
        "\n",
        "\n",
        "# # X['payload.publishedAt'] = X['payload.publishedAt'].astype(int)\n",
        "# lm = sns.lmplot(x='month', y='TempC_DS', data=X, height=4, aspect=4)\n",
        "# fig = lm.fig\n",
        "\n",
        "# lm = sns.lmplot(x='month', y='BatV', data=X, height=4, aspect=4)\n",
        "# fig = lm.fig\n",
        "# fig.suptitle(\"BatV 2018-2023\", fontsize=12)"
      ],
      "metadata": {
        "id": "uTQmIFRzh1-P"
      },
      "execution_count": null,
      "outputs": []
    },
    {
      "cell_type": "code",
      "source": [
        "# import matplotlib.pyplot as plt\n",
        "# import matplotlib.dates as mdates\n",
        "\n",
        "# plt.figure(figsize=(16, 8))\n",
        "# plt.scatter(X['payload.publishedAt'], X['BatV'])\n",
        "# plt.gca().xaxis.set_major_formatter(mdates.DateFormatter('%Y-%m-%d'))\n",
        "# plt.gca().xaxis.set_major_locator(mdates.DayLocator(interval=7))\n",
        "# plt.gcf().autofmt_xdate()\n",
        "# plt.show()\n"
      ],
      "metadata": {
        "id": "sJJmjrz43n9H"
      },
      "execution_count": null,
      "outputs": []
    },
    {
      "cell_type": "code",
      "source": [
        "# co2['co2'] = co2['co2'].resample('MS').mean()"
      ],
      "metadata": {
        "id": "XoNcN9uWim3p"
      },
      "execution_count": null,
      "outputs": []
    },
    {
      "cell_type": "code",
      "source": [
        "from gluonts.dataset.split import split\n"
      ],
      "metadata": {
        "id": "OQgZ_XZ4OP2_"
      },
      "execution_count": null,
      "outputs": []
    },
    {
      "cell_type": "code",
      "source": [
        "\n",
        "\n",
        "X = X.drop(columns= ['week','month']).set_index('payload.publishedAt')"
      ],
      "metadata": {
        "id": "_4frQTuvNKos"
      },
      "execution_count": null,
      "outputs": []
    },
    {
      "cell_type": "code",
      "source": [
        "X"
      ],
      "metadata": {
        "id": "FCFwuLdkOKX_"
      },
      "execution_count": null,
      "outputs": []
    },
    {
      "cell_type": "code",
      "source": [
        "y"
      ],
      "metadata": {
        "id": "AYbaq5SoNLwg"
      },
      "execution_count": null,
      "outputs": []
    },
    {
      "cell_type": "code",
      "source": [
        "# pip install gluonts"
      ],
      "metadata": {
        "id": "IGmk4Sk5NWan"
      },
      "execution_count": null,
      "outputs": []
    },
    {
      "cell_type": "code",
      "source": [
        "from gluonts.dataset.util import to_pandas"
      ],
      "metadata": {
        "id": "-tZ-lIGDNS-i"
      },
      "execution_count": null,
      "outputs": []
    },
    {
      "cell_type": "code",
      "source": [
        "entry = next(iter(dataset.train))"
      ],
      "metadata": {
        "id": "mWAZxYMwNr-A"
      },
      "execution_count": null,
      "outputs": []
    },
    {
      "cell_type": "code",
      "source": [
        "import seaborn as sns\n",
        "plt.figure(figsize=(16, 8))\n",
        "ax = sns.lineplot(x='ds', y='y', color='skyblue', data=train_df, label='Train')\n",
        "sns.lineplot(x='ds', y='y', color='orange', label='Test', data=test_df, ax=ax)\n",
        "plt.title('Weekely Co2 in ppm')\n",
        "\n",
        "train_df['mean_baseline'] = train_df['y'].mean()\n",
        "test_df['mean_baseline']  = test_df['y'].mean()\n",
        "print('Average Co2 conc (ppm) in the train set:', train_df['y'].mean())"
      ],
      "metadata": {
        "id": "kwoF_ZFstAji"
      },
      "execution_count": null,
      "outputs": []
    },
    {
      "cell_type": "code",
      "source": [
        "train_df['mean_baseline'] = train_df['y'].mean()\n",
        "test_df['mean_baseline']  = test_df['y'].mean()\n",
        "print('Average Co2 conc (ppm) in the train set:', train_df['y'].mean())"
      ],
      "metadata": {
        "id": "gBEYJH35tAhC"
      },
      "execution_count": null,
      "outputs": []
    },
    {
      "cell_type": "code",
      "source": [
        "train_df['naive_baseline'] = train_df['y'].shift(1).bfill()\n",
        "train_last_observation = train_df['naive_baseline'].iloc[-1]\n",
        "test_df['naive_baseline'] = train_last_observation"
      ],
      "metadata": {
        "id": "-tCiGt23tAdL"
      },
      "execution_count": null,
      "outputs": []
    },
    {
      "cell_type": "code",
      "source": [
        "plt.figure(figsize=(16,8))\n",
        "ax = sns.lineplot(x='ds', y='y', color='skyblue', data=train_df, label='Train')\n",
        "sns.lineplot(x='ds', y='y', color='orange', label='Test', data=test_df, ax=ax)\n",
        "sns.lineplot(x='ds', y='mean_baseline', color='black', data=train_df, label='Mean', ax=ax)\n",
        "sns.lineplot(x='ds', y='mean_baseline', color='gray', data=test_df, label='Mean',ax=ax)\n",
        "sns.lineplot(x='ds', y='naive_baseline', color='red', alpha=.5, data=train_df, label='Naive', ax=ax)\n",
        "sns.lineplot(x='ds', y='naive_baseline', color='blue', data=test_df, label='Naive',ax=ax)\n",
        "\n",
        "plt.title('weekely Co2(ppm) in Mauna Loa');"
      ],
      "metadata": {
        "id": "dc873QEytAaF"
      },
      "execution_count": null,
      "outputs": []
    },
    {
      "cell_type": "code",
      "source": [
        "from sklearn.metrics import mean_squared_error\n",
        "train_df = train_df.fillna(method='ffill')\n",
        "test_df = test_df.fillna(method='ffill')\n",
        "train_mse = mean_squared_error(train_df['y'], train_df['mean_baseline'])\n",
        "test_mse = mean_squared_error(test_df['y'], test_df['mean_baseline'])\n",
        "print('Train MSE, for mean baseline:', train_mse)\n",
        "print('Test MSE, for mean baseline:', test_mse)"
      ],
      "metadata": {
        "id": "15vmubsFtAW6"
      },
      "execution_count": null,
      "outputs": []
    },
    {
      "cell_type": "code",
      "source": [
        "train_df = train_df.fillna(method='ffill')\n",
        "test_df = test_df.fillna(method='ffill')"
      ],
      "metadata": {
        "id": "sLO3zAYItATm"
      },
      "execution_count": null,
      "outputs": []
    },
    {
      "cell_type": "code",
      "source": [
        "train_df = train_df.rename(columns={'index': 'ds'})\n",
        "test_df = test_df.rename(columns={'index': 'ds'})"
      ],
      "metadata": {
        "id": "aGbLPlDxtAQF"
      },
      "execution_count": null,
      "outputs": []
    },
    {
      "cell_type": "code",
      "source": [
        "from prophet import Prophet\n",
        "\n",
        "Co2_model= Prophet(interval_width=0.1, seasonality_mode='multiplicative', weekly_seasonality=False)\n",
        "\n",
        "Co2_model.fit(train_df)\n",
        "train_forecast = Co2_model.predict(train_df[['ds', 'y']])\n",
        "test_forecast = Co2_model.predict(test_df[['ds', 'y']])"
      ],
      "metadata": {
        "id": "NxC39YqtlJIq"
      },
      "execution_count": null,
      "outputs": []
    },
    {
      "cell_type": "code",
      "source": [
        "train_mse = mean_squared_error(train_df['y'], train_forecast['yhat'])\n",
        "test_mse = mean_squared_error(test_df['y'], test_forecast['yhat'])\n",
        "print('Train MSE for Prophet:', train_mse)\n",
        "print('Test MSE for Prophet:', test_mse)"
      ],
      "metadata": {
        "id": "lOGDr2I7y3sY"
      },
      "execution_count": null,
      "outputs": []
    },
    {
      "cell_type": "code",
      "source": [
        "ax = sns.lineplot(x='ds', y='y', color='skyblue', data=train_df[['ds', 'y']], label='Train')\n",
        "sns.lineplot(x='ds', y='y', color='orange', label='Test', data=test_df[['ds', 'y']], ax=ax)\n",
        "sns.lineplot(x='ds', y='yhat', color='red', label='Train Forecast', data=train_forecast, ax=ax)\n",
        "sns.lineplot(x='ds', y='yhat', color='black', label='Test Forecast', data=test_forecast, ax=ax)\n",
        "\n",
        "plt.title('CO2 conc(PPM) in Mauna Loa')"
      ],
      "metadata": {
        "id": "s6X82BX5zbTK"
      },
      "execution_count": null,
      "outputs": []
    },
    {
      "cell_type": "code",
      "source": [
        "fut = Co2_model.make_future_dataframe(periods=12, freq='M')\n",
        "forecast_df = Co2_model.predict(fut)\n"
      ],
      "metadata": {
        "id": "FuYUfDXqzeZi"
      },
      "execution_count": null,
      "outputs": []
    },
    {
      "cell_type": "code",
      "source": [
        "Co2_model.plot(forecast_df)"
      ],
      "metadata": {
        "id": "a7qNtjw0zlCB"
      },
      "execution_count": null,
      "outputs": []
    },
    {
      "cell_type": "code",
      "source": [
        "forecast_df.tail()"
      ],
      "metadata": {
        "id": "qbwYfSL_zsDf"
      },
      "execution_count": null,
      "outputs": []
    },
    {
      "cell_type": "code",
      "source": [
        "pip install sktime"
      ],
      "metadata": {
        "id": "wQs9lEoj0CdG"
      },
      "execution_count": null,
      "outputs": []
    },
    {
      "cell_type": "code",
      "source": [
        "!pip install -U turjuman\n"
      ],
      "metadata": {
        "id": "rLPmr3b10ef0",
        "colab": {
          "base_uri": "https://localhost:8080/"
        },
        "outputId": "c8c662d5-0657-4510-fbf9-188fe972f403"
      },
      "execution_count": 1,
      "outputs": [
        {
          "output_type": "stream",
          "name": "stdout",
          "text": [
            "Collecting turjuman\n",
            "  Downloading turjuman-1.0.5.tar.gz (9.6 kB)\n",
            "  Preparing metadata (setup.py) ... \u001b[?25l\u001b[?25hdone\n",
            "Requirement already satisfied: regex in /usr/local/lib/python3.10/dist-packages (from turjuman) (2023.6.3)\n",
            "Requirement already satisfied: torch in /usr/local/lib/python3.10/dist-packages (from turjuman) (2.0.1+cu118)\n",
            "Requirement already satisfied: protobuf in /usr/local/lib/python3.10/dist-packages (from turjuman) (3.20.3)\n",
            "Collecting sentencepiece (from turjuman)\n",
            "  Downloading sentencepiece-0.1.99-cp310-cp310-manylinux_2_17_x86_64.manylinux2014_x86_64.whl (1.3 MB)\n",
            "\u001b[2K     \u001b[90m━━━━━━━━━━━━━━━━━━━━━━━━━━━━━━━━━━━━━━━━\u001b[0m \u001b[32m1.3/1.3 MB\u001b[0m \u001b[31m8.9 MB/s\u001b[0m eta \u001b[36m0:00:00\u001b[0m\n",
            "\u001b[?25hCollecting transformers (from turjuman)\n",
            "  Downloading transformers-4.33.1-py3-none-any.whl (7.6 MB)\n",
            "\u001b[2K     \u001b[90m━━━━━━━━━━━━━━━━━━━━━━━━━━━━━━━━━━━━━━━━\u001b[0m \u001b[32m7.6/7.6 MB\u001b[0m \u001b[31m20.6 MB/s\u001b[0m eta \u001b[36m0:00:00\u001b[0m\n",
            "\u001b[?25hRequirement already satisfied: psutil in /usr/local/lib/python3.10/dist-packages (from turjuman) (5.9.5)\n",
            "Requirement already satisfied: pandas in /usr/local/lib/python3.10/dist-packages (from turjuman) (1.5.3)\n",
            "Requirement already satisfied: tqdm in /usr/local/lib/python3.10/dist-packages (from turjuman) (4.66.1)\n",
            "Collecting sacrebleu (from turjuman)\n",
            "  Downloading sacrebleu-2.3.1-py3-none-any.whl (118 kB)\n",
            "\u001b[2K     \u001b[90m━━━━━━━━━━━━━━━━━━━━━━━━━━━━━━━━━━━━━━\u001b[0m \u001b[32m118.9/118.9 kB\u001b[0m \u001b[31m66.0 kB/s\u001b[0m eta \u001b[36m0:00:00\u001b[0m\n",
            "\u001b[?25hCollecting accelerate (from turjuman)\n",
            "  Downloading accelerate-0.22.0-py3-none-any.whl (251 kB)\n",
            "\u001b[2K     \u001b[90m━━━━━━━━━━━━━━━━━━━━━━━━━━━━━━━━━━━━━━\u001b[0m \u001b[32m251.2/251.2 kB\u001b[0m \u001b[31m23.6 MB/s\u001b[0m eta \u001b[36m0:00:00\u001b[0m\n",
            "\u001b[?25hCollecting datasets (from turjuman)\n",
            "  Downloading datasets-2.14.5-py3-none-any.whl (519 kB)\n",
            "\u001b[2K     \u001b[90m━━━━━━━━━━━━━━━━━━━━━━━━━━━━━━━━━━━━━━\u001b[0m \u001b[32m519.6/519.6 kB\u001b[0m \u001b[31m28.4 MB/s\u001b[0m eta \u001b[36m0:00:00\u001b[0m\n",
            "\u001b[?25hRequirement already satisfied: numpy>=1.17 in /usr/local/lib/python3.10/dist-packages (from accelerate->turjuman) (1.23.5)\n",
            "Requirement already satisfied: packaging>=20.0 in /usr/local/lib/python3.10/dist-packages (from accelerate->turjuman) (23.1)\n",
            "Requirement already satisfied: pyyaml in /usr/local/lib/python3.10/dist-packages (from accelerate->turjuman) (6.0.1)\n",
            "Requirement already satisfied: filelock in /usr/local/lib/python3.10/dist-packages (from torch->turjuman) (3.12.2)\n",
            "Requirement already satisfied: typing-extensions in /usr/local/lib/python3.10/dist-packages (from torch->turjuman) (4.5.0)\n",
            "Requirement already satisfied: sympy in /usr/local/lib/python3.10/dist-packages (from torch->turjuman) (1.12)\n",
            "Requirement already satisfied: networkx in /usr/local/lib/python3.10/dist-packages (from torch->turjuman) (3.1)\n",
            "Requirement already satisfied: jinja2 in /usr/local/lib/python3.10/dist-packages (from torch->turjuman) (3.1.2)\n",
            "Requirement already satisfied: triton==2.0.0 in /usr/local/lib/python3.10/dist-packages (from torch->turjuman) (2.0.0)\n",
            "Requirement already satisfied: cmake in /usr/local/lib/python3.10/dist-packages (from triton==2.0.0->torch->turjuman) (3.27.4.1)\n",
            "Requirement already satisfied: lit in /usr/local/lib/python3.10/dist-packages (from triton==2.0.0->torch->turjuman) (16.0.6)\n",
            "Requirement already satisfied: pyarrow>=8.0.0 in /usr/local/lib/python3.10/dist-packages (from datasets->turjuman) (9.0.0)\n",
            "Collecting dill<0.3.8,>=0.3.0 (from datasets->turjuman)\n",
            "  Downloading dill-0.3.7-py3-none-any.whl (115 kB)\n",
            "\u001b[2K     \u001b[90m━━━━━━━━━━━━━━━━━━━━━━━━━━━━━━━━━━━━━━\u001b[0m \u001b[32m115.3/115.3 kB\u001b[0m \u001b[31m12.3 MB/s\u001b[0m eta \u001b[36m0:00:00\u001b[0m\n",
            "\u001b[?25hRequirement already satisfied: requests>=2.19.0 in /usr/local/lib/python3.10/dist-packages (from datasets->turjuman) (2.31.0)\n",
            "Collecting xxhash (from datasets->turjuman)\n",
            "  Downloading xxhash-3.3.0-cp310-cp310-manylinux_2_17_x86_64.manylinux2014_x86_64.whl (194 kB)\n",
            "\u001b[2K     \u001b[90m━━━━━━━━━━━━━━━━━━━━━━━━━━━━━━━━━━━━━━\u001b[0m \u001b[32m194.1/194.1 kB\u001b[0m \u001b[31m19.2 MB/s\u001b[0m eta \u001b[36m0:00:00\u001b[0m\n",
            "\u001b[?25hCollecting multiprocess (from datasets->turjuman)\n",
            "  Downloading multiprocess-0.70.15-py310-none-any.whl (134 kB)\n",
            "\u001b[2K     \u001b[90m━━━━━━━━━━━━━━━━━━━━━━━━━━━━━━━━━━━━━━\u001b[0m \u001b[32m134.8/134.8 kB\u001b[0m \u001b[31m14.5 MB/s\u001b[0m eta \u001b[36m0:00:00\u001b[0m\n",
            "\u001b[?25hRequirement already satisfied: fsspec[http]<2023.9.0,>=2023.1.0 in /usr/local/lib/python3.10/dist-packages (from datasets->turjuman) (2023.6.0)\n",
            "Requirement already satisfied: aiohttp in /usr/local/lib/python3.10/dist-packages (from datasets->turjuman) (3.8.5)\n",
            "Collecting huggingface-hub<1.0.0,>=0.14.0 (from datasets->turjuman)\n",
            "  Downloading huggingface_hub-0.17.1-py3-none-any.whl (294 kB)\n",
            "\u001b[2K     \u001b[90m━━━━━━━━━━━━━━━━━━━━━━━━━━━━━━━━━━━━━━\u001b[0m \u001b[32m294.8/294.8 kB\u001b[0m \u001b[31m27.3 MB/s\u001b[0m eta \u001b[36m0:00:00\u001b[0m\n",
            "\u001b[?25hRequirement already satisfied: python-dateutil>=2.8.1 in /usr/local/lib/python3.10/dist-packages (from pandas->turjuman) (2.8.2)\n",
            "Requirement already satisfied: pytz>=2020.1 in /usr/local/lib/python3.10/dist-packages (from pandas->turjuman) (2023.3.post1)\n",
            "Collecting portalocker (from sacrebleu->turjuman)\n",
            "  Downloading portalocker-2.7.0-py2.py3-none-any.whl (15 kB)\n",
            "Requirement already satisfied: tabulate>=0.8.9 in /usr/local/lib/python3.10/dist-packages (from sacrebleu->turjuman) (0.9.0)\n",
            "Collecting colorama (from sacrebleu->turjuman)\n",
            "  Downloading colorama-0.4.6-py2.py3-none-any.whl (25 kB)\n",
            "Requirement already satisfied: lxml in /usr/local/lib/python3.10/dist-packages (from sacrebleu->turjuman) (4.9.3)\n",
            "Collecting tokenizers!=0.11.3,<0.14,>=0.11.1 (from transformers->turjuman)\n",
            "  Downloading tokenizers-0.13.3-cp310-cp310-manylinux_2_17_x86_64.manylinux2014_x86_64.whl (7.8 MB)\n",
            "\u001b[2K     \u001b[90m━━━━━━━━━━━━━━━━━━━━━━━━━━━━━━━━━━━━━━━━\u001b[0m \u001b[32m7.8/7.8 MB\u001b[0m \u001b[31m31.8 MB/s\u001b[0m eta \u001b[36m0:00:00\u001b[0m\n",
            "\u001b[?25hCollecting safetensors>=0.3.1 (from transformers->turjuman)\n",
            "  Downloading safetensors-0.3.3-cp310-cp310-manylinux_2_17_x86_64.manylinux2014_x86_64.whl (1.3 MB)\n",
            "\u001b[2K     \u001b[90m━━━━━━━━━━━━━━━━━━━━━━━━━━━━━━━━━━━━━━━━\u001b[0m \u001b[32m1.3/1.3 MB\u001b[0m \u001b[31m31.2 MB/s\u001b[0m eta \u001b[36m0:00:00\u001b[0m\n",
            "\u001b[?25hRequirement already satisfied: attrs>=17.3.0 in /usr/local/lib/python3.10/dist-packages (from aiohttp->datasets->turjuman) (23.1.0)\n",
            "Requirement already satisfied: charset-normalizer<4.0,>=2.0 in /usr/local/lib/python3.10/dist-packages (from aiohttp->datasets->turjuman) (3.2.0)\n",
            "Requirement already satisfied: multidict<7.0,>=4.5 in /usr/local/lib/python3.10/dist-packages (from aiohttp->datasets->turjuman) (6.0.4)\n",
            "Requirement already satisfied: async-timeout<5.0,>=4.0.0a3 in /usr/local/lib/python3.10/dist-packages (from aiohttp->datasets->turjuman) (4.0.3)\n",
            "Requirement already satisfied: yarl<2.0,>=1.0 in /usr/local/lib/python3.10/dist-packages (from aiohttp->datasets->turjuman) (1.9.2)\n",
            "Requirement already satisfied: frozenlist>=1.1.1 in /usr/local/lib/python3.10/dist-packages (from aiohttp->datasets->turjuman) (1.4.0)\n",
            "Requirement already satisfied: aiosignal>=1.1.2 in /usr/local/lib/python3.10/dist-packages (from aiohttp->datasets->turjuman) (1.3.1)\n",
            "Requirement already satisfied: six>=1.5 in /usr/local/lib/python3.10/dist-packages (from python-dateutil>=2.8.1->pandas->turjuman) (1.16.0)\n",
            "Requirement already satisfied: idna<4,>=2.5 in /usr/local/lib/python3.10/dist-packages (from requests>=2.19.0->datasets->turjuman) (3.4)\n",
            "Requirement already satisfied: urllib3<3,>=1.21.1 in /usr/local/lib/python3.10/dist-packages (from requests>=2.19.0->datasets->turjuman) (2.0.4)\n",
            "Requirement already satisfied: certifi>=2017.4.17 in /usr/local/lib/python3.10/dist-packages (from requests>=2.19.0->datasets->turjuman) (2023.7.22)\n",
            "Requirement already satisfied: MarkupSafe>=2.0 in /usr/local/lib/python3.10/dist-packages (from jinja2->torch->turjuman) (2.1.3)\n",
            "Requirement already satisfied: mpmath>=0.19 in /usr/local/lib/python3.10/dist-packages (from sympy->torch->turjuman) (1.3.0)\n",
            "Building wheels for collected packages: turjuman\n",
            "  Building wheel for turjuman (setup.py) ... \u001b[?25l\u001b[?25hdone\n",
            "  Created wheel for turjuman: filename=turjuman-1.0.5-py3-none-any.whl size=10926 sha256=7e19a85239402115f1acc42e057eb4315b550d6a1d692ca4d354701097c13402\n",
            "  Stored in directory: /root/.cache/pip/wheels/0a/ef/f9/d973934e1eb5c3b4559f3405755133de1ddce5efe07c7f5014\n",
            "Successfully built turjuman\n",
            "Installing collected packages: tokenizers, sentencepiece, safetensors, xxhash, portalocker, dill, colorama, sacrebleu, multiprocess, huggingface-hub, transformers, datasets, accelerate, turjuman\n",
            "Successfully installed accelerate-0.22.0 colorama-0.4.6 datasets-2.14.5 dill-0.3.7 huggingface-hub-0.17.1 multiprocess-0.70.15 portalocker-2.7.0 sacrebleu-2.3.1 safetensors-0.3.3 sentencepiece-0.1.99 tokenizers-0.13.3 transformers-4.33.1 turjuman-1.0.5 xxhash-3.3.0\n"
          ]
        }
      ]
    },
    {
      "cell_type": "code",
      "source": [],
      "metadata": {
        "id": "tTWekhI5xzY5"
      },
      "execution_count": null,
      "outputs": []
    },
    {
      "cell_type": "code",
      "source": [
        "# !turjuman_translate -t \"As US reaches one million COVID deaths how are Americans coping?\"\n"
      ],
      "metadata": {
        "id": "6jxk3ZKXxnWH"
      },
      "execution_count": 15,
      "outputs": []
    },
    {
      "cell_type": "code",
      "source": [
        "from transformers import MarianMTModel, MarianTokenizer\n",
        "\n",
        "# Define the model and tokenizer, specifying the source and target languages (here, 'ar' for Arabic to 'en' for English)\n",
        "model_name = 'Helsinki-NLP/opus-mt-ar-en'\n",
        "tokenizer = MarianTokenizer.from_pretrained(model_name)\n",
        "model = MarianMTModel.from_pretrained(model_name)\n",
        "\n",
        "# Define the text to translate\n",
        "src_text = [\n",
        "    \"اتبع قلبك فحسب.\",\n",
        "    \"وين راهي دّوش؟\"\n",
        "]\n",
        "\n",
        "# Tokenize the text\n",
        "inputs = tokenizer(src_text, return_tensors=\"pt\", padding=True)\n",
        "\n",
        "# Translate the text\n",
        "translated = model.generate(**inputs)\n",
        "\n",
        "# Decode and print the translated text\n",
        "for t in translated:\n",
        "    print(tokenizer.decode(t, skip_special_tokens=True))\n"
      ],
      "metadata": {
        "colab": {
          "base_uri": "https://localhost:8080/"
        },
        "id": "ls4pyLs-zNp8",
        "outputId": "2659a585-42f2-400d-b05b-39a84434dbf9"
      },
      "execution_count": 16,
      "outputs": [
        {
          "output_type": "stream",
          "name": "stdout",
          "text": [
            "Just follow your heart.\n",
            "Wayne Rahey Douche?\n"
          ]
        }
      ]
    },
    {
      "cell_type": "code",
      "source": [],
      "metadata": {
        "id": "JrHjyPGJytd9"
      },
      "execution_count": 17,
      "outputs": []
    },
    {
      "cell_type": "code",
      "source": [],
      "metadata": {
        "colab": {
          "base_uri": "https://localhost:8080/"
        },
        "id": "1WmGBOUNyaC7",
        "outputId": "f0603a04-df6d-4ccd-c14f-7177553536ea"
      },
      "execution_count": 18,
      "outputs": [
        {
          "output_type": "stream",
          "name": "stderr",
          "text": [
            "/usr/local/lib/python3.10/dist-packages/transformers/models/marian/tokenization_marian.py:194: UserWarning: Recommended: pip install sacremoses.\n",
            "  warnings.warn(\"Recommended: pip install sacremoses.\")\n"
          ]
        }
      ]
    },
    {
      "cell_type": "code",
      "source": [],
      "metadata": {
        "id": "NwXAgMsf0HQr"
      },
      "execution_count": 19,
      "outputs": []
    },
    {
      "cell_type": "code",
      "source": [
        "from transformers import pipeline\n",
        "from transformers import AutoTokenizer, AutoModelForSeq2SeqLM\n",
        "\n",
        "model_name_en_ar = \"Helsinki-NLP/opus-mt-en-ar\"\n",
        "tokenizer_en_ar = AutoTokenizer.from_pretrained(model_name_en_ar)\n",
        "model_en_ar = AutoModelForSeq2SeqLM.from_pretrained(model_name_en_ar)\n",
        "\n",
        "\n",
        "tokenizer_en_ar.save_pretrained(\"./saved_model_en_ar/tokenizer\")\n",
        "model_en_ar.save_pretrained(\"./saved_model_en_ar/model\")\n",
        "\n",
        "tokenizer_en_ar = AutoTokenizer.from_pretrained(\"./saved_model_en_ar/tokenizer\")\n",
        "model_en_ar = AutoModelForSeq2SeqLM.from_pretrained(\"./saved_model_en_ar/model\")\n",
        "\n",
        "pipe_en_ar = pipeline(\"translation\", model=model_en_ar, tokenizer=tokenizer_en_ar)\n",
        "\n",
        "translated_en_ar = pipe_en_ar(\"function takes raw input data, performs anomaly detection and classification, and returns the confusion matrix, test predictions, voting classifier, and full prediction results.\")\n",
        "\n",
        "for t in translated_en_ar:\n",
        "    print(t['translation_text'])"
      ],
      "metadata": {
        "colab": {
          "base_uri": "https://localhost:8080/"
        },
        "id": "T9YOj0-c0Hzw",
        "outputId": "400f1d41-91e9-4deb-ed52-3bfc5537c57e"
      },
      "execution_count": 20,
      "outputs": [
        {
          "output_type": "stream",
          "name": "stdout",
          "text": [
            "فقط اتبع قلبك\n"
          ]
        }
      ]
    },
    {
      "cell_type": "code",
      "source": [],
      "metadata": {
        "id": "I30oqYeu0Tpt"
      },
      "execution_count": 20,
      "outputs": []
    }
  ]
}