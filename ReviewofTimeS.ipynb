{
  "nbformat": 4,
  "nbformat_minor": 0,
  "metadata": {
    "colab": {
      "provenance": [],
      "authorship_tag": "ABX9TyMu9YAwQ2JcdMh91qLIHTde",
      "include_colab_link": true
    },
    "kernelspec": {
      "name": "python3",
      "display_name": "Python 3"
    },
    "language_info": {
      "name": "python"
    }
  },
  "cells": [
    {
      "cell_type": "markdown",
      "metadata": {
        "id": "view-in-github",
        "colab_type": "text"
      },
      "source": [
        "<a href=\"https://colab.research.google.com/github/MuayThaiLegz/PracticeCrazy/blob/main/ReviewofTimeS.ipynb\" target=\"_parent\"><img src=\"https://colab.research.google.com/assets/colab-badge.svg\" alt=\"Open In Colab\"/></a>"
      ]
    },
    {
      "cell_type": "code",
      "execution_count": 1,
      "metadata": {
        "colab": {
          "base_uri": "https://localhost:8080/"
        },
        "id": "o9nFOqKT_Q-Z",
        "outputId": "b9e4591f-ccdd-4f45-fa75-64ac9378226e"
      },
      "outputs": [
        {
          "output_type": "stream",
          "name": "stdout",
          "text": [
            "Colab environment detected.\n"
          ]
        }
      ],
      "source": [
        "import pandas as pd\n",
        "import matplotlib.pylab as plt\n",
        "import statsmodels.formula.api as sm\n",
        "from statsmodels.tsa import tsatools\n",
        "from dmba import regressionSummary"
      ]
    },
    {
      "cell_type": "code",
      "source": [
        "import math, random, json\n",
        "from datetime import datetime, timedelta\n",
        "\n",
        "import pandas as pd\n",
        "from IPython.display import display\n",
        "from statsmodels.tsa.seasonal import seasonal_decompose\n",
        "import matplotlib.dates as mdates\n",
        "\n",
        "pd.set_option('display.max_rows', 15)\n",
        "pd.set_option('display.max_columns', 500)\n",
        "pd.set_option('display.width', 1000)\n",
        "\n",
        "import matplotlib.pyplot as plt\n",
        "from datetime import datetime\n",
        "from datetime import timedelta\n",
        "from pandas.plotting import register_matplotlib_converters\n",
        "from mpl_toolkits.mplot3d import Axes3D\n",
        "\n",
        "from statsmodels.tsa.stattools import acf, pacf\n",
        "from statsmodels.tsa.statespace.sarimax import SARIMAX\n",
        "register_matplotlib_converters()\n",
        "from time import time\n",
        "import seaborn as sns\n",
        "sns.set(style=\"whitegrid\")\n",
        "\n",
        "from sklearn.preprocessing import StandardScaler\n",
        "from sklearn.decomposition import PCA\n",
        "from sklearn.cluster import KMeans\n",
        "from sklearn.covariance import EllipticEnvelope\n",
        "\n",
        "import warnings\n",
        "warnings.filterwarnings('ignore')\n",
        "\n",
        "\n",
        "import random\n",
        "import json\n",
        "from datetime import datetime, timedelta\n",
        "\n",
        "\n",
        "from scipy.interpolate import make_interp_spline\n",
        "#from bson import ObjectId\n",
        "import pandas as pd\n",
        "import numpy as np\n",
        "import seaborn as sns\n",
        "import matplotlib.pyplot as plt\n",
        "from sklearn.svm import OneClassSVM\n",
        "from sklearn.neighbors import LocalOutlierFactor\n",
        "from sklearn.model_selection import train_test_split, GridSearchCV\n",
        "from sklearn.ensemble import IsolationForest\n",
        "from sklearn.metrics import f1_score, make_scorer, roc_auc_score\n",
        "from statsmodels.tsa.arima.model import ARIMA\n",
        "import joblib\n",
        "import os\n",
        "import math\n",
        "import random\n",
        "import json\n",
        "RANDOM_SEED = np.random.seed(0)\n",
        "from datetime import datetime, timedelta\n",
        "\n",
        "import pandas as pd\n",
        "import numpy as np\n",
        "\n",
        "from sklearn.preprocessing import MinMaxScaler\n",
        "from tensorflow.keras.models import Sequential, Model\n",
        "from tensorflow.keras.layers import LSTM, Dense, Input\n",
        "\n",
        "RANDOM_SEED = np.random.seed(0)\n"
      ],
      "metadata": {
        "id": "qNB6duOh_WlH"
      },
      "execution_count": 2,
      "outputs": []
    },
    {
      "cell_type": "code",
      "source": [
        "def parser(s):\n",
        "    return datetime.strptime(s, '%Y-%m-%d %H:%M:%S.%f')\n",
        "\n",
        "start_date = datetime(2020,10,11)\n",
        "end_date = datetime(2022,1,1)\n",
        "\n",
        "# vars = ['payload.fCnt', 'BatV', 'Hum_SHT', 'TempC_DS', 'TempC_SHT', 'Autumn',\n",
        "#        'Spring', 'Summer', 'Winter','2020.0', '2021.0', '2022.0',\n",
        "#        '2023.0', 'BatV_lag_1', 'BatV_lag_2', 'Hum_SHT_lag_1', 'Hum_SHT_lag_2',\n",
        "#        'TempC_DS_lag_1', 'TempC_DS_lag_2', 'TempC_SHT_lag_1',\n",
        "#        'TempC_SHT_lag_2', 'payload.fCnt_lag_1', 'payload.fCnt_lag_2',\n",
        "#        'Hum_SHT_roll_mean', 'Hum_SHT_roll_std', 'TempC_DS_roll_mean',\n",
        "#        'TempC_DS_roll_std', 'TempC_SHT_roll_mean', 'TempC_SHT_roll_std',\n",
        "#        'BatV_growth', 'Hum_SHT_trend', 'TempC_SHT_trend', 'TempC_DS_trend']\n",
        "\n",
        "Hum = ['Hum_SHT','Hum_SHT_lag_1','Hum_SHT_lag_2']\n",
        "\n",
        "TempC = ['TempC_DS','TempC_DS_lag_1','TempC_DS_lag_2']\n",
        "\n",
        "TempC_SHT = ['TempC_SHT','TempC_SHT_lag_1','TempC_SHT_lag_2']\n",
        "\n",
        "BatV = [\"BatV\",\"BatV_lag_1\",\"BatV_lag_2\"]\n",
        "\n",
        "solo = [\"BatV\",\"Hum_SHT\",\"TempC_DS\",'TempC_SHT']\n",
        "\n",
        "class_labels = ['IsolationForest_Anomaly',\n",
        "       'LocalOutlierFactor_Anomaly',\n",
        "       'OneClassSVM_Anomaly','Autoencoder_Anomaly',\n",
        "       'Final_Anomaly']\n",
        "\n",
        "reg_labels = ['IsolationForest_AnomalyScore','LocalOutlierFactor_AnomalyScore',  'Autoencoder_reconstruction_error','OneClassSVM_AnomalyScore']\n",
        "\n",
        "\n"
      ],
      "metadata": {
        "id": "oIwuieQULIBq"
      },
      "execution_count": 3,
      "outputs": []
    },
    {
      "cell_type": "code",
      "source": [
        "\n",
        "deviceA_anomalies = pd.read_csv('labeled_data.csv', index_col='payload.publishedAt', parse_dates=True)\n",
        "\n",
        "deviceA_anomalies.index = pd.DatetimeIndex(deviceA_anomalies.index,freq=deviceA_anomalies.index.inferred_freq)\n",
        "\n",
        "traindata = deviceA_anomalies[start_date:end_date][solo+class_labels+reg_labels]\n",
        "testdata = deviceA_anomalies[end_date + timedelta(days=1):]\n",
        "\n",
        "\n",
        "deviceA_anomalies_sample = deviceA_anomalies[solo].resample('D').mean() # +class_labels\n",
        "\n",
        "traindfNum = deviceA_anomalies_sample.select_dtypes(np.number)#[['BatV',\"SMAShort\",\"SMALong\"]]\n",
        "\n",
        "ridership_ts = pd.Series(deviceA_anomalies.TempC_DS.values,index=deviceA_anomalies.index,name='TempC_DS')\n",
        "ridership_ts.index = pd.DatetimeIndex(ridership_ts.index,freq=ridership_ts.index.inferred_freq)\n",
        "\n",
        "traindfNum[\"AbnormalLevels\"] = 0.0\n",
        "position = False\n",
        "\n",
        "\n",
        "# deviceA_anomalies[\"SMAShort\"] = deviceA_anomalies[\"BatV\"].rolling(window=20).mean()\n",
        "# deviceA_anomalies[\"SMALong\"] = deviceA_anomalies[\"BatV\"].rolling(window=200).mean()\n",
        "# deviceA_anomaliesLong = deviceA_anomalies['BatV']\n",
        "ridership_df = tsatools.add_trend(ridership_ts, trend='ct')\n",
        "\n",
        "ridership_df['trend'] = range(len(ridership_df))\n",
        "\n",
        "ridership_df['trend_squared'] = ridership_df['trend'] ** 2\n",
        "\n",
        "ridership_lm = sm.ols(formula='TempC_DS ~ trend + trend_squared', data=ridership_df).fit()\n",
        "\n",
        "ax = ridership_ts.plot()\n",
        "ax.set_xlabel('time')\n",
        "ax.set_ylabel('Ridership (in 000s)')\n",
        "ridership_lm.predict(ridership_df).plot(ax=ax)\n",
        "plt.show()"
      ],
      "metadata": {
        "colab": {
          "base_uri": "https://localhost:8080/",
          "height": 432
        },
        "id": "x9936LyR_bBm",
        "outputId": "874d16b3-a65f-4fc8-bf45-d3783c69afc4"
      },
      "execution_count": 29,
      "outputs": [
        {
          "output_type": "display_data",
          "data": {
            "text/plain": [
              "<Figure size 640x480 with 1 Axes>"
            ],
            "image/png": "[encoded data removed]"
          },
          "metadata": {}
        }
      ]
    },
    {
      "cell_type": "code",
      "source": [
        "# fit linear model using training set and predict on validation set\n",
        "ridership_lm = sm.ols(formula='Ridership ~ trend', data=train_df).fit()\n",
        "predict_df = ridership_lm.predict(valid_df)\n",
        "# create the plot\n",
        "def singleGraphLayout(ax, ylim, train_df, valid_df):\n",
        "  ax.set_xlim('1990', '2004-6')\n",
        "  ax.set_ylim(*ylim)\n",
        "  ax.set_xlabel('Time')\n",
        "  one_month = pd.Timedelta('31 days')\n",
        "  xtrain = (min(train_df.index), max(train_df.index) - one_month)\n",
        "  xvalid = (min(valid_df.index) + one_month, max(valid_df.index) -\n",
        "  one_month)\n",
        "  xtv = xtrain[1] + 0.5 * (xvalid[0] - xtrain[1])\n",
        "  ypos = 0.9 * ylim[1] + 0.1 * ylim[0]\n",
        "  ax.add_line(plt.Line2D(xtrain, (ypos, ypos), color='black',\n",
        "  linewidth=0.5))\n",
        "  ax.add_line(plt.Line2D(xvalid, (ypos, ypos), color='black',\n",
        "  linewidth=0.5))\n",
        "  ax.axvline(x=xtv, ymin=0, ymax=1, color='black', linewidth=0.5)\n",
        "  ypos = 0.925 * ylim[1] + 0.075 * ylim[0]\n",
        "  ax.text('1995', ypos, 'Training')\n",
        "  ax.text('2002-3', ypos, 'Validation')\n",
        "def graphLayout(axes, train_df, valid_df):\n",
        "  singleGraphLayout(axes[0], [1300, 2550], train_df, valid_df)\n",
        "  singleGraphLayout(axes[1], [-550, 550], train_df, valid_df)\n",
        "  train_df.plot(y='Ridership', ax=axes[0], color='C0', linewidth=0.75)\n",
        "  valid_df.plot(y='Ridership', ax=axes[0], color='C0', linestyle='dashed',\n",
        "\n",
        "  linewidth=0.75)\n",
        "\n",
        "  axes[1].axhline(y=0, xmin=0, xmax=1, color='black', linewidth=0.5)\n",
        "  axes[0].set_xlabel('')\n",
        "  axes[0].set_ylabel('Ridership (in 000s)')\n",
        "  axes[1].set_ylabel('Forecast Errors')\n",
        "  if axes[0].get_legend():\n",
        "    axes[0].get_legend().remove()\n",
        "\n",
        "fig, axes = plt.subplots(nrows=2, ncols=1, figsize=(9, 7.5))\n",
        "ridership_lm.predict(train_df).plot(ax=axes[0], color='C1')\n",
        "ridership_lm.predict(valid_df).plot(ax=axes[0], color='C1',\n",
        "linestyle='dashed')\n",
        "residual = train_df.Ridership - ridership_lm.predict(train_df)\n",
        "residual.plot(ax=axes[1], color='C1')\n",
        "residual = valid_df.Ridership - ridership_lm.predict(valid_df)\n",
        "residual.plot(ax=axes[1], color='C1', linestyle='dashed')\n",
        "graphLayout(axes, train_df, valid_df)\n",
        "plt.tight_layout()\n",
        "plt.show()"
      ],
      "metadata": {
        "id": "zT03juqTYCBh"
      },
      "execution_count": null,
      "outputs": []
    },
    {
      "cell_type": "code",
      "source": [
        "# ax = deviceA_anomalies['BatV'].plot()\n",
        "# ax.set_xlabel('Time')\n",
        "\n",
        "# ax.set_ylabel(f'{ridership_ts.name} (in 000s)')\n",
        "# ax.set_ylim(-2.125, 2.125)\n"
      ],
      "metadata": {
        "id": "_iYhkJujQ9s7"
      },
      "execution_count": 5,
      "outputs": []
    },
    {
      "cell_type": "code",
      "source": [
        "\n",
        "# ax = deviceA_anomalies['OneClassSVM_AnomalyScore'].plot()\n",
        "# ax.set_xlabel('Time')\n",
        "\n",
        "# ax.set_ylabel(f'{ridership_ts.name} (in 000s)')\n",
        "# ax.set_ylim(-42.125, 12.125)"
      ],
      "metadata": {
        "id": "ZfExkWuyFvMO"
      },
      "execution_count": 6,
      "outputs": []
    },
    {
      "cell_type": "code",
      "source": [],
      "metadata": {
        "id": "DENvOoiKKoBi"
      },
      "execution_count": 7,
      "outputs": []
    },
    {
      "cell_type": "code",
      "source": [
        "# ax = ridership_ts.plot()\n",
        "# ax.set_xlabel('Time')\n",
        "\n",
        "# ax.set_ylabel(f'{ridership_ts.name} (in 000s)')\n",
        "# ax.set_ylim(-2.125, 2.125)"
      ],
      "metadata": {
        "id": "rDfjaEcYKvy3"
      },
      "execution_count": 8,
      "outputs": []
    },
    {
      "cell_type": "code",
      "source": [],
      "metadata": {
        "id": "39HVjINjUfiJ"
      },
      "execution_count": 25,
      "outputs": []
    },
    {
      "cell_type": "code",
      "source": [],
      "metadata": {
        "colab": {
          "base_uri": "https://localhost:8080/",
          "height": 432
        },
        "id": "tC_aMtKhUfef",
        "outputId": "088e0c6a-575b-45e7-d22a-43a9fe5c9ff3"
      },
      "execution_count": 24,
      "outputs": [
        {
          "output_type": "display_data",
          "data": {
            "text/plain": [
              "<Figure size 640x480 with 1 Axes>"
            ],
            "image/png": "[encoded data removed]"
          },
          "metadata": {}
        }
      ]
    },
    {
      "cell_type": "code",
      "source": [],
      "metadata": {
        "id": "Dg5y2gxYUfbM"
      },
      "execution_count": null,
      "outputs": []
    },
    {
      "cell_type": "code",
      "source": [
        "ridership_ts_3yrs = traindata['2018':'2021']['BatV']\n",
        "\n",
        "ridership_df = tsatools.add_trend(ridership_ts, trend='ctt')\n",
        "\n",
        "ridership_lm = sm.ols(formula='BatV ~ trend + trend_squared', data=ridership_df).fit()\n",
        "\n",
        "fig, axes = plt.subplots(nrows=2, ncols=1, figsize=(10,6))\n",
        "ridership_ts_3yrs.plot(ax=axes[0])\n",
        "ridership_ts.plot(ax=axes[1])\n",
        "for ax in axes:\n",
        "  ax.set_xlabel('Time')\n",
        "\n",
        "ax.set_ylabel('Ridership (in 000s)')\n",
        "ridership_lm.predict(ridership_df).plot(ax=axes[1])\n",
        "plt.show()"
      ],
      "metadata": {
        "id": "Tly0Sb3eNDbt"
      },
      "execution_count": null,
      "outputs": []
    },
    {
      "cell_type": "code",
      "source": [
        "import pandas as pd\n",
        "import numpy as np\n",
        "import matplotlib.pyplot as plt\n",
        "\n",
        "# Read the data from the CSV file and set the index\n",
        "deviceA_anomalies = pd.read_csv('labeled_data.csv', index_col='payload.publishedAt', parse_dates=True)\n",
        "\n",
        "# Resample the data to daily frequency\n",
        "deviceA_anomalies_sample = deviceA_anomalies.resample('D').mean()\n",
        "\n",
        "# Define the start and end dates\n",
        "start_date = pd.to_datetime(\"2020-10-11\")\n",
        "end_date = pd.to_datetime(\"2021-12-31\")\n",
        "\n",
        "# Select the desired columns from the data\n",
        "traindata = deviceA_anomalies_sample[start_date:end_date]#[['BatV', \"class_labels\", \"reg_labels\"]]\n",
        "testdata = deviceA_anomalies_sample[end_date + pd.DateOffset(days=1):]\n",
        "\n",
        "# Create the ridership time series\n",
        "ridership_ts = traindata['BatV']\n",
        "\n",
        "# Set the trend variables\n",
        "traindata['trend'] = range(len(traindata))\n",
        "traindata['trend_squared'] = traindata['trend'] ** 2\n",
        "\n",
        "# Fit the linear regression model\n",
        "ridership_lm = sm.ols(formula='BatV ~ trend + trend_squared', data=traindata).fit()\n",
        "nValid = 60\n",
        "nTrain = len(ridership_ts) - nValid\n",
        "train_ts = ridership_ts[:nTrain]\n",
        "valid_ts = ridership_ts[nTrain:]\n",
        "# generate the naive and seasonal naive forecast\n",
        "naive_pred = pd.Series(train_ts[-1],\n",
        "index=valid_ts.index)\n",
        "last_season = train_ts[-12:]\n",
        "seasonal_pred = pd.Series(pd.concat([last_season]*5) [:len(valid_ts)].values,index=valid_ts.index)\n",
        "\n",
        "# Plot the time series and forecasts\n",
        "plt.figure(figsize=(9, 7))\n",
        "plt.plot(ridership_ts, color='C0', linewidth=0.75)\n",
        "plt.plot(valid_ts, color='C0', linestyle='dashed', linewidth=0.75)\n",
        "plt.plot(naive_pred, color='green')\n",
        "plt.plot(seasonal_pred, color='orange')\n",
        "\n",
        "# Set the x-axis and y-axis labels\n",
        "plt.xlabel('Time')\n",
        "plt.ylabel('Ridership (in 000s)')\n",
        "\n",
        "# Add lines and arrows for reference\n",
        "one_month = pd.DateOffset(months=1)\n",
        "xtrain = (min(train_ts.index), max(train_ts.index) - one_month)\n",
        "xvalid = (min(valid_ts.index) + one_month, max(valid_ts.index) - one_month)\n",
        "xfuture = (max(valid_ts.index) + one_month, pd.to_datetime('2006'))\n",
        "xtv = xtrain[1] + 0.5 * (xvalid[0] - xtrain[1])\n",
        "xvf = xvalid[1] + 0.5 * (xfuture[0] - xvalid[1])\n",
        "plt.axvline(x=xtv, ymin=0, ymax=1, color='black', linewidth=0.5)\n",
        "plt.axvline(x=xvf, ymin=0, ymax=1, color='black', linewidth=0.5)\n",
        "plt.axhline(y=2450, xmin=0, xmax=1, color='black', linewidth=0.5)\n",
        "plt.show()\n"
      ],
      "metadata": {
        "id": "_8U2QdLZIvna"
      },
      "execution_count": null,
      "outputs": []
    },
    {
      "cell_type": "code",
      "source": [
        "nValid = 60\n",
        "nTrain = len(ridership_ts) - nValid\n",
        "train_ts = ridership_ts[:nTrain]\n",
        "valid_ts = ridership_ts[nTrain:]\n",
        "# generate the naive and seasonal naive forecast\n",
        "naive_pred = pd.Series(train_ts[-1],\n",
        "index=valid_ts.index)\n",
        "last_season = train_ts[-12:]\n",
        "seasonal_pred = pd.Series(pd.concat([last_season]*5) [:len(valid_ts)].values,index=valid_ts.index)\n",
        "\n",
        "\n",
        "ax = train_ts.plot(color='C0', linewidth=0.75, figsize=(9,7))\n",
        "valid_ts.plot(ax=ax, color='C0', linestyle='dashed',\n",
        "linewidth=0.75)\n",
        "\n",
        "\n",
        "\n",
        "ax.set_xlabel('Time')\n",
        "ax.set_ylabel('Ridership (in 000s)')\n",
        "naive_pred.plot(ax=ax, color='green')\n",
        "seasonal_pred.plot(ax=ax, color='orange')\n",
        "\n",
        "# determine coordinates for drawing the arrows and lines\n",
        "one_month = pd.Timedelta('200 days')\n",
        "xtrain = (min(train_ts.index), max(train_ts.index) -\n",
        "one_month)\n",
        "xvalid = (min(valid_ts.index) + one_month,\n",
        "max(valid_ts.index) - one_month)\n",
        "xfuture = (max(valid_ts.index) + one_month, '2006')\n",
        "xtv = xtrain[1] + 0.5 * (xvalid[0] - xtrain[1])\n",
        "xvf = xvalid[1] + 0.5 * (xfuture[0] - xvalid[1])\n",
        "ax.add_line(plt.Line2D(xtrain, (2450, 2450),\n",
        "color='black', linewidth=0.5))\n",
        "ax.add_line(plt.Line2D(xvalid, (2450, 2450),\n",
        "color='black', linewidth=0.5))\n",
        "ax.add_line(plt.Line2D(xfuture, (2450, 2450),\n",
        "color='black', linewidth=0.5))\n",
        "\n",
        "ax.axvline(x=xtv, ymin=0, ymax=1, color='black',\n",
        "linewidth=0.5)\n",
        "ax.axvline(x=xvf, ymin=0, ymax=1, color='black',\n",
        "linewidth=0.5)\n",
        "plt.show()"
      ],
      "metadata": {
        "id": "XwnZ725QOJ5O"
      },
      "execution_count": null,
      "outputs": []
    },
    {
      "cell_type": "code",
      "source": [
        "regressionSummary(valid_ts, naive_pred)"
      ],
      "metadata": {
        "id": "8clOnyPyPKs7"
      },
      "execution_count": null,
      "outputs": []
    },
    {
      "cell_type": "code",
      "source": [
        "regressionSummary(train_ts[1:], train_ts[:-1])"
      ],
      "metadata": {
        "id": "j7xMs4aVPOg_"
      },
      "execution_count": null,
      "outputs": []
    },
    {
      "cell_type": "code",
      "source": [
        "import pandas as pd\n",
        "import numpy as np\n",
        "import matplotlib.pyplot as plt\n",
        "\n",
        "# Read the data from the CSV file and set the index\n",
        "deviceA_anomalies = pd.read_csv('labeled_data.csv', index_col='payload.publishedAt', parse_dates=True)\n",
        "\n",
        "# Resample the data to daily frequency\n",
        "deviceA_anomalies_sample = deviceA_anomalies.resample('D').mean()\n",
        "\n",
        "# Define the start and end dates\n",
        "start_date = pd.to_datetime(\"2020-10-11\")\n",
        "end_date = pd.to_datetime(\"2021-12-31\")\n",
        "\n",
        "# Select the desired columns from the data\n",
        "traindata = deviceA_anomalies_sample[start_date:end_date]\n",
        "testdata = deviceA_anomalies_sample[end_date + pd.DateOffset(days=1):]\n",
        "\n",
        "# Create the ridership time series\n",
        "ridership_ts = traindata['BatV']\n",
        "\n",
        "# Set the trend variables\n",
        "traindata['trend'] = range(len(traindata))\n",
        "traindata['trend_squared'] = traindata['trend'] ** 2\n",
        "\n",
        "# Fit the linear regression model\n",
        "ridership_lm = sm.ols(formula='BatV ~ trend + trend_squared', data=traindata).fit()\n",
        "\n",
        "# Calculate the number of validation samples\n",
        "nValid = 60\n",
        "nTrain = len(ridership_ts) - nValid\n",
        "\n",
        "# Generate the naive and seasonal naive forecasts\n",
        "naive_pred = pd.Series(traindata['BatV'].iloc[-1], index=testdata.index)\n",
        "last_season = traindata['BatV'].iloc[-12:]\n",
        "seasonal_pred = pd.Series(np.tile(last_season, len(testdata)//12 + 1)[:len(testdata)], index=testdata.index)\n",
        "\n",
        "# Plot the time series and forecasts\n",
        "plt.figure(figsize=(9, 7))\n",
        "plt.plot(ridership_ts, color='C0', linewidth=0.75)\n",
        "plt.plot(ridership_ts.iloc[nTrain:], color='C0', linestyle='dashed', linewidth=0.75)\n",
        "plt.plot(naive_pred, color='green')\n",
        "plt.plot(seasonal_pred, color='orange')\n",
        "\n",
        "# Set the x-axis and y-axis labels\n",
        "plt.xlabel('Time')\n",
        "plt.ylabel('Ridership (in 000s)')\n",
        "\n",
        "# Add lines and arrows for reference\n",
        "one_month = pd.DateOffset(months=1)\n",
        "xtrain = (min(ridership_ts.index), max(ridership_ts.index) - one_month)\n",
        "xvalid = (min(ridership_ts.iloc[nTrain:].index) + one_month, max(ridership_ts.iloc[nTrain:].index) - one_month)\n",
        "xfuture = (max(testdata.index) + one_month, pd.to_datetime('2006'))\n",
        "xtv = xtrain[1] + 0.5 * (xvalid[0] - xtrain[1])\n",
        "xvf = xvalid[1] + 0.5 * (xfuture[0] - xvalid[1])\n",
        "plt.axvline(x=xtv, ymin=0, ymax=1, color='black', linewidth=0.5)\n",
        "plt.axvline(x=xvf, ymin=0, ymax=1, color='black', linewidth=0.5)\n",
        "plt.axhline(y=2, xmin=0, xmax=1, color='black', linewidth=0.5)\n",
        "plt.show()\n"
      ],
      "metadata": {
        "id": "mfEPwINPOkGE"
      },
      "execution_count": null,
      "outputs": []
    },
    {
      "cell_type": "code",
      "source": [
        "import math\n",
        "import numpy as np\n",
        "import pandas as pd\n",
        "import matplotlib.pylab as plt\n",
        "import statsmodels.formula.api as sm\n",
        "from statsmodels.tsa import tsatools, stattools\n",
        "from statsmodels.tsa.arima_model import ARIMA\n",
        "from statsmodels.graphics import tsaplots"
      ],
      "metadata": {
        "id": "YbtN48KVN9V2"
      },
      "execution_count": null,
      "outputs": []
    },
    {
      "cell_type": "code",
      "source": [
        "\n",
        "\n",
        "ridership_df['trend_squared'] = ridership_df['trend'] ** 2"
      ],
      "metadata": {
        "id": "a-HRvGl9TsQi"
      },
      "execution_count": null,
      "outputs": []
    },
    {
      "cell_type": "code",
      "source": [
        "||# fit a linear trend model to the time series\n",
        "ridership_df = tsatools.add_trend(ridership_df, trend=\"ct\")\n",
        "ridership_lm = sm.ols(formula='BatV ~ trend + trend_squared', data=ridership_df).fit()\n",
        "\n",
        "# shorter and longer time series\n",
        "ax = ridership_ts.plot()\n",
        "ax.set_xlabel('time')\n",
        "ax.set_ylabel('Ridership (in 000s)')\n",
        "ridership_lm.predict(ridership_df).plot(ax=ax)\n",
        "plt.show()"
      ],
      "metadata": {
        "id": "WAb4gdxQN9Sn"
      },
      "execution_count": null,
      "outputs": []
    },
    {
      "cell_type": "code",
      "source": [],
      "metadata": {
        "id": "h7PrruA5N9Ps"
      },
      "execution_count": null,
      "outputs": []
    },
    {
      "cell_type": "code",
      "source": [],
      "metadata": {
        "id": "LEQtpgdTN9M1"
      },
      "execution_count": null,
      "outputs": []
    },
    {
      "cell_type": "code",
      "source": [],
      "metadata": {
        "id": "79Ug_bLhN9J7"
      },
      "execution_count": null,
      "outputs": []
    },
    {
      "cell_type": "code",
      "source": [],
      "metadata": {
        "id": "1Joo22jdN9G3"
      },
      "execution_count": null,
      "outputs": []
    },
    {
      "cell_type": "code",
      "source": [],
      "metadata": {
        "id": "lSeE4mJAN9D8"
      },
      "execution_count": null,
      "outputs": []
    },
    {
      "cell_type": "code",
      "source": [],
      "metadata": {
        "id": "nzjTRuVUN9A4"
      },
      "execution_count": null,
      "outputs": []
    },
    {
      "cell_type": "code",
      "source": [],
      "metadata": {
        "id": "4cE2gxgHN899"
      },
      "execution_count": null,
      "outputs": []
    },
    {
      "cell_type": "code",
      "source": [],
      "metadata": {
        "id": "dnryhsgzN868"
      },
      "execution_count": null,
      "outputs": []
    },
    {
      "cell_type": "code",
      "source": [],
      "metadata": {
        "id": "9f0nDUk_N84B"
      },
      "execution_count": null,
      "outputs": []
    },
    {
      "cell_type": "code",
      "source": [],
      "metadata": {
        "id": "mNGWixJoN8z4"
      },
      "execution_count": null,
      "outputs": []
    },
    {
      "cell_type": "markdown",
      "source": [],
      "metadata": {
        "id": "1ejvOkJIFVxD"
      }
    }
  ]
}