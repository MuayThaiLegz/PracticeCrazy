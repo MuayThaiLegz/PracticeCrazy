{
 "cells": [
  {
   "cell_type": "code",
   "execution_count": 1,
   "metadata": {},
   "outputs": [],
   "source": [
    "from dotenv import load_dotenv\n",
    "from pymongo import MongoClient\n",
    "from pymongo.errors import CollectionInvalid\n",
    "from scipy.interpolate import make_interp_spline\n",
    "import numpy as np\n",
    "import seaborn as sns\n",
    "import urllib\n",
    "import pandas as pd\n",
    "from bson import ObjectId\n",
    "#from dotenv import load_dotenv\n",
    "#load_dotenv()\n",
    "from pymongo.errors import ConnectionFailure, InvalidName, PyMongoError"
   ]
  },
  {
   "cell_type": "code",
   "execution_count": 2,
   "metadata": {},
   "outputs": [
    {
     "data": {
      "text/plain": [
       "{'ismaster': True,\n",
       " 'maxBsonObjectSize': 16777216,\n",
       " 'maxMessageSizeBytes': 48000000,\n",
       " 'maxWriteBatchSize': 100000,\n",
       " 'localTime': datetime.datetime(2023, 7, 5, 23, 14, 35, 324000),\n",
       " 'logicalSessionTimeoutMinutes': 30,\n",
       " 'connectionId': 10,\n",
       " 'minWireVersion': 0,\n",
       " 'maxWireVersion': 8,\n",
       " 'readOnly': False,\n",
       " 'ok': 1.0}"
      ]
     },
     "execution_count": 2,
     "metadata": {},
     "output_type": "execute_result"
    }
   ],
   "source": [
    "import pandas as pd\n",
    "import json\n",
    "import pandas as pd\n",
    "from pymongo import MongoClient\n",
    "from bson.objectid import ObjectId\n",
    "\n",
    "client = MongoClient()\n",
    "client.admin.command('ismaster')\n"
   ]
  },
  {
   "cell_type": "code",
   "execution_count": 3,
   "metadata": {},
   "outputs": [],
   "source": [
    "\n",
    "client = MongoClient()\n",
    "\n",
    "lclclient = client['local']\n"
   ]
  },
  {
   "cell_type": "code",
   "execution_count": 4,
   "metadata": {},
   "outputs": [
    {
     "data": {
      "text/plain": [
       "MongoClient(host=['localhost:27017'], document_class=dict, tz_aware=False, connect=True)"
      ]
     },
     "execution_count": 4,
     "metadata": {},
     "output_type": "execute_result"
    }
   ],
   "source": [
    "lclclient.client"
   ]
  },
  {
   "cell_type": "code",
   "execution_count": 5,
   "metadata": {},
   "outputs": [],
   "source": [
    "deviceA = lclclient['deviceA']\n"
   ]
  },
  {
   "cell_type": "code",
   "execution_count": null,
   "metadata": {},
   "outputs": [],
   "source": [
    "\n",
    "\n"
   ]
  },
  {
   "cell_type": "code",
   "execution_count": 6,
   "metadata": {},
   "outputs": [],
   "source": [
    "\n",
    "# lclclient.create_collection('LitmusSimCol')\n",
    "# LitmusSimCol = lclclient['LitmusSimCol']\n",
    "\n",
    "# LitmusSim = pd.read_json('LitmusSimCol.json')\n",
    "# LitmusSim_to_insert = LitmusSim.to_dict(orient='records')\n",
    "# # LitmusSimCol.insert_many(LitmusSim_to_insert)\n",
    "\n",
    "\n",
    "\n",
    "# processed_documents = []\n",
    "# for doc in LitmusSim_to_insert:\n",
    "#     if isinstance(doc.get('_id', {}), dict) and '$oid' in doc['_id']:\n",
    "#         # Convert the '_id' field to an ObjectId\n",
    "#         doc['_id'] = ObjectId(doc['_id']['$oid'])\n",
    "#     processed_documents.append(doc)\n",
    "\n",
    "# # Insert the processed documents into the MongoDB collection\n",
    "# LitmusSimCol.insert_many(processed_documents)\n"
   ]
  },
  {
   "cell_type": "code",
   "execution_count": 7,
   "metadata": {},
   "outputs": [
    {
     "data": {
      "text/plain": [
       "<pymongo.results.InsertManyResult at 0x1c051946670>"
      ]
     },
     "execution_count": 7,
     "metadata": {},
     "output_type": "execute_result"
    }
   ],
   "source": [
    "import random\n",
    "from datetime import datetime\n",
    "import json\n",
    "from datetime import datetime, timedelta\n",
    "import pandas as pd\n",
    "from pymongo import MongoClient\n",
    "from bson.objectid import ObjectId\n",
    "\n",
    "client = MongoClient()\n",
    "\n",
    "lclclient = client['local']\n",
    "\n",
    "try:\n",
    "    lclclient.create_collection('deviceA')\n",
    "except CollectionInvalid:\n",
    "    print(\"Collection 'deviceA' already exists\")\n",
    "    deviceA = lclclient['deviceA']\n",
    "\n",
    "    pass\n",
    "\n",
    "deviceA = lclclient['deviceA']\n",
    "\n",
    "def generate_data(day):\n",
    "    \n",
    "    return {\n",
    "        'type': 'up',\n",
    "        'payload': {\n",
    "            'applicationID': '2',\n",
    "            'applicationName': 'LHT65-Moisture-App',\n",
    "            'deviceName': 'Moisture-dev01',\n",
    "            'devEUI': 'qEBB84GCKTY=',\n",
    "            'rxInfo': [],\n",
    "            'txInfo': {\n",
    "                'frequency': 904100000,\n",
    "                'modulation': 'LORA',\n",
    "                'loRaModulationInfo': {\n",
    "                    'bandwidth': 125,\n",
    "                    'spreadingFactor': 10,\n",
    "                    'codeRate': '4/5',\n",
    "                    'polarizationInversion': False\n",
    "                }\n",
    "            },\n",
    "            'adr': True,\n",
    "            'dr': 0,\n",
    "            'fCnt': random.randint(50, 100),  # Random frame counter\n",
    "            'fPort': 2,\n",
    "            'data': 'y80MMQH+AQ4if/8=',\n",
    "            'objectJSON': json.dumps({  # Randomly generated sensor data\n",
    "                \"BatV\": round(3.0 + random.random(), 3),  # Battery voltage 3.0 - 4.0\n",
    "                \"Ext_sensor\": \"Temperature Sensor\",\n",
    "                \"Hum_SHT\": str(round(30.0 + 70.0 * random.random(), 1)),  # Humidity 30 - 100\n",
    "                \"TempC_DS\": str(round(20.0 + 15.0 * random.random(), 2)),  # Temperature 20 - 35\n",
    "                \"TempC_SHT\": str(round(20.0 + 15.0 * random.random(), 2))  # Temperature 20 - 35\n",
    "            }),\n",
    "            'tags': {},\n",
    "            'confirmedUplink': False,\n",
    "            'devAddr': 'AZ4KMQ==',\n",
    "            'publishedAt': (datetime.now() - timedelta(days=day)).isoformat(),'deviceProfileID': '99091fe5-62e8-45f4-802a-3c0ad9b014a9',\n",
    "            'deviceProfileName': 'LHT65'\n",
    "        },\n",
    "        '_id': ObjectId()  # Generate a new MongoDB ObjectId\n",
    "    }\n",
    "\n",
    "# Generate a list of 1000 data points\n",
    "data = [generate_data(day) for day in range(999, -1, -1)]\n",
    "\n",
    "deviceA.insert_many(data)\n"
   ]
  },
  {
   "cell_type": "code",
   "execution_count": 379,
   "metadata": {},
   "outputs": [
    {
     "data": {
      "text/plain": [
       "<pymongo.results.InsertManyResult at 0x23d7d600070>"
      ]
     },
     "execution_count": 379,
     "metadata": {},
     "output_type": "execute_result"
    }
   ],
   "source": [
    "\n",
    "deviceA.insert_many(data)\n",
    "\n",
    "\n"
   ]
  },
  {
   "cell_type": "code",
   "execution_count": 13,
   "metadata": {},
   "outputs": [
    {
     "data": {
      "text/plain": [
       "<pymongo.results.InsertManyResult at 0x2cc44fe6be0>"
      ]
     },
     "execution_count": 13,
     "metadata": {},
     "output_type": "execute_result"
    }
   ],
   "source": [
    "lclclient.create_collection('IOT_temp')\n",
    "\n",
    "IOT_tempData = lclclient['IOT_temp']\n",
    "\n",
    "IOT_temp = pd.read_csv('IOT_temp.csv')\n",
    "\n",
    "IOT_temp_to_insert = IOT_temp.to_dict(orient='records')\n",
    "IOT_tempData.insert_many(IOT_temp_to_insert)"
   ]
  },
  {
   "cell_type": "code",
   "execution_count": 381,
   "metadata": {},
   "outputs": [],
   "source": [
    "import pandas as pd\n",
    "import json\n",
    "\n",
    "\n",
    "import json\n",
    "\n",
    "# data = []\n",
    "\n",
    "# dataplc = []\n",
    "\n",
    "# # with open('plcdata.json', 'r') as f:\n",
    "# #     for parsed_json in f:\n",
    "# #         dataplc.append(parsed_json)\n",
    "\n",
    "#plcdata = pd.read_json('plcdata.json')\n",
    "\n",
    "\n",
    "#plcdata_to_insert = plcdata.to_dict(orient='records')\n",
    "\n",
    "# lclMongo.insert_many(plcdata_to_insert)\n"
   ]
  },
  {
   "cell_type": "code",
   "execution_count": 390,
   "metadata": {},
   "outputs": [
    {
     "data": {
      "text/plain": [
       "<pymongo.results.InsertManyResult at 0x23d0232c880>"
      ]
     },
     "execution_count": 390,
     "metadata": {},
     "output_type": "execute_result"
    }
   ],
   "source": [
    "lclclient.create_collection('IOT_temp')\n",
    "\n",
    "IOT_tempData = lclclient['IOT_temp']\n",
    "\n",
    "IOT_temp = pd.read_csv('IOT_temp.csv')\n",
    "\n",
    "IOT_temp_to_insert = IOT_temp.to_dict(orient='records')\n",
    "IOT_tempData.insert_many(IOT_temp_to_insert)"
   ]
  },
  {
   "cell_type": "code",
   "execution_count": 39,
   "metadata": {},
   "outputs": [],
   "source": [
    "\n",
    "IOT_temp = pd.read_csv('IOT_temp.csv')\n",
    "\n",
    "IOT_temp_to_insert = IOT_temp.to_dict(orient='records')\n",
    "IOT_tempData.insert_many(IOT_temp_to_insert)"
   ]
  },
  {
   "cell_type": "code",
   "execution_count": 30,
   "metadata": {},
   "outputs": [
    {
     "data": {
      "text/plain": [
       "<pymongo.results.InsertManyResult at 0x1d2428421c0>"
      ]
     },
     "execution_count": 30,
     "metadata": {},
     "output_type": "execute_result"
    }
   ],
   "source": [
    "from bson.objectid import ObjectId\n",
    "\n",
    "\n",
    "LitmusSim = pd.read_json('LitmusSimCol.json')\n",
    "\n",
    "LitmusSim_to_insert = LitmusSim.to_dict(orient='records')\n",
    "\n",
    "#lclMongo.insert_many(LitmusSim_to_insert)\n",
    "\n",
    "# Process the documents to convert the '_id' fields\n",
    "processed_documents = []\n",
    "for doc in LitmusSim_to_insert:\n",
    "    if isinstance(doc.get('_id', {}), dict) and '$oid' in doc['_id']:\n",
    "        # Convert the '_id' field to an ObjectId\n",
    "        doc['_id'] = ObjectId(doc['_id']['$oid'])\n",
    "    processed_documents.append(doc)\n",
    "\n",
    "# Insert the processed documents into the MongoDB collection\n",
    "lclMongo.insert_many(processed_documents)\n"
   ]
  },
  {
   "cell_type": "code",
   "execution_count": null,
   "metadata": {},
   "outputs": [],
   "source": [
    "client = MongoClient()\n",
    "\n",
    "lclclient = client['local']\n",
    "#lclclient.create_collection('Mongo')\n",
    "lclMongo = lclclient['Mongo']\n",
    "\n",
    "client.admin.command('ismaster')\n"
   ]
  },
  {
   "cell_type": "code",
   "execution_count": 5,
   "metadata": {},
   "outputs": [],
   "source": [
    "# Read the file\n",
    "with open('LitmusSimCol.json', 'r') as f:\n",
    "    data = json.load(f)\n"
   ]
  },
  {
   "cell_type": "code",
   "execution_count": 113,
   "metadata": {},
   "outputs": [],
   "source": [
    "dataplc = []\n",
    "\n",
    "with open('device-a84041f381822936.json', 'r') as f:\n",
    "    for parsed_json in f:\n",
    "        dataplc.append(parsed_json)"
   ]
  },
  {
   "cell_type": "code",
   "execution_count": 114,
   "metadata": {},
   "outputs": [
    {
     "ename": "TypeError",
     "evalue": "string indices must be integers",
     "output_type": "error",
     "traceback": [
      "\u001b[1;31m---------------------------------------------------------------------------\u001b[0m",
      "\u001b[1;31mTypeError\u001b[0m                                 Traceback (most recent call last)",
      "Cell \u001b[1;32mIn[114], line 3\u001b[0m\n\u001b[0;32m      1\u001b[0m \u001b[39m# Convert stringified 'payload' field to dictionary\u001b[39;00m\n\u001b[0;32m      2\u001b[0m \u001b[39mfor\u001b[39;00m item \u001b[39min\u001b[39;00m dataplc:\n\u001b[1;32m----> 3\u001b[0m     item[\u001b[39m'\u001b[39m\u001b[39mpayload\u001b[39m\u001b[39m'\u001b[39m] \u001b[39m=\u001b[39m json\u001b[39m.\u001b[39mloads(item[\u001b[39m'\u001b[39;49m\u001b[39mpayload\u001b[39;49m\u001b[39m'\u001b[39;49m])\n\u001b[0;32m      5\u001b[0m \u001b[39m# Convert the list of dictionaries to DataFrame\u001b[39;00m\n\u001b[0;32m      6\u001b[0m df \u001b[39m=\u001b[39m pd\u001b[39m.\u001b[39mjson_normalize(data)\n",
      "\u001b[1;31mTypeError\u001b[0m: string indices must be integers"
     ]
    }
   ],
   "source": [
    "\n",
    "\n",
    "# Convert stringified 'payload' field to dictionary\n",
    "for item in dataplc:\n",
    "    item['payload'] = json.loads(item['payload'])\n",
    "\n",
    "# Convert the list of dictionaries to DataFrame\n",
    "df = pd.json_normalize(data)\n",
    "\n",
    "df.columns = df.columns.str.replace(\".\", '_')\n",
    "\n"
   ]
  },
  {
   "cell_type": "code",
   "execution_count": null,
   "metadata": {},
   "outputs": [],
   "source": [
    "\n",
    "iotdata = pd.read_csv('smoke_detection_iot.csv').drop('Unnamed: 0', axis=1)\n",
    "\n",
    "iotdatadataed = iotdata\n",
    "\n",
    "numcols = iotdatadataed.drop('Fire Alarm', axis=1).select_dtypes(np.number).columns.tolist()\n",
    "\n",
    "Anomaliesvalskl = (iotdatadataed[numcols] - iotdatadataed[numcols].mean()) / iotdatadataed[numcols].std()\n",
    "Anomaliesvalskl['FireAlarm'] = iotdatadataed['Fire Alarm']\n",
    "\n",
    "Anomalies = Anomaliesvalskl.copy()"
   ]
  },
  {
   "cell_type": "code",
   "execution_count": 382,
   "metadata": {},
   "outputs": [],
   "source": [
    "def mongodbconn():\n",
    "    \"\"\"\n",
    "    The function `mongodbconn` establishes a connection to a MongoDB database using the specified\n",
    "    connection string.\n",
    "    :return: The function `mongodbconn` returns a connection to the MongoDB database.\n",
    "    \"\"\"\n",
    "    connString = \"mongodb://172.30.221.161:27017/\"\n",
    "    return MongoClient(connString).local\n",
    "\n",
    "def mongodbdatasets(iotdatabase, nameOfCollection: str):\n",
    "    \"\"\"\n",
    "    The function `mongodbdatasets` reads data from MongoDB, preprocesses it, and returns a DataFrame\n",
    "    with converted columns to float.\n",
    "    \n",
    "    :param iotdatabase: The `iotdatabase` parameter is the MongoDB database object that you want to read\n",
    "    data from. It should be an instance of the `pymongo.database.Database` class\n",
    "    :param nameOfCollection: The parameter `nameOfCollection` is a string that represents the name of\n",
    "    the collection in the MongoDB database from which you want to read data\n",
    "    :type nameOfCollection: str\n",
    "    :return: a preprocessed DataFrame containing data from MongoDB.\n",
    "    \"\"\"\n",
    "    try:\n",
    "        data = list(iotdatabase[nameOfCollection].find())\n",
    "        for doc in data:\n",
    "            for key, value in doc.items():\n",
    "                if isinstance(value, str):\n",
    "                    try:\n",
    "                        doc[key] = json.loads(value)\n",
    "                    except json.JSONDecodeError:\n",
    "                        pass\n",
    "        df = pd.json_normalize(data)\n",
    "        if 'payload.objectJSON' in df.columns:\n",
    "            df['payload.objectJSON'] = df['payload.objectJSON'].apply(lambda x: json.loads(x) if isinstance(x, str) else x)\n",
    "            df = df.drop(columns='payload.objectJSON').join(pd.json_normalize(df['payload.objectJSON']))\n",
    "        return df\n",
    "    except (ConnectionFailure, InvalidName, PyMongoError) as e:\n",
    "        print(f\"Could not connect to MongoDB: {str(e)}\")\n",
    "        return None\n",
    "    \n",
    "    \n",
    "def convert_columns_to_float(df):\n",
    "    \"\"\"\n",
    "    The function \"convert_columns_to_float\" converts column types to float when possible in a given\n",
    "    dataframe.\n",
    "    \n",
    "    :param df: The parameter `df` is a pandas DataFrame object\n",
    "    :return: the input dataframe with the column types converted to float when possible.\n",
    "    \"\"\"\n",
    "    for col in df.columns:\n",
    "        if not isinstance(df[col][0], ObjectId):\n",
    "            try:\n",
    "                df[col] = df[col].astype(float)\n",
    "            except ValueError:\n",
    "                pass\n",
    "    return df\n",
    "def convert_date(df):\n",
    "    datetime_keywords = ['date', 'time', 'timestamp', 'utc', 'published', 'publishedat', 'payload.publishedat', 'payload.publishedAt']\n",
    "    date_cols = [col for col in df.columns if any(keyword.lower() in col.lower() for keyword in datetime_keywords)]\n",
    "    season_dict = {'01': 'Winter', '02': 'Winter', '03': 'Spring', '04': 'Spring', '05': 'Spring', '06': 'Summer', '07': 'Summer', '08': 'Summer', '09': 'Fall', '10': 'Fall', '11': 'Fall', '12': 'Winter'}\n",
    "\n",
    "    for col in date_cols:\n",
    "        try:\n",
    "            #df[col] = pd.to_datetime(df[col], errors='coerce')\n",
    "            date_data = df[col].dt.strftime(\"%m %Y %H\").str.split(\" \", expand=True)\n",
    "            Season = date_data[0].apply(lambda x: season_dict[x] if pd.notnull(x) else 'Default_Value')\n",
    "            df.insert(df.columns.get_loc(col)+1, \"month\", date_data[0].astype(int))\n",
    "            df.insert(df.columns.get_loc(col)+2, \"year\", date_data[1].astype(int))\n",
    "            df.insert(df.columns.get_loc(col)+3, \"season\", Season)\n",
    "            #df.set_index(col, inplace=True)\n",
    "        except ValueError:\n",
    "            pass\n",
    "    return df\n",
    "\n",
    "\n",
    "\n",
    "# def convert_date(df):\n",
    "#     \"\"\"\n",
    "#     The function `convert_date` converts date columns in a DataFrame to datetime format, extracts\n",
    "#     features such as month, year, and season, and sets the converted date column as the index.\n",
    "    \n",
    "#     :param df: The parameter `df` is a pandas DataFrame that contains the data you want to convert\n",
    "#     :return: a modified dataframe with additional columns for month, year, and season extracted from the\n",
    "#     date columns.\n",
    "#     \"\"\"\n",
    "#     datetime_keywords = ['date', 'time', 'timestamp', 'utc', 'published','publishedat','payload.publishedat','payload.publishedAt']  \n",
    "#     date_cols = [col for col in df.columns if any(keyword in col for keyword in datetime_keywords)]\n",
    "#     season_dict = {'01': 'Winter', '02': 'Winter', '03': 'Spring', '04': 'Spring', '05': 'Spring', '06': 'Summer', '07': 'Summer', '08': 'Summer', '09': 'Fall', '10': 'Fall', '11': 'Fall', '12': 'Winter'}\n",
    "#     for col in date_cols:\n",
    "#         try:\n",
    "#             if df[col].dtype == 'object':\n",
    "#                 df[col] = pd.to_datetime(df[col], errors='coerce')\n",
    "#             elif pd.api.types.is_numeric_dtype(df[col]):\n",
    "#                 df[col] = pd.to_datetime(df[col], unit='s', errors='coerce')\n",
    "#             date_data = df[col].dt.strftime(\"%m %Y %H\").str.split(\" \", expand=True)\n",
    "#             Season = date_data[0].apply(lambda x: season_dict[x] if pd.notnull(x) else 'Default_Value')\n",
    "#             df.insert(1, \"month\", date_data[0].astype(int))\n",
    "#             df.insert(3, \"year\", date_data[1].astype(int))\n",
    "#             df.insert(4, \"season\", Season)\n",
    "#             df.set_index(col, inplace=True)\n",
    "#         except ValueError:\n",
    "#             pass\n",
    "#     return df"
   ]
  },
  {
   "cell_type": "code",
   "execution_count": 391,
   "metadata": {},
   "outputs": [],
   "source": [
    "mongodb = mongodbconn()"
   ]
  },
  {
   "cell_type": "code",
   "execution_count": 392,
   "metadata": {},
   "outputs": [],
   "source": [
    "mongo_deviceA = mongodbdatasets(mongodb,'deviceA')\n"
   ]
  },
  {
   "cell_type": "code",
   "execution_count": 393,
   "metadata": {},
   "outputs": [],
   "source": [
    "df = mongo_deviceA"
   ]
  },
  {
   "cell_type": "code",
   "execution_count": 394,
   "metadata": {},
   "outputs": [
    {
     "data": {
      "text/plain": [
       "0       2023-03-27T18:30:26.684165\n",
       "1       2023-03-28T18:30:26.684165\n",
       "2       2023-03-29T18:30:26.684165\n",
       "3       2023-03-30T18:30:26.684165\n",
       "4       2023-03-31T18:30:26.684165\n",
       "                   ...            \n",
       "1495    2023-06-30T18:30:51.646079\n",
       "1496    2023-07-01T18:30:51.646079\n",
       "1497    2023-07-02T18:30:51.646079\n",
       "1498    2023-07-03T18:30:51.646079\n",
       "1499    2023-07-04T18:30:51.646079\n",
       "Name: payload.publishedAt, Length: 1500, dtype: object"
      ]
     },
     "execution_count": 394,
     "metadata": {},
     "output_type": "execute_result"
    }
   ],
   "source": [
    "df['payload.publishedAt'] "
   ]
  },
  {
   "cell_type": "code",
   "execution_count": 395,
   "metadata": {},
   "outputs": [],
   "source": [
    "df['payload.publishedAt'] = pd.to_datetime(df['payload.publishedAt'])\n",
    "#"
   ]
  },
  {
   "cell_type": "code",
   "execution_count": 396,
   "metadata": {},
   "outputs": [
    {
     "data": {
      "text/plain": [
       "0      2023-03-27 18:30:26.684165\n",
       "1      2023-03-28 18:30:26.684165\n",
       "2      2023-03-29 18:30:26.684165\n",
       "3      2023-03-30 18:30:26.684165\n",
       "4      2023-03-31 18:30:26.684165\n",
       "                  ...            \n",
       "1495   2023-06-30 18:30:51.646079\n",
       "1496   2023-07-01 18:30:51.646079\n",
       "1497   2023-07-02 18:30:51.646079\n",
       "1498   2023-07-03 18:30:51.646079\n",
       "1499   2023-07-04 18:30:51.646079\n",
       "Name: payload.publishedAt, Length: 1500, dtype: datetime64[ns]"
      ]
     },
     "execution_count": 396,
     "metadata": {},
     "output_type": "execute_result"
    }
   ],
   "source": [
    "df['payload.publishedAt'] "
   ]
  },
  {
   "cell_type": "code",
   "execution_count": 397,
   "metadata": {},
   "outputs": [],
   "source": [
    "mongo_deviceADated = convert_date(df)"
   ]
  },
  {
   "cell_type": "code",
   "execution_count": 400,
   "metadata": {},
   "outputs": [],
   "source": [
    "# df['payload.publishedAt'] = df['payload.publishedAt'].str.replace('Z', '+00:00')\n",
    "# df['payload.publishedAt'] = pd.to_datetime(df['payload.publishedAt'])\n",
    "# # First, convert all datetime objects to be timezone naive\n",
    "# df['payload.publishedAt'] = df['payload.publishedAt'].apply(lambda dt: dt.replace(tzinfo=None) if pd.notnull(dt) else dt)\n",
    "\n",
    "# # Now, convert the column to datetime (all entries will be treated as UTC)\n",
    "# df['payload.publishedAt'] = pd.to_datetime(df['payload.publishedAt'], utc=True)\n",
    "\n",
    "# mongo_deviceADated = convert_date(df)"
   ]
  },
  {
   "attachments": {},
   "cell_type": "markdown",
   "metadata": {},
   "source": []
  },
  {
   "cell_type": "code",
   "execution_count": 401,
   "metadata": {},
   "outputs": [],
   "source": [
    "# First, convert all datetime objects to be timezone naive\n",
    "df['payload.publishedAt'] = df['payload.publishedAt'].apply(lambda dt: dt.replace(tzinfo=None) if pd.notnull(dt) else dt)\n",
    "\n",
    "# Now, convert the column to datetime (all entries will be treated as UTC)\n",
    "df['payload.publishedAt'] = pd.to_datetime(df['payload.publishedAt'], utc=True)\n",
    "\n",
    "mongo_deviceADated = convert_date(df)"
   ]
  },
  {
   "cell_type": "code",
   "execution_count": 402,
   "metadata": {},
   "outputs": [],
   "source": [
    "mongo_deviceADated = convert_date(df)"
   ]
  },
  {
   "cell_type": "code",
   "execution_count": 404,
   "metadata": {},
   "outputs": [
    {
     "data": {
      "text/html": [
       "<div>\n",
       "<style scoped>\n",
       "    .dataframe tbody tr th:only-of-type {\n",
       "        vertical-align: middle;\n",
       "    }\n",
       "\n",
       "    .dataframe tbody tr th {\n",
       "        vertical-align: top;\n",
       "    }\n",
       "\n",
       "    .dataframe thead th {\n",
       "        text-align: right;\n",
       "    }\n",
       "</style>\n",
       "<table border=\"1\" class=\"dataframe\">\n",
       "  <thead>\n",
       "    <tr style=\"text-align: right;\">\n",
       "      <th></th>\n",
       "      <th>_id</th>\n",
       "      <th>type</th>\n",
       "      <th>payload.applicationID</th>\n",
       "      <th>payload.applicationName</th>\n",
       "      <th>payload.deviceName</th>\n",
       "      <th>payload.devEUI</th>\n",
       "      <th>payload.rxInfo</th>\n",
       "      <th>payload.txInfo.frequency</th>\n",
       "      <th>payload.txInfo.modulation</th>\n",
       "      <th>payload.txInfo.loRaModulationInfo.bandwidth</th>\n",
       "      <th>...</th>\n",
       "      <th>month</th>\n",
       "      <th>year</th>\n",
       "      <th>season</th>\n",
       "      <th>payload.deviceProfileID</th>\n",
       "      <th>payload.deviceProfileName</th>\n",
       "      <th>BatV</th>\n",
       "      <th>Ext_sensor</th>\n",
       "      <th>Hum_SHT</th>\n",
       "      <th>TempC_DS</th>\n",
       "      <th>TempC_SHT</th>\n",
       "    </tr>\n",
       "  </thead>\n",
       "  <tbody>\n",
       "    <tr>\n",
       "      <th>0</th>\n",
       "      <td>64a4c7b22f7f760458fb4d2d</td>\n",
       "      <td>up</td>\n",
       "      <td>2</td>\n",
       "      <td>LHT65-Moisture-App</td>\n",
       "      <td>Moisture-dev01</td>\n",
       "      <td>qEBB84GCKTY=</td>\n",
       "      <td>[]</td>\n",
       "      <td>904100000</td>\n",
       "      <td>LORA</td>\n",
       "      <td>125</td>\n",
       "      <td>...</td>\n",
       "      <td>3</td>\n",
       "      <td>2023</td>\n",
       "      <td>Spring</td>\n",
       "      <td>99091fe5-62e8-45f4-802a-3c0ad9b014a9</td>\n",
       "      <td>LHT65</td>\n",
       "      <td>3.684</td>\n",
       "      <td>Temperature Sensor</td>\n",
       "      <td>61.9</td>\n",
       "      <td>21.12</td>\n",
       "      <td>28.6</td>\n",
       "    </tr>\n",
       "    <tr>\n",
       "      <th>1</th>\n",
       "      <td>64a4c7b22f7f760458fb4d2e</td>\n",
       "      <td>up</td>\n",
       "      <td>2</td>\n",
       "      <td>LHT65-Moisture-App</td>\n",
       "      <td>Moisture-dev01</td>\n",
       "      <td>qEBB84GCKTY=</td>\n",
       "      <td>[]</td>\n",
       "      <td>904100000</td>\n",
       "      <td>LORA</td>\n",
       "      <td>125</td>\n",
       "      <td>...</td>\n",
       "      <td>3</td>\n",
       "      <td>2023</td>\n",
       "      <td>Spring</td>\n",
       "      <td>99091fe5-62e8-45f4-802a-3c0ad9b014a9</td>\n",
       "      <td>LHT65</td>\n",
       "      <td>3.416</td>\n",
       "      <td>Temperature Sensor</td>\n",
       "      <td>97.4</td>\n",
       "      <td>31.92</td>\n",
       "      <td>28.15</td>\n",
       "    </tr>\n",
       "    <tr>\n",
       "      <th>2</th>\n",
       "      <td>64a4c7b22f7f760458fb4d2f</td>\n",
       "      <td>up</td>\n",
       "      <td>2</td>\n",
       "      <td>LHT65-Moisture-App</td>\n",
       "      <td>Moisture-dev01</td>\n",
       "      <td>qEBB84GCKTY=</td>\n",
       "      <td>[]</td>\n",
       "      <td>904100000</td>\n",
       "      <td>LORA</td>\n",
       "      <td>125</td>\n",
       "      <td>...</td>\n",
       "      <td>3</td>\n",
       "      <td>2023</td>\n",
       "      <td>Spring</td>\n",
       "      <td>99091fe5-62e8-45f4-802a-3c0ad9b014a9</td>\n",
       "      <td>LHT65</td>\n",
       "      <td>3.990</td>\n",
       "      <td>Temperature Sensor</td>\n",
       "      <td>52.7</td>\n",
       "      <td>31.11</td>\n",
       "      <td>30.37</td>\n",
       "    </tr>\n",
       "    <tr>\n",
       "      <th>3</th>\n",
       "      <td>64a4c7b22f7f760458fb4d30</td>\n",
       "      <td>up</td>\n",
       "      <td>2</td>\n",
       "      <td>LHT65-Moisture-App</td>\n",
       "      <td>Moisture-dev01</td>\n",
       "      <td>qEBB84GCKTY=</td>\n",
       "      <td>[]</td>\n",
       "      <td>904100000</td>\n",
       "      <td>LORA</td>\n",
       "      <td>125</td>\n",
       "      <td>...</td>\n",
       "      <td>3</td>\n",
       "      <td>2023</td>\n",
       "      <td>Spring</td>\n",
       "      <td>99091fe5-62e8-45f4-802a-3c0ad9b014a9</td>\n",
       "      <td>LHT65</td>\n",
       "      <td>3.198</td>\n",
       "      <td>Temperature Sensor</td>\n",
       "      <td>86.1</td>\n",
       "      <td>24.0</td>\n",
       "      <td>33.17</td>\n",
       "    </tr>\n",
       "    <tr>\n",
       "      <th>4</th>\n",
       "      <td>64a4c7b22f7f760458fb4d31</td>\n",
       "      <td>up</td>\n",
       "      <td>2</td>\n",
       "      <td>LHT65-Moisture-App</td>\n",
       "      <td>Moisture-dev01</td>\n",
       "      <td>qEBB84GCKTY=</td>\n",
       "      <td>[]</td>\n",
       "      <td>904100000</td>\n",
       "      <td>LORA</td>\n",
       "      <td>125</td>\n",
       "      <td>...</td>\n",
       "      <td>3</td>\n",
       "      <td>2023</td>\n",
       "      <td>Spring</td>\n",
       "      <td>99091fe5-62e8-45f4-802a-3c0ad9b014a9</td>\n",
       "      <td>LHT65</td>\n",
       "      <td>3.162</td>\n",
       "      <td>Temperature Sensor</td>\n",
       "      <td>59.6</td>\n",
       "      <td>29.44</td>\n",
       "      <td>33.13</td>\n",
       "    </tr>\n",
       "    <tr>\n",
       "      <th>...</th>\n",
       "      <td>...</td>\n",
       "      <td>...</td>\n",
       "      <td>...</td>\n",
       "      <td>...</td>\n",
       "      <td>...</td>\n",
       "      <td>...</td>\n",
       "      <td>...</td>\n",
       "      <td>...</td>\n",
       "      <td>...</td>\n",
       "      <td>...</td>\n",
       "      <td>...</td>\n",
       "      <td>...</td>\n",
       "      <td>...</td>\n",
       "      <td>...</td>\n",
       "      <td>...</td>\n",
       "      <td>...</td>\n",
       "      <td>...</td>\n",
       "      <td>...</td>\n",
       "      <td>...</td>\n",
       "      <td>...</td>\n",
       "      <td>...</td>\n",
       "    </tr>\n",
       "    <tr>\n",
       "      <th>1495</th>\n",
       "      <td>64a4c7cb2f7f760458fb5304</td>\n",
       "      <td>up</td>\n",
       "      <td>2</td>\n",
       "      <td>LHT65-Moisture-App</td>\n",
       "      <td>Moisture-dev01</td>\n",
       "      <td>qEBB84GCKTY=</td>\n",
       "      <td>[]</td>\n",
       "      <td>904100000</td>\n",
       "      <td>LORA</td>\n",
       "      <td>125</td>\n",
       "      <td>...</td>\n",
       "      <td>6</td>\n",
       "      <td>2023</td>\n",
       "      <td>Summer</td>\n",
       "      <td>99091fe5-62e8-45f4-802a-3c0ad9b014a9</td>\n",
       "      <td>LHT65</td>\n",
       "      <td>3.606</td>\n",
       "      <td>Temperature Sensor</td>\n",
       "      <td>56.0</td>\n",
       "      <td>25.54</td>\n",
       "      <td>34.91</td>\n",
       "    </tr>\n",
       "    <tr>\n",
       "      <th>1496</th>\n",
       "      <td>64a4c7cb2f7f760458fb5305</td>\n",
       "      <td>up</td>\n",
       "      <td>2</td>\n",
       "      <td>LHT65-Moisture-App</td>\n",
       "      <td>Moisture-dev01</td>\n",
       "      <td>qEBB84GCKTY=</td>\n",
       "      <td>[]</td>\n",
       "      <td>904100000</td>\n",
       "      <td>LORA</td>\n",
       "      <td>125</td>\n",
       "      <td>...</td>\n",
       "      <td>7</td>\n",
       "      <td>2023</td>\n",
       "      <td>Summer</td>\n",
       "      <td>99091fe5-62e8-45f4-802a-3c0ad9b014a9</td>\n",
       "      <td>LHT65</td>\n",
       "      <td>3.799</td>\n",
       "      <td>Temperature Sensor</td>\n",
       "      <td>47.2</td>\n",
       "      <td>25.79</td>\n",
       "      <td>25.23</td>\n",
       "    </tr>\n",
       "    <tr>\n",
       "      <th>1497</th>\n",
       "      <td>64a4c7cb2f7f760458fb5306</td>\n",
       "      <td>up</td>\n",
       "      <td>2</td>\n",
       "      <td>LHT65-Moisture-App</td>\n",
       "      <td>Moisture-dev01</td>\n",
       "      <td>qEBB84GCKTY=</td>\n",
       "      <td>[]</td>\n",
       "      <td>904100000</td>\n",
       "      <td>LORA</td>\n",
       "      <td>125</td>\n",
       "      <td>...</td>\n",
       "      <td>7</td>\n",
       "      <td>2023</td>\n",
       "      <td>Summer</td>\n",
       "      <td>99091fe5-62e8-45f4-802a-3c0ad9b014a9</td>\n",
       "      <td>LHT65</td>\n",
       "      <td>3.614</td>\n",
       "      <td>Temperature Sensor</td>\n",
       "      <td>73.4</td>\n",
       "      <td>34.72</td>\n",
       "      <td>31.24</td>\n",
       "    </tr>\n",
       "    <tr>\n",
       "      <th>1498</th>\n",
       "      <td>64a4c7cb2f7f760458fb5307</td>\n",
       "      <td>up</td>\n",
       "      <td>2</td>\n",
       "      <td>LHT65-Moisture-App</td>\n",
       "      <td>Moisture-dev01</td>\n",
       "      <td>qEBB84GCKTY=</td>\n",
       "      <td>[]</td>\n",
       "      <td>904100000</td>\n",
       "      <td>LORA</td>\n",
       "      <td>125</td>\n",
       "      <td>...</td>\n",
       "      <td>7</td>\n",
       "      <td>2023</td>\n",
       "      <td>Summer</td>\n",
       "      <td>99091fe5-62e8-45f4-802a-3c0ad9b014a9</td>\n",
       "      <td>LHT65</td>\n",
       "      <td>3.985</td>\n",
       "      <td>Temperature Sensor</td>\n",
       "      <td>55.5</td>\n",
       "      <td>27.49</td>\n",
       "      <td>25.02</td>\n",
       "    </tr>\n",
       "    <tr>\n",
       "      <th>1499</th>\n",
       "      <td>64a4c7cb2f7f760458fb5308</td>\n",
       "      <td>up</td>\n",
       "      <td>2</td>\n",
       "      <td>LHT65-Moisture-App</td>\n",
       "      <td>Moisture-dev01</td>\n",
       "      <td>qEBB84GCKTY=</td>\n",
       "      <td>[]</td>\n",
       "      <td>904100000</td>\n",
       "      <td>LORA</td>\n",
       "      <td>125</td>\n",
       "      <td>...</td>\n",
       "      <td>7</td>\n",
       "      <td>2023</td>\n",
       "      <td>Summer</td>\n",
       "      <td>99091fe5-62e8-45f4-802a-3c0ad9b014a9</td>\n",
       "      <td>LHT65</td>\n",
       "      <td>3.831</td>\n",
       "      <td>Temperature Sensor</td>\n",
       "      <td>33.8</td>\n",
       "      <td>27.9</td>\n",
       "      <td>29.69</td>\n",
       "    </tr>\n",
       "  </tbody>\n",
       "</table>\n",
       "<p>1500 rows × 31 columns</p>\n",
       "</div>"
      ],
      "text/plain": [
       "                           _id type payload.applicationID  \\\n",
       "0     64a4c7b22f7f760458fb4d2d   up                     2   \n",
       "1     64a4c7b22f7f760458fb4d2e   up                     2   \n",
       "2     64a4c7b22f7f760458fb4d2f   up                     2   \n",
       "3     64a4c7b22f7f760458fb4d30   up                     2   \n",
       "4     64a4c7b22f7f760458fb4d31   up                     2   \n",
       "...                        ...  ...                   ...   \n",
       "1495  64a4c7cb2f7f760458fb5304   up                     2   \n",
       "1496  64a4c7cb2f7f760458fb5305   up                     2   \n",
       "1497  64a4c7cb2f7f760458fb5306   up                     2   \n",
       "1498  64a4c7cb2f7f760458fb5307   up                     2   \n",
       "1499  64a4c7cb2f7f760458fb5308   up                     2   \n",
       "\n",
       "     payload.applicationName payload.deviceName payload.devEUI payload.rxInfo  \\\n",
       "0         LHT65-Moisture-App     Moisture-dev01   qEBB84GCKTY=             []   \n",
       "1         LHT65-Moisture-App     Moisture-dev01   qEBB84GCKTY=             []   \n",
       "2         LHT65-Moisture-App     Moisture-dev01   qEBB84GCKTY=             []   \n",
       "3         LHT65-Moisture-App     Moisture-dev01   qEBB84GCKTY=             []   \n",
       "4         LHT65-Moisture-App     Moisture-dev01   qEBB84GCKTY=             []   \n",
       "...                      ...                ...            ...            ...   \n",
       "1495      LHT65-Moisture-App     Moisture-dev01   qEBB84GCKTY=             []   \n",
       "1496      LHT65-Moisture-App     Moisture-dev01   qEBB84GCKTY=             []   \n",
       "1497      LHT65-Moisture-App     Moisture-dev01   qEBB84GCKTY=             []   \n",
       "1498      LHT65-Moisture-App     Moisture-dev01   qEBB84GCKTY=             []   \n",
       "1499      LHT65-Moisture-App     Moisture-dev01   qEBB84GCKTY=             []   \n",
       "\n",
       "      payload.txInfo.frequency payload.txInfo.modulation  \\\n",
       "0                    904100000                      LORA   \n",
       "1                    904100000                      LORA   \n",
       "2                    904100000                      LORA   \n",
       "3                    904100000                      LORA   \n",
       "4                    904100000                      LORA   \n",
       "...                        ...                       ...   \n",
       "1495                 904100000                      LORA   \n",
       "1496                 904100000                      LORA   \n",
       "1497                 904100000                      LORA   \n",
       "1498                 904100000                      LORA   \n",
       "1499                 904100000                      LORA   \n",
       "\n",
       "      payload.txInfo.loRaModulationInfo.bandwidth  ...  month  year  season  \\\n",
       "0                                             125  ...      3  2023  Spring   \n",
       "1                                             125  ...      3  2023  Spring   \n",
       "2                                             125  ...      3  2023  Spring   \n",
       "3                                             125  ...      3  2023  Spring   \n",
       "4                                             125  ...      3  2023  Spring   \n",
       "...                                           ...  ...    ...   ...     ...   \n",
       "1495                                          125  ...      6  2023  Summer   \n",
       "1496                                          125  ...      7  2023  Summer   \n",
       "1497                                          125  ...      7  2023  Summer   \n",
       "1498                                          125  ...      7  2023  Summer   \n",
       "1499                                          125  ...      7  2023  Summer   \n",
       "\n",
       "                   payload.deviceProfileID  payload.deviceProfileName   BatV  \\\n",
       "0     99091fe5-62e8-45f4-802a-3c0ad9b014a9                      LHT65  3.684   \n",
       "1     99091fe5-62e8-45f4-802a-3c0ad9b014a9                      LHT65  3.416   \n",
       "2     99091fe5-62e8-45f4-802a-3c0ad9b014a9                      LHT65  3.990   \n",
       "3     99091fe5-62e8-45f4-802a-3c0ad9b014a9                      LHT65  3.198   \n",
       "4     99091fe5-62e8-45f4-802a-3c0ad9b014a9                      LHT65  3.162   \n",
       "...                                    ...                        ...    ...   \n",
       "1495  99091fe5-62e8-45f4-802a-3c0ad9b014a9                      LHT65  3.606   \n",
       "1496  99091fe5-62e8-45f4-802a-3c0ad9b014a9                      LHT65  3.799   \n",
       "1497  99091fe5-62e8-45f4-802a-3c0ad9b014a9                      LHT65  3.614   \n",
       "1498  99091fe5-62e8-45f4-802a-3c0ad9b014a9                      LHT65  3.985   \n",
       "1499  99091fe5-62e8-45f4-802a-3c0ad9b014a9                      LHT65  3.831   \n",
       "\n",
       "              Ext_sensor Hum_SHT  TempC_DS TempC_SHT  \n",
       "0     Temperature Sensor    61.9     21.12      28.6  \n",
       "1     Temperature Sensor    97.4     31.92     28.15  \n",
       "2     Temperature Sensor    52.7     31.11     30.37  \n",
       "3     Temperature Sensor    86.1      24.0     33.17  \n",
       "4     Temperature Sensor    59.6     29.44     33.13  \n",
       "...                  ...     ...       ...       ...  \n",
       "1495  Temperature Sensor    56.0     25.54     34.91  \n",
       "1496  Temperature Sensor    47.2     25.79     25.23  \n",
       "1497  Temperature Sensor    73.4     34.72     31.24  \n",
       "1498  Temperature Sensor    55.5     27.49     25.02  \n",
       "1499  Temperature Sensor    33.8      27.9     29.69  \n",
       "\n",
       "[1500 rows x 31 columns]"
      ]
     },
     "execution_count": 404,
     "metadata": {},
     "output_type": "execute_result"
    }
   ],
   "source": [
    "mongo_deviceADated"
   ]
  },
  {
   "cell_type": "code",
   "execution_count": 319,
   "metadata": {},
   "outputs": [],
   "source": [
    "#print(mongo_deviceA['payload.publishedAt'].unique())\n"
   ]
  },
  {
   "cell_type": "code",
   "execution_count": 284,
   "metadata": {},
   "outputs": [],
   "source": [
    "\n",
    "#mongo_deviceA['payload.publishedAt'] = pd.to_datetime(mongo_deviceA['payload.publishedAt'], format=\"%Y-%m-%dT%H:%M:%S.%f\")\n",
    "        "
   ]
  },
  {
   "cell_type": "code",
   "execution_count": 283,
   "metadata": {},
   "outputs": [],
   "source": [
    "#mongo_deviceA['payload.publishedAt'] = pd.to_datetime(mongo_deviceA['payload.publishedAt']).dt.tz_convert(None)\n"
   ]
  },
  {
   "cell_type": "code",
   "execution_count": 276,
   "metadata": {},
   "outputs": [],
   "source": [
    "\n",
    "#mongo_deviceA['payload.publishedAt'] = pd.to_datetime(mongo_deviceA['payload.publishedAt'], format=\"%Y-%m-%dT%H:%M:%S.%f\")\n",
    "        "
   ]
  },
  {
   "cell_type": "code",
   "execution_count": 251,
   "metadata": {},
   "outputs": [
    {
     "data": {
      "text/plain": [
       "Index(['_id', 'type', 'payload.applicationID', 'payload.applicationName',\n",
       "       'payload.deviceName', 'payload.devEUI', 'payload.rxInfo',\n",
       "       'payload.txInfo.frequency', 'payload.txInfo.modulation',\n",
       "       'payload.txInfo.loRaModulationInfo.bandwidth',\n",
       "       'payload.txInfo.loRaModulationInfo.spreadingFactor',\n",
       "       'payload.txInfo.loRaModulationInfo.codeRate',\n",
       "       'payload.txInfo.loRaModulationInfo.polarizationInversion',\n",
       "       'payload.adr', 'payload.dr', 'payload.fCnt', 'payload.fPort',\n",
       "       'payload.data', 'payload.confirmedUplink', 'payload.devAddr',\n",
       "       'payload.publishedAt', 'payload.deviceProfileID',\n",
       "       'payload.deviceProfileName', 'BatV', 'Ext_sensor', 'Hum_SHT',\n",
       "       'TempC_DS', 'TempC_SHT'],\n",
       "      dtype='object')"
      ]
     },
     "execution_count": 251,
     "metadata": {},
     "output_type": "execute_result"
    }
   ],
   "source": [
    "mongo_deviceA.columns"
   ]
  },
  {
   "cell_type": "code",
   "execution_count": 252,
   "metadata": {},
   "outputs": [],
   "source": [
    "mongo_deviceADated = convert_date(mongo_deviceA)"
   ]
  },
  {
   "cell_type": "code",
   "execution_count": 255,
   "metadata": {},
   "outputs": [
    {
     "name": "stdout",
     "output_type": "stream",
     "text": [
      "<class 'pandas.core.frame.DataFrame'>\n",
      "RangeIndex: 510 entries, 0 to 509\n",
      "Data columns (total 28 columns):\n",
      " #   Column                                                   Non-Null Count  Dtype  \n",
      "---  ------                                                   --------------  -----  \n",
      " 0   _id                                                      510 non-null    object \n",
      " 1   type                                                     510 non-null    object \n",
      " 2   payload.applicationID                                    510 non-null    float64\n",
      " 3   payload.applicationName                                  510 non-null    object \n",
      " 4   payload.deviceName                                       510 non-null    object \n",
      " 5   payload.devEUI                                           510 non-null    object \n",
      " 6   payload.rxInfo                                           510 non-null    object \n",
      " 7   payload.txInfo.frequency                                 510 non-null    float64\n",
      " 8   payload.txInfo.modulation                                510 non-null    object \n",
      " 9   payload.txInfo.loRaModulationInfo.bandwidth              510 non-null    float64\n",
      " 10  payload.txInfo.loRaModulationInfo.spreadingFactor        510 non-null    float64\n",
      " 11  payload.txInfo.loRaModulationInfo.codeRate               510 non-null    object \n",
      " 12  payload.txInfo.loRaModulationInfo.polarizationInversion  510 non-null    float64\n",
      " 13  payload.adr                                              510 non-null    float64\n",
      " 14  payload.dr                                               510 non-null    float64\n",
      " 15  payload.fCnt                                             510 non-null    float64\n",
      " 16  payload.fPort                                            510 non-null    float64\n",
      " 17  payload.data                                             510 non-null    object \n",
      " 18  payload.confirmedUplink                                  510 non-null    float64\n",
      " 19  payload.devAddr                                          510 non-null    object \n",
      " 20  payload.publishedAt                                      510 non-null    object \n",
      " 21  payload.deviceProfileID                                  510 non-null    object \n",
      " 22  payload.deviceProfileName                                510 non-null    object \n",
      " 23  BatV                                                     510 non-null    float64\n",
      " 24  Ext_sensor                                               510 non-null    object \n",
      " 25  Hum_SHT                                                  510 non-null    float64\n",
      " 26  TempC_DS                                                 510 non-null    float64\n",
      " 27  TempC_SHT                                                510 non-null    float64\n",
      "dtypes: float64(14), object(14)\n",
      "memory usage: 111.7+ KB\n"
     ]
    }
   ],
   "source": [
    "mongo_deviceADated.info()"
   ]
  },
  {
   "cell_type": "code",
   "execution_count": 254,
   "metadata": {},
   "outputs": [
    {
     "data": {
      "text/plain": [
       "Index(['_id', 'type', 'payload.applicationID', 'payload.applicationName',\n",
       "       'payload.deviceName', 'payload.devEUI', 'payload.rxInfo',\n",
       "       'payload.txInfo.frequency', 'payload.txInfo.modulation',\n",
       "       'payload.txInfo.loRaModulationInfo.bandwidth',\n",
       "       'payload.txInfo.loRaModulationInfo.spreadingFactor',\n",
       "       'payload.txInfo.loRaModulationInfo.codeRate',\n",
       "       'payload.txInfo.loRaModulationInfo.polarizationInversion',\n",
       "       'payload.adr', 'payload.dr', 'payload.fCnt', 'payload.fPort',\n",
       "       'payload.data', 'payload.confirmedUplink', 'payload.devAddr',\n",
       "       'payload.publishedAt', 'payload.deviceProfileID',\n",
       "       'payload.deviceProfileName', 'BatV', 'Ext_sensor', 'Hum_SHT',\n",
       "       'TempC_DS', 'TempC_SHT'],\n",
       "      dtype='object')"
      ]
     },
     "execution_count": 254,
     "metadata": {},
     "output_type": "execute_result"
    }
   ],
   "source": [
    "mongo_deviceADated.columns"
   ]
  }
 ],
 "metadata": {
  "kernelspec": {
   "display_name": "myenv",
   "language": "python",
   "name": "python3"
  },
  "language_info": {
   "codemirror_mode": {
    "name": "ipython",
    "version": 3
   },
   "file_extension": ".py",
   "mimetype": "text/x-python",
   "name": "python",
   "nbconvert_exporter": "python",
   "pygments_lexer": "ipython3",
   "version": "3.8.16"
  },
  "orig_nbformat": 4
 },
 "nbformat": 4,
 "nbformat_minor": 2
}
