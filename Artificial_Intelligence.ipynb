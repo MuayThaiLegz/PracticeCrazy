{
  "nbformat": 4,
  "nbformat_minor": 0,
  "metadata": {
    "colab": {
      "provenance": [],
      "authorship_tag": "ABX9TyP3K4zgr/9Pt2XW8+t3THDR",
      "include_colab_link": true
    },
    "kernelspec": {
      "name": "python3",
      "display_name": "Python 3"
    },
    "language_info": {
      "name": "python"
    }
  },
  "cells": [
    {
      "cell_type": "markdown",
      "metadata": {
        "id": "view-in-github",
        "colab_type": "text"
      },
      "source": [
        "<a href=\"https://colab.research.google.com/github/MuayThaiLegz/PracticeCrazy/blob/main/Artificial_Intelligence.ipynb\" target=\"_parent\"><img src=\"https://colab.research.google.com/assets/colab-badge.svg\" alt=\"Open In Colab\"/></a>"
      ]
    },
    {
      "cell_type": "code",
      "execution_count": 1,
      "metadata": {
        "colab": {
          "base_uri": "https://localhost:8080/"
        },
        "id": "y2dKaRMCCVQe",
        "outputId": "4c043575-f5a7-42c1-fad2-08d60f8a8281"
      },
      "outputs": [
        {
          "output_type": "stream",
          "name": "stdout",
          "text": [
            "--2023-05-23 14:38:18--  http://archive.ics.uci.edu/ml/machine-learning-databases/adult/adult.test\n",
            "Resolving archive.ics.uci.edu (archive.ics.uci.edu)... 128.195.10.252\n",
            "Connecting to archive.ics.uci.edu (archive.ics.uci.edu)|128.195.10.252|:80... connected.\n",
            "HTTP request sent, awaiting response... 200 OK\n",
            "Length: 2003153 (1.9M) [application/x-httpd-php]\n",
            "Saving to: ‘adult.test’\n",
            "\n",
            "adult.test          100%[===================>]   1.91M  2.09MB/s    in 0.9s    \n",
            "\n",
            "2023-05-23 14:38:19 (2.09 MB/s) - ‘adult.test’ saved [2003153/2003153]\n",
            "\n"
          ]
        }
      ],
      "source": [
        "!wget http://archive.ics.uci.edu/ml/machine-learning-databases/adult/adult.test"
      ]
    },
    {
      "cell_type": "code",
      "source": [
        "!wget http://archive.ics.uci.edu/ml/machine-learning-databases/adult/adult.data"
      ],
      "metadata": {
        "colab": {
          "base_uri": "https://localhost:8080/"
        },
        "id": "SJgJgXpEDG-y",
        "outputId": "1abccfb0-009e-4059-98ea-4ff5f639d072"
      },
      "execution_count": 4,
      "outputs": [
        {
          "output_type": "stream",
          "name": "stdout",
          "text": [
            "--2023-05-23 14:38:52--  http://archive.ics.uci.edu/ml/machine-learning-databases/adult/adult.data\n",
            "Resolving archive.ics.uci.edu (archive.ics.uci.edu)... 128.195.10.252\n",
            "Connecting to archive.ics.uci.edu (archive.ics.uci.edu)|128.195.10.252|:80... connected.\n",
            "HTTP request sent, awaiting response... 200 OK\n",
            "Length: 3974305 (3.8M) [application/x-httpd-php]\n",
            "Saving to: ‘adult.data’\n",
            "\n",
            "adult.data          100%[===================>]   3.79M  3.64MB/s    in 1.0s    \n",
            "\n",
            "2023-05-23 14:38:53 (3.64 MB/s) - ‘adult.data’ saved [3974305/3974305]\n",
            "\n"
          ]
        }
      ]
    },
    {
      "cell_type": "code",
      "source": [
        "import pandas as pd\n",
        "train = pd.read_csv(\n",
        "    'adult.data',\n",
        "    names=['age', 'workclass', 'fnlwgt',\n",
        "             'education', 'education-num',\n",
        "             'marital-status', 'occupation',\n",
        "             'relationship', 'race', 'sex',\n",
        "             'capital-gain', 'capital-loss',\n",
        "             'hours-per-week', 'native-country', '50k']\n",
        "             )\n",
        "train.head()"
      ],
      "metadata": {
        "colab": {
          "base_uri": "https://localhost:8080/",
          "height": 206
        },
        "id": "oUQxf_cmDIph",
        "outputId": "5ab8bfe1-50fc-4db5-dbd8-d77fcdff20a5"
      },
      "execution_count": 5,
      "outputs": [
        {
          "output_type": "execute_result",
          "data": {
            "text/plain": [
              "   age          workclass  fnlwgt   education  education-num  \\\n",
              "0   39          State-gov   77516   Bachelors             13   \n",
              "1   50   Self-emp-not-inc   83311   Bachelors             13   \n",
              "2   38            Private  215646     HS-grad              9   \n",
              "3   53            Private  234721        11th              7   \n",
              "4   28            Private  338409   Bachelors             13   \n",
              "\n",
              "        marital-status          occupation    relationship    race      sex  \\\n",
              "0        Never-married        Adm-clerical   Not-in-family   White     Male   \n",
              "1   Married-civ-spouse     Exec-managerial         Husband   White     Male   \n",
              "2             Divorced   Handlers-cleaners   Not-in-family   White     Male   \n",
              "3   Married-civ-spouse   Handlers-cleaners         Husband   Black     Male   \n",
              "4   Married-civ-spouse      Prof-specialty            Wife   Black   Female   \n",
              "\n",
              "   capital-gain  capital-loss  hours-per-week  native-country     50k  \n",
              "0          2174             0              40   United-States   <=50K  \n",
              "1             0             0              13   United-States   <=50K  \n",
              "2             0             0              40   United-States   <=50K  \n",
              "3             0             0              40   United-States   <=50K  \n",
              "4             0             0              40            Cuba   <=50K  "
            ],
            "text/html": [
              "\n",
              "  <div id=\"df-0db9d735-f953-4d77-8c70-3b5f9aec9671\">\n",
              "    <div class=\"colab-df-container\">\n",
              "      <div>\n",
              "<style scoped>\n",
              "    .dataframe tbody tr th:only-of-type {\n",
              "        vertical-align: middle;\n",
              "    }\n",
              "\n",
              "    .dataframe tbody tr th {\n",
              "        vertical-align: top;\n",
              "    }\n",
              "\n",
              "    .dataframe thead th {\n",
              "        text-align: right;\n",
              "    }\n",
              "</style>\n",
              "<table border=\"1\" class=\"dataframe\">\n",
              "  <thead>\n",
              "    <tr style=\"text-align: right;\">\n",
              "      <th></th>\n",
              "      <th>age</th>\n",
              "      <th>workclass</th>\n",
              "      <th>fnlwgt</th>\n",
              "      <th>education</th>\n",
              "      <th>education-num</th>\n",
              "      <th>marital-status</th>\n",
              "      <th>occupation</th>\n",
              "      <th>relationship</th>\n",
              "      <th>race</th>\n",
              "      <th>sex</th>\n",
              "      <th>capital-gain</th>\n",
              "      <th>capital-loss</th>\n",
              "      <th>hours-per-week</th>\n",
              "      <th>native-country</th>\n",
              "      <th>50k</th>\n",
              "    </tr>\n",
              "  </thead>\n",
              "  <tbody>\n",
              "    <tr>\n",
              "      <th>0</th>\n",
              "      <td>39</td>\n",
              "      <td>State-gov</td>\n",
              "      <td>77516</td>\n",
              "      <td>Bachelors</td>\n",
              "      <td>13</td>\n",
              "      <td>Never-married</td>\n",
              "      <td>Adm-clerical</td>\n",
              "      <td>Not-in-family</td>\n",
              "      <td>White</td>\n",
              "      <td>Male</td>\n",
              "      <td>2174</td>\n",
              "      <td>0</td>\n",
              "      <td>40</td>\n",
              "      <td>United-States</td>\n",
              "      <td>&lt;=50K</td>\n",
              "    </tr>\n",
              "    <tr>\n",
              "      <th>1</th>\n",
              "      <td>50</td>\n",
              "      <td>Self-emp-not-inc</td>\n",
              "      <td>83311</td>\n",
              "      <td>Bachelors</td>\n",
              "      <td>13</td>\n",
              "      <td>Married-civ-spouse</td>\n",
              "      <td>Exec-managerial</td>\n",
              "      <td>Husband</td>\n",
              "      <td>White</td>\n",
              "      <td>Male</td>\n",
              "      <td>0</td>\n",
              "      <td>0</td>\n",
              "      <td>13</td>\n",
              "      <td>United-States</td>\n",
              "      <td>&lt;=50K</td>\n",
              "    </tr>\n",
              "    <tr>\n",
              "      <th>2</th>\n",
              "      <td>38</td>\n",
              "      <td>Private</td>\n",
              "      <td>215646</td>\n",
              "      <td>HS-grad</td>\n",
              "      <td>9</td>\n",
              "      <td>Divorced</td>\n",
              "      <td>Handlers-cleaners</td>\n",
              "      <td>Not-in-family</td>\n",
              "      <td>White</td>\n",
              "      <td>Male</td>\n",
              "      <td>0</td>\n",
              "      <td>0</td>\n",
              "      <td>40</td>\n",
              "      <td>United-States</td>\n",
              "      <td>&lt;=50K</td>\n",
              "    </tr>\n",
              "    <tr>\n",
              "      <th>3</th>\n",
              "      <td>53</td>\n",
              "      <td>Private</td>\n",
              "      <td>234721</td>\n",
              "      <td>11th</td>\n",
              "      <td>7</td>\n",
              "      <td>Married-civ-spouse</td>\n",
              "      <td>Handlers-cleaners</td>\n",
              "      <td>Husband</td>\n",
              "      <td>Black</td>\n",
              "      <td>Male</td>\n",
              "      <td>0</td>\n",
              "      <td>0</td>\n",
              "      <td>40</td>\n",
              "      <td>United-States</td>\n",
              "      <td>&lt;=50K</td>\n",
              "    </tr>\n",
              "    <tr>\n",
              "      <th>4</th>\n",
              "      <td>28</td>\n",
              "      <td>Private</td>\n",
              "      <td>338409</td>\n",
              "      <td>Bachelors</td>\n",
              "      <td>13</td>\n",
              "      <td>Married-civ-spouse</td>\n",
              "      <td>Prof-specialty</td>\n",
              "      <td>Wife</td>\n",
              "      <td>Black</td>\n",
              "      <td>Female</td>\n",
              "      <td>0</td>\n",
              "      <td>0</td>\n",
              "      <td>40</td>\n",
              "      <td>Cuba</td>\n",
              "      <td>&lt;=50K</td>\n",
              "    </tr>\n",
              "  </tbody>\n",
              "</table>\n",
              "</div>\n",
              "      <button class=\"colab-df-convert\" onclick=\"convertToInteractive('df-0db9d735-f953-4d77-8c70-3b5f9aec9671')\"\n",
              "              title=\"Convert this dataframe to an interactive table.\"\n",
              "              style=\"display:none;\">\n",
              "        \n",
              "  <svg xmlns=\"http://www.w3.org/2000/svg\" height=\"24px\"viewBox=\"0 0 24 24\"\n",
              "       width=\"24px\">\n",
              "    <path d=\"M0 0h24v24H0V0z\" fill=\"none\"/>\n",
              "    <path d=\"M18.56 5.44l.94 2.06.94-2.06 2.06-.94-2.06-.94-.94-2.06-.94 2.06-2.06.94zm-11 1L8.5 8.5l.94-2.06 2.06-.94-2.06-.94L8.5 2.5l-.94 2.06-2.06.94zm10 10l.94 2.06.94-2.06 2.06-.94-2.06-.94-.94-2.06-.94 2.06-2.06.94z\"/><path d=\"M17.41 7.96l-1.37-1.37c-.4-.4-.92-.59-1.43-.59-.52 0-1.04.2-1.43.59L10.3 9.45l-7.72 7.72c-.78.78-.78 2.05 0 2.83L4 21.41c.39.39.9.59 1.41.59.51 0 1.02-.2 1.41-.59l7.78-7.78 2.81-2.81c.8-.78.8-2.07 0-2.86zM5.41 20L4 18.59l7.72-7.72 1.47 1.35L5.41 20z\"/>\n",
              "  </svg>\n",
              "      </button>\n",
              "      \n",
              "  <style>\n",
              "    .colab-df-container {\n",
              "      display:flex;\n",
              "      flex-wrap:wrap;\n",
              "      gap: 12px;\n",
              "    }\n",
              "\n",
              "    .colab-df-convert {\n",
              "      background-color: #E8F0FE;\n",
              "      border: none;\n",
              "      border-radius: 50%;\n",
              "      cursor: pointer;\n",
              "      display: none;\n",
              "      fill: #1967D2;\n",
              "      height: 32px;\n",
              "      padding: 0 0 0 0;\n",
              "      width: 32px;\n",
              "    }\n",
              "\n",
              "    .colab-df-convert:hover {\n",
              "      background-color: #E2EBFA;\n",
              "      box-shadow: 0px 1px 2px rgba(60, 64, 67, 0.3), 0px 1px 3px 1px rgba(60, 64, 67, 0.15);\n",
              "      fill: #174EA6;\n",
              "    }\n",
              "\n",
              "    [theme=dark] .colab-df-convert {\n",
              "      background-color: #3B4455;\n",
              "      fill: #D2E3FC;\n",
              "    }\n",
              "\n",
              "    [theme=dark] .colab-df-convert:hover {\n",
              "      background-color: #434B5C;\n",
              "      box-shadow: 0px 1px 3px 1px rgba(0, 0, 0, 0.15);\n",
              "      filter: drop-shadow(0px 1px 2px rgba(0, 0, 0, 0.3));\n",
              "      fill: #FFFFFF;\n",
              "    }\n",
              "  </style>\n",
              "\n",
              "      <script>\n",
              "        const buttonEl =\n",
              "          document.querySelector('#df-0db9d735-f953-4d77-8c70-3b5f9aec9671 button.colab-df-convert');\n",
              "        buttonEl.style.display =\n",
              "          google.colab.kernel.accessAllowed ? 'block' : 'none';\n",
              "\n",
              "        async function convertToInteractive(key) {\n",
              "          const element = document.querySelector('#df-0db9d735-f953-4d77-8c70-3b5f9aec9671');\n",
              "          const dataTable =\n",
              "            await google.colab.kernel.invokeFunction('convertToInteractive',\n",
              "                                                     [key], {});\n",
              "          if (!dataTable) return;\n",
              "\n",
              "          const docLinkHtml = 'Like what you see? Visit the ' +\n",
              "            '<a target=\"_blank\" href=https://colab.research.google.com/notebooks/data_table.ipynb>data table notebook</a>'\n",
              "            + ' to learn more about interactive tables.';\n",
              "          element.innerHTML = '';\n",
              "          dataTable['output_type'] = 'display_data';\n",
              "          await google.colab.output.renderOutput(dataTable, element);\n",
              "          const docLink = document.createElement('div');\n",
              "          docLink.innerHTML = docLinkHtml;\n",
              "          element.appendChild(docLink);\n",
              "        }\n",
              "      </script>\n",
              "    </div>\n",
              "  </div>\n",
              "  "
            ]
          },
          "metadata": {},
          "execution_count": 5
        }
      ]
    },
    {
      "cell_type": "code",
      "source": [],
      "metadata": {
        "colab": {
          "base_uri": "https://localhost:8080/",
          "height": 206
        },
        "id": "C6_hQWpWC8fl",
        "outputId": "8c57bee1-ee48-4e13-b7fb-bf031ece1a63"
      },
      "execution_count": 3,
      "outputs": [
        {
          "output_type": "execute_result",
          "data": {
            "text/plain": [
              "                    age   workclass    fnlwgt      education  education-num  \\\n",
              "0  |1x3 Cross validator         NaN       NaN            NaN            NaN   \n",
              "1                    25     Private  226802.0           11th            7.0   \n",
              "2                    38     Private   89814.0        HS-grad            9.0   \n",
              "3                    28   Local-gov  336951.0     Assoc-acdm           12.0   \n",
              "4                    44     Private  160323.0   Some-college           10.0   \n",
              "\n",
              "        marital-status          occupation relationship    race    sex  \\\n",
              "0                  NaN                 NaN          NaN     NaN    NaN   \n",
              "1        Never-married   Machine-op-inspct    Own-child   Black   Male   \n",
              "2   Married-civ-spouse     Farming-fishing      Husband   White   Male   \n",
              "3   Married-civ-spouse     Protective-serv      Husband   White   Male   \n",
              "4   Married-civ-spouse   Machine-op-inspct      Husband   Black   Male   \n",
              "\n",
              "   capital-gain  capital-loss  hours-per-week  native-country      50k  \n",
              "0           NaN           NaN             NaN             NaN      NaN  \n",
              "1           0.0           0.0            40.0   United-States   <=50K.  \n",
              "2           0.0           0.0            50.0   United-States   <=50K.  \n",
              "3           0.0           0.0            40.0   United-States    >50K.  \n",
              "4        7688.0           0.0            40.0   United-States    >50K.  "
            ],
            "text/html": [
              "\n",
              "  <div id=\"df-ff2c0cca-8236-4fc6-9db2-e0d803f66939\">\n",
              "    <div class=\"colab-df-container\">\n",
              "      <div>\n",
              "<style scoped>\n",
              "    .dataframe tbody tr th:only-of-type {\n",
              "        vertical-align: middle;\n",
              "    }\n",
              "\n",
              "    .dataframe tbody tr th {\n",
              "        vertical-align: top;\n",
              "    }\n",
              "\n",
              "    .dataframe thead th {\n",
              "        text-align: right;\n",
              "    }\n",
              "</style>\n",
              "<table border=\"1\" class=\"dataframe\">\n",
              "  <thead>\n",
              "    <tr style=\"text-align: right;\">\n",
              "      <th></th>\n",
              "      <th>age</th>\n",
              "      <th>workclass</th>\n",
              "      <th>fnlwgt</th>\n",
              "      <th>education</th>\n",
              "      <th>education-num</th>\n",
              "      <th>marital-status</th>\n",
              "      <th>occupation</th>\n",
              "      <th>relationship</th>\n",
              "      <th>race</th>\n",
              "      <th>sex</th>\n",
              "      <th>capital-gain</th>\n",
              "      <th>capital-loss</th>\n",
              "      <th>hours-per-week</th>\n",
              "      <th>native-country</th>\n",
              "      <th>50k</th>\n",
              "    </tr>\n",
              "  </thead>\n",
              "  <tbody>\n",
              "    <tr>\n",
              "      <th>0</th>\n",
              "      <td>|1x3 Cross validator</td>\n",
              "      <td>NaN</td>\n",
              "      <td>NaN</td>\n",
              "      <td>NaN</td>\n",
              "      <td>NaN</td>\n",
              "      <td>NaN</td>\n",
              "      <td>NaN</td>\n",
              "      <td>NaN</td>\n",
              "      <td>NaN</td>\n",
              "      <td>NaN</td>\n",
              "      <td>NaN</td>\n",
              "      <td>NaN</td>\n",
              "      <td>NaN</td>\n",
              "      <td>NaN</td>\n",
              "      <td>NaN</td>\n",
              "    </tr>\n",
              "    <tr>\n",
              "      <th>1</th>\n",
              "      <td>25</td>\n",
              "      <td>Private</td>\n",
              "      <td>226802.0</td>\n",
              "      <td>11th</td>\n",
              "      <td>7.0</td>\n",
              "      <td>Never-married</td>\n",
              "      <td>Machine-op-inspct</td>\n",
              "      <td>Own-child</td>\n",
              "      <td>Black</td>\n",
              "      <td>Male</td>\n",
              "      <td>0.0</td>\n",
              "      <td>0.0</td>\n",
              "      <td>40.0</td>\n",
              "      <td>United-States</td>\n",
              "      <td>&lt;=50K.</td>\n",
              "    </tr>\n",
              "    <tr>\n",
              "      <th>2</th>\n",
              "      <td>38</td>\n",
              "      <td>Private</td>\n",
              "      <td>89814.0</td>\n",
              "      <td>HS-grad</td>\n",
              "      <td>9.0</td>\n",
              "      <td>Married-civ-spouse</td>\n",
              "      <td>Farming-fishing</td>\n",
              "      <td>Husband</td>\n",
              "      <td>White</td>\n",
              "      <td>Male</td>\n",
              "      <td>0.0</td>\n",
              "      <td>0.0</td>\n",
              "      <td>50.0</td>\n",
              "      <td>United-States</td>\n",
              "      <td>&lt;=50K.</td>\n",
              "    </tr>\n",
              "    <tr>\n",
              "      <th>3</th>\n",
              "      <td>28</td>\n",
              "      <td>Local-gov</td>\n",
              "      <td>336951.0</td>\n",
              "      <td>Assoc-acdm</td>\n",
              "      <td>12.0</td>\n",
              "      <td>Married-civ-spouse</td>\n",
              "      <td>Protective-serv</td>\n",
              "      <td>Husband</td>\n",
              "      <td>White</td>\n",
              "      <td>Male</td>\n",
              "      <td>0.0</td>\n",
              "      <td>0.0</td>\n",
              "      <td>40.0</td>\n",
              "      <td>United-States</td>\n",
              "      <td>&gt;50K.</td>\n",
              "    </tr>\n",
              "    <tr>\n",
              "      <th>4</th>\n",
              "      <td>44</td>\n",
              "      <td>Private</td>\n",
              "      <td>160323.0</td>\n",
              "      <td>Some-college</td>\n",
              "      <td>10.0</td>\n",
              "      <td>Married-civ-spouse</td>\n",
              "      <td>Machine-op-inspct</td>\n",
              "      <td>Husband</td>\n",
              "      <td>Black</td>\n",
              "      <td>Male</td>\n",
              "      <td>7688.0</td>\n",
              "      <td>0.0</td>\n",
              "      <td>40.0</td>\n",
              "      <td>United-States</td>\n",
              "      <td>&gt;50K.</td>\n",
              "    </tr>\n",
              "  </tbody>\n",
              "</table>\n",
              "</div>\n",
              "      <button class=\"colab-df-convert\" onclick=\"convertToInteractive('df-ff2c0cca-8236-4fc6-9db2-e0d803f66939')\"\n",
              "              title=\"Convert this dataframe to an interactive table.\"\n",
              "              style=\"display:none;\">\n",
              "        \n",
              "  <svg xmlns=\"http://www.w3.org/2000/svg\" height=\"24px\"viewBox=\"0 0 24 24\"\n",
              "       width=\"24px\">\n",
              "    <path d=\"M0 0h24v24H0V0z\" fill=\"none\"/>\n",
              "    <path d=\"M18.56 5.44l.94 2.06.94-2.06 2.06-.94-2.06-.94-.94-2.06-.94 2.06-2.06.94zm-11 1L8.5 8.5l.94-2.06 2.06-.94-2.06-.94L8.5 2.5l-.94 2.06-2.06.94zm10 10l.94 2.06.94-2.06 2.06-.94-2.06-.94-.94-2.06-.94 2.06-2.06.94z\"/><path d=\"M17.41 7.96l-1.37-1.37c-.4-.4-.92-.59-1.43-.59-.52 0-1.04.2-1.43.59L10.3 9.45l-7.72 7.72c-.78.78-.78 2.05 0 2.83L4 21.41c.39.39.9.59 1.41.59.51 0 1.02-.2 1.41-.59l7.78-7.78 2.81-2.81c.8-.78.8-2.07 0-2.86zM5.41 20L4 18.59l7.72-7.72 1.47 1.35L5.41 20z\"/>\n",
              "  </svg>\n",
              "      </button>\n",
              "      \n",
              "  <style>\n",
              "    .colab-df-container {\n",
              "      display:flex;\n",
              "      flex-wrap:wrap;\n",
              "      gap: 12px;\n",
              "    }\n",
              "\n",
              "    .colab-df-convert {\n",
              "      background-color: #E8F0FE;\n",
              "      border: none;\n",
              "      border-radius: 50%;\n",
              "      cursor: pointer;\n",
              "      display: none;\n",
              "      fill: #1967D2;\n",
              "      height: 32px;\n",
              "      padding: 0 0 0 0;\n",
              "      width: 32px;\n",
              "    }\n",
              "\n",
              "    .colab-df-convert:hover {\n",
              "      background-color: #E2EBFA;\n",
              "      box-shadow: 0px 1px 2px rgba(60, 64, 67, 0.3), 0px 1px 3px 1px rgba(60, 64, 67, 0.15);\n",
              "      fill: #174EA6;\n",
              "    }\n",
              "\n",
              "    [theme=dark] .colab-df-convert {\n",
              "      background-color: #3B4455;\n",
              "      fill: #D2E3FC;\n",
              "    }\n",
              "\n",
              "    [theme=dark] .colab-df-convert:hover {\n",
              "      background-color: #434B5C;\n",
              "      box-shadow: 0px 1px 3px 1px rgba(0, 0, 0, 0.15);\n",
              "      filter: drop-shadow(0px 1px 2px rgba(0, 0, 0, 0.3));\n",
              "      fill: #FFFFFF;\n",
              "    }\n",
              "  </style>\n",
              "\n",
              "      <script>\n",
              "        const buttonEl =\n",
              "          document.querySelector('#df-ff2c0cca-8236-4fc6-9db2-e0d803f66939 button.colab-df-convert');\n",
              "        buttonEl.style.display =\n",
              "          google.colab.kernel.accessAllowed ? 'block' : 'none';\n",
              "\n",
              "        async function convertToInteractive(key) {\n",
              "          const element = document.querySelector('#df-ff2c0cca-8236-4fc6-9db2-e0d803f66939');\n",
              "          const dataTable =\n",
              "            await google.colab.kernel.invokeFunction('convertToInteractive',\n",
              "                                                     [key], {});\n",
              "          if (!dataTable) return;\n",
              "\n",
              "          const docLinkHtml = 'Like what you see? Visit the ' +\n",
              "            '<a target=\"_blank\" href=https://colab.research.google.com/notebooks/data_table.ipynb>data table notebook</a>'\n",
              "            + ' to learn more about interactive tables.';\n",
              "          element.innerHTML = '';\n",
              "          dataTable['output_type'] = 'display_data';\n",
              "          await google.colab.output.renderOutput(dataTable, element);\n",
              "          const docLink = document.createElement('div');\n",
              "          docLink.innerHTML = docLinkHtml;\n",
              "          element.appendChild(docLink);\n",
              "        }\n",
              "      </script>\n",
              "    </div>\n",
              "  </div>\n",
              "  "
            ]
          },
          "metadata": {},
          "execution_count": 3
        }
      ]
    },
    {
      "cell_type": "code",
      "source": [],
      "metadata": {
        "id": "PHAFIMYCC-wF"
      },
      "execution_count": null,
      "outputs": []
    },
    {
      "cell_type": "code",
      "source": [
        "#!pip install category_encoders\n",
        "\n",
        "import category_encoders as ce\n",
        "\n",
        "X = train.drop('50k', axis=1)\n",
        "encoder = ce.OrdinalEncoder(cols=list(X.select_dtypes(include='object').columns)[:])\n",
        "encoder.fit(X, train['50k'])\n",
        "X_cleaned = encoder.transform(X)\n",
        "\n",
        "X_cleaned.head()"
      ],
      "metadata": {
        "colab": {
          "base_uri": "https://localhost:8080/",
          "height": 206
        },
        "id": "HtRHwjIjC-o4",
        "outputId": "994ffcaf-bc64-4d30-b676-fdf941a3bf52"
      },
      "execution_count": 7,
      "outputs": [
        {
          "output_type": "execute_result",
          "data": {
            "text/plain": [
              "   age  workclass  fnlwgt  education  education-num  marital-status  \\\n",
              "0   39          1   77516          1             13               1   \n",
              "1   50          2   83311          1             13               2   \n",
              "2   38          3  215646          2              9               3   \n",
              "3   53          3  234721          3              7               2   \n",
              "4   28          3  338409          1             13               2   \n",
              "\n",
              "   occupation  relationship  race  sex  capital-gain  capital-loss  \\\n",
              "0           1             1     1    1          2174             0   \n",
              "1           2             2     1    1             0             0   \n",
              "2           3             1     1    1             0             0   \n",
              "3           3             2     2    1             0             0   \n",
              "4           4             3     2    2             0             0   \n",
              "\n",
              "   hours-per-week  native-country  \n",
              "0              40               1  \n",
              "1              13               1  \n",
              "2              40               1  \n",
              "3              40               1  \n",
              "4              40               2  "
            ],
            "text/html": [
              "\n",
              "  <div id=\"df-86618544-7c99-4b43-b5d9-3e98ffd45fa7\">\n",
              "    <div class=\"colab-df-container\">\n",
              "      <div>\n",
              "<style scoped>\n",
              "    .dataframe tbody tr th:only-of-type {\n",
              "        vertical-align: middle;\n",
              "    }\n",
              "\n",
              "    .dataframe tbody tr th {\n",
              "        vertical-align: top;\n",
              "    }\n",
              "\n",
              "    .dataframe thead th {\n",
              "        text-align: right;\n",
              "    }\n",
              "</style>\n",
              "<table border=\"1\" class=\"dataframe\">\n",
              "  <thead>\n",
              "    <tr style=\"text-align: right;\">\n",
              "      <th></th>\n",
              "      <th>age</th>\n",
              "      <th>workclass</th>\n",
              "      <th>fnlwgt</th>\n",
              "      <th>education</th>\n",
              "      <th>education-num</th>\n",
              "      <th>marital-status</th>\n",
              "      <th>occupation</th>\n",
              "      <th>relationship</th>\n",
              "      <th>race</th>\n",
              "      <th>sex</th>\n",
              "      <th>capital-gain</th>\n",
              "      <th>capital-loss</th>\n",
              "      <th>hours-per-week</th>\n",
              "      <th>native-country</th>\n",
              "    </tr>\n",
              "  </thead>\n",
              "  <tbody>\n",
              "    <tr>\n",
              "      <th>0</th>\n",
              "      <td>39</td>\n",
              "      <td>1</td>\n",
              "      <td>77516</td>\n",
              "      <td>1</td>\n",
              "      <td>13</td>\n",
              "      <td>1</td>\n",
              "      <td>1</td>\n",
              "      <td>1</td>\n",
              "      <td>1</td>\n",
              "      <td>1</td>\n",
              "      <td>2174</td>\n",
              "      <td>0</td>\n",
              "      <td>40</td>\n",
              "      <td>1</td>\n",
              "    </tr>\n",
              "    <tr>\n",
              "      <th>1</th>\n",
              "      <td>50</td>\n",
              "      <td>2</td>\n",
              "      <td>83311</td>\n",
              "      <td>1</td>\n",
              "      <td>13</td>\n",
              "      <td>2</td>\n",
              "      <td>2</td>\n",
              "      <td>2</td>\n",
              "      <td>1</td>\n",
              "      <td>1</td>\n",
              "      <td>0</td>\n",
              "      <td>0</td>\n",
              "      <td>13</td>\n",
              "      <td>1</td>\n",
              "    </tr>\n",
              "    <tr>\n",
              "      <th>2</th>\n",
              "      <td>38</td>\n",
              "      <td>3</td>\n",
              "      <td>215646</td>\n",
              "      <td>2</td>\n",
              "      <td>9</td>\n",
              "      <td>3</td>\n",
              "      <td>3</td>\n",
              "      <td>1</td>\n",
              "      <td>1</td>\n",
              "      <td>1</td>\n",
              "      <td>0</td>\n",
              "      <td>0</td>\n",
              "      <td>40</td>\n",
              "      <td>1</td>\n",
              "    </tr>\n",
              "    <tr>\n",
              "      <th>3</th>\n",
              "      <td>53</td>\n",
              "      <td>3</td>\n",
              "      <td>234721</td>\n",
              "      <td>3</td>\n",
              "      <td>7</td>\n",
              "      <td>2</td>\n",
              "      <td>3</td>\n",
              "      <td>2</td>\n",
              "      <td>2</td>\n",
              "      <td>1</td>\n",
              "      <td>0</td>\n",
              "      <td>0</td>\n",
              "      <td>40</td>\n",
              "      <td>1</td>\n",
              "    </tr>\n",
              "    <tr>\n",
              "      <th>4</th>\n",
              "      <td>28</td>\n",
              "      <td>3</td>\n",
              "      <td>338409</td>\n",
              "      <td>1</td>\n",
              "      <td>13</td>\n",
              "      <td>2</td>\n",
              "      <td>4</td>\n",
              "      <td>3</td>\n",
              "      <td>2</td>\n",
              "      <td>2</td>\n",
              "      <td>0</td>\n",
              "      <td>0</td>\n",
              "      <td>40</td>\n",
              "      <td>2</td>\n",
              "    </tr>\n",
              "  </tbody>\n",
              "</table>\n",
              "</div>\n",
              "      <button class=\"colab-df-convert\" onclick=\"convertToInteractive('df-86618544-7c99-4b43-b5d9-3e98ffd45fa7')\"\n",
              "              title=\"Convert this dataframe to an interactive table.\"\n",
              "              style=\"display:none;\">\n",
              "        \n",
              "  <svg xmlns=\"http://www.w3.org/2000/svg\" height=\"24px\"viewBox=\"0 0 24 24\"\n",
              "       width=\"24px\">\n",
              "    <path d=\"M0 0h24v24H0V0z\" fill=\"none\"/>\n",
              "    <path d=\"M18.56 5.44l.94 2.06.94-2.06 2.06-.94-2.06-.94-.94-2.06-.94 2.06-2.06.94zm-11 1L8.5 8.5l.94-2.06 2.06-.94-2.06-.94L8.5 2.5l-.94 2.06-2.06.94zm10 10l.94 2.06.94-2.06 2.06-.94-2.06-.94-.94-2.06-.94 2.06-2.06.94z\"/><path d=\"M17.41 7.96l-1.37-1.37c-.4-.4-.92-.59-1.43-.59-.52 0-1.04.2-1.43.59L10.3 9.45l-7.72 7.72c-.78.78-.78 2.05 0 2.83L4 21.41c.39.39.9.59 1.41.59.51 0 1.02-.2 1.41-.59l7.78-7.78 2.81-2.81c.8-.78.8-2.07 0-2.86zM5.41 20L4 18.59l7.72-7.72 1.47 1.35L5.41 20z\"/>\n",
              "  </svg>\n",
              "      </button>\n",
              "      \n",
              "  <style>\n",
              "    .colab-df-container {\n",
              "      display:flex;\n",
              "      flex-wrap:wrap;\n",
              "      gap: 12px;\n",
              "    }\n",
              "\n",
              "    .colab-df-convert {\n",
              "      background-color: #E8F0FE;\n",
              "      border: none;\n",
              "      border-radius: 50%;\n",
              "      cursor: pointer;\n",
              "      display: none;\n",
              "      fill: #1967D2;\n",
              "      height: 32px;\n",
              "      padding: 0 0 0 0;\n",
              "      width: 32px;\n",
              "    }\n",
              "\n",
              "    .colab-df-convert:hover {\n",
              "      background-color: #E2EBFA;\n",
              "      box-shadow: 0px 1px 2px rgba(60, 64, 67, 0.3), 0px 1px 3px 1px rgba(60, 64, 67, 0.15);\n",
              "      fill: #174EA6;\n",
              "    }\n",
              "\n",
              "    [theme=dark] .colab-df-convert {\n",
              "      background-color: #3B4455;\n",
              "      fill: #D2E3FC;\n",
              "    }\n",
              "\n",
              "    [theme=dark] .colab-df-convert:hover {\n",
              "      background-color: #434B5C;\n",
              "      box-shadow: 0px 1px 3px 1px rgba(0, 0, 0, 0.15);\n",
              "      filter: drop-shadow(0px 1px 2px rgba(0, 0, 0, 0.3));\n",
              "      fill: #FFFFFF;\n",
              "    }\n",
              "  </style>\n",
              "\n",
              "      <script>\n",
              "        const buttonEl =\n",
              "          document.querySelector('#df-86618544-7c99-4b43-b5d9-3e98ffd45fa7 button.colab-df-convert');\n",
              "        buttonEl.style.display =\n",
              "          google.colab.kernel.accessAllowed ? 'block' : 'none';\n",
              "\n",
              "        async function convertToInteractive(key) {\n",
              "          const element = document.querySelector('#df-86618544-7c99-4b43-b5d9-3e98ffd45fa7');\n",
              "          const dataTable =\n",
              "            await google.colab.kernel.invokeFunction('convertToInteractive',\n",
              "                                                     [key], {});\n",
              "          if (!dataTable) return;\n",
              "\n",
              "          const docLinkHtml = 'Like what you see? Visit the ' +\n",
              "            '<a target=\"_blank\" href=https://colab.research.google.com/notebooks/data_table.ipynb>data table notebook</a>'\n",
              "            + ' to learn more about interactive tables.';\n",
              "          element.innerHTML = '';\n",
              "          dataTable['output_type'] = 'display_data';\n",
              "          await google.colab.output.renderOutput(dataTable, element);\n",
              "          const docLink = document.createElement('div');\n",
              "          docLink.innerHTML = docLinkHtml;\n",
              "          element.appendChild(docLink);\n",
              "        }\n",
              "      </script>\n",
              "    </div>\n",
              "  </div>\n",
              "  "
            ]
          },
          "metadata": {},
          "execution_count": 7
        }
      ]
    },
    {
      "cell_type": "code",
      "source": [
        "encoder = ce.OneHotEncoder(cols=list(X.select_dtypes(include='object').columns)[:])\n",
        "encoder.fit(X, train['50k'])\n",
        "X_cleaned = encoder.transform(X)"
      ],
      "metadata": {
        "id": "B9nq64ZEC-mL"
      },
      "execution_count": 17,
      "outputs": []
    },
    {
      "cell_type": "code",
      "source": [
        "x_cleaned_cols = X_cleaned.columns"
      ],
      "metadata": {
        "id": "37FcyKRYC-jy"
      },
      "execution_count": 18,
      "outputs": []
    },
    {
      "cell_type": "code",
      "source": [
        "[int(val) for val in [True, False]]"
      ],
      "metadata": {
        "colab": {
          "base_uri": "https://localhost:8080/"
        },
        "id": "FH6vTcEfC-gh",
        "outputId": "b75b23ea-7e8f-444b-a78e-49eeb9d4cc70"
      },
      "execution_count": 19,
      "outputs": [
        {
          "output_type": "execute_result",
          "data": {
            "text/plain": [
              "[1, 0]"
            ]
          },
          "metadata": {},
          "execution_count": 19
        }
      ]
    },
    {
      "cell_type": "code",
      "source": [
        "import numpy as np\n",
        "import os\n",
        "from sklearn.metrics.cluster import adjusted_mutual_info_score\n"
      ],
      "metadata": {
        "id": "os1FMLoSDoo8"
      },
      "execution_count": 20,
      "outputs": []
    },
    {
      "cell_type": "code",
      "source": [
        "y = np.zeros((len(X_cleaned), 2))\n",
        "y"
      ],
      "metadata": {
        "colab": {
          "base_uri": "https://localhost:8080/"
        },
        "id": "vQWc0zKfEucA",
        "outputId": "affa812c-ba66-469d-bd43-a684551f2bf9"
      },
      "execution_count": 29,
      "outputs": [
        {
          "output_type": "execute_result",
          "data": {
            "text/plain": [
              "array([[0., 0.],\n",
              "       [0., 0.],\n",
              "       [0., 0.],\n",
              "       ...,\n",
              "       [0., 0.],\n",
              "       [0., 0.],\n",
              "       [0., 0.]])"
            ]
          },
          "metadata": {},
          "execution_count": 29
        }
      ]
    },
    {
      "cell_type": "code",
      "source": [
        "\n",
        "y[:, 0] = train['50k'].apply(lambda x: x == ' <=50K')\n",
        "\n",
        "y"
      ],
      "metadata": {
        "colab": {
          "base_uri": "https://localhost:8080/"
        },
        "id": "D4VoxyiyEw93",
        "outputId": "777aead0-9f92-4d19-dd55-bfd9e69a7681"
      },
      "execution_count": 30,
      "outputs": [
        {
          "output_type": "execute_result",
          "data": {
            "text/plain": [
              "array([[1., 0.],\n",
              "       [1., 0.],\n",
              "       [1., 0.],\n",
              "       ...,\n",
              "       [1., 0.],\n",
              "       [1., 0.],\n",
              "       [0., 0.]])"
            ]
          },
          "metadata": {},
          "execution_count": 30
        }
      ]
    },
    {
      "cell_type": "code",
      "source": [
        "\n",
        "\n",
        "y[:, 1] = train['50k'].apply(lambda x: x == ' >50K')"
      ],
      "metadata": {
        "id": "mMrJDwHZDh6C"
      },
      "execution_count": 31,
      "outputs": []
    },
    {
      "cell_type": "code",
      "source": [
        "y"
      ],
      "metadata": {
        "colab": {
          "base_uri": "https://localhost:8080/"
        },
        "id": "_TlPTlrxEnfw",
        "outputId": "2a068007-f1ac-4c30-e67b-a061cca6a3a7"
      },
      "execution_count": 32,
      "outputs": [
        {
          "output_type": "execute_result",
          "data": {
            "text/plain": [
              "array([[1., 0.],\n",
              "       [1., 0.],\n",
              "       [1., 0.],\n",
              "       ...,\n",
              "       [1., 0.],\n",
              "       [1., 0.],\n",
              "       [0., 1.]])"
            ]
          },
          "metadata": {},
          "execution_count": 32
        }
      ]
    },
    {
      "cell_type": "code",
      "source": [
        "from sklearn.preprocessing import StandardScaler\n",
        "\n",
        "standard_scaler = StandardScaler()\n",
        "X_cleanedSKL = standard_scaler.fit_transform(X_cleaned)"
      ],
      "metadata": {
        "id": "66PjLKMpDjla"
      },
      "execution_count": 22,
      "outputs": []
    },
    {
      "cell_type": "code",
      "source": [
        "X_cleaned.to_csv('adult_before_training.csv', index=False)"
      ],
      "metadata": {
        "id": "P-kU65qtDy8_"
      },
      "execution_count": 23,
      "outputs": []
    },
    {
      "cell_type": "code",
      "source": [
        "import joblib\n",
        "joblib.dump([encoder, standard_scaler], 'adult_encoder.joblib')"
      ],
      "metadata": {
        "colab": {
          "base_uri": "https://localhost:8080/"
        },
        "id": "YDOCKPVGD42M",
        "outputId": "b8857343-48b4-4d02-b26f-8f7a7233b29d"
      },
      "execution_count": 25,
      "outputs": [
        {
          "output_type": "execute_result",
          "data": {
            "text/plain": [
              "['adult_encoder.joblib']"
            ]
          },
          "metadata": {},
          "execution_count": 25
        }
      ]
    },
    {
      "cell_type": "code",
      "source": [
        "from tensorflow.keras import Sequential\n",
        "from tensorflow.keras.layers import Dense\n",
        "\n",
        "model = Sequential()\n",
        "model.add(Dense(20, activation='selu', input_dim=108))\n",
        "model.add(Dense(2, activation='softmax'))\n",
        "model.compile(\n",
        "    optimizer='rmsprop',\n",
        "    loss='categorical_hinge',\n",
        "    metrics=['accuracy']\n",
        ")\n",
        "model.summary()"
      ],
      "metadata": {
        "colab": {
          "base_uri": "https://localhost:8080/"
        },
        "id": "-LGXBqykD_SG",
        "outputId": "3ae196fc-16d7-4249-88cc-7d4ea2cc47d1"
      },
      "execution_count": 33,
      "outputs": [
        {
          "output_type": "stream",
          "name": "stdout",
          "text": [
            "Model: \"sequential\"\n",
            "_________________________________________________________________\n",
            " Layer (type)                Output Shape              Param #   \n",
            "=================================================================\n",
            " dense (Dense)               (None, 20)                2180      \n",
            "                                                                 \n",
            " dense_1 (Dense)             (None, 2)                 42        \n",
            "                                                                 \n",
            "=================================================================\n",
            "Total params: 2,222\n",
            "Trainable params: 2,222\n",
            "Non-trainable params: 0\n",
            "_________________________________________________________________\n"
          ]
        }
      ]
    },
    {
      "cell_type": "code",
      "source": [
        "history = model.fit(X_cleaned, y,epochs=50)"
      ],
      "metadata": {
        "colab": {
          "base_uri": "https://localhost:8080/"
        },
        "id": "OWUqBbNlE8aG",
        "outputId": "3192abe4-54dd-4df1-8a91-6a2861a5a1a9"
      },
      "execution_count": 34,
      "outputs": [
        {
          "output_type": "stream",
          "name": "stdout",
          "text": [
            "Epoch 1/50\n",
            "1018/1018 [==============================] - 3s 2ms/step - loss: 0.4814 - accuracy: 0.7593\n",
            "Epoch 2/50\n",
            "1018/1018 [==============================] - 2s 2ms/step - loss: 0.4816 - accuracy: 0.7592\n",
            "Epoch 3/50\n",
            "1018/1018 [==============================] - 2s 2ms/step - loss: 0.4816 - accuracy: 0.7592\n",
            "Epoch 4/50\n",
            "1018/1018 [==============================] - 3s 3ms/step - loss: 0.4816 - accuracy: 0.7592\n",
            "Epoch 5/50\n",
            "1018/1018 [==============================] - 2s 2ms/step - loss: 0.4815 - accuracy: 0.7593\n",
            "Epoch 6/50\n",
            "1018/1018 [==============================] - 2s 2ms/step - loss: 0.4815 - accuracy: 0.7593\n",
            "Epoch 7/50\n",
            "1018/1018 [==============================] - 2s 2ms/step - loss: 0.4815 - accuracy: 0.7593\n",
            "Epoch 8/50\n",
            "1018/1018 [==============================] - 2s 2ms/step - loss: 0.4815 - accuracy: 0.7593\n",
            "Epoch 9/50\n",
            "1018/1018 [==============================] - 2s 2ms/step - loss: 0.4814 - accuracy: 0.7593\n",
            "Epoch 10/50\n",
            "1018/1018 [==============================] - 2s 2ms/step - loss: 0.4813 - accuracy: 0.7593\n",
            "Epoch 11/50\n",
            "1018/1018 [==============================] - 3s 3ms/step - loss: 0.4813 - accuracy: 0.7593\n",
            "Epoch 12/50\n",
            "1018/1018 [==============================] - 3s 3ms/step - loss: 0.4813 - accuracy: 0.7593\n",
            "Epoch 13/50\n",
            "1018/1018 [==============================] - 4s 3ms/step - loss: 0.4813 - accuracy: 0.7594\n",
            "Epoch 14/50\n",
            "1018/1018 [==============================] - 2s 2ms/step - loss: 0.4812 - accuracy: 0.7594\n",
            "Epoch 15/50\n",
            "1018/1018 [==============================] - 2s 2ms/step - loss: 0.4812 - accuracy: 0.7594\n",
            "Epoch 16/50\n",
            "1018/1018 [==============================] - 2s 2ms/step - loss: 0.4811 - accuracy: 0.7594\n",
            "Epoch 17/50\n",
            "1018/1018 [==============================] - 2s 2ms/step - loss: 0.4811 - accuracy: 0.7594\n",
            "Epoch 18/50\n",
            "1018/1018 [==============================] - 2s 2ms/step - loss: 0.4811 - accuracy: 0.7594\n",
            "Epoch 19/50\n",
            "1018/1018 [==============================] - 2s 2ms/step - loss: 0.4811 - accuracy: 0.7594\n",
            "Epoch 20/50\n",
            "1018/1018 [==============================] - 2s 2ms/step - loss: 0.4811 - accuracy: 0.7595\n",
            "Epoch 21/50\n",
            "1018/1018 [==============================] - 2s 2ms/step - loss: 0.4811 - accuracy: 0.7595\n",
            "Epoch 22/50\n",
            "1018/1018 [==============================] - 4s 4ms/step - loss: 0.4811 - accuracy: 0.7595\n",
            "Epoch 23/50\n",
            "1018/1018 [==============================] - 3s 3ms/step - loss: 0.4811 - accuracy: 0.7595\n",
            "Epoch 24/50\n",
            "1018/1018 [==============================] - 2s 2ms/step - loss: 0.4811 - accuracy: 0.7595\n",
            "Epoch 25/50\n",
            "1018/1018 [==============================] - 2s 2ms/step - loss: 0.4811 - accuracy: 0.7595\n",
            "Epoch 26/50\n",
            "1018/1018 [==============================] - 3s 3ms/step - loss: 0.4811 - accuracy: 0.7595\n",
            "Epoch 27/50\n",
            "1018/1018 [==============================] - 2s 2ms/step - loss: 0.4811 - accuracy: 0.7595\n",
            "Epoch 28/50\n",
            "1018/1018 [==============================] - 3s 3ms/step - loss: 0.4811 - accuracy: 0.7595\n",
            "Epoch 29/50\n",
            "1018/1018 [==============================] - 2s 2ms/step - loss: 0.4811 - accuracy: 0.7595\n",
            "Epoch 30/50\n",
            "1018/1018 [==============================] - 2s 2ms/step - loss: 0.4810 - accuracy: 0.7595\n",
            "Epoch 31/50\n",
            "1018/1018 [==============================] - 2s 2ms/step - loss: 0.4810 - accuracy: 0.7595\n",
            "Epoch 32/50\n",
            "1018/1018 [==============================] - 2s 2ms/step - loss: 0.4810 - accuracy: 0.7595\n",
            "Epoch 33/50\n",
            "1018/1018 [==============================] - 5s 5ms/step - loss: 0.4810 - accuracy: 0.7595\n",
            "Epoch 34/50\n",
            "1018/1018 [==============================] - 5s 5ms/step - loss: 0.4810 - accuracy: 0.7595\n",
            "Epoch 35/50\n",
            "1018/1018 [==============================] - 5s 5ms/step - loss: 0.4809 - accuracy: 0.7595\n",
            "Epoch 36/50\n",
            "1018/1018 [==============================] - 6s 5ms/step - loss: 0.4809 - accuracy: 0.7595\n",
            "Epoch 37/50\n",
            "1018/1018 [==============================] - 4s 4ms/step - loss: 0.4809 - accuracy: 0.7596\n",
            "Epoch 38/50\n",
            "1018/1018 [==============================] - 3s 3ms/step - loss: 0.4809 - accuracy: 0.7596\n",
            "Epoch 39/50\n",
            "1018/1018 [==============================] - 2s 2ms/step - loss: 0.4809 - accuracy: 0.7596\n",
            "Epoch 40/50\n",
            "1018/1018 [==============================] - 2s 2ms/step - loss: 0.4809 - accuracy: 0.7596\n",
            "Epoch 41/50\n",
            "1018/1018 [==============================] - 2s 2ms/step - loss: 0.4809 - accuracy: 0.7596\n",
            "Epoch 42/50\n",
            "1018/1018 [==============================] - 2s 2ms/step - loss: 0.4809 - accuracy: 0.7596\n",
            "Epoch 43/50\n",
            "1018/1018 [==============================] - 2s 2ms/step - loss: 0.4809 - accuracy: 0.7596\n",
            "Epoch 44/50\n",
            "1018/1018 [==============================] - 2s 2ms/step - loss: 0.4809 - accuracy: 0.7596\n",
            "Epoch 45/50\n",
            "1018/1018 [==============================] - 2s 2ms/step - loss: 0.4808 - accuracy: 0.7596\n",
            "Epoch 46/50\n",
            "1018/1018 [==============================] - 3s 3ms/step - loss: 0.4808 - accuracy: 0.7596\n",
            "Epoch 47/50\n",
            "1018/1018 [==============================] - 2s 2ms/step - loss: 0.4808 - accuracy: 0.7596\n",
            "Epoch 48/50\n",
            "1018/1018 [==============================] - 2s 2ms/step - loss: 0.4808 - accuracy: 0.7596\n",
            "Epoch 49/50\n",
            "1018/1018 [==============================] - 2s 2ms/step - loss: 0.4808 - accuracy: 0.7596\n",
            "Epoch 50/50\n",
            "1018/1018 [==============================] - 2s 2ms/step - loss: 0.4808 - accuracy: 0.7596\n"
          ]
        }
      ]
    },
    {
      "cell_type": "code",
      "source": [
        "%matplotlib inline\n",
        "import matplotlib.pyplot as plt\n",
        "import pandas as pd\n",
        "\n",
        "\n",
        "plt.plot(history.history['accuracy'])\n",
        "plt.plot(history.history['loss'])\n",
        "plt.title('Model Training')\n",
        "plt.ylabel('Accuracy')\n",
        "plt.xlabel('Epoch')\n",
        "plt.legend(['Accuracy', 'Loss'], loc='center left')\n"
      ],
      "metadata": {
        "colab": {
          "base_uri": "https://localhost:8080/",
          "height": 489
        },
        "id": "9zy_3WQxFaVR",
        "outputId": "8b1b6af2-e715-4a12-d273-1a91c283cbb4"
      },
      "execution_count": 35,
      "outputs": [
        {
          "output_type": "execute_result",
          "data": {
            "text/plain": [
              "<matplotlib.legend.Legend at 0x7fcd48184b50>"
            ]
          },
          "metadata": {},
          "execution_count": 35
        },
        {
          "output_type": "display_data",
          "data": {
            "text/plain": [
              "<Figure size 640x480 with 1 Axes>"
            ],
            "image/png": "[encoded data removed]"
          },
          "metadata": {}
        }
      ]
    },
    {
      "cell_type": "code",
      "source": [
        "import pandas as pd\n",
        "\n",
        "cols = ['age', 'workclass', 'fnlwgt',\n",
        "             \n",
        "             'education', 'education-num',\n",
        "             'marital-status', 'occupation',\n",
        "             'relationship', 'race', 'sex',\n",
        "             'capital-gain', 'capital-loss',\n",
        "             'hours-per-week', 'native-country', '50k']\n",
        "\n",
        "test = pd.read_csv(\n",
        "    'adult.test',\n",
        "    names=cols\n",
        ")\n",
        "\n",
        "test.drop(0, axis=0, inplace=True)\n",
        "test.head()\n"
      ],
      "metadata": {
        "colab": {
          "base_uri": "https://localhost:8080/",
          "height": 206
        },
        "id": "8oQGWHpRFoNY",
        "outputId": "9dff8095-35b1-4b5a-a9d6-162ea23087f4"
      },
      "execution_count": 36,
      "outputs": [
        {
          "output_type": "execute_result",
          "data": {
            "text/plain": [
              "  age   workclass    fnlwgt      education  education-num  \\\n",
              "1  25     Private  226802.0           11th            7.0   \n",
              "2  38     Private   89814.0        HS-grad            9.0   \n",
              "3  28   Local-gov  336951.0     Assoc-acdm           12.0   \n",
              "4  44     Private  160323.0   Some-college           10.0   \n",
              "5  18           ?  103497.0   Some-college           10.0   \n",
              "\n",
              "        marital-status          occupation relationship    race      sex  \\\n",
              "1        Never-married   Machine-op-inspct    Own-child   Black     Male   \n",
              "2   Married-civ-spouse     Farming-fishing      Husband   White     Male   \n",
              "3   Married-civ-spouse     Protective-serv      Husband   White     Male   \n",
              "4   Married-civ-spouse   Machine-op-inspct      Husband   Black     Male   \n",
              "5        Never-married                   ?    Own-child   White   Female   \n",
              "\n",
              "   capital-gain  capital-loss  hours-per-week  native-country      50k  \n",
              "1           0.0           0.0            40.0   United-States   <=50K.  \n",
              "2           0.0           0.0            50.0   United-States   <=50K.  \n",
              "3           0.0           0.0            40.0   United-States    >50K.  \n",
              "4        7688.0           0.0            40.0   United-States    >50K.  \n",
              "5           0.0           0.0            30.0   United-States   <=50K.  "
            ],
            "text/html": [
              "\n",
              "  <div id=\"df-dd6324bd-13e7-44fb-86e5-c975d68214ac\">\n",
              "    <div class=\"colab-df-container\">\n",
              "      <div>\n",
              "<style scoped>\n",
              "    .dataframe tbody tr th:only-of-type {\n",
              "        vertical-align: middle;\n",
              "    }\n",
              "\n",
              "    .dataframe tbody tr th {\n",
              "        vertical-align: top;\n",
              "    }\n",
              "\n",
              "    .dataframe thead th {\n",
              "        text-align: right;\n",
              "    }\n",
              "</style>\n",
              "<table border=\"1\" class=\"dataframe\">\n",
              "  <thead>\n",
              "    <tr style=\"text-align: right;\">\n",
              "      <th></th>\n",
              "      <th>age</th>\n",
              "      <th>workclass</th>\n",
              "      <th>fnlwgt</th>\n",
              "      <th>education</th>\n",
              "      <th>education-num</th>\n",
              "      <th>marital-status</th>\n",
              "      <th>occupation</th>\n",
              "      <th>relationship</th>\n",
              "      <th>race</th>\n",
              "      <th>sex</th>\n",
              "      <th>capital-gain</th>\n",
              "      <th>capital-loss</th>\n",
              "      <th>hours-per-week</th>\n",
              "      <th>native-country</th>\n",
              "      <th>50k</th>\n",
              "    </tr>\n",
              "  </thead>\n",
              "  <tbody>\n",
              "    <tr>\n",
              "      <th>1</th>\n",
              "      <td>25</td>\n",
              "      <td>Private</td>\n",
              "      <td>226802.0</td>\n",
              "      <td>11th</td>\n",
              "      <td>7.0</td>\n",
              "      <td>Never-married</td>\n",
              "      <td>Machine-op-inspct</td>\n",
              "      <td>Own-child</td>\n",
              "      <td>Black</td>\n",
              "      <td>Male</td>\n",
              "      <td>0.0</td>\n",
              "      <td>0.0</td>\n",
              "      <td>40.0</td>\n",
              "      <td>United-States</td>\n",
              "      <td>&lt;=50K.</td>\n",
              "    </tr>\n",
              "    <tr>\n",
              "      <th>2</th>\n",
              "      <td>38</td>\n",
              "      <td>Private</td>\n",
              "      <td>89814.0</td>\n",
              "      <td>HS-grad</td>\n",
              "      <td>9.0</td>\n",
              "      <td>Married-civ-spouse</td>\n",
              "      <td>Farming-fishing</td>\n",
              "      <td>Husband</td>\n",
              "      <td>White</td>\n",
              "      <td>Male</td>\n",
              "      <td>0.0</td>\n",
              "      <td>0.0</td>\n",
              "      <td>50.0</td>\n",
              "      <td>United-States</td>\n",
              "      <td>&lt;=50K.</td>\n",
              "    </tr>\n",
              "    <tr>\n",
              "      <th>3</th>\n",
              "      <td>28</td>\n",
              "      <td>Local-gov</td>\n",
              "      <td>336951.0</td>\n",
              "      <td>Assoc-acdm</td>\n",
              "      <td>12.0</td>\n",
              "      <td>Married-civ-spouse</td>\n",
              "      <td>Protective-serv</td>\n",
              "      <td>Husband</td>\n",
              "      <td>White</td>\n",
              "      <td>Male</td>\n",
              "      <td>0.0</td>\n",
              "      <td>0.0</td>\n",
              "      <td>40.0</td>\n",
              "      <td>United-States</td>\n",
              "      <td>&gt;50K.</td>\n",
              "    </tr>\n",
              "    <tr>\n",
              "      <th>4</th>\n",
              "      <td>44</td>\n",
              "      <td>Private</td>\n",
              "      <td>160323.0</td>\n",
              "      <td>Some-college</td>\n",
              "      <td>10.0</td>\n",
              "      <td>Married-civ-spouse</td>\n",
              "      <td>Machine-op-inspct</td>\n",
              "      <td>Husband</td>\n",
              "      <td>Black</td>\n",
              "      <td>Male</td>\n",
              "      <td>7688.0</td>\n",
              "      <td>0.0</td>\n",
              "      <td>40.0</td>\n",
              "      <td>United-States</td>\n",
              "      <td>&gt;50K.</td>\n",
              "    </tr>\n",
              "    <tr>\n",
              "      <th>5</th>\n",
              "      <td>18</td>\n",
              "      <td>?</td>\n",
              "      <td>103497.0</td>\n",
              "      <td>Some-college</td>\n",
              "      <td>10.0</td>\n",
              "      <td>Never-married</td>\n",
              "      <td>?</td>\n",
              "      <td>Own-child</td>\n",
              "      <td>White</td>\n",
              "      <td>Female</td>\n",
              "      <td>0.0</td>\n",
              "      <td>0.0</td>\n",
              "      <td>30.0</td>\n",
              "      <td>United-States</td>\n",
              "      <td>&lt;=50K.</td>\n",
              "    </tr>\n",
              "  </tbody>\n",
              "</table>\n",
              "</div>\n",
              "      <button class=\"colab-df-convert\" onclick=\"convertToInteractive('df-dd6324bd-13e7-44fb-86e5-c975d68214ac')\"\n",
              "              title=\"Convert this dataframe to an interactive table.\"\n",
              "              style=\"display:none;\">\n",
              "        \n",
              "  <svg xmlns=\"http://www.w3.org/2000/svg\" height=\"24px\"viewBox=\"0 0 24 24\"\n",
              "       width=\"24px\">\n",
              "    <path d=\"M0 0h24v24H0V0z\" fill=\"none\"/>\n",
              "    <path d=\"M18.56 5.44l.94 2.06.94-2.06 2.06-.94-2.06-.94-.94-2.06-.94 2.06-2.06.94zm-11 1L8.5 8.5l.94-2.06 2.06-.94-2.06-.94L8.5 2.5l-.94 2.06-2.06.94zm10 10l.94 2.06.94-2.06 2.06-.94-2.06-.94-.94-2.06-.94 2.06-2.06.94z\"/><path d=\"M17.41 7.96l-1.37-1.37c-.4-.4-.92-.59-1.43-.59-.52 0-1.04.2-1.43.59L10.3 9.45l-7.72 7.72c-.78.78-.78 2.05 0 2.83L4 21.41c.39.39.9.59 1.41.59.51 0 1.02-.2 1.41-.59l7.78-7.78 2.81-2.81c.8-.78.8-2.07 0-2.86zM5.41 20L4 18.59l7.72-7.72 1.47 1.35L5.41 20z\"/>\n",
              "  </svg>\n",
              "      </button>\n",
              "      \n",
              "  <style>\n",
              "    .colab-df-container {\n",
              "      display:flex;\n",
              "      flex-wrap:wrap;\n",
              "      gap: 12px;\n",
              "    }\n",
              "\n",
              "    .colab-df-convert {\n",
              "      background-color: #E8F0FE;\n",
              "      border: none;\n",
              "      border-radius: 50%;\n",
              "      cursor: pointer;\n",
              "      display: none;\n",
              "      fill: #1967D2;\n",
              "      height: 32px;\n",
              "      padding: 0 0 0 0;\n",
              "      width: 32px;\n",
              "    }\n",
              "\n",
              "    .colab-df-convert:hover {\n",
              "      background-color: #E2EBFA;\n",
              "      box-shadow: 0px 1px 2px rgba(60, 64, 67, 0.3), 0px 1px 3px 1px rgba(60, 64, 67, 0.15);\n",
              "      fill: #174EA6;\n",
              "    }\n",
              "\n",
              "    [theme=dark] .colab-df-convert {\n",
              "      background-color: #3B4455;\n",
              "      fill: #D2E3FC;\n",
              "    }\n",
              "\n",
              "    [theme=dark] .colab-df-convert:hover {\n",
              "      background-color: #434B5C;\n",
              "      box-shadow: 0px 1px 3px 1px rgba(0, 0, 0, 0.15);\n",
              "      filter: drop-shadow(0px 1px 2px rgba(0, 0, 0, 0.3));\n",
              "      fill: #FFFFFF;\n",
              "    }\n",
              "  </style>\n",
              "\n",
              "      <script>\n",
              "        const buttonEl =\n",
              "          document.querySelector('#df-dd6324bd-13e7-44fb-86e5-c975d68214ac button.colab-df-convert');\n",
              "        buttonEl.style.display =\n",
              "          google.colab.kernel.accessAllowed ? 'block' : 'none';\n",
              "\n",
              "        async function convertToInteractive(key) {\n",
              "          const element = document.querySelector('#df-dd6324bd-13e7-44fb-86e5-c975d68214ac');\n",
              "          const dataTable =\n",
              "            await google.colab.kernel.invokeFunction('convertToInteractive',\n",
              "                                                     [key], {});\n",
              "          if (!dataTable) return;\n",
              "\n",
              "          const docLinkHtml = 'Like what you see? Visit the ' +\n",
              "            '<a target=\"_blank\" href=https://colab.research.google.com/notebooks/data_table.ipynb>data table notebook</a>'\n",
              "            + ' to learn more about interactive tables.';\n",
              "          element.innerHTML = '';\n",
              "          dataTable['output_type'] = 'display_data';\n",
              "          await google.colab.output.renderOutput(dataTable, element);\n",
              "          const docLink = document.createElement('div');\n",
              "          docLink.innerHTML = docLinkHtml;\n",
              "          element.appendChild(docLink);\n",
              "        }\n",
              "      </script>\n",
              "    </div>\n",
              "  </div>\n",
              "  "
            ]
          },
          "metadata": {},
          "execution_count": 36
        }
      ]
    },
    {
      "cell_type": "code",
      "source": [
        "X_test = standard_scaler.transform(encoder.transform(test[cols[:-1]]))\n",
        "predictions = model.predict(X_test)"
      ],
      "metadata": {
        "colab": {
          "base_uri": "https://localhost:8080/"
        },
        "id": "bEupfbn3FoMU",
        "outputId": "22bf0219-aadd-4154-a704-6561dc9fc9b0"
      },
      "execution_count": 37,
      "outputs": [
        {
          "output_type": "stream",
          "name": "stdout",
          "text": [
            "509/509 [==============================] - 1s 1ms/step\n"
          ]
        }
      ]
    },
    {
      "cell_type": "code",
      "source": [
        "from sklearn.metrics import roc_auc_score"
      ],
      "metadata": {
        "id": "XgOAgMasFoIC"
      },
      "execution_count": 38,
      "outputs": []
    },
    {
      "cell_type": "code",
      "source": [
        "target_lookup = {' <=50K.': 0, ' >50K.': 1 }"
      ],
      "metadata": {
        "id": "FMeINLErGFC5"
      },
      "execution_count": 39,
      "outputs": []
    },
    {
      "cell_type": "code",
      "source": [
        "y_test = test['50k'].apply(\n",
        "    lambda x: target_lookup[x]\n",
        ").values\n",
        "roc_auc_score(y_test, predictions.argmax(axis=1))"
      ],
      "metadata": {
        "colab": {
          "base_uri": "https://localhost:8080/"
        },
        "id": "_Jb93_PsGE-S",
        "outputId": "8e1ccee2-3481-4a3b-a47e-10b8296b8b99"
      },
      "execution_count": 40,
      "outputs": [
        {
          "output_type": "execute_result",
          "data": {
            "text/plain": [
              "0.5083038351690883"
            ]
          },
          "metadata": {},
          "execution_count": 40
        }
      ]
    },
    {
      "cell_type": "code",
      "source": [
        "#!pip install eli5"
      ],
      "metadata": {
        "id": "maWDiwD-GE7T"
      },
      "execution_count": 42,
      "outputs": []
    },
    {
      "cell_type": "code",
      "source": [
        "from eli5.permutation_importance import get_score_importances\n",
        "\n",
        "def score(data, y=None, weight=None):\n",
        "  return model.predict(data).argmax(axis=1)\n",
        "\n",
        "base_score, score_decreases = get_score_importances(score, X_test, y_test)\n",
        "feature_importances = np.mean(score_decreases, axis=0).mean(axis=1)"
      ],
      "metadata": {
        "colab": {
          "base_uri": "https://localhost:8080/",
          "height": 1000
        },
        "id": "RyrVnrwwGE4I",
        "outputId": "37e05409-e25b-4d96-d6c5-90c3922479b8"
      },
      "execution_count": 43,
      "outputs": [
        {
          "output_type": "stream",
          "name": "stdout",
          "text": [
            "509/509 [==============================] - 1s 1ms/step\n",
            "509/509 [==============================] - 1s 1ms/step\n",
            "509/509 [==============================] - 1s 2ms/step\n",
            "509/509 [==============================] - 1s 2ms/step\n",
            "509/509 [==============================] - 2s 3ms/step\n",
            "509/509 [==============================] - 1s 3ms/step\n",
            "509/509 [==============================] - 3s 5ms/step\n",
            "509/509 [==============================] - 3s 5ms/step\n",
            "509/509 [==============================] - 3s 5ms/step\n",
            "509/509 [==============================] - 3s 5ms/step\n",
            "509/509 [==============================] - 2s 4ms/step\n",
            "509/509 [==============================] - 2s 3ms/step\n",
            "509/509 [==============================] - 3s 5ms/step\n",
            "509/509 [==============================] - 1s 2ms/step\n",
            "509/509 [==============================] - 1s 3ms/step\n",
            "509/509 [==============================] - 1s 1ms/step\n",
            "509/509 [==============================] - 1s 1ms/step\n",
            "509/509 [==============================] - 1s 1ms/step\n",
            "509/509 [==============================] - 1s 2ms/step\n",
            "509/509 [==============================] - 1s 2ms/step\n",
            "509/509 [==============================] - 1s 1ms/step\n",
            "509/509 [==============================] - 1s 1ms/step\n",
            "509/509 [==============================] - 1s 1ms/step\n",
            "509/509 [==============================] - 1s 1ms/step\n",
            "509/509 [==============================] - 1s 1ms/step\n",
            "509/509 [==============================] - 1s 1ms/step\n",
            "509/509 [==============================] - 1s 1ms/step\n",
            "509/509 [==============================] - 1s 1ms/step\n",
            "509/509 [==============================] - 1s 1ms/step\n",
            "509/509 [==============================] - 1s 1ms/step\n",
            "509/509 [==============================] - 1s 2ms/step\n",
            "509/509 [==============================] - 1s 2ms/step\n",
            "509/509 [==============================] - 1s 1ms/step\n",
            "509/509 [==============================] - 1s 1ms/step\n",
            "509/509 [==============================] - 1s 1ms/step\n",
            "509/509 [==============================] - 1s 1ms/step\n",
            "509/509 [==============================] - 1s 1ms/step\n",
            "509/509 [==============================] - 1s 1ms/step\n",
            "509/509 [==============================] - 1s 1ms/step\n",
            "509/509 [==============================] - 1s 1ms/step\n",
            "509/509 [==============================] - 1s 1ms/step\n",
            "509/509 [==============================] - 1s 2ms/step\n",
            "509/509 [==============================] - 1s 2ms/step\n",
            "509/509 [==============================] - 1s 2ms/step\n",
            "509/509 [==============================] - 1s 1ms/step\n",
            "509/509 [==============================] - 1s 1ms/step\n",
            "509/509 [==============================] - 1s 1ms/step\n",
            "509/509 [==============================] - 1s 1ms/step\n",
            "509/509 [==============================] - 1s 1ms/step\n",
            "509/509 [==============================] - 1s 1ms/step\n",
            "509/509 [==============================] - 1s 1ms/step\n",
            "509/509 [==============================] - 1s 1ms/step\n",
            "509/509 [==============================] - 1s 1ms/step\n",
            "509/509 [==============================] - 1s 2ms/step\n",
            "509/509 [==============================] - 1s 2ms/step\n",
            "509/509 [==============================] - 1s 1ms/step\n",
            "509/509 [==============================] - 1s 1ms/step\n",
            "509/509 [==============================] - 1s 1ms/step\n",
            "509/509 [==============================] - 1s 1ms/step\n",
            "509/509 [==============================] - 1s 1ms/step\n",
            "509/509 [==============================] - 1s 1ms/step\n",
            "509/509 [==============================] - 1s 1ms/step\n",
            "509/509 [==============================] - 1s 1ms/step\n",
            "509/509 [==============================] - 1s 1ms/step\n",
            "509/509 [==============================] - 1s 2ms/step\n",
            "509/509 [==============================] - 1s 2ms/step\n",
            "509/509 [==============================] - 1s 1ms/step\n",
            "509/509 [==============================] - 1s 1ms/step\n",
            "509/509 [==============================] - 1s 1ms/step\n",
            "509/509 [==============================] - 1s 1ms/step\n",
            "509/509 [==============================] - 1s 1ms/step\n",
            "509/509 [==============================] - 1s 1ms/step\n",
            "509/509 [==============================] - 1s 1ms/step\n",
            "509/509 [==============================] - 1s 1ms/step\n",
            "509/509 [==============================] - 1s 1ms/step\n",
            "509/509 [==============================] - 1s 2ms/step\n",
            "509/509 [==============================] - 1s 2ms/step\n",
            "509/509 [==============================] - 1s 2ms/step\n",
            "509/509 [==============================] - 1s 1ms/step\n",
            "509/509 [==============================] - 1s 1ms/step\n",
            "509/509 [==============================] - 1s 1ms/step\n",
            "509/509 [==============================] - 1s 1ms/step\n",
            "509/509 [==============================] - 1s 1ms/step\n",
            "509/509 [==============================] - 1s 1ms/step\n",
            "509/509 [==============================] - 1s 1ms/step\n",
            "509/509 [==============================] - 1s 1ms/step\n",
            "509/509 [==============================] - 1s 1ms/step\n",
            "509/509 [==============================] - 1s 2ms/step\n",
            "509/509 [==============================] - 1s 2ms/step\n",
            "509/509 [==============================] - 1s 1ms/step\n",
            "509/509 [==============================] - 1s 1ms/step\n",
            "509/509 [==============================] - 1s 1ms/step\n",
            "509/509 [==============================] - 1s 1ms/step\n",
            "509/509 [==============================] - 1s 1ms/step\n",
            "509/509 [==============================] - 1s 1ms/step\n",
            "509/509 [==============================] - 1s 1ms/step\n",
            "509/509 [==============================] - 1s 1ms/step\n",
            "509/509 [==============================] - 1s 2ms/step\n",
            "509/509 [==============================] - 1s 2ms/step\n",
            "509/509 [==============================] - 1s 1ms/step\n",
            "509/509 [==============================] - 1s 1ms/step\n",
            "509/509 [==============================] - 1s 1ms/step\n",
            "509/509 [==============================] - 1s 2ms/step\n",
            "509/509 [==============================] - 1s 1ms/step\n",
            "509/509 [==============================] - 1s 1ms/step\n",
            "509/509 [==============================] - 1s 1ms/step\n",
            "509/509 [==============================] - 1s 1ms/step\n",
            "509/509 [==============================] - 1s 2ms/step\n",
            "509/509 [==============================] - 1s 2ms/step\n",
            "509/509 [==============================] - 1s 1ms/step\n",
            "509/509 [==============================] - 1s 1ms/step\n",
            "509/509 [==============================] - 1s 1ms/step\n",
            "509/509 [==============================] - 1s 1ms/step\n",
            "509/509 [==============================] - 1s 1ms/step\n",
            "509/509 [==============================] - 1s 1ms/step\n",
            "509/509 [==============================] - 1s 1ms/step\n",
            "509/509 [==============================] - 1s 1ms/step\n",
            "509/509 [==============================] - 1s 1ms/step\n",
            "509/509 [==============================] - 1s 2ms/step\n",
            "509/509 [==============================] - 1s 2ms/step\n",
            "509/509 [==============================] - 1s 1ms/step\n",
            "509/509 [==============================] - 1s 1ms/step\n",
            "509/509 [==============================] - 1s 1ms/step\n",
            "509/509 [==============================] - 1s 1ms/step\n",
            "509/509 [==============================] - 1s 1ms/step\n",
            "509/509 [==============================] - 1s 1ms/step\n",
            "509/509 [==============================] - 1s 1ms/step\n",
            "509/509 [==============================] - 1s 1ms/step\n",
            "509/509 [==============================] - 1s 1ms/step\n",
            "509/509 [==============================] - 1s 2ms/step\n",
            "509/509 [==============================] - 1s 2ms/step\n",
            "509/509 [==============================] - 1s 1ms/step\n",
            "509/509 [==============================] - 1s 1ms/step\n",
            "509/509 [==============================] - 1s 1ms/step\n",
            "509/509 [==============================] - 1s 1ms/step\n",
            "509/509 [==============================] - 1s 1ms/step\n",
            "509/509 [==============================] - 1s 1ms/step\n",
            "509/509 [==============================] - 1s 1ms/step\n",
            "509/509 [==============================] - 1s 1ms/step\n",
            "509/509 [==============================] - 1s 1ms/step\n",
            "509/509 [==============================] - 1s 1ms/step\n",
            "509/509 [==============================] - 1s 2ms/step\n",
            "509/509 [==============================] - 1s 2ms/step\n",
            "509/509 [==============================] - 1s 1ms/step\n",
            "509/509 [==============================] - 1s 1ms/step\n",
            "509/509 [==============================] - 1s 1ms/step\n",
            "509/509 [==============================] - 1s 1ms/step\n",
            "509/509 [==============================] - 1s 1ms/step\n",
            "509/509 [==============================] - 1s 1ms/step\n",
            "509/509 [==============================] - 1s 1ms/step\n",
            "509/509 [==============================] - 1s 1ms/step\n",
            "509/509 [==============================] - 1s 1ms/step\n",
            "509/509 [==============================] - 1s 2ms/step\n",
            "509/509 [==============================] - 1s 2ms/step\n",
            "509/509 [==============================] - 1s 1ms/step\n",
            "509/509 [==============================] - 1s 1ms/step\n",
            "509/509 [==============================] - 1s 1ms/step\n",
            "509/509 [==============================] - 1s 1ms/step\n",
            "509/509 [==============================] - 1s 1ms/step\n",
            "509/509 [==============================] - 1s 1ms/step\n",
            "509/509 [==============================] - 1s 1ms/step\n",
            "509/509 [==============================] - 1s 1ms/step\n",
            "509/509 [==============================] - 1s 1ms/step\n",
            "509/509 [==============================] - 1s 1ms/step\n",
            "509/509 [==============================] - 1s 2ms/step\n",
            "509/509 [==============================] - 1s 2ms/step\n",
            "509/509 [==============================] - 1s 1ms/step\n",
            "509/509 [==============================] - 1s 1ms/step\n",
            "509/509 [==============================] - 1s 1ms/step\n",
            "509/509 [==============================] - 1s 1ms/step\n",
            "509/509 [==============================] - 1s 1ms/step\n",
            "509/509 [==============================] - 1s 1ms/step\n",
            "509/509 [==============================] - 1s 1ms/step\n",
            "509/509 [==============================] - 1s 1ms/step\n",
            "509/509 [==============================] - 1s 1ms/step\n",
            "509/509 [==============================] - 1s 2ms/step\n",
            "509/509 [==============================] - 1s 2ms/step\n",
            "509/509 [==============================] - 1s 1ms/step\n",
            "509/509 [==============================] - 1s 1ms/step\n",
            "509/509 [==============================] - 1s 1ms/step\n",
            "509/509 [==============================] - 1s 1ms/step\n",
            "509/509 [==============================] - 1s 1ms/step\n",
            "509/509 [==============================] - 1s 1ms/step\n",
            "509/509 [==============================] - 1s 1ms/step\n",
            "509/509 [==============================] - 1s 1ms/step\n",
            "509/509 [==============================] - 1s 1ms/step\n",
            "509/509 [==============================] - 1s 2ms/step\n",
            "509/509 [==============================] - 1s 3ms/step\n",
            "509/509 [==============================] - 1s 1ms/step\n",
            "509/509 [==============================] - 1s 1ms/step\n",
            "509/509 [==============================] - 1s 1ms/step\n",
            "509/509 [==============================] - 1s 1ms/step\n",
            "509/509 [==============================] - 1s 1ms/step\n",
            "509/509 [==============================] - 1s 1ms/step\n",
            "509/509 [==============================] - 1s 1ms/step\n",
            "509/509 [==============================] - 1s 3ms/step\n",
            "509/509 [==============================] - 1s 2ms/step\n",
            "509/509 [==============================] - 1s 1ms/step\n",
            "509/509 [==============================] - 1s 1ms/step\n",
            "509/509 [==============================] - 1s 1ms/step\n",
            "509/509 [==============================] - 1s 1ms/step\n",
            "509/509 [==============================] - 1s 1ms/step\n",
            "509/509 [==============================] - 1s 1ms/step\n",
            "509/509 [==============================] - 1s 1ms/step\n",
            "509/509 [==============================] - 1s 1ms/step\n",
            "509/509 [==============================] - 1s 2ms/step\n",
            "509/509 [==============================] - 1s 2ms/step\n",
            "509/509 [==============================] - 1s 1ms/step\n",
            "509/509 [==============================] - 1s 1ms/step\n",
            "509/509 [==============================] - 1s 1ms/step\n",
            "509/509 [==============================] - 1s 1ms/step\n",
            "509/509 [==============================] - 1s 1ms/step\n",
            "509/509 [==============================] - 1s 1ms/step\n",
            "509/509 [==============================] - 1s 1ms/step\n",
            "509/509 [==============================] - 1s 1ms/step\n",
            "509/509 [==============================] - 1s 1ms/step\n",
            "509/509 [==============================] - 1s 1ms/step\n",
            "509/509 [==============================] - 1s 2ms/step\n",
            "509/509 [==============================] - 1s 2ms/step\n",
            "509/509 [==============================] - 1s 1ms/step\n",
            "509/509 [==============================] - 1s 1ms/step\n",
            "509/509 [==============================] - 1s 1ms/step\n",
            "509/509 [==============================] - 1s 1ms/step\n",
            "509/509 [==============================] - 1s 1ms/step\n",
            "509/509 [==============================] - 1s 1ms/step\n",
            "509/509 [==============================] - 1s 1ms/step\n",
            "509/509 [==============================] - 1s 1ms/step\n",
            "509/509 [==============================] - 1s 1ms/step\n",
            "509/509 [==============================] - 1s 2ms/step\n",
            "509/509 [==============================] - 1s 2ms/step\n",
            "509/509 [==============================] - 1s 2ms/step\n",
            "509/509 [==============================] - 1s 1ms/step\n",
            "509/509 [==============================] - 1s 1ms/step\n",
            "509/509 [==============================] - 1s 1ms/step\n",
            "509/509 [==============================] - 1s 1ms/step\n",
            "509/509 [==============================] - 1s 1ms/step\n",
            "509/509 [==============================] - 1s 1ms/step\n",
            "509/509 [==============================] - 1s 1ms/step\n",
            "509/509 [==============================] - 1s 1ms/step\n",
            "509/509 [==============================] - 1s 1ms/step\n",
            "509/509 [==============================] - 1s 2ms/step\n",
            "509/509 [==============================] - 1s 2ms/step\n",
            "509/509 [==============================] - 1s 2ms/step\n",
            "509/509 [==============================] - 1s 1ms/step\n",
            "509/509 [==============================] - 1s 1ms/step\n",
            "509/509 [==============================] - 1s 1ms/step\n",
            "509/509 [==============================] - 1s 1ms/step\n",
            "509/509 [==============================] - 1s 1ms/step\n",
            "509/509 [==============================] - 1s 1ms/step\n",
            "509/509 [==============================] - 1s 1ms/step\n",
            "509/509 [==============================] - 1s 1ms/step\n",
            "509/509 [==============================] - 1s 2ms/step\n",
            "509/509 [==============================] - 1s 2ms/step\n",
            "509/509 [==============================] - 1s 1ms/step\n",
            "509/509 [==============================] - 1s 1ms/step\n",
            "509/509 [==============================] - 1s 1ms/step\n",
            "509/509 [==============================] - 1s 1ms/step\n",
            "509/509 [==============================] - 1s 1ms/step\n",
            "509/509 [==============================] - 1s 1ms/step\n",
            "509/509 [==============================] - 1s 1ms/step\n",
            "509/509 [==============================] - 1s 1ms/step\n",
            "509/509 [==============================] - 1s 2ms/step\n",
            "509/509 [==============================] - 1s 2ms/step\n",
            "509/509 [==============================] - 1s 2ms/step\n",
            "509/509 [==============================] - 1s 1ms/step\n",
            "509/509 [==============================] - 1s 1ms/step\n",
            "509/509 [==============================] - 1s 1ms/step\n",
            "509/509 [==============================] - 1s 1ms/step\n",
            "509/509 [==============================] - 1s 1ms/step\n",
            "509/509 [==============================] - 1s 1ms/step\n",
            "509/509 [==============================] - 1s 1ms/step\n",
            "509/509 [==============================] - 1s 2ms/step\n",
            "509/509 [==============================] - 1s 2ms/step\n",
            "509/509 [==============================] - 1s 2ms/step\n",
            "509/509 [==============================] - 1s 1ms/step\n",
            "509/509 [==============================] - 2s 3ms/step\n",
            "509/509 [==============================] - 2s 3ms/step\n",
            "509/509 [==============================] - 2s 4ms/step\n",
            "509/509 [==============================] - 1s 2ms/step\n",
            "509/509 [==============================] - 2s 3ms/step\n",
            "509/509 [==============================] - 1s 1ms/step\n",
            "509/509 [==============================] - 1s 2ms/step\n",
            "509/509 [==============================] - 1s 2ms/step\n",
            "509/509 [==============================] - 1s 1ms/step\n",
            "509/509 [==============================] - 1s 1ms/step\n",
            "509/509 [==============================] - 1s 1ms/step\n",
            "509/509 [==============================] - 1s 2ms/step\n",
            "509/509 [==============================] - 1s 2ms/step\n",
            "509/509 [==============================] - 1s 1ms/step\n",
            "509/509 [==============================] - 1s 1ms/step\n",
            "509/509 [==============================] - 1s 1ms/step\n",
            "509/509 [==============================] - 1s 1ms/step\n",
            "509/509 [==============================] - 1s 1ms/step\n",
            "509/509 [==============================] - 1s 1ms/step\n",
            "509/509 [==============================] - 1s 1ms/step\n",
            "509/509 [==============================] - 1s 1ms/step\n",
            "509/509 [==============================] - 1s 1ms/step\n",
            "509/509 [==============================] - 1s 1ms/step\n",
            "509/509 [==============================] - 1s 2ms/step\n",
            "509/509 [==============================] - 1s 2ms/step\n",
            "509/509 [==============================] - 1s 1ms/step\n",
            "509/509 [==============================] - 1s 1ms/step\n",
            "509/509 [==============================] - 1s 1ms/step\n",
            "509/509 [==============================] - 1s 1ms/step\n",
            "509/509 [==============================] - 1s 1ms/step\n",
            "509/509 [==============================] - 1s 1ms/step\n",
            "509/509 [==============================] - 1s 1ms/step\n",
            "509/509 [==============================] - 1s 1ms/step\n",
            "509/509 [==============================] - 1s 1ms/step\n",
            "509/509 [==============================] - 1s 2ms/step\n",
            "509/509 [==============================] - 1s 2ms/step\n",
            "509/509 [==============================] - 1s 1ms/step\n",
            "509/509 [==============================] - 1s 1ms/step\n",
            "509/509 [==============================] - 1s 1ms/step\n",
            "509/509 [==============================] - 1s 1ms/step\n",
            "509/509 [==============================] - 1s 1ms/step\n",
            "509/509 [==============================] - 1s 1ms/step\n",
            "509/509 [==============================] - 1s 1ms/step\n",
            "509/509 [==============================] - 1s 1ms/step\n",
            "509/509 [==============================] - 1s 1ms/step\n",
            "509/509 [==============================] - 1s 2ms/step\n",
            "509/509 [==============================] - 1s 2ms/step\n",
            "509/509 [==============================] - 1s 2ms/step\n",
            "509/509 [==============================] - 1s 1ms/step\n",
            "509/509 [==============================] - 1s 1ms/step\n",
            "509/509 [==============================] - 1s 1ms/step\n",
            "509/509 [==============================] - 1s 1ms/step\n",
            "509/509 [==============================] - 1s 1ms/step\n",
            "509/509 [==============================] - 1s 1ms/step\n",
            "509/509 [==============================] - 1s 1ms/step\n",
            "509/509 [==============================] - 1s 1ms/step\n",
            "509/509 [==============================] - 1s 1ms/step\n",
            "509/509 [==============================] - 1s 2ms/step\n",
            "509/509 [==============================] - 1s 2ms/step\n",
            "509/509 [==============================] - 1s 2ms/step\n",
            "509/509 [==============================] - 1s 1ms/step\n",
            "509/509 [==============================] - 1s 1ms/step\n",
            "509/509 [==============================] - 1s 1ms/step\n",
            "509/509 [==============================] - 1s 1ms/step\n",
            "509/509 [==============================] - 1s 1ms/step\n",
            "509/509 [==============================] - 1s 1ms/step\n",
            "509/509 [==============================] - 1s 1ms/step\n",
            "509/509 [==============================] - 1s 1ms/step\n",
            "509/509 [==============================] - 1s 2ms/step\n",
            "509/509 [==============================] - 1s 2ms/step\n",
            "509/509 [==============================] - 1s 1ms/step\n",
            "509/509 [==============================] - 1s 1ms/step\n",
            "509/509 [==============================] - 1s 1ms/step\n",
            "509/509 [==============================] - 1s 1ms/step\n",
            "509/509 [==============================] - 1s 1ms/step\n",
            "509/509 [==============================] - 1s 1ms/step\n",
            "509/509 [==============================] - 1s 1ms/step\n",
            "509/509 [==============================] - 1s 1ms/step\n",
            "509/509 [==============================] - 1s 2ms/step\n",
            "509/509 [==============================] - 1s 1ms/step\n",
            "509/509 [==============================] - 1s 1ms/step\n",
            "509/509 [==============================] - 1s 1ms/step\n"
          ]
        },
        {
          "output_type": "error",
          "ename": "KeyboardInterrupt",
          "evalue": "ignored",
          "traceback": [
            "\u001b[0;31m---------------------------------------------------------------------------\u001b[0m",
            "\u001b[0;31mKeyboardInterrupt\u001b[0m                         Traceback (most recent call last)",
            "\u001b[0;32m<ipython-input-43-74c1c9068952>\u001b[0m in \u001b[0;36m<cell line: 6>\u001b[0;34m()\u001b[0m\n\u001b[1;32m      4\u001b[0m   \u001b[0;32mreturn\u001b[0m \u001b[0mmodel\u001b[0m\u001b[0;34m.\u001b[0m\u001b[0mpredict\u001b[0m\u001b[0;34m(\u001b[0m\u001b[0mdata\u001b[0m\u001b[0;34m)\u001b[0m\u001b[0;34m.\u001b[0m\u001b[0margmax\u001b[0m\u001b[0;34m(\u001b[0m\u001b[0maxis\u001b[0m\u001b[0;34m=\u001b[0m\u001b[0;36m1\u001b[0m\u001b[0;34m)\u001b[0m\u001b[0;34m\u001b[0m\u001b[0;34m\u001b[0m\u001b[0m\n\u001b[1;32m      5\u001b[0m \u001b[0;34m\u001b[0m\u001b[0m\n\u001b[0;32m----> 6\u001b[0;31m \u001b[0mbase_score\u001b[0m\u001b[0;34m,\u001b[0m \u001b[0mscore_decreases\u001b[0m \u001b[0;34m=\u001b[0m \u001b[0mget_score_importances\u001b[0m\u001b[0;34m(\u001b[0m\u001b[0mscore\u001b[0m\u001b[0;34m,\u001b[0m \u001b[0mX_test\u001b[0m\u001b[0;34m,\u001b[0m \u001b[0my_test\u001b[0m\u001b[0;34m)\u001b[0m\u001b[0;34m\u001b[0m\u001b[0;34m\u001b[0m\u001b[0m\n\u001b[0m\u001b[1;32m      7\u001b[0m \u001b[0mfeature_importances\u001b[0m \u001b[0;34m=\u001b[0m \u001b[0mnp\u001b[0m\u001b[0;34m.\u001b[0m\u001b[0mmean\u001b[0m\u001b[0;34m(\u001b[0m\u001b[0mscore_decreases\u001b[0m\u001b[0;34m,\u001b[0m \u001b[0maxis\u001b[0m\u001b[0;34m=\u001b[0m\u001b[0;36m0\u001b[0m\u001b[0;34m)\u001b[0m\u001b[0;34m.\u001b[0m\u001b[0mmean\u001b[0m\u001b[0;34m(\u001b[0m\u001b[0maxis\u001b[0m\u001b[0;34m=\u001b[0m\u001b[0;36m1\u001b[0m\u001b[0;34m)\u001b[0m\u001b[0;34m\u001b[0m\u001b[0;34m\u001b[0m\u001b[0m\n",
            "\u001b[0;32m/usr/local/lib/python3.10/dist-packages/eli5/permutation_importance.py\u001b[0m in \u001b[0;36mget_score_importances\u001b[0;34m(score_func, X, y, n_iter, columns_to_shuffle, random_state)\u001b[0m\n\u001b[1;32m     87\u001b[0m     \u001b[0mscores_decreases\u001b[0m \u001b[0;34m=\u001b[0m \u001b[0;34m[\u001b[0m\u001b[0;34m]\u001b[0m\u001b[0;34m\u001b[0m\u001b[0;34m\u001b[0m\u001b[0m\n\u001b[1;32m     88\u001b[0m     \u001b[0;32mfor\u001b[0m \u001b[0mi\u001b[0m \u001b[0;32min\u001b[0m \u001b[0mrange\u001b[0m\u001b[0;34m(\u001b[0m\u001b[0mn_iter\u001b[0m\u001b[0;34m)\u001b[0m\u001b[0;34m:\u001b[0m\u001b[0;34m\u001b[0m\u001b[0;34m\u001b[0m\u001b[0m\n\u001b[0;32m---> 89\u001b[0;31m         scores_shuffled = _get_scores_shufled(\n\u001b[0m\u001b[1;32m     90\u001b[0m             \u001b[0mscore_func\u001b[0m\u001b[0;34m,\u001b[0m \u001b[0mX\u001b[0m\u001b[0;34m,\u001b[0m \u001b[0my\u001b[0m\u001b[0;34m,\u001b[0m \u001b[0mcolumns_to_shuffle\u001b[0m\u001b[0;34m=\u001b[0m\u001b[0mcolumns_to_shuffle\u001b[0m\u001b[0;34m,\u001b[0m\u001b[0;34m\u001b[0m\u001b[0;34m\u001b[0m\u001b[0m\n\u001b[1;32m     91\u001b[0m             \u001b[0mrandom_state\u001b[0m\u001b[0;34m=\u001b[0m\u001b[0mrng\u001b[0m\u001b[0;34m\u001b[0m\u001b[0;34m\u001b[0m\u001b[0m\n",
            "\u001b[0;32m/usr/local/lib/python3.10/dist-packages/eli5/permutation_importance.py\u001b[0m in \u001b[0;36m_get_scores_shufled\u001b[0;34m(score_func, X, y, columns_to_shuffle, random_state)\u001b[0m\n\u001b[1;32m     98\u001b[0m                         random_state=None):\n\u001b[1;32m     99\u001b[0m     \u001b[0mXs\u001b[0m \u001b[0;34m=\u001b[0m \u001b[0miter_shuffled\u001b[0m\u001b[0;34m(\u001b[0m\u001b[0mX\u001b[0m\u001b[0;34m,\u001b[0m \u001b[0mcolumns_to_shuffle\u001b[0m\u001b[0;34m,\u001b[0m \u001b[0mrandom_state\u001b[0m\u001b[0;34m=\u001b[0m\u001b[0mrandom_state\u001b[0m\u001b[0;34m)\u001b[0m\u001b[0;34m\u001b[0m\u001b[0;34m\u001b[0m\u001b[0m\n\u001b[0;32m--> 100\u001b[0;31m     \u001b[0;32mreturn\u001b[0m \u001b[0mnp\u001b[0m\u001b[0;34m.\u001b[0m\u001b[0marray\u001b[0m\u001b[0;34m(\u001b[0m\u001b[0;34m[\u001b[0m\u001b[0mscore_func\u001b[0m\u001b[0;34m(\u001b[0m\u001b[0mX_shuffled\u001b[0m\u001b[0;34m,\u001b[0m \u001b[0my\u001b[0m\u001b[0;34m)\u001b[0m \u001b[0;32mfor\u001b[0m \u001b[0mX_shuffled\u001b[0m \u001b[0;32min\u001b[0m \u001b[0mXs\u001b[0m\u001b[0;34m]\u001b[0m\u001b[0;34m)\u001b[0m\u001b[0;34m\u001b[0m\u001b[0;34m\u001b[0m\u001b[0m\n\u001b[0m",
            "\u001b[0;32m/usr/local/lib/python3.10/dist-packages/eli5/permutation_importance.py\u001b[0m in \u001b[0;36m<listcomp>\u001b[0;34m(.0)\u001b[0m\n\u001b[1;32m     98\u001b[0m                         random_state=None):\n\u001b[1;32m     99\u001b[0m     \u001b[0mXs\u001b[0m \u001b[0;34m=\u001b[0m \u001b[0miter_shuffled\u001b[0m\u001b[0;34m(\u001b[0m\u001b[0mX\u001b[0m\u001b[0;34m,\u001b[0m \u001b[0mcolumns_to_shuffle\u001b[0m\u001b[0;34m,\u001b[0m \u001b[0mrandom_state\u001b[0m\u001b[0;34m=\u001b[0m\u001b[0mrandom_state\u001b[0m\u001b[0;34m)\u001b[0m\u001b[0;34m\u001b[0m\u001b[0;34m\u001b[0m\u001b[0m\n\u001b[0;32m--> 100\u001b[0;31m     \u001b[0;32mreturn\u001b[0m \u001b[0mnp\u001b[0m\u001b[0;34m.\u001b[0m\u001b[0marray\u001b[0m\u001b[0;34m(\u001b[0m\u001b[0;34m[\u001b[0m\u001b[0mscore_func\u001b[0m\u001b[0;34m(\u001b[0m\u001b[0mX_shuffled\u001b[0m\u001b[0;34m,\u001b[0m \u001b[0my\u001b[0m\u001b[0;34m)\u001b[0m \u001b[0;32mfor\u001b[0m \u001b[0mX_shuffled\u001b[0m \u001b[0;32min\u001b[0m \u001b[0mXs\u001b[0m\u001b[0;34m]\u001b[0m\u001b[0;34m)\u001b[0m\u001b[0;34m\u001b[0m\u001b[0;34m\u001b[0m\u001b[0m\n\u001b[0m",
            "\u001b[0;32m<ipython-input-43-74c1c9068952>\u001b[0m in \u001b[0;36mscore\u001b[0;34m(data, y, weight)\u001b[0m\n\u001b[1;32m      2\u001b[0m \u001b[0;34m\u001b[0m\u001b[0m\n\u001b[1;32m      3\u001b[0m \u001b[0;32mdef\u001b[0m \u001b[0mscore\u001b[0m\u001b[0;34m(\u001b[0m\u001b[0mdata\u001b[0m\u001b[0;34m,\u001b[0m \u001b[0my\u001b[0m\u001b[0;34m=\u001b[0m\u001b[0;32mNone\u001b[0m\u001b[0;34m,\u001b[0m \u001b[0mweight\u001b[0m\u001b[0;34m=\u001b[0m\u001b[0;32mNone\u001b[0m\u001b[0;34m)\u001b[0m\u001b[0;34m:\u001b[0m\u001b[0;34m\u001b[0m\u001b[0;34m\u001b[0m\u001b[0m\n\u001b[0;32m----> 4\u001b[0;31m   \u001b[0;32mreturn\u001b[0m \u001b[0mmodel\u001b[0m\u001b[0;34m.\u001b[0m\u001b[0mpredict\u001b[0m\u001b[0;34m(\u001b[0m\u001b[0mdata\u001b[0m\u001b[0;34m)\u001b[0m\u001b[0;34m.\u001b[0m\u001b[0margmax\u001b[0m\u001b[0;34m(\u001b[0m\u001b[0maxis\u001b[0m\u001b[0;34m=\u001b[0m\u001b[0;36m1\u001b[0m\u001b[0;34m)\u001b[0m\u001b[0;34m\u001b[0m\u001b[0;34m\u001b[0m\u001b[0m\n\u001b[0m\u001b[1;32m      5\u001b[0m \u001b[0;34m\u001b[0m\u001b[0m\n\u001b[1;32m      6\u001b[0m \u001b[0mbase_score\u001b[0m\u001b[0;34m,\u001b[0m \u001b[0mscore_decreases\u001b[0m \u001b[0;34m=\u001b[0m \u001b[0mget_score_importances\u001b[0m\u001b[0;34m(\u001b[0m\u001b[0mscore\u001b[0m\u001b[0;34m,\u001b[0m \u001b[0mX_test\u001b[0m\u001b[0;34m,\u001b[0m \u001b[0my_test\u001b[0m\u001b[0;34m)\u001b[0m\u001b[0;34m\u001b[0m\u001b[0;34m\u001b[0m\u001b[0m\n",
            "\u001b[0;32m/usr/local/lib/python3.10/dist-packages/keras/utils/traceback_utils.py\u001b[0m in \u001b[0;36merror_handler\u001b[0;34m(*args, **kwargs)\u001b[0m\n\u001b[1;32m     63\u001b[0m         \u001b[0mfiltered_tb\u001b[0m \u001b[0;34m=\u001b[0m \u001b[0;32mNone\u001b[0m\u001b[0;34m\u001b[0m\u001b[0;34m\u001b[0m\u001b[0m\n\u001b[1;32m     64\u001b[0m         \u001b[0;32mtry\u001b[0m\u001b[0;34m:\u001b[0m\u001b[0;34m\u001b[0m\u001b[0;34m\u001b[0m\u001b[0m\n\u001b[0;32m---> 65\u001b[0;31m             \u001b[0;32mreturn\u001b[0m \u001b[0mfn\u001b[0m\u001b[0;34m(\u001b[0m\u001b[0;34m*\u001b[0m\u001b[0margs\u001b[0m\u001b[0;34m,\u001b[0m \u001b[0;34m**\u001b[0m\u001b[0mkwargs\u001b[0m\u001b[0;34m)\u001b[0m\u001b[0;34m\u001b[0m\u001b[0;34m\u001b[0m\u001b[0m\n\u001b[0m\u001b[1;32m     66\u001b[0m         \u001b[0;32mexcept\u001b[0m \u001b[0mException\u001b[0m \u001b[0;32mas\u001b[0m \u001b[0me\u001b[0m\u001b[0;34m:\u001b[0m\u001b[0;34m\u001b[0m\u001b[0;34m\u001b[0m\u001b[0m\n\u001b[1;32m     67\u001b[0m             \u001b[0mfiltered_tb\u001b[0m \u001b[0;34m=\u001b[0m \u001b[0m_process_traceback_frames\u001b[0m\u001b[0;34m(\u001b[0m\u001b[0me\u001b[0m\u001b[0;34m.\u001b[0m\u001b[0m__traceback__\u001b[0m\u001b[0;34m)\u001b[0m\u001b[0;34m\u001b[0m\u001b[0;34m\u001b[0m\u001b[0m\n",
            "\u001b[0;32m/usr/local/lib/python3.10/dist-packages/keras/engine/training.py\u001b[0m in \u001b[0;36mpredict\u001b[0;34m(self, x, batch_size, verbose, steps, callbacks, max_queue_size, workers, use_multiprocessing)\u001b[0m\n\u001b[1;32m   2414\u001b[0m                 )\n\u001b[1;32m   2415\u001b[0m             \u001b[0mcallbacks\u001b[0m\u001b[0;34m.\u001b[0m\u001b[0mon_predict_end\u001b[0m\u001b[0;34m(\u001b[0m\u001b[0;34m)\u001b[0m\u001b[0;34m\u001b[0m\u001b[0;34m\u001b[0m\u001b[0m\n\u001b[0;32m-> 2416\u001b[0;31m         all_outputs = tf.__internal__.nest.map_structure_up_to(\n\u001b[0m\u001b[1;32m   2417\u001b[0m             \u001b[0mbatch_outputs\u001b[0m\u001b[0;34m,\u001b[0m \u001b[0mpotentially_ragged_concat\u001b[0m\u001b[0;34m,\u001b[0m \u001b[0moutputs\u001b[0m\u001b[0;34m\u001b[0m\u001b[0;34m\u001b[0m\u001b[0m\n\u001b[1;32m   2418\u001b[0m         )\n",
            "\u001b[0;32m/usr/local/lib/python3.10/dist-packages/tensorflow/python/util/nest.py\u001b[0m in \u001b[0;36mmap_structure_up_to\u001b[0;34m(shallow_tree, func, *inputs, **kwargs)\u001b[0m\n\u001b[1;32m   1433\u001b[0m     \u001b[0;31m`\u001b[0m\u001b[0mshallow_tree\u001b[0m\u001b[0;31m`\u001b[0m\u001b[0;34m.\u001b[0m\u001b[0;34m\u001b[0m\u001b[0;34m\u001b[0m\u001b[0m\n\u001b[1;32m   1434\u001b[0m   \"\"\"\n\u001b[0;32m-> 1435\u001b[0;31m   return map_structure_with_tuple_paths_up_to(\n\u001b[0m\u001b[1;32m   1436\u001b[0m       \u001b[0mshallow_tree\u001b[0m\u001b[0;34m,\u001b[0m\u001b[0;34m\u001b[0m\u001b[0;34m\u001b[0m\u001b[0m\n\u001b[1;32m   1437\u001b[0m       \u001b[0;32mlambda\u001b[0m \u001b[0m_\u001b[0m\u001b[0;34m,\u001b[0m \u001b[0;34m*\u001b[0m\u001b[0mvalues\u001b[0m\u001b[0;34m:\u001b[0m \u001b[0mfunc\u001b[0m\u001b[0;34m(\u001b[0m\u001b[0;34m*\u001b[0m\u001b[0mvalues\u001b[0m\u001b[0;34m)\u001b[0m\u001b[0;34m,\u001b[0m  \u001b[0;31m# Discards the path arg.\u001b[0m\u001b[0;34m\u001b[0m\u001b[0;34m\u001b[0m\u001b[0m\n",
            "\u001b[0;32m/usr/local/lib/python3.10/dist-packages/tensorflow/python/util/nest.py\u001b[0m in \u001b[0;36mmap_structure_with_tuple_paths_up_to\u001b[0;34m(shallow_tree, func, *inputs, **kwargs)\u001b[0m\n\u001b[1;32m   1533\u001b[0m       \u001b[0mpath\u001b[0m\u001b[0;34m\u001b[0m\u001b[0;34m\u001b[0m\u001b[0m\n\u001b[1;32m   1534\u001b[0m       for path, _ in _yield_flat_up_to(shallow_tree, inputs[0], is_nested_fn))\n\u001b[0;32m-> 1535\u001b[0;31m   results = [\n\u001b[0m\u001b[1;32m   1536\u001b[0m       \u001b[0mfunc\u001b[0m\u001b[0;34m(\u001b[0m\u001b[0;34m*\u001b[0m\u001b[0margs\u001b[0m\u001b[0;34m,\u001b[0m \u001b[0;34m**\u001b[0m\u001b[0mkwargs\u001b[0m\u001b[0;34m)\u001b[0m \u001b[0;32mfor\u001b[0m \u001b[0margs\u001b[0m \u001b[0;32min\u001b[0m \u001b[0mzip\u001b[0m\u001b[0;34m(\u001b[0m\u001b[0mflat_path_gen\u001b[0m\u001b[0;34m,\u001b[0m \u001b[0;34m*\u001b[0m\u001b[0mflat_value_gen\u001b[0m\u001b[0;34m)\u001b[0m\u001b[0;34m\u001b[0m\u001b[0;34m\u001b[0m\u001b[0m\n\u001b[1;32m   1537\u001b[0m   ]\n",
            "\u001b[0;32m/usr/local/lib/python3.10/dist-packages/tensorflow/python/util/nest.py\u001b[0m in \u001b[0;36m<listcomp>\u001b[0;34m(.0)\u001b[0m\n\u001b[1;32m   1534\u001b[0m       for path, _ in _yield_flat_up_to(shallow_tree, inputs[0], is_nested_fn))\n\u001b[1;32m   1535\u001b[0m   results = [\n\u001b[0;32m-> 1536\u001b[0;31m       \u001b[0mfunc\u001b[0m\u001b[0;34m(\u001b[0m\u001b[0;34m*\u001b[0m\u001b[0margs\u001b[0m\u001b[0;34m,\u001b[0m \u001b[0;34m**\u001b[0m\u001b[0mkwargs\u001b[0m\u001b[0;34m)\u001b[0m \u001b[0;32mfor\u001b[0m \u001b[0margs\u001b[0m \u001b[0;32min\u001b[0m \u001b[0mzip\u001b[0m\u001b[0;34m(\u001b[0m\u001b[0mflat_path_gen\u001b[0m\u001b[0;34m,\u001b[0m \u001b[0;34m*\u001b[0m\u001b[0mflat_value_gen\u001b[0m\u001b[0;34m)\u001b[0m\u001b[0;34m\u001b[0m\u001b[0;34m\u001b[0m\u001b[0m\n\u001b[0m\u001b[1;32m   1537\u001b[0m   ]\n\u001b[1;32m   1538\u001b[0m   return pack_sequence_as(structure=shallow_tree, flat_sequence=results,\n",
            "\u001b[0;32m/usr/local/lib/python3.10/dist-packages/tensorflow/python/util/nest.py\u001b[0m in \u001b[0;36m<lambda>\u001b[0;34m(_, *values)\u001b[0m\n\u001b[1;32m   1435\u001b[0m   return map_structure_with_tuple_paths_up_to(\n\u001b[1;32m   1436\u001b[0m       \u001b[0mshallow_tree\u001b[0m\u001b[0;34m,\u001b[0m\u001b[0;34m\u001b[0m\u001b[0;34m\u001b[0m\u001b[0m\n\u001b[0;32m-> 1437\u001b[0;31m       \u001b[0;32mlambda\u001b[0m \u001b[0m_\u001b[0m\u001b[0;34m,\u001b[0m \u001b[0;34m*\u001b[0m\u001b[0mvalues\u001b[0m\u001b[0;34m:\u001b[0m \u001b[0mfunc\u001b[0m\u001b[0;34m(\u001b[0m\u001b[0;34m*\u001b[0m\u001b[0mvalues\u001b[0m\u001b[0;34m)\u001b[0m\u001b[0;34m,\u001b[0m  \u001b[0;31m# Discards the path arg.\u001b[0m\u001b[0;34m\u001b[0m\u001b[0;34m\u001b[0m\u001b[0m\n\u001b[0m\u001b[1;32m   1438\u001b[0m       \u001b[0;34m*\u001b[0m\u001b[0minputs\u001b[0m\u001b[0;34m,\u001b[0m\u001b[0;34m\u001b[0m\u001b[0;34m\u001b[0m\u001b[0m\n\u001b[1;32m   1439\u001b[0m       **kwargs)\n",
            "\u001b[0;32m/usr/local/lib/python3.10/dist-packages/keras/engine/training.py\u001b[0m in \u001b[0;36mpotentially_ragged_concat\u001b[0;34m(tensors)\u001b[0m\n\u001b[1;32m   3913\u001b[0m         \u001b[0;32mreturn\u001b[0m \u001b[0mtf\u001b[0m\u001b[0;34m.\u001b[0m\u001b[0mconcat\u001b[0m\u001b[0;34m(\u001b[0m\u001b[0mtensors\u001b[0m\u001b[0;34m,\u001b[0m \u001b[0maxis\u001b[0m\u001b[0;34m=\u001b[0m\u001b[0;36m0\u001b[0m\u001b[0;34m)\u001b[0m\u001b[0;34m\u001b[0m\u001b[0;34m\u001b[0m\u001b[0m\n\u001b[1;32m   3914\u001b[0m \u001b[0;34m\u001b[0m\u001b[0m\n\u001b[0;32m-> 3915\u001b[0;31m     \u001b[0mnon_batch_shapes\u001b[0m \u001b[0;34m=\u001b[0m \u001b[0mtf\u001b[0m\u001b[0;34m.\u001b[0m\u001b[0mstack\u001b[0m\u001b[0;34m(\u001b[0m\u001b[0;34m[\u001b[0m\u001b[0mtf\u001b[0m\u001b[0;34m.\u001b[0m\u001b[0mshape\u001b[0m\u001b[0;34m(\u001b[0m\u001b[0mtensor\u001b[0m\u001b[0;34m)\u001b[0m\u001b[0;34m[\u001b[0m\u001b[0;36m1\u001b[0m\u001b[0;34m:\u001b[0m\u001b[0;34m]\u001b[0m \u001b[0;32mfor\u001b[0m \u001b[0mtensor\u001b[0m \u001b[0;32min\u001b[0m \u001b[0mtensors\u001b[0m\u001b[0;34m]\u001b[0m\u001b[0;34m)\u001b[0m\u001b[0;34m\u001b[0m\u001b[0;34m\u001b[0m\u001b[0m\n\u001b[0m\u001b[1;32m   3916\u001b[0m     constant_dims = tf.math.reduce_all(\n\u001b[1;32m   3917\u001b[0m         \u001b[0mnon_batch_shapes\u001b[0m \u001b[0;34m==\u001b[0m \u001b[0mnon_batch_shapes\u001b[0m\u001b[0;34m[\u001b[0m\u001b[0;34m:\u001b[0m\u001b[0;36m1\u001b[0m\u001b[0;34m]\u001b[0m\u001b[0;34m,\u001b[0m \u001b[0maxis\u001b[0m\u001b[0;34m=\u001b[0m\u001b[0;36m0\u001b[0m\u001b[0;34m\u001b[0m\u001b[0;34m\u001b[0m\u001b[0m\n",
            "\u001b[0;32m/usr/local/lib/python3.10/dist-packages/keras/engine/training.py\u001b[0m in \u001b[0;36m<listcomp>\u001b[0;34m(.0)\u001b[0m\n\u001b[1;32m   3913\u001b[0m         \u001b[0;32mreturn\u001b[0m \u001b[0mtf\u001b[0m\u001b[0;34m.\u001b[0m\u001b[0mconcat\u001b[0m\u001b[0;34m(\u001b[0m\u001b[0mtensors\u001b[0m\u001b[0;34m,\u001b[0m \u001b[0maxis\u001b[0m\u001b[0;34m=\u001b[0m\u001b[0;36m0\u001b[0m\u001b[0;34m)\u001b[0m\u001b[0;34m\u001b[0m\u001b[0;34m\u001b[0m\u001b[0m\n\u001b[1;32m   3914\u001b[0m \u001b[0;34m\u001b[0m\u001b[0m\n\u001b[0;32m-> 3915\u001b[0;31m     \u001b[0mnon_batch_shapes\u001b[0m \u001b[0;34m=\u001b[0m \u001b[0mtf\u001b[0m\u001b[0;34m.\u001b[0m\u001b[0mstack\u001b[0m\u001b[0;34m(\u001b[0m\u001b[0;34m[\u001b[0m\u001b[0mtf\u001b[0m\u001b[0;34m.\u001b[0m\u001b[0mshape\u001b[0m\u001b[0;34m(\u001b[0m\u001b[0mtensor\u001b[0m\u001b[0;34m)\u001b[0m\u001b[0;34m[\u001b[0m\u001b[0;36m1\u001b[0m\u001b[0;34m:\u001b[0m\u001b[0;34m]\u001b[0m \u001b[0;32mfor\u001b[0m \u001b[0mtensor\u001b[0m \u001b[0;32min\u001b[0m \u001b[0mtensors\u001b[0m\u001b[0;34m]\u001b[0m\u001b[0;34m)\u001b[0m\u001b[0;34m\u001b[0m\u001b[0;34m\u001b[0m\u001b[0m\n\u001b[0m\u001b[1;32m   3916\u001b[0m     constant_dims = tf.math.reduce_all(\n\u001b[1;32m   3917\u001b[0m         \u001b[0mnon_batch_shapes\u001b[0m \u001b[0;34m==\u001b[0m \u001b[0mnon_batch_shapes\u001b[0m\u001b[0;34m[\u001b[0m\u001b[0;34m:\u001b[0m\u001b[0;36m1\u001b[0m\u001b[0;34m]\u001b[0m\u001b[0;34m,\u001b[0m \u001b[0maxis\u001b[0m\u001b[0;34m=\u001b[0m\u001b[0;36m0\u001b[0m\u001b[0;34m\u001b[0m\u001b[0;34m\u001b[0m\u001b[0m\n",
            "\u001b[0;32m/usr/local/lib/python3.10/dist-packages/tensorflow/python/util/traceback_utils.py\u001b[0m in \u001b[0;36merror_handler\u001b[0;34m(*args, **kwargs)\u001b[0m\n\u001b[1;32m    148\u001b[0m     \u001b[0mfiltered_tb\u001b[0m \u001b[0;34m=\u001b[0m \u001b[0;32mNone\u001b[0m\u001b[0;34m\u001b[0m\u001b[0;34m\u001b[0m\u001b[0m\n\u001b[1;32m    149\u001b[0m     \u001b[0;32mtry\u001b[0m\u001b[0;34m:\u001b[0m\u001b[0;34m\u001b[0m\u001b[0;34m\u001b[0m\u001b[0m\n\u001b[0;32m--> 150\u001b[0;31m       \u001b[0;32mreturn\u001b[0m \u001b[0mfn\u001b[0m\u001b[0;34m(\u001b[0m\u001b[0;34m*\u001b[0m\u001b[0margs\u001b[0m\u001b[0;34m,\u001b[0m \u001b[0;34m**\u001b[0m\u001b[0mkwargs\u001b[0m\u001b[0;34m)\u001b[0m\u001b[0;34m\u001b[0m\u001b[0;34m\u001b[0m\u001b[0m\n\u001b[0m\u001b[1;32m    151\u001b[0m     \u001b[0;32mexcept\u001b[0m \u001b[0mException\u001b[0m \u001b[0;32mas\u001b[0m \u001b[0me\u001b[0m\u001b[0;34m:\u001b[0m\u001b[0;34m\u001b[0m\u001b[0;34m\u001b[0m\u001b[0m\n\u001b[1;32m    152\u001b[0m       \u001b[0mfiltered_tb\u001b[0m \u001b[0;34m=\u001b[0m \u001b[0m_process_traceback_frames\u001b[0m\u001b[0;34m(\u001b[0m\u001b[0me\u001b[0m\u001b[0;34m.\u001b[0m\u001b[0m__traceback__\u001b[0m\u001b[0;34m)\u001b[0m\u001b[0;34m\u001b[0m\u001b[0;34m\u001b[0m\u001b[0m\n",
            "\u001b[0;32m/usr/local/lib/python3.10/dist-packages/tensorflow/python/util/dispatch.py\u001b[0m in \u001b[0;36mop_dispatch_handler\u001b[0;34m(*args, **kwargs)\u001b[0m\n\u001b[1;32m   1174\u001b[0m       \u001b[0;31m# Fallback dispatch system (dispatch v1):\u001b[0m\u001b[0;34m\u001b[0m\u001b[0;34m\u001b[0m\u001b[0m\n\u001b[1;32m   1175\u001b[0m       \u001b[0;32mtry\u001b[0m\u001b[0;34m:\u001b[0m\u001b[0;34m\u001b[0m\u001b[0;34m\u001b[0m\u001b[0m\n\u001b[0;32m-> 1176\u001b[0;31m         \u001b[0;32mreturn\u001b[0m \u001b[0mdispatch_target\u001b[0m\u001b[0;34m(\u001b[0m\u001b[0;34m*\u001b[0m\u001b[0margs\u001b[0m\u001b[0;34m,\u001b[0m \u001b[0;34m**\u001b[0m\u001b[0mkwargs\u001b[0m\u001b[0;34m)\u001b[0m\u001b[0;34m\u001b[0m\u001b[0;34m\u001b[0m\u001b[0m\n\u001b[0m\u001b[1;32m   1177\u001b[0m       \u001b[0;32mexcept\u001b[0m \u001b[0;34m(\u001b[0m\u001b[0mTypeError\u001b[0m\u001b[0;34m,\u001b[0m \u001b[0mValueError\u001b[0m\u001b[0;34m)\u001b[0m\u001b[0;34m:\u001b[0m\u001b[0;34m\u001b[0m\u001b[0;34m\u001b[0m\u001b[0m\n\u001b[1;32m   1178\u001b[0m         \u001b[0;31m# Note: convert_to_eager_tensor currently raises a ValueError, not a\u001b[0m\u001b[0;34m\u001b[0m\u001b[0;34m\u001b[0m\u001b[0m\n",
            "\u001b[0;32m/usr/local/lib/python3.10/dist-packages/tensorflow/python/ops/array_ops.py\u001b[0m in \u001b[0;36m_slice_helper\u001b[0;34m(tensor, slice_spec, var)\u001b[0m\n\u001b[1;32m   1088\u001b[0m     \u001b[0;32mif\u001b[0m \u001b[0mbegin\u001b[0m\u001b[0;34m:\u001b[0m\u001b[0;34m\u001b[0m\u001b[0;34m\u001b[0m\u001b[0m\n\u001b[1;32m   1089\u001b[0m       packed_begin, packed_end, packed_strides = (stack(begin), stack(end),\n\u001b[0;32m-> 1090\u001b[0;31m                                                   stack(strides))\n\u001b[0m\u001b[1;32m   1091\u001b[0m       \u001b[0;31m# TODO(mdan): Instead of implicitly casting, it's better to enforce the\u001b[0m\u001b[0;34m\u001b[0m\u001b[0;34m\u001b[0m\u001b[0m\n\u001b[1;32m   1092\u001b[0m       \u001b[0;31m# same dtypes.\u001b[0m\u001b[0;34m\u001b[0m\u001b[0;34m\u001b[0m\u001b[0m\n",
            "\u001b[0;32m/usr/local/lib/python3.10/dist-packages/tensorflow/python/util/traceback_utils.py\u001b[0m in \u001b[0;36merror_handler\u001b[0;34m(*args, **kwargs)\u001b[0m\n\u001b[1;32m    148\u001b[0m     \u001b[0mfiltered_tb\u001b[0m \u001b[0;34m=\u001b[0m \u001b[0;32mNone\u001b[0m\u001b[0;34m\u001b[0m\u001b[0;34m\u001b[0m\u001b[0m\n\u001b[1;32m    149\u001b[0m     \u001b[0;32mtry\u001b[0m\u001b[0;34m:\u001b[0m\u001b[0;34m\u001b[0m\u001b[0;34m\u001b[0m\u001b[0m\n\u001b[0;32m--> 150\u001b[0;31m       \u001b[0;32mreturn\u001b[0m \u001b[0mfn\u001b[0m\u001b[0;34m(\u001b[0m\u001b[0;34m*\u001b[0m\u001b[0margs\u001b[0m\u001b[0;34m,\u001b[0m \u001b[0;34m**\u001b[0m\u001b[0mkwargs\u001b[0m\u001b[0;34m)\u001b[0m\u001b[0;34m\u001b[0m\u001b[0;34m\u001b[0m\u001b[0m\n\u001b[0m\u001b[1;32m    151\u001b[0m     \u001b[0;32mexcept\u001b[0m \u001b[0mException\u001b[0m \u001b[0;32mas\u001b[0m \u001b[0me\u001b[0m\u001b[0;34m:\u001b[0m\u001b[0;34m\u001b[0m\u001b[0;34m\u001b[0m\u001b[0m\n\u001b[1;32m    152\u001b[0m       \u001b[0mfiltered_tb\u001b[0m \u001b[0;34m=\u001b[0m \u001b[0m_process_traceback_frames\u001b[0m\u001b[0;34m(\u001b[0m\u001b[0me\u001b[0m\u001b[0;34m.\u001b[0m\u001b[0m__traceback__\u001b[0m\u001b[0;34m)\u001b[0m\u001b[0;34m\u001b[0m\u001b[0;34m\u001b[0m\u001b[0m\n",
            "\u001b[0;32m/usr/local/lib/python3.10/dist-packages/tensorflow/python/util/dispatch.py\u001b[0m in \u001b[0;36mop_dispatch_handler\u001b[0;34m(*args, **kwargs)\u001b[0m\n\u001b[1;32m   1174\u001b[0m       \u001b[0;31m# Fallback dispatch system (dispatch v1):\u001b[0m\u001b[0;34m\u001b[0m\u001b[0;34m\u001b[0m\u001b[0m\n\u001b[1;32m   1175\u001b[0m       \u001b[0;32mtry\u001b[0m\u001b[0;34m:\u001b[0m\u001b[0;34m\u001b[0m\u001b[0;34m\u001b[0m\u001b[0m\n\u001b[0;32m-> 1176\u001b[0;31m         \u001b[0;32mreturn\u001b[0m \u001b[0mdispatch_target\u001b[0m\u001b[0;34m(\u001b[0m\u001b[0;34m*\u001b[0m\u001b[0margs\u001b[0m\u001b[0;34m,\u001b[0m \u001b[0;34m**\u001b[0m\u001b[0mkwargs\u001b[0m\u001b[0;34m)\u001b[0m\u001b[0;34m\u001b[0m\u001b[0;34m\u001b[0m\u001b[0m\n\u001b[0m\u001b[1;32m   1177\u001b[0m       \u001b[0;32mexcept\u001b[0m \u001b[0;34m(\u001b[0m\u001b[0mTypeError\u001b[0m\u001b[0;34m,\u001b[0m \u001b[0mValueError\u001b[0m\u001b[0;34m)\u001b[0m\u001b[0;34m:\u001b[0m\u001b[0;34m\u001b[0m\u001b[0;34m\u001b[0m\u001b[0m\n\u001b[1;32m   1178\u001b[0m         \u001b[0;31m# Note: convert_to_eager_tensor currently raises a ValueError, not a\u001b[0m\u001b[0;34m\u001b[0m\u001b[0;34m\u001b[0m\u001b[0m\n",
            "\u001b[0;32m/usr/local/lib/python3.10/dist-packages/tensorflow/python/ops/array_ops.py\u001b[0m in \u001b[0;36mstack\u001b[0;34m(values, axis, name)\u001b[0m\n\u001b[1;32m   1482\u001b[0m     \u001b[0;32mtry\u001b[0m\u001b[0;34m:\u001b[0m\u001b[0;34m\u001b[0m\u001b[0;34m\u001b[0m\u001b[0m\n\u001b[1;32m   1483\u001b[0m       \u001b[0;31m# If the input is a constant list, it can be converted to a constant op\u001b[0m\u001b[0;34m\u001b[0m\u001b[0;34m\u001b[0m\u001b[0m\n\u001b[0;32m-> 1484\u001b[0;31m       \u001b[0;32mreturn\u001b[0m \u001b[0mops\u001b[0m\u001b[0;34m.\u001b[0m\u001b[0mconvert_to_tensor\u001b[0m\u001b[0;34m(\u001b[0m\u001b[0mvalues\u001b[0m\u001b[0;34m,\u001b[0m \u001b[0mname\u001b[0m\u001b[0;34m=\u001b[0m\u001b[0mname\u001b[0m\u001b[0;34m)\u001b[0m\u001b[0;34m\u001b[0m\u001b[0;34m\u001b[0m\u001b[0m\n\u001b[0m\u001b[1;32m   1485\u001b[0m     \u001b[0;32mexcept\u001b[0m \u001b[0;34m(\u001b[0m\u001b[0mTypeError\u001b[0m\u001b[0;34m,\u001b[0m \u001b[0mValueError\u001b[0m\u001b[0;34m,\u001b[0m \u001b[0mNotImplementedError\u001b[0m\u001b[0;34m)\u001b[0m\u001b[0;34m:\u001b[0m\u001b[0;34m\u001b[0m\u001b[0;34m\u001b[0m\u001b[0m\n\u001b[1;32m   1486\u001b[0m       \u001b[0;32mpass\u001b[0m  \u001b[0;31m# Input list contains non-constant tensors\u001b[0m\u001b[0;34m\u001b[0m\u001b[0;34m\u001b[0m\u001b[0m\n",
            "\u001b[0;32m/usr/local/lib/python3.10/dist-packages/tensorflow/python/profiler/trace.py\u001b[0m in \u001b[0;36mwrapped\u001b[0;34m(*args, **kwargs)\u001b[0m\n\u001b[1;32m    181\u001b[0m         \u001b[0;32mwith\u001b[0m \u001b[0mTrace\u001b[0m\u001b[0;34m(\u001b[0m\u001b[0mtrace_name\u001b[0m\u001b[0;34m,\u001b[0m \u001b[0;34m**\u001b[0m\u001b[0mtrace_kwargs\u001b[0m\u001b[0;34m)\u001b[0m\u001b[0;34m:\u001b[0m\u001b[0;34m\u001b[0m\u001b[0;34m\u001b[0m\u001b[0m\n\u001b[1;32m    182\u001b[0m           \u001b[0;32mreturn\u001b[0m \u001b[0mfunc\u001b[0m\u001b[0;34m(\u001b[0m\u001b[0;34m*\u001b[0m\u001b[0margs\u001b[0m\u001b[0;34m,\u001b[0m \u001b[0;34m**\u001b[0m\u001b[0mkwargs\u001b[0m\u001b[0;34m)\u001b[0m\u001b[0;34m\u001b[0m\u001b[0;34m\u001b[0m\u001b[0m\n\u001b[0;32m--> 183\u001b[0;31m       \u001b[0;32mreturn\u001b[0m \u001b[0mfunc\u001b[0m\u001b[0;34m(\u001b[0m\u001b[0;34m*\u001b[0m\u001b[0margs\u001b[0m\u001b[0;34m,\u001b[0m \u001b[0;34m**\u001b[0m\u001b[0mkwargs\u001b[0m\u001b[0;34m)\u001b[0m\u001b[0;34m\u001b[0m\u001b[0;34m\u001b[0m\u001b[0m\n\u001b[0m\u001b[1;32m    184\u001b[0m \u001b[0;34m\u001b[0m\u001b[0m\n\u001b[1;32m    185\u001b[0m     \u001b[0;32mreturn\u001b[0m \u001b[0mwrapped\u001b[0m\u001b[0;34m\u001b[0m\u001b[0;34m\u001b[0m\u001b[0m\n",
            "\u001b[0;32m/usr/local/lib/python3.10/dist-packages/tensorflow/python/framework/ops.py\u001b[0m in \u001b[0;36mconvert_to_tensor\u001b[0;34m(value, dtype, name, as_ref, preferred_dtype, dtype_hint, ctx, accepted_result_types)\u001b[0m\n\u001b[1;32m   1640\u001b[0m \u001b[0;34m\u001b[0m\u001b[0m\n\u001b[1;32m   1641\u001b[0m     \u001b[0;32mif\u001b[0m \u001b[0mret\u001b[0m \u001b[0;32mis\u001b[0m \u001b[0;32mNone\u001b[0m\u001b[0;34m:\u001b[0m\u001b[0;34m\u001b[0m\u001b[0;34m\u001b[0m\u001b[0m\n\u001b[0;32m-> 1642\u001b[0;31m       \u001b[0mret\u001b[0m \u001b[0;34m=\u001b[0m \u001b[0mconversion_func\u001b[0m\u001b[0;34m(\u001b[0m\u001b[0mvalue\u001b[0m\u001b[0;34m,\u001b[0m \u001b[0mdtype\u001b[0m\u001b[0;34m=\u001b[0m\u001b[0mdtype\u001b[0m\u001b[0;34m,\u001b[0m \u001b[0mname\u001b[0m\u001b[0;34m=\u001b[0m\u001b[0mname\u001b[0m\u001b[0;34m,\u001b[0m \u001b[0mas_ref\u001b[0m\u001b[0;34m=\u001b[0m\u001b[0mas_ref\u001b[0m\u001b[0;34m)\u001b[0m\u001b[0;34m\u001b[0m\u001b[0;34m\u001b[0m\u001b[0m\n\u001b[0m\u001b[1;32m   1643\u001b[0m \u001b[0;34m\u001b[0m\u001b[0m\n\u001b[1;32m   1644\u001b[0m     \u001b[0;32mif\u001b[0m \u001b[0mret\u001b[0m \u001b[0;32mis\u001b[0m \u001b[0mNotImplemented\u001b[0m\u001b[0;34m:\u001b[0m\u001b[0;34m\u001b[0m\u001b[0;34m\u001b[0m\u001b[0m\n",
            "\u001b[0;32m/usr/local/lib/python3.10/dist-packages/tensorflow/python/framework/constant_op.py\u001b[0m in \u001b[0;36m_constant_tensor_conversion_function\u001b[0;34m(v, dtype, name, as_ref)\u001b[0m\n\u001b[1;32m    342\u001b[0m                                          as_ref=False):\n\u001b[1;32m    343\u001b[0m   \u001b[0m_\u001b[0m \u001b[0;34m=\u001b[0m \u001b[0mas_ref\u001b[0m\u001b[0;34m\u001b[0m\u001b[0;34m\u001b[0m\u001b[0m\n\u001b[0;32m--> 344\u001b[0;31m   \u001b[0;32mreturn\u001b[0m \u001b[0mconstant\u001b[0m\u001b[0;34m(\u001b[0m\u001b[0mv\u001b[0m\u001b[0;34m,\u001b[0m \u001b[0mdtype\u001b[0m\u001b[0;34m=\u001b[0m\u001b[0mdtype\u001b[0m\u001b[0;34m,\u001b[0m \u001b[0mname\u001b[0m\u001b[0;34m=\u001b[0m\u001b[0mname\u001b[0m\u001b[0;34m)\u001b[0m\u001b[0;34m\u001b[0m\u001b[0;34m\u001b[0m\u001b[0m\n\u001b[0m\u001b[1;32m    345\u001b[0m \u001b[0;34m\u001b[0m\u001b[0m\n\u001b[1;32m    346\u001b[0m \u001b[0;34m\u001b[0m\u001b[0m\n",
            "\u001b[0;32m/usr/local/lib/python3.10/dist-packages/tensorflow/python/framework/constant_op.py\u001b[0m in \u001b[0;36mconstant\u001b[0;34m(value, dtype, shape, name)\u001b[0m\n\u001b[1;32m    266\u001b[0m     \u001b[0mValueError\u001b[0m\u001b[0;34m:\u001b[0m \u001b[0;32mif\u001b[0m \u001b[0mcalled\u001b[0m \u001b[0mon\u001b[0m \u001b[0ma\u001b[0m \u001b[0msymbolic\u001b[0m \u001b[0mtensor\u001b[0m\u001b[0;34m.\u001b[0m\u001b[0;34m\u001b[0m\u001b[0;34m\u001b[0m\u001b[0m\n\u001b[1;32m    267\u001b[0m   \"\"\"\n\u001b[0;32m--> 268\u001b[0;31m   return _constant_impl(value, dtype, shape, name, verify_shape=False,\n\u001b[0m\u001b[1;32m    269\u001b[0m                         allow_broadcast=True)\n\u001b[1;32m    270\u001b[0m \u001b[0;34m\u001b[0m\u001b[0m\n",
            "\u001b[0;32m/usr/local/lib/python3.10/dist-packages/tensorflow/python/framework/constant_op.py\u001b[0m in \u001b[0;36m_constant_impl\u001b[0;34m(value, dtype, shape, name, verify_shape, allow_broadcast)\u001b[0m\n\u001b[1;32m    278\u001b[0m       \u001b[0;32mwith\u001b[0m \u001b[0mtrace\u001b[0m\u001b[0;34m.\u001b[0m\u001b[0mTrace\u001b[0m\u001b[0;34m(\u001b[0m\u001b[0;34m\"tf.constant\"\u001b[0m\u001b[0;34m)\u001b[0m\u001b[0;34m:\u001b[0m\u001b[0;34m\u001b[0m\u001b[0;34m\u001b[0m\u001b[0m\n\u001b[1;32m    279\u001b[0m         \u001b[0;32mreturn\u001b[0m \u001b[0m_constant_eager_impl\u001b[0m\u001b[0;34m(\u001b[0m\u001b[0mctx\u001b[0m\u001b[0;34m,\u001b[0m \u001b[0mvalue\u001b[0m\u001b[0;34m,\u001b[0m \u001b[0mdtype\u001b[0m\u001b[0;34m,\u001b[0m \u001b[0mshape\u001b[0m\u001b[0;34m,\u001b[0m \u001b[0mverify_shape\u001b[0m\u001b[0;34m)\u001b[0m\u001b[0;34m\u001b[0m\u001b[0;34m\u001b[0m\u001b[0m\n\u001b[0;32m--> 280\u001b[0;31m     \u001b[0;32mreturn\u001b[0m \u001b[0m_constant_eager_impl\u001b[0m\u001b[0;34m(\u001b[0m\u001b[0mctx\u001b[0m\u001b[0;34m,\u001b[0m \u001b[0mvalue\u001b[0m\u001b[0;34m,\u001b[0m \u001b[0mdtype\u001b[0m\u001b[0;34m,\u001b[0m \u001b[0mshape\u001b[0m\u001b[0;34m,\u001b[0m \u001b[0mverify_shape\u001b[0m\u001b[0;34m)\u001b[0m\u001b[0;34m\u001b[0m\u001b[0;34m\u001b[0m\u001b[0m\n\u001b[0m\u001b[1;32m    281\u001b[0m \u001b[0;34m\u001b[0m\u001b[0m\n\u001b[1;32m    282\u001b[0m   \u001b[0mg\u001b[0m \u001b[0;34m=\u001b[0m \u001b[0mops\u001b[0m\u001b[0;34m.\u001b[0m\u001b[0mget_default_graph\u001b[0m\u001b[0;34m(\u001b[0m\u001b[0;34m)\u001b[0m\u001b[0;34m\u001b[0m\u001b[0;34m\u001b[0m\u001b[0m\n",
            "\u001b[0;32m/usr/local/lib/python3.10/dist-packages/tensorflow/python/framework/constant_op.py\u001b[0m in \u001b[0;36m_constant_eager_impl\u001b[0;34m(ctx, value, dtype, shape, verify_shape)\u001b[0m\n\u001b[1;32m    303\u001b[0m \u001b[0;32mdef\u001b[0m \u001b[0m_constant_eager_impl\u001b[0m\u001b[0;34m(\u001b[0m\u001b[0mctx\u001b[0m\u001b[0;34m,\u001b[0m \u001b[0mvalue\u001b[0m\u001b[0;34m,\u001b[0m \u001b[0mdtype\u001b[0m\u001b[0;34m,\u001b[0m \u001b[0mshape\u001b[0m\u001b[0;34m,\u001b[0m \u001b[0mverify_shape\u001b[0m\u001b[0;34m)\u001b[0m\u001b[0;34m:\u001b[0m\u001b[0;34m\u001b[0m\u001b[0;34m\u001b[0m\u001b[0m\n\u001b[1;32m    304\u001b[0m   \u001b[0;34m\"\"\"Creates a constant on the current device.\"\"\"\u001b[0m\u001b[0;34m\u001b[0m\u001b[0;34m\u001b[0m\u001b[0m\n\u001b[0;32m--> 305\u001b[0;31m   \u001b[0mt\u001b[0m \u001b[0;34m=\u001b[0m \u001b[0mconvert_to_eager_tensor\u001b[0m\u001b[0;34m(\u001b[0m\u001b[0mvalue\u001b[0m\u001b[0;34m,\u001b[0m \u001b[0mctx\u001b[0m\u001b[0;34m,\u001b[0m \u001b[0mdtype\u001b[0m\u001b[0;34m)\u001b[0m\u001b[0;34m\u001b[0m\u001b[0;34m\u001b[0m\u001b[0m\n\u001b[0m\u001b[1;32m    306\u001b[0m   \u001b[0;32mif\u001b[0m \u001b[0mshape\u001b[0m \u001b[0;32mis\u001b[0m \u001b[0;32mNone\u001b[0m\u001b[0;34m:\u001b[0m\u001b[0;34m\u001b[0m\u001b[0;34m\u001b[0m\u001b[0m\n\u001b[1;32m    307\u001b[0m     \u001b[0;32mreturn\u001b[0m \u001b[0mt\u001b[0m\u001b[0;34m\u001b[0m\u001b[0;34m\u001b[0m\u001b[0m\n",
            "\u001b[0;32m/usr/local/lib/python3.10/dist-packages/tensorflow/python/framework/constant_op.py\u001b[0m in \u001b[0;36mconvert_to_eager_tensor\u001b[0;34m(value, ctx, dtype)\u001b[0m\n\u001b[1;32m    101\u001b[0m       \u001b[0mdtype\u001b[0m \u001b[0;34m=\u001b[0m \u001b[0mdtypes\u001b[0m\u001b[0;34m.\u001b[0m\u001b[0mas_dtype\u001b[0m\u001b[0;34m(\u001b[0m\u001b[0mdtype\u001b[0m\u001b[0;34m)\u001b[0m\u001b[0;34m.\u001b[0m\u001b[0mas_datatype_enum\u001b[0m\u001b[0;34m\u001b[0m\u001b[0;34m\u001b[0m\u001b[0m\n\u001b[1;32m    102\u001b[0m   \u001b[0mctx\u001b[0m\u001b[0;34m.\u001b[0m\u001b[0mensure_initialized\u001b[0m\u001b[0;34m(\u001b[0m\u001b[0;34m)\u001b[0m\u001b[0;34m\u001b[0m\u001b[0;34m\u001b[0m\u001b[0m\n\u001b[0;32m--> 103\u001b[0;31m   \u001b[0;32mreturn\u001b[0m \u001b[0mops\u001b[0m\u001b[0;34m.\u001b[0m\u001b[0mEagerTensor\u001b[0m\u001b[0;34m(\u001b[0m\u001b[0mvalue\u001b[0m\u001b[0;34m,\u001b[0m \u001b[0mctx\u001b[0m\u001b[0;34m.\u001b[0m\u001b[0mdevice_name\u001b[0m\u001b[0;34m,\u001b[0m \u001b[0mdtype\u001b[0m\u001b[0;34m)\u001b[0m\u001b[0;34m\u001b[0m\u001b[0;34m\u001b[0m\u001b[0m\n\u001b[0m\u001b[1;32m    104\u001b[0m \u001b[0;34m\u001b[0m\u001b[0m\n\u001b[1;32m    105\u001b[0m \u001b[0;34m\u001b[0m\u001b[0m\n",
            "\u001b[0;31mKeyboardInterrupt\u001b[0m: "
          ]
        }
      ]
    },
    {
      "cell_type": "code",
      "source": [
        "import operator\n",
        "\n",
        "\n",
        "feature_importances_annotated = {col: imp for col, imp in zip(x_cleaned_cols, feature_importances)}\n",
        "sorted_feature_importances_annotated = sorted(feature_importances_annotated.items(), key=operator.itemgetter(1), reverse=True)\n",
        "\n",
        "for k, v in sorted_feature_importances_annotated:\n",
        "  print('{k}: {v}'.format(k=k, v=v))"
      ],
      "metadata": {
        "colab": {
          "base_uri": "https://localhost:8080/",
          "height": 236
        },
        "id": "-wuV951nGE1V",
        "outputId": "078baa2b-6e6c-41d9-a36d-dcf5b7fd8145"
      },
      "execution_count": 44,
      "outputs": [
        {
          "output_type": "error",
          "ename": "NameError",
          "evalue": "ignored",
          "traceback": [
            "\u001b[0;31m---------------------------------------------------------------------------\u001b[0m",
            "\u001b[0;31mNameError\u001b[0m                                 Traceback (most recent call last)",
            "\u001b[0;32m<ipython-input-44-c01745646d44>\u001b[0m in \u001b[0;36m<cell line: 4>\u001b[0;34m()\u001b[0m\n\u001b[1;32m      2\u001b[0m \u001b[0;34m\u001b[0m\u001b[0m\n\u001b[1;32m      3\u001b[0m \u001b[0;34m\u001b[0m\u001b[0m\n\u001b[0;32m----> 4\u001b[0;31m \u001b[0mfeature_importances_annotated\u001b[0m \u001b[0;34m=\u001b[0m \u001b[0;34m{\u001b[0m\u001b[0mcol\u001b[0m\u001b[0;34m:\u001b[0m \u001b[0mimp\u001b[0m \u001b[0;32mfor\u001b[0m \u001b[0mcol\u001b[0m\u001b[0;34m,\u001b[0m \u001b[0mimp\u001b[0m \u001b[0;32min\u001b[0m \u001b[0mzip\u001b[0m\u001b[0;34m(\u001b[0m\u001b[0mx_cleaned_cols\u001b[0m\u001b[0;34m,\u001b[0m \u001b[0mfeature_importances\u001b[0m\u001b[0;34m)\u001b[0m\u001b[0;34m}\u001b[0m\u001b[0;34m\u001b[0m\u001b[0;34m\u001b[0m\u001b[0m\n\u001b[0m\u001b[1;32m      5\u001b[0m \u001b[0msorted_feature_importances_annotated\u001b[0m \u001b[0;34m=\u001b[0m \u001b[0msorted\u001b[0m\u001b[0;34m(\u001b[0m\u001b[0mfeature_importances_annotated\u001b[0m\u001b[0;34m.\u001b[0m\u001b[0mitems\u001b[0m\u001b[0;34m(\u001b[0m\u001b[0;34m)\u001b[0m\u001b[0;34m,\u001b[0m \u001b[0mkey\u001b[0m\u001b[0;34m=\u001b[0m\u001b[0moperator\u001b[0m\u001b[0;34m.\u001b[0m\u001b[0mitemgetter\u001b[0m\u001b[0;34m(\u001b[0m\u001b[0;36m1\u001b[0m\u001b[0;34m)\u001b[0m\u001b[0;34m,\u001b[0m \u001b[0mreverse\u001b[0m\u001b[0;34m=\u001b[0m\u001b[0;32mTrue\u001b[0m\u001b[0;34m)\u001b[0m\u001b[0;34m\u001b[0m\u001b[0;34m\u001b[0m\u001b[0m\n\u001b[1;32m      6\u001b[0m \u001b[0;34m\u001b[0m\u001b[0m\n",
            "\u001b[0;31mNameError\u001b[0m: name 'feature_importances' is not defined"
          ]
        }
      ]
    },
    {
      "cell_type": "code",
      "source": [
        "#!pip install imbalanced-learn"
      ],
      "metadata": {
        "colab": {
          "base_uri": "https://localhost:8080/"
        },
        "id": "_zFxXgk9GEyK",
        "outputId": "4021b661-f636-4770-8446-665e70ad16e8"
      },
      "execution_count": 1,
      "outputs": [
        {
          "output_type": "stream",
          "name": "stdout",
          "text": [
            "Looking in indexes: https://pypi.org/simple, https://us-python.pkg.dev/colab-wheels/public/simple/\n",
            "Requirement already satisfied: imbalanced-learn in /usr/local/lib/python3.10/dist-packages (0.10.1)\n",
            "Requirement already satisfied: numpy>=1.17.3 in /usr/local/lib/python3.10/dist-packages (from imbalanced-learn) (1.22.4)\n",
            "Requirement already satisfied: scipy>=1.3.2 in /usr/local/lib/python3.10/dist-packages (from imbalanced-learn) (1.10.1)\n",
            "Requirement already satisfied: scikit-learn>=1.0.2 in /usr/local/lib/python3.10/dist-packages (from imbalanced-learn) (1.2.2)\n",
            "Requirement already satisfied: joblib>=1.1.1 in /usr/local/lib/python3.10/dist-packages (from imbalanced-learn) (1.2.0)\n",
            "Requirement already satisfied: threadpoolctl>=2.0.0 in /usr/local/lib/python3.10/dist-packages (from imbalanced-learn) (3.1.0)\n"
          ]
        }
      ]
    },
    {
      "cell_type": "code",
      "source": [
        "#!pip install -q openml"
      ],
      "metadata": {
        "id": "gOgzNLNZINT1"
      },
      "execution_count": 2,
      "outputs": []
    },
    {
      "cell_type": "code",
      "source": [],
      "metadata": {
        "id": "Hs15sD9gMp1I"
      },
      "execution_count": 50,
      "outputs": []
    },
    {
      "cell_type": "code",
      "source": [],
      "metadata": {
        "id": "1TDjo1AzIZes"
      },
      "execution_count": 61,
      "outputs": []
    },
    {
      "cell_type": "code",
      "source": [
        "dataset.info()"
      ],
      "metadata": {
        "colab": {
          "base_uri": "https://localhost:8080/"
        },
        "id": "aUcJpdx8LVDj",
        "outputId": "93223bfd-bfe4-4250-8c15-f8ab3dec5be4"
      },
      "execution_count": 62,
      "outputs": [
        {
          "output_type": "stream",
          "name": "stdout",
          "text": [
            "<class 'pandas.core.frame.DataFrame'>\n",
            "RangeIndex: 733 entries, 0 to 732\n",
            "Data columns (total 38 columns):\n",
            " #   Column                 Non-Null Count  Dtype  \n",
            "---  ------                 --------------  -----  \n",
            " 0   Transaction_Date       733 non-null    object \n",
            " 1   DOB                    733 non-null    object \n",
            " 2   MemberID               733 non-null    object \n",
            " 3   Emp_First_Name         733 non-null    object \n",
            " 4   Emp_Last_Name          733 non-null    object \n",
            " 5   Gender                 733 non-null    object \n",
            " 6   Age                    733 non-null    float64\n",
            " 7   Age_Group              733 non-null    object \n",
            " 8   Location               733 non-null    int64  \n",
            " 9   Active_Status          733 non-null    object \n",
            " 10  Covg_Status            733 non-null    object \n",
            " 11  Plan                   733 non-null    object \n",
            " 12  Prov_Name              733 non-null    object \n",
            " 13  Prov_ID                733 non-null    int64  \n",
            " 14  Prov_Spec_Desc         733 non-null    object \n",
            " 15  Prov_spec              733 non-null    object \n",
            " 16  Prov_State             733 non-null    object \n",
            " 17  Prov_Zip               733 non-null    object \n",
            " 18  Payee                  733 non-null    object \n",
            " 19  Ben_Code_Desc          733 non-null    object \n",
            " 20  CPT                    733 non-null    object \n",
            " 21  CPT_Desc               733 non-null    object \n",
            " 22  POS_Desc               733 non-null    object \n",
            " 23  Allowed                733 non-null    float64\n",
            " 24  Charged                733 non-null    float64\n",
            " 25  Discount               733 non-null    float64\n",
            " 26  Paid                   733 non-null    float64\n",
            " 27  Deductible             733 non-null    float64\n",
            " 28  year                   733 non-null    int64  \n",
            " 29  month                  733 non-null    int64  \n",
            " 30  month name             733 non-null    object \n",
            " 31  season                 733 non-null    object \n",
            " 32  MSK Code               733 non-null    object \n",
            " 33  MatchTo_ICD10_FoundIn  733 non-null    object \n",
            " 34  Description            733 non-null    object \n",
            " 35  Region                 733 non-null    object \n",
            " 36  Additional_Text        289 non-null    object \n",
            " 37  Condition              733 non-null    object \n",
            "dtypes: float64(6), int64(4), object(28)\n",
            "memory usage: 217.7+ KB\n"
          ]
        }
      ]
    },
    {
      "cell_type": "code",
      "source": [],
      "metadata": {
        "id": "ZPNNHGtRLlwc"
      },
      "execution_count": 63,
      "outputs": []
    },
    {
      "cell_type": "code",
      "source": [],
      "metadata": {
        "id": "mrMwal8-P6jH"
      },
      "execution_count": 66,
      "outputs": []
    },
    {
      "cell_type": "code",
      "source": [
        "dataset.info()"
      ],
      "metadata": {
        "colab": {
          "base_uri": "https://localhost:8080/"
        },
        "id": "jsoo1QyoPc2n",
        "outputId": "a302f134-f8c0-4ea0-91fe-e4e871e6f3e0"
      },
      "execution_count": 67,
      "outputs": [
        {
          "output_type": "stream",
          "name": "stdout",
          "text": [
            "<class 'pandas.core.frame.DataFrame'>\n",
            "RangeIndex: 733 entries, 0 to 732\n",
            "Data columns (total 43 columns):\n",
            " #   Column                 Non-Null Count  Dtype  \n",
            "---  ------                 --------------  -----  \n",
            " 0   Transaction_Date       733 non-null    object \n",
            " 1   DOB                    733 non-null    object \n",
            " 2   MemberID               733 non-null    object \n",
            " 3   Emp_First_Name         733 non-null    object \n",
            " 4   Emp_Last_Name          733 non-null    object \n",
            " 5   Gender                 733 non-null    object \n",
            " 6   Age                    733 non-null    float64\n",
            " 7   Age_Group              733 non-null    object \n",
            " 8   Location               733 non-null    int64  \n",
            " 9   Active_Status          733 non-null    object \n",
            " 10  Covg_Status            733 non-null    object \n",
            " 11  Plan                   733 non-null    object \n",
            " 12  Prov_Name              733 non-null    object \n",
            " 13  Prov_ID                733 non-null    int64  \n",
            " 14  Prov_Spec_Desc         733 non-null    object \n",
            " 15  Prov_spec              733 non-null    object \n",
            " 16  Prov_State             733 non-null    object \n",
            " 17  Prov_Zip               733 non-null    object \n",
            " 18  Payee                  733 non-null    object \n",
            " 19  Ben_Code_Desc          733 non-null    object \n",
            " 20  CPT                    733 non-null    object \n",
            " 21  CPT_Desc               733 non-null    object \n",
            " 22  POS_Desc               733 non-null    object \n",
            " 23  Allowed                733 non-null    float64\n",
            " 24  Charged                733 non-null    float64\n",
            " 25  Discount               733 non-null    float64\n",
            " 26  Paid                   733 non-null    float64\n",
            " 27  Deductible             733 non-null    float64\n",
            " 28  year                   733 non-null    int64  \n",
            " 29  month                  733 non-null    int64  \n",
            " 30  month name             733 non-null    object \n",
            " 31  season                 733 non-null    object \n",
            " 32  MSK Code               733 non-null    object \n",
            " 33  MatchTo_ICD10_FoundIn  733 non-null    object \n",
            " 34  Description            733 non-null    object \n",
            " 35  Region                 733 non-null    object \n",
            " 36  Additional_Text        289 non-null    object \n",
            " 37  Condition              733 non-null    object \n",
            " 38  Age_Group_Factors      733 non-null    int64  \n",
            " 39  season_Factors         733 non-null    int64  \n",
            " 40  Gender_Factors         733 non-null    int64  \n",
            " 41  Region_Factors         733 non-null    int64  \n",
            " 42  Condition_Factors      733 non-null    int64  \n",
            "dtypes: float64(6), int64(9), object(28)\n",
            "memory usage: 246.4+ KB\n"
          ]
        }
      ]
    },
    {
      "cell_type": "code",
      "source": [],
      "metadata": {
        "colab": {
          "base_uri": "https://localhost:8080/"
        },
        "id": "vlFypqkIIiWE",
        "outputId": "41652419-5d5d-43c2-bb88-86784be00bae"
      },
      "execution_count": 78,
      "outputs": [
        {
          "output_type": "stream",
          "name": "stdout",
          "text": [
            "<class 'pandas.core.frame.DataFrame'>\n",
            "RangeIndex: 733 entries, 0 to 732\n",
            "Data columns (total 12 columns):\n",
            " #   Column             Non-Null Count  Dtype  \n",
            "---  ------             --------------  -----  \n",
            " 0   Age                733 non-null    float64\n",
            " 1   Location           733 non-null    int64  \n",
            " 2   Allowed            733 non-null    float64\n",
            " 3   Discount           733 non-null    float64\n",
            " 4   Paid               733 non-null    float64\n",
            " 5   Deductible         733 non-null    float64\n",
            " 6   month              733 non-null    int64  \n",
            " 7   Age_Group_Factors  733 non-null    int64  \n",
            " 8   season_Factors     733 non-null    int64  \n",
            " 9   Gender_Factors     733 non-null    int64  \n",
            " 10  Region_Factors     733 non-null    int64  \n",
            " 11  Condition_Factors  733 non-null    int64  \n",
            "dtypes: float64(5), int64(7)\n",
            "memory usage: 68.8 KB\n"
          ]
        }
      ]
    },
    {
      "cell_type": "code",
      "source": [
        "y"
      ],
      "metadata": {
        "colab": {
          "base_uri": "https://localhost:8080/",
          "height": 424
        },
        "id": "_DoTJeqILIcu",
        "outputId": "c62b4f1d-f73c-43ec-f180-b87d01111563"
      },
      "execution_count": 79,
      "outputs": [
        {
          "output_type": "execute_result",
          "data": {
            "text/plain": [
              "     Charged\n",
              "0     261.00\n",
              "1       7.00\n",
              "2      16.00\n",
              "3      83.00\n",
              "4      30.00\n",
              "..       ...\n",
              "728    34.33\n",
              "729    98.00\n",
              "730  4032.00\n",
              "731  1059.38\n",
              "732   650.00\n",
              "\n",
              "[733 rows x 1 columns]"
            ],
            "text/html": [
              "\n",
              "  <div id=\"df-f8cdfa3d-4378-4d91-b345-0cef815d0212\">\n",
              "    <div class=\"colab-df-container\">\n",
              "      <div>\n",
              "<style scoped>\n",
              "    .dataframe tbody tr th:only-of-type {\n",
              "        vertical-align: middle;\n",
              "    }\n",
              "\n",
              "    .dataframe tbody tr th {\n",
              "        vertical-align: top;\n",
              "    }\n",
              "\n",
              "    .dataframe thead th {\n",
              "        text-align: right;\n",
              "    }\n",
              "</style>\n",
              "<table border=\"1\" class=\"dataframe\">\n",
              "  <thead>\n",
              "    <tr style=\"text-align: right;\">\n",
              "      <th></th>\n",
              "      <th>Charged</th>\n",
              "    </tr>\n",
              "  </thead>\n",
              "  <tbody>\n",
              "    <tr>\n",
              "      <th>0</th>\n",
              "      <td>261.00</td>\n",
              "    </tr>\n",
              "    <tr>\n",
              "      <th>1</th>\n",
              "      <td>7.00</td>\n",
              "    </tr>\n",
              "    <tr>\n",
              "      <th>2</th>\n",
              "      <td>16.00</td>\n",
              "    </tr>\n",
              "    <tr>\n",
              "      <th>3</th>\n",
              "      <td>83.00</td>\n",
              "    </tr>\n",
              "    <tr>\n",
              "      <th>4</th>\n",
              "      <td>30.00</td>\n",
              "    </tr>\n",
              "    <tr>\n",
              "      <th>...</th>\n",
              "      <td>...</td>\n",
              "    </tr>\n",
              "    <tr>\n",
              "      <th>728</th>\n",
              "      <td>34.33</td>\n",
              "    </tr>\n",
              "    <tr>\n",
              "      <th>729</th>\n",
              "      <td>98.00</td>\n",
              "    </tr>\n",
              "    <tr>\n",
              "      <th>730</th>\n",
              "      <td>4032.00</td>\n",
              "    </tr>\n",
              "    <tr>\n",
              "      <th>731</th>\n",
              "      <td>1059.38</td>\n",
              "    </tr>\n",
              "    <tr>\n",
              "      <th>732</th>\n",
              "      <td>650.00</td>\n",
              "    </tr>\n",
              "  </tbody>\n",
              "</table>\n",
              "<p>733 rows × 1 columns</p>\n",
              "</div>\n",
              "      <button class=\"colab-df-convert\" onclick=\"convertToInteractive('df-f8cdfa3d-4378-4d91-b345-0cef815d0212')\"\n",
              "              title=\"Convert this dataframe to an interactive table.\"\n",
              "              style=\"display:none;\">\n",
              "        \n",
              "  <svg xmlns=\"http://www.w3.org/2000/svg\" height=\"24px\"viewBox=\"0 0 24 24\"\n",
              "       width=\"24px\">\n",
              "    <path d=\"M0 0h24v24H0V0z\" fill=\"none\"/>\n",
              "    <path d=\"M18.56 5.44l.94 2.06.94-2.06 2.06-.94-2.06-.94-.94-2.06-.94 2.06-2.06.94zm-11 1L8.5 8.5l.94-2.06 2.06-.94-2.06-.94L8.5 2.5l-.94 2.06-2.06.94zm10 10l.94 2.06.94-2.06 2.06-.94-2.06-.94-.94-2.06-.94 2.06-2.06.94z\"/><path d=\"M17.41 7.96l-1.37-1.37c-.4-.4-.92-.59-1.43-.59-.52 0-1.04.2-1.43.59L10.3 9.45l-7.72 7.72c-.78.78-.78 2.05 0 2.83L4 21.41c.39.39.9.59 1.41.59.51 0 1.02-.2 1.41-.59l7.78-7.78 2.81-2.81c.8-.78.8-2.07 0-2.86zM5.41 20L4 18.59l7.72-7.72 1.47 1.35L5.41 20z\"/>\n",
              "  </svg>\n",
              "      </button>\n",
              "      \n",
              "  <style>\n",
              "    .colab-df-container {\n",
              "      display:flex;\n",
              "      flex-wrap:wrap;\n",
              "      gap: 12px;\n",
              "    }\n",
              "\n",
              "    .colab-df-convert {\n",
              "      background-color: #E8F0FE;\n",
              "      border: none;\n",
              "      border-radius: 50%;\n",
              "      cursor: pointer;\n",
              "      display: none;\n",
              "      fill: #1967D2;\n",
              "      height: 32px;\n",
              "      padding: 0 0 0 0;\n",
              "      width: 32px;\n",
              "    }\n",
              "\n",
              "    .colab-df-convert:hover {\n",
              "      background-color: #E2EBFA;\n",
              "      box-shadow: 0px 1px 2px rgba(60, 64, 67, 0.3), 0px 1px 3px 1px rgba(60, 64, 67, 0.15);\n",
              "      fill: #174EA6;\n",
              "    }\n",
              "\n",
              "    [theme=dark] .colab-df-convert {\n",
              "      background-color: #3B4455;\n",
              "      fill: #D2E3FC;\n",
              "    }\n",
              "\n",
              "    [theme=dark] .colab-df-convert:hover {\n",
              "      background-color: #434B5C;\n",
              "      box-shadow: 0px 1px 3px 1px rgba(0, 0, 0, 0.15);\n",
              "      filter: drop-shadow(0px 1px 2px rgba(0, 0, 0, 0.3));\n",
              "      fill: #FFFFFF;\n",
              "    }\n",
              "  </style>\n",
              "\n",
              "      <script>\n",
              "        const buttonEl =\n",
              "          document.querySelector('#df-f8cdfa3d-4378-4d91-b345-0cef815d0212 button.colab-df-convert');\n",
              "        buttonEl.style.display =\n",
              "          google.colab.kernel.accessAllowed ? 'block' : 'none';\n",
              "\n",
              "        async function convertToInteractive(key) {\n",
              "          const element = document.querySelector('#df-f8cdfa3d-4378-4d91-b345-0cef815d0212');\n",
              "          const dataTable =\n",
              "            await google.colab.kernel.invokeFunction('convertToInteractive',\n",
              "                                                     [key], {});\n",
              "          if (!dataTable) return;\n",
              "\n",
              "          const docLinkHtml = 'Like what you see? Visit the ' +\n",
              "            '<a target=\"_blank\" href=https://colab.research.google.com/notebooks/data_table.ipynb>data table notebook</a>'\n",
              "            + ' to learn more about interactive tables.';\n",
              "          element.innerHTML = '';\n",
              "          dataTable['output_type'] = 'display_data';\n",
              "          await google.colab.output.renderOutput(dataTable, element);\n",
              "          const docLink = document.createElement('div');\n",
              "          docLink.innerHTML = docLinkHtml;\n",
              "          element.appendChild(docLink);\n",
              "        }\n",
              "      </script>\n",
              "    </div>\n",
              "  </div>\n",
              "  "
            ]
          },
          "metadata": {},
          "execution_count": 79
        }
      ]
    },
    {
      "cell_type": "code",
      "source": [],
      "metadata": {
        "id": "5j6lSu6yIx76"
      },
      "execution_count": 79,
      "outputs": []
    },
    {
      "cell_type": "code",
      "source": [
        "#!pip install openml_speed_dating_pipeline_steps\n",
        "#pip install -q category_encoders"
      ],
      "metadata": {
        "id": "6Mxzte8LKYHU"
      },
      "execution_count": 80,
      "outputs": []
    },
    {
      "cell_type": "code",
      "source": [
        "import openml_speed_dating_pipeline_steps as pipeline_steps"
      ],
      "metadata": {
        "id": "M5quwnDXKSwl"
      },
      "execution_count": 81,
      "outputs": []
    },
    {
      "cell_type": "code",
      "source": [
        "\n",
        "from sklearn.base import BaseEstimator, TransformerMixin\n",
        "\n",
        "\n",
        "class RangeTransformer(BaseEstimator, TransformerMixin):\n",
        "    '''\n",
        "    A custom transformer for ranges.\n",
        "\n",
        "    Parameters\n",
        "    ----------\n",
        "    range_features : list[str]\n",
        "        This specifies the column names with the ranges. \n",
        "\n",
        "    Attributes\n",
        "    ----------\n",
        "    range_features : list[str]\n",
        "        Here we store the columns with range features.\n",
        "    suffix : this determines how we will rename the transformed features.\n",
        "    '''\n",
        "    def __init__(self, range_features=[], suffix='_range/mean'):\n",
        "        assert isinstance(range_features, list)\n",
        "        self.range_features = range_features\n",
        "        self.suffix = suffix\n",
        "    \n",
        "    def fit(self, X, y=None):\n",
        "        '''Nothing to do here\n",
        "        '''\n",
        "        return self\n",
        "    \n",
        "    def transform(self, X, y=None):\n",
        "        range_data = pd.DataFrame()\n",
        "        for col in self.range_features:\n",
        "            range_data[str(col) + self.suffix] = X[col].apply(\n",
        "                lambda x: self._encode_ranges(x)\n",
        "            ).astype(float)\n",
        "        return range_data\n",
        "\n",
        "    @staticmethod\n",
        "    def _encode_ranges(range_str):\n",
        "        splits = range_str[1:-1].split('-')\n",
        "        range_max = float(splits[-1])\n",
        "        range_min = float('-'.join(splits[:-1]))\n",
        "        return sum([range_min, range_max]) / 2.0\n"
      ],
      "metadata": {
        "id": "5QZ0QHnBNVma"
      },
      "execution_count": 82,
      "outputs": []
    },
    {
      "cell_type": "code",
      "source": [],
      "metadata": {
        "id": "56N08tuENcRd"
      },
      "execution_count": 83,
      "outputs": []
    },
    {
      "cell_type": "code",
      "source": [
        "from sklearn.experimental import enable_iterative_imputer  \n",
        "from sklearn.impute import IterativeImputer\n",
        "from sklearn.compose import ColumnTransformer\n",
        "import category_encoders as ce\n",
        "\n",
        "\n",
        "ordinal_encoder = ce.OrdinalEncoder(\n",
        "    cols=None,  # all features that it encounters\n",
        "    handle_missing='return_nan',\n",
        "    handle_unknown='ignore'\n",
        ").fit(X)\n",
        "\n",
        "imputer = IterativeImputer(\n",
        "    imputation_order='ascending',  # also try 'descending'\n",
        "    random_state=0,\n",
        "    max_iter=10  # try higher values\n",
        ")\n",
        "\n",
        "preprocessor = ColumnTransformer(\n",
        "    transformers=[\n",
        "        #('ranges', range_transformer, range_features),\n",
        "        ('cat', ordinal_encoder, categorical_features)],\n",
        "    remainder='passthrough'\n",
        ")"
      ],
      "metadata": {
        "colab": {
          "base_uri": "https://localhost:8080/",
          "height": 253
        },
        "id": "gs48z-n7I0Gw",
        "outputId": "451f534c-8405-49a0-9484-fd735799d911"
      },
      "execution_count": 2,
      "outputs": [
        {
          "output_type": "stream",
          "name": "stdout",
          "text": [
            "Warning: No categorical columns found. Calling 'transform' will only return input data.\n"
          ]
        },
        {
          "output_type": "error",
          "ename": "NameError",
          "evalue": "ignored",
          "traceback": [
            "\u001b[0;31m---------------------------------------------------------------------------\u001b[0m",
            "\u001b[0;31mNameError\u001b[0m                                 Traceback (most recent call last)",
            "\u001b[0;32m<ipython-input-2-b860b8cb74d2>\u001b[0m in \u001b[0;36m<cell line: 19>\u001b[0;34m()\u001b[0m\n\u001b[1;32m     20\u001b[0m     transformers=[\n\u001b[1;32m     21\u001b[0m         \u001b[0;31m#('ranges', range_transformer, range_features),\u001b[0m\u001b[0;34m\u001b[0m\u001b[0;34m\u001b[0m\u001b[0m\n\u001b[0;32m---> 22\u001b[0;31m         ('cat', ordinal_encoder, categorical_features)],\n\u001b[0m\u001b[1;32m     23\u001b[0m     \u001b[0mremainder\u001b[0m\u001b[0;34m=\u001b[0m\u001b[0;34m'passthrough'\u001b[0m\u001b[0;34m\u001b[0m\u001b[0;34m\u001b[0m\u001b[0m\n\u001b[1;32m     24\u001b[0m )\n",
            "\u001b[0;31mNameError\u001b[0m: name 'categorical_features' is not defined"
          ]
        }
      ]
    },
    {
      "cell_type": "code",
      "source": [],
      "metadata": {
        "colab": {
          "base_uri": "https://localhost:8080/"
        },
        "id": "k7uoIjn1KL8V",
        "outputId": "b6d9df24-2f29-425b-b2e5-377801aa557a"
      },
      "execution_count": 85,
      "outputs": [
        {
          "output_type": "stream",
          "name": "stdout",
          "text": [
            "<class 'pandas.core.frame.DataFrame'>\n",
            "RangeIndex: 733 entries, 0 to 732\n",
            "Empty DataFrame\n"
          ]
        }
      ]
    },
    {
      "cell_type": "code",
      "source": [],
      "metadata": {
        "id": "Y849aG6wRXEO"
      },
      "execution_count": 99,
      "outputs": []
    },
    {
      "cell_type": "code",
      "source": [],
      "metadata": {
        "id": "ubbQKI8wRcEG"
      },
      "execution_count": 99,
      "outputs": []
    },
    {
      "cell_type": "code",
      "source": [
        "from imblearn.ensemble import BalancedRandomForestRegressor\n"
      ],
      "metadata": {
        "colab": {
          "base_uri": "https://localhost:8080/",
          "height": 305
        },
        "id": "mZoHp6lHNmHY",
        "outputId": "c90ff807-5213-404c-ef6f-fef67ac1f733"
      },
      "execution_count": 10,
      "outputs": [
        {
          "output_type": "error",
          "ename": "ImportError",
          "evalue": "ignored",
          "traceback": [
            "\u001b[0;31m---------------------------------------------------------------------------\u001b[0m",
            "\u001b[0;31mImportError\u001b[0m                               Traceback (most recent call last)",
            "\u001b[0;32m<ipython-input-10-220b366816ca>\u001b[0m in \u001b[0;36m<cell line: 1>\u001b[0;34m()\u001b[0m\n\u001b[0;32m----> 1\u001b[0;31m \u001b[0;32mfrom\u001b[0m \u001b[0mimblearn\u001b[0m\u001b[0;34m.\u001b[0m\u001b[0mensemble\u001b[0m \u001b[0;32mimport\u001b[0m \u001b[0mBalancedRandomForestRegressor\u001b[0m\u001b[0;34m\u001b[0m\u001b[0;34m\u001b[0m\u001b[0m\n\u001b[0m",
            "\u001b[0;31mImportError\u001b[0m: cannot import name 'BalancedRandomForestRegressor' from 'imblearn.ensemble' (/usr/local/lib/python3.10/dist-packages/imblearn/ensemble/__init__.py)",
            "",
            "\u001b[0;31m---------------------------------------------------------------------------\u001b[0;32m\nNOTE: If your import is failing due to a missing package, you can\nmanually install dependencies using either !pip or !apt.\n\nTo view examples of installing some common dependencies, click the\n\"Open Examples\" button below.\n\u001b[0;31m---------------------------------------------------------------------------\u001b[0m\n"
          ],
          "errorDetails": {
            "actions": [
              {
                "action": "open_url",
                "actionText": "Open Examples",
                "url": "/notebooks/snippets/importing_libraries.ipynb"
              }
            ]
          }
        }
      ]
    },
    {
      "cell_type": "code",
      "source": [
        "%matplotlib inline\n",
        "import matplotlib.pyplot as plt\n",
        "import pandas as pd\n",
        "import numpy as np\n",
        "import openml\n",
        "dataset = pd.read_csv('PatientInfoPlusMatches.csv')\n",
        "dataset['Age_Group'] = dataset['Age_Group'].factorize()[0]\n",
        "dataset['season'] = dataset['season'].factorize()[0]\n",
        "dataset['Gender'] = dataset['Gender'].factorize()[0]\n",
        "dataset['Region'] = dataset['Region'].factorize()[0]\n",
        "\n",
        "dataset['Condition'] = dataset['Condition'].factorize()[0]\n",
        "\n",
        "X = dataset.select_dtypes(include=['int','float'])\n",
        "y = X[['Charged']]\n",
        "X.drop(['year','Prov_ID','Charged'], axis=1, inplace=True)\n",
        "\n",
        "\n",
        "from sklearn.ensemble import (\n",
        "    GradientBoostingRegressor,\n",
        "     RandomForestRegressor,AdaBoostRegressor \n",
        ")\n",
        "\n",
        "from sklearn.pipeline import Pipeline\n",
        "from sklearn.ensemble import RandomForestRegressor\n",
        "from sklearn.model_selection import train_test_split\n",
        "\n",
        "from sklearn.metrics import mean_squared_error\n",
        "\n",
        "def create_model(n_estimators=20):\n",
        "    return Pipeline(\n",
        "        steps=[\n",
        "              ('rf', AdaBoostRegressor(\n",
        "                  n_estimators=n_estimators,\n",
        "                  estimator=RandomForestRegressor()\n",
        "                  ))]\n",
        "    )\n",
        "\n",
        "  \n",
        "#y = y.astype(int)\n",
        "X_train, X_test, y_train, y_test = train_test_split(X , y, test_size=0.3, random_state=42\n",
        ")\n",
        "\n",
        "performances = []\n",
        "for n_estimators in [20, 50, 100, 200, 500]:\n",
        "    resampling_pipeline_bclf = create_model(n_estimators)\n",
        "    resampling_pipeline_bclf.fit(X_train, y_train)\n",
        "    y_predicted = resampling_pipeline_bclf.predict(X_test)\n",
        "    err = mean_squared_error(y_test, y_predicted)\n",
        "    print('auc: {}'.format(err))\n",
        "    performances.append(err)"
      ],
      "metadata": {
        "colab": {
          "base_uri": "https://localhost:8080/"
        },
        "id": "BhDuwr_WNsr-",
        "outputId": "7e8c51be-ed75-4677-8259-d58c0772ce7d"
      },
      "execution_count": 14,
      "outputs": [
        {
          "output_type": "stream",
          "name": "stderr",
          "text": [
            "/usr/local/lib/python3.10/dist-packages/sklearn/utils/validation.py:1143: DataConversionWarning: A column-vector y was passed when a 1d array was expected. Please change the shape of y to (n_samples, ), for example using ravel().\n",
            "  y = column_or_1d(y, warn=True)\n",
            "/usr/local/lib/python3.10/dist-packages/sklearn/ensemble/_base.py:166: FutureWarning: `base_estimator` was renamed to `estimator` in version 1.2 and will be removed in 1.4.\n",
            "  warnings.warn(\n"
          ]
        },
        {
          "output_type": "stream",
          "name": "stdout",
          "text": [
            "auc: 1294818.8128471205\n"
          ]
        },
        {
          "output_type": "stream",
          "name": "stderr",
          "text": [
            "/usr/local/lib/python3.10/dist-packages/sklearn/utils/validation.py:1143: DataConversionWarning: A column-vector y was passed when a 1d array was expected. Please change the shape of y to (n_samples, ), for example using ravel().\n",
            "  y = column_or_1d(y, warn=True)\n",
            "/usr/local/lib/python3.10/dist-packages/sklearn/ensemble/_base.py:166: FutureWarning: `base_estimator` was renamed to `estimator` in version 1.2 and will be removed in 1.4.\n",
            "  warnings.warn(\n"
          ]
        },
        {
          "output_type": "stream",
          "name": "stdout",
          "text": [
            "auc: 1464908.3415970863\n"
          ]
        },
        {
          "output_type": "stream",
          "name": "stderr",
          "text": [
            "/usr/local/lib/python3.10/dist-packages/sklearn/utils/validation.py:1143: DataConversionWarning: A column-vector y was passed when a 1d array was expected. Please change the shape of y to (n_samples, ), for example using ravel().\n",
            "  y = column_or_1d(y, warn=True)\n",
            "/usr/local/lib/python3.10/dist-packages/sklearn/ensemble/_base.py:166: FutureWarning: `base_estimator` was renamed to `estimator` in version 1.2 and will be removed in 1.4.\n",
            "  warnings.warn(\n"
          ]
        },
        {
          "output_type": "stream",
          "name": "stdout",
          "text": [
            "auc: 1296279.80606666\n"
          ]
        },
        {
          "output_type": "stream",
          "name": "stderr",
          "text": [
            "/usr/local/lib/python3.10/dist-packages/sklearn/utils/validation.py:1143: DataConversionWarning: A column-vector y was passed when a 1d array was expected. Please change the shape of y to (n_samples, ), for example using ravel().\n",
            "  y = column_or_1d(y, warn=True)\n",
            "/usr/local/lib/python3.10/dist-packages/sklearn/ensemble/_base.py:166: FutureWarning: `base_estimator` was renamed to `estimator` in version 1.2 and will be removed in 1.4.\n",
            "  warnings.warn(\n"
          ]
        },
        {
          "output_type": "stream",
          "name": "stdout",
          "text": [
            "auc: 1287641.99662734\n"
          ]
        },
        {
          "output_type": "stream",
          "name": "stderr",
          "text": [
            "/usr/local/lib/python3.10/dist-packages/sklearn/utils/validation.py:1143: DataConversionWarning: A column-vector y was passed when a 1d array was expected. Please change the shape of y to (n_samples, ), for example using ravel().\n",
            "  y = column_or_1d(y, warn=True)\n",
            "/usr/local/lib/python3.10/dist-packages/sklearn/ensemble/_base.py:166: FutureWarning: `base_estimator` was renamed to `estimator` in version 1.2 and will be removed in 1.4.\n",
            "  warnings.warn(\n"
          ]
        },
        {
          "output_type": "stream",
          "name": "stdout",
          "text": [
            "auc: 1873812.1906348711\n"
          ]
        }
      ]
    },
    {
      "cell_type": "code",
      "source": [],
      "metadata": {
        "id": "Q4yYWMj7N3Ks"
      },
      "execution_count": 104,
      "outputs": []
    },
    {
      "cell_type": "code",
      "source": [
        "print(performances)"
      ],
      "metadata": {
        "colab": {
          "base_uri": "https://localhost:8080/"
        },
        "id": "vcNKFKL2N3Dq",
        "outputId": "69c23d84-413e-4f20-b618-04fd3a63eba2"
      },
      "execution_count": 15,
      "outputs": [
        {
          "output_type": "stream",
          "name": "stdout",
          "text": [
            "[1294818.8128471205, 1464908.3415970863, 1296279.80606666, 1287641.99662734, 1873812.1906348711]\n"
          ]
        }
      ]
    },
    {
      "cell_type": "code",
      "source": [
        "y_predicted = resampling_pipeline_bclf.predict(X_test)"
      ],
      "metadata": {
        "id": "ZDJk-WC7RDsC"
      },
      "execution_count": 16,
      "outputs": []
    },
    {
      "cell_type": "code",
      "source": [
        "y_predicted"
      ],
      "metadata": {
        "colab": {
          "base_uri": "https://localhost:8080/"
        },
        "id": "jEkk273jVkeV",
        "outputId": "3c5a5e2b-6265-4b40-9da4-dde644e4be79"
      },
      "execution_count": 17,
      "outputs": [
        {
          "output_type": "execute_result",
          "data": {
            "text/plain": [
              "array([1126.82082262, 1116.09569766, 1202.37515762,  693.47562348,\n",
              "       1541.9195    , 1158.9015    ,  258.33645869,  479.5359    ,\n",
              "        766.69722255,  450.48654933, 1744.15423374, 1276.24281588,\n",
              "       1113.51160192,  842.33628922,  842.56      , 1349.599     ,\n",
              "       1258.535     ,  594.17873153, 1167.41322496, 2486.4509519 ,\n",
              "       2486.4509519 , 1167.41322496, 1423.49685624,  842.56      ,\n",
              "        318.91753276, 1145.79974704, 1265.845     ,  715.16479406,\n",
              "       1156.14575804, 1033.02243348, 1301.2425    ,  318.91753276,\n",
              "       1950.88377675, 1057.09429604, 1301.2425    , 1162.82596354,\n",
              "        733.6673    , 1645.92015951, 1300.09332315,  891.412     ,\n",
              "       2700.37159191,  202.96374444,  836.00759996, 1437.32059463,\n",
              "        740.14508608, 1202.37515762, 1437.69142093, 1236.52321966,\n",
              "        837.05018048,  331.33203532, 1315.2629    , 1138.41404448,\n",
              "        928.39286667,  628.17869204, 1159.96561701, 1236.52321966,\n",
              "       1375.46046673,  775.1968    , 1161.90932738,  534.175     ,\n",
              "        370.84867077,  744.1932    , 1246.47677782,  842.56      ,\n",
              "       1392.43326613, 1510.53494987, 2457.71372303,  879.57719043,\n",
              "        842.56      , 1645.92015951, 3012.39205792,  263.88623124,\n",
              "       1332.09789642, 1146.30205894, 2032.77741964, 1146.64449139,\n",
              "       1437.69142093,  806.4       , 1300.09332315,  534.175     ,\n",
              "       1271.57195628,  517.0789    , 1300.09332315,  389.9054934 ,\n",
              "        516.61316213,  762.8187127 , 1126.82082262, 1289.03      ,\n",
              "        551.195     ,  218.754     , 1187.81617149, 1110.156     ,\n",
              "       1227.70867369, 1146.30205894, 1202.32912913, 1106.30005646,\n",
              "        888.80097127, 1109.16061191, 1645.92015951, 1041.44679193,\n",
              "       1298.9226    ,  905.7178206 , 1161.71623087, 2273.93396667,\n",
              "       1265.845     , 1014.83530271, 1987.4872    , 1229.26123779,\n",
              "       1202.37890943, 1375.95891633, 1110.156     ,  855.18516089,\n",
              "       1205.94621483, 1645.92015951, 1216.92851304, 1202.37890943,\n",
              "        318.91753276,  268.38091518, 1266.89544484,  872.39958095,\n",
              "       1108.28890169, 1219.94551127,  842.56      , 1541.9195    ,\n",
              "        313.113     ,  713.58829406,  728.43081764, 1437.32059463,\n",
              "       1101.3505577 ,  842.56      , 1067.94469161, 1128.32680777,\n",
              "       1391.85363512, 1280.7292    , 1645.92015951,  351.70082522,\n",
              "        928.39286667,  371.53938874,  800.03068465, 1383.4941    ,\n",
              "        643.94066344,  784.1554624 ,  202.7850116 , 1265.845     ,\n",
              "       1156.14575804, 1292.10596528,  482.33609048,  667.35598207,\n",
              "        573.0868241 ,  858.1985    , 1152.85609952,  438.12202675,\n",
              "        943.37077825, 1161.90932738,  963.32174881,  839.27517752,\n",
              "       1148.0648    , 1072.82333281,  872.39958095, 1137.33968307,\n",
              "       1077.25075804, 1247.8610109 , 1064.56632609,  839.29525247,\n",
              "       1128.91499701,  842.56      ,  525.722     , 2102.86398788,\n",
              "        343.37896185,  318.91753276, 1166.79739083,  758.00253107,\n",
              "        202.7850116 , 1145.79974704, 2032.77741964, 1645.92015951,\n",
              "       1161.71623087, 1202.32912913, 1168.15246304, 1110.156     ,\n",
              "       1388.28119223, 1298.9226    ,  872.39958095, 1216.36165595,\n",
              "        854.23982088, 1190.04991841, 1637.33676978, 1110.13006964,\n",
              "       1216.75889875,  854.23982088, 1171.39598661, 1820.06668258,\n",
              "       1014.83530271,  345.23111429,  855.18516089, 1159.74389705,\n",
              "       1202.012     ,  842.56      ,  808.02929701, 4098.28210857,\n",
              "       1064.56632609, 1141.88390824,  836.00759996,  420.97883407,\n",
              "       1383.4941    ,  636.9972    , 1051.27781071, 1174.32386111,\n",
              "       1400.93657535,  263.88623124, 2273.93396667, 1153.49560344,\n",
              "        837.05018048, 1260.76606426, 1090.85376045, 1434.19574197,\n",
              "        379.13764128, 1110.13006964,  419.2824    , 1177.52097919])"
            ]
          },
          "metadata": {},
          "execution_count": 17
        }
      ]
    },
    {
      "cell_type": "code",
      "source": [],
      "metadata": {
        "id": "n5m81c9cVoJu"
      },
      "execution_count": null,
      "outputs": []
    }
  ]
}