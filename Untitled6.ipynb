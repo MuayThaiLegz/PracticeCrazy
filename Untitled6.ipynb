{
  "nbformat": 4,
  "nbformat_minor": 0,
  "metadata": {
    "colab": {
      "provenance": [],
      "authorship_tag": "ABX9TyOk59Mi+Od/uzsH+1sneoAT",
      "include_colab_link": true
    },
    "kernelspec": {
      "name": "python3",
      "display_name": "Python 3"
    },
    "language_info": {
      "name": "python"
    }
  },
  "cells": [
    {
      "cell_type": "markdown",
      "metadata": {
        "id": "view-in-github",
        "colab_type": "text"
      },
      "source": [
        "<a href=\"https://colab.research.google.com/github/MuayThaiLegz/PracticeCrazy/blob/main/Untitled6.ipynb\" target=\"_parent\"><img src=\"https://colab.research.google.com/assets/colab-badge.svg\" alt=\"Open In Colab\"/></a>"
      ]
    },
    {
      "cell_type": "code",
      "execution_count": null,
      "metadata": {
        "colab": {
          "base_uri": "https://localhost:8080/"
        },
        "id": "7qqOu5OiJVOb",
        "outputId": "2f91cb8b-1991-46d1-fc18-d0b74569f68b"
      },
      "outputs": [
        {
          "output_type": "stream",
          "name": "stdout",
          "text": [
            "Name: Linus Torvalds\n",
            "Public Repos: 7\n",
            "libdc-for-dirk\n",
            "libgit2\n",
            "linux\n",
            "pesconvert\n",
            "subsurface-for-dirk\n",
            "test-tlb\n",
            "uemacs\n"
          ]
        }
      ],
      "source": [
        "import requests\n",
        "\n",
        "username = 'torvalds'  # Linus Torvalds, the creator of Linux\n",
        "\n",
        "endpoints = [f'https://api.github.com/users/{username}', f'https://api.github.com/users/{username}/repos']\n",
        "\n",
        "for url in endpoints:\n",
        "    if url.endswith('/repos'):\n",
        "        for page in range(1, 4):  \n",
        "            response = requests.get(url, params={'page': page})\n",
        "            \n",
        "            if response.status_code == 200:\n",
        "                repos = response.json()\n",
        "\n",
        "                for repo in repos:\n",
        "                    print(repo['name'])\n",
        "            else:\n",
        "                print(f\"Request failed with status code {response.status_code}\")\n",
        "    else:\n",
        "        response = requests.get(url)\n",
        "\n",
        "        if response.status_code == 200:\n",
        "            user = response.json()\n",
        "\n",
        "            print(f\"Name: {user['name']}\")\n",
        "            print(f\"Public Repos: {user['public_repos']}\")\n",
        "        else:\n",
        "            print(f\"Request failed with status code {response.status_code}\")\n"
      ]
    },
    {
      "cell_type": "code",
      "source": [
        "import requests\n",
        "import pandas as pd\n",
        "\n",
        "data = []\n",
        "\n",
        "base_url = 'https://api.example.com/employees'\n",
        "\n",
        "page = 1\n",
        "while True:\n",
        "    response = requests.get(base_url, params={'page': page, 'pagesize': 500})\n",
        "\n",
        "    if response.status_code == 200:\n",
        "        employees = response.json()\n",
        "\n",
        "        if not employees:\n",
        "            break\n",
        "\n",
        "        data.extend(employees)\n",
        "\n",
        "        page += 1\n",
        "    else:\n",
        "        print(f\"Request failed with status code {response.status_code}\")\n",
        "        break\n",
        "\n",
        "df = pd.DataFrame(data)\n",
        "\n",
        "for id in df['id']:\n",
        "    response = requests.get(f'https://api.example.com/employees/{id}/email')\n",
        "\n",
        "    if response.status_code == 200:\n",
        "        email = response.json()\n",
        "\n",
        "        df.loc[df['id'] == id, 'email'] = email\n",
        "    else:\n",
        "        print(f\"Request for email failed with status code {response.status_code}\")\n",
        "\n",
        "print(df)\n"
      ],
      "metadata": {
        "id": "iaH-6hOsJbh_"
      },
      "execution_count": null,
      "outputs": []
    },
    {
      "cell_type": "code",
      "source": [
        "import requests\n",
        "import pandas as pd\n",
        "from urllib.parse import urlparse, parse_qs\n",
        "\n",
        "def extract_next_page_link(links_header):\n",
        "    links = [link.strip() for link in links_header.split(\",\")]\n",
        "    for link in links:\n",
        "        if 'rel=\"next\"' in link:\n",
        "            # Extract the URL part of the link\n",
        "            url = link[link.index(\"<\")+1:link.index(\">\")]\n",
        "            return url\n",
        "    return None\n",
        "\n",
        "data = []\n",
        "\n",
        "url = 'https://api.paycomonline.net/v4/rest/index.php/api/v1/employeedirectory'\n",
        "\n",
        "while url:\n",
        "    response = requests.get(url)\n",
        "\n",
        "    if response.status_code == 200:\n",
        "        employees = response.json()\n",
        "\n",
        "        data.extend(employees)\n",
        "\n",
        "        url = extract_next_page_link(response.headers.get('Link', ''))\n",
        "    else:\n",
        "        print(f\"Request failed with status code {response.status_code}\")\n",
        "        break\n",
        "\n",
        "df = pd.DataFrame(data)\n",
        "\n",
        "for id in df['id']:\n",
        "    response = requests.get(f'https://api.paycomonline.net/v4/rest/index.php/api/v1/employees/{id}/email')\n",
        "\n",
        "    if response.status_code == 200:\n",
        "        email = response.json()\n",
        "\n",
        "        df.loc[df['id'] == id, 'email'] = email\n",
        "    else:\n",
        "        print(f\"Request for email failed with status code {response.status_code}\")\n",
        "\n",
        "print(df)\n"
      ],
      "metadata": {
        "id": "N_5GwHJIKtt6"
      },
      "execution_count": null,
      "outputs": []
    },
    {
      "cell_type": "code",
      "source": [
        "def get_next_link(link_header):\n",
        "  links = link_header.split(', ')\n",
        "  for link in links:\n",
        "    if 'rel = \"next\"' in link:\n",
        "      return link[link.index(\"<\")+1:link.index(\">\")]\n",
        "  retunr None"
      ],
      "metadata": {
        "id": "jL9d18n5KN5f"
      },
      "execution_count": null,
      "outputs": []
    },
    {
      "cell_type": "code",
      "source": [
        "import requests\n",
        "import pandas as pd\n",
        "\n",
        "def get_next_link(link_header):\n",
        "    links = link_header.split(\", \")\n",
        "    for link in links:\n",
        "        if 'rel=\"next\"' in link:\n",
        "            # Remove the < and > around the URL and return it\n",
        "            return link[link.index(\"<\")+1:link.index(\">\")]\n",
        "    return None\n",
        "\n",
        "headers = {\n",
        "    'Authorization':'Your_Authorization_Code',\n",
        "    'Cache-Control':'no-cache',\n",
        "    'Content-Type':'application/json',\n",
        "}\n",
        "\n",
        "user = 'Your_Username'\n",
        "pwd = 'Your_Password'\n",
        "\n",
        "url = 'https://api.paycomonline.net/v4/rest/index.php/api/v1/employeedirectory?pagesize=500'\n",
        "\n",
        "data = []\n",
        "\n",
        "while url:\n",
        "    response = requests.get(url, auth=HTTPBasicAuth(user, pwd), headers=headers)\n",
        "\n",
        "    if response.status_code == 200:\n",
        "        emp = response.json()\n",
        "        data.extend(emp['data'])\n",
        "\n",
        "        url = get_next_link(response.headers['link'])\n",
        "    else:\n",
        "        print(f\"Request failed with status code {response.status_code}\")\n",
        "        break\n",
        "\n",
        "df = pd.DataFrame(data)\n",
        "print(df)\n"
      ],
      "metadata": {
        "id": "mtZkhwVjLE_6"
      },
      "execution_count": null,
      "outputs": []
    },
    {
      "cell_type": "code",
      "source": [
        "import base64\n",
        "import requests\n",
        "from requests.auth import HTTPBasicAuth\n",
        "import os.path\n",
        "import pandas as pd\n",
        "import json\n",
        "import xml.etree.cElementTree as ET1\n",
        "import xml.etree.ElementTree as ET\n",
        "import jinja2\n",
        "from jinja2 import Environment, FileSystemLoader\n",
        "from collections import defaultdict\n",
        "import ast\n",
        "\n",
        "\n",
        "\n",
        "\n",
        "headers = {\n",
        "    'Authorization':'atuth',\n",
        "    'Cache-Control':'no-cache',\n",
        "    'Content-Type':'application/json',\n",
        "}\n",
        "\n",
        "\n",
        "\n",
        "response = requests.get('https://api.paycomonline.net/v4/rest/index.php/api/v1/employeedirectory?pagesize=500', auth=HTTPBasicAuth(user,pwd), headers=headers)\n"
      ],
      "metadata": {
        "id": "Td_JxuHaR7mc"
      },
      "execution_count": null,
      "outputs": []
    },
    {
      "cell_type": "code",
      "source": [
        "\n",
        "emp = response.json()\n",
        "\n",
        "parse_emp = [] \n",
        "\n",
        "for i in emp['data']:\n",
        "    #print(i)\n",
        "    parse_emp.append(i)\n"
      ],
      "metadata": {
        "id": "CR0FwdH1SEJE"
      },
      "execution_count": null,
      "outputs": []
    },
    {
      "cell_type": "code",
      "source": [
        "parse_emp"
      ],
      "metadata": {
        "colab": {
          "base_uri": "https://localhost:8080/"
        },
        "id": "4uvCqGt_SFNr",
        "outputId": "8bc76ee4-f75b-4124-d824-8ed92f3bcba8"
      },
      "execution_count": null,
      "outputs": [
        {
          "output_type": "execute_result",
          "data": {
            "text/plain": [
              "[]"
            ]
          },
          "metadata": {},
          "execution_count": 6
        }
      ]
    },
    {
      "cell_type": "code",
      "source": [
        "\n",
        "pages = response.headers['link']\n",
        "print(type(pages))\n",
        "pages2 = pages.replace('<',\"\")\n",
        "pages3 = pages2.replace('>',\"\")\n"
      ],
      "metadata": {
        "colab": {
          "base_uri": "https://localhost:8080/",
          "height": 357
        },
        "id": "5pEzcJvfSA7l",
        "outputId": "947260a7-66b4-412c-d68e-ff4710688066"
      },
      "execution_count": null,
      "outputs": [
        {
          "output_type": "error",
          "ename": "KeyError",
          "evalue": "ignored",
          "traceback": [
            "\u001b[0;31m---------------------------------------------------------------------------\u001b[0m",
            "\u001b[0;31mKeyError\u001b[0m                                  Traceback (most recent call last)",
            "\u001b[0;32m<ipython-input-4-5470088bedcc>\u001b[0m in \u001b[0;36m<cell line: 9>\u001b[0;34m()\u001b[0m\n\u001b[1;32m      7\u001b[0m     \u001b[0mparse_emp\u001b[0m\u001b[0;34m.\u001b[0m\u001b[0mappend\u001b[0m\u001b[0;34m(\u001b[0m\u001b[0mi\u001b[0m\u001b[0;34m)\u001b[0m\u001b[0;34m\u001b[0m\u001b[0;34m\u001b[0m\u001b[0m\n\u001b[1;32m      8\u001b[0m \u001b[0;34m\u001b[0m\u001b[0m\n\u001b[0;32m----> 9\u001b[0;31m \u001b[0mpages\u001b[0m \u001b[0;34m=\u001b[0m \u001b[0mresponse\u001b[0m\u001b[0;34m.\u001b[0m\u001b[0mheaders\u001b[0m\u001b[0;34m[\u001b[0m\u001b[0;34m'link'\u001b[0m\u001b[0;34m]\u001b[0m\u001b[0;34m\u001b[0m\u001b[0;34m\u001b[0m\u001b[0m\n\u001b[0m\u001b[1;32m     10\u001b[0m \u001b[0mprint\u001b[0m\u001b[0;34m(\u001b[0m\u001b[0mtype\u001b[0m\u001b[0;34m(\u001b[0m\u001b[0mpages\u001b[0m\u001b[0;34m)\u001b[0m\u001b[0;34m)\u001b[0m\u001b[0;34m\u001b[0m\u001b[0;34m\u001b[0m\u001b[0m\n\u001b[1;32m     11\u001b[0m \u001b[0mpages2\u001b[0m \u001b[0;34m=\u001b[0m \u001b[0mpages\u001b[0m\u001b[0;34m.\u001b[0m\u001b[0mreplace\u001b[0m\u001b[0;34m(\u001b[0m\u001b[0;34m'<'\u001b[0m\u001b[0;34m,\u001b[0m\u001b[0;34m\"\"\u001b[0m\u001b[0;34m)\u001b[0m\u001b[0;34m\u001b[0m\u001b[0;34m\u001b[0m\u001b[0m\n",
            "\u001b[0;32m/usr/local/lib/python3.10/dist-packages/requests/structures.py\u001b[0m in \u001b[0;36m__getitem__\u001b[0;34m(self, key)\u001b[0m\n\u001b[1;32m     52\u001b[0m \u001b[0;34m\u001b[0m\u001b[0m\n\u001b[1;32m     53\u001b[0m     \u001b[0;32mdef\u001b[0m \u001b[0m__getitem__\u001b[0m\u001b[0;34m(\u001b[0m\u001b[0mself\u001b[0m\u001b[0;34m,\u001b[0m \u001b[0mkey\u001b[0m\u001b[0;34m)\u001b[0m\u001b[0;34m:\u001b[0m\u001b[0;34m\u001b[0m\u001b[0;34m\u001b[0m\u001b[0m\n\u001b[0;32m---> 54\u001b[0;31m         \u001b[0;32mreturn\u001b[0m \u001b[0mself\u001b[0m\u001b[0;34m.\u001b[0m\u001b[0m_store\u001b[0m\u001b[0;34m[\u001b[0m\u001b[0mkey\u001b[0m\u001b[0;34m.\u001b[0m\u001b[0mlower\u001b[0m\u001b[0;34m(\u001b[0m\u001b[0;34m)\u001b[0m\u001b[0;34m]\u001b[0m\u001b[0;34m[\u001b[0m\u001b[0;36m1\u001b[0m\u001b[0;34m]\u001b[0m\u001b[0;34m\u001b[0m\u001b[0;34m\u001b[0m\u001b[0m\n\u001b[0m\u001b[1;32m     55\u001b[0m \u001b[0;34m\u001b[0m\u001b[0m\n\u001b[1;32m     56\u001b[0m     \u001b[0;32mdef\u001b[0m \u001b[0m__delitem__\u001b[0m\u001b[0;34m(\u001b[0m\u001b[0mself\u001b[0m\u001b[0;34m,\u001b[0m \u001b[0mkey\u001b[0m\u001b[0;34m)\u001b[0m\u001b[0;34m:\u001b[0m\u001b[0;34m\u001b[0m\u001b[0;34m\u001b[0m\u001b[0m\n",
            "\u001b[0;31mKeyError\u001b[0m: 'link'"
          ]
        }
      ]
    },
    {
      "cell_type": "code",
      "source": [
        "\n",
        "# pages4 = pages3.replace(';',\"\")\n",
        "print(pages3)\n",
        "\n",
        "df3 = parse_emp\n",
        "\n",
        "\n",
        "df2 = pd.DataFrame(parse_emp)\n",
        "    \n",
        "# r = requests.get('https://api.paycomonline.net/v4/rest/index.php/api/v1/employeeid?eestatus=A', auth=HTTPBasicAuth(user,pwd), headers=headers)\n",
        "\n",
        "# emp_email = r.json\n",
        "\n",
        "# parse_emp_email = [] \n",
        "\n",
        "# for item in emp_email['data']:\n",
        "#     #print(i)\n",
        "#     parse_emp_email.append(item)\n",
        "    \n",
        "    \n",
        "# df4 = pd.DataFrame(parse_emp_email)\n",
        "\n",
        "\n",
        "\n",
        "\n",
        "\n",
        "\n",
        "def Convert(pages4):\n",
        "    li = list(pages4.split(\" \"))\n",
        "    return li\n",
        "\n",
        "\n",
        "\n",
        "  \n",
        "\n",
        "\n",
        "# # print(Convert(pages))\n",
        "\n",
        "list2 = (Convert(pages3))\n",
        "print(list2)\n",
        "\n",
        "# # for j in list2:\n",
        "# #     print(j)\n",
        "\n",
        "print(list2[0])\n",
        "\n",
        "print(list2[1])\n",
        "\n",
        "print(list2[2])\n",
        "\n",
        "print(list2[3])\n",
        "\n",
        "print(list2[4])\n",
        "\n",
        "print(list2[5])\n",
        "\n",
        "nex = (list2[0] + list2[1] + list2[2] + list2[3] + list2[4] + list2[5])\n",
        "nex2 = nex.replace(',',\"\")\n",
        "print(nex2)\n",
        "\n",
        "r = requests.get(nex2,auth=HTTPBasicAuth(user,pwd), headers=headers)\n",
        "print(r)\n",
        "\n",
        "allemp = r.json()\n",
        "print(allemp)\n",
        "parse_allemp = []\n",
        "\n",
        "for b in allemp['data']:\n",
        "    #print(b)\n",
        "    parse_allemp.append(b)\n",
        "\n",
        "df2 = pd.DataFrame(parse_allemp)\n",
        "df2"
      ],
      "metadata": {
        "id": "wzowFsR2L21J"
      },
      "execution_count": null,
      "outputs": []
    },
    {
      "cell_type": "markdown",
      "source": [],
      "metadata": {
        "id": "wIViQI19Kthp"
      }
    }
  ]
}